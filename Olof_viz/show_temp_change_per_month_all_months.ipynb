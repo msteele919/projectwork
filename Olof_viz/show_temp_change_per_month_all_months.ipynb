{
 "cells": [
  {
   "cell_type": "code",
   "execution_count": 44,
   "metadata": {},
   "outputs": [],
   "source": [
    "import pandas as pd\n",
    "import matplotlib.pyplot as plt\n",
    "from scipy import stats\n",
    "import numpy as np\n",
    "import seaborn as sns\n",
    "\n"
   ]
  },
  {
   "cell_type": "code",
   "execution_count": 2,
   "metadata": {},
   "outputs": [],
   "source": [
    "df = pd.read_pickle('../Dataframes/df_compiled_adjusted_daily_temp_gbg_save.pkl')"
   ]
  },
  {
   "cell_type": "code",
   "execution_count": 5,
   "metadata": {},
   "outputs": [
    {
     "data": {
      "text/html": [
       "<div>\n",
       "<style scoped>\n",
       "    .dataframe tbody tr th:only-of-type {\n",
       "        vertical-align: middle;\n",
       "    }\n",
       "\n",
       "    .dataframe tbody tr th {\n",
       "        vertical-align: top;\n",
       "    }\n",
       "\n",
       "    .dataframe thead th {\n",
       "        text-align: right;\n",
       "    }\n",
       "</style>\n",
       "<table border=\"1\" class=\"dataframe\">\n",
       "  <thead>\n",
       "    <tr style=\"text-align: right;\">\n",
       "      <th></th>\n",
       "      <th>Datum</th>\n",
       "      <th>Kvalitet</th>\n",
       "      <th>Snittemperatur</th>\n",
       "      <th>Year</th>\n",
       "      <th>Month</th>\n",
       "      <th>day_of_year</th>\n",
       "      <th>Over_10_5_days_in_a_row</th>\n",
       "      <th>0_or_under_5_days_in_a_row</th>\n",
       "    </tr>\n",
       "  </thead>\n",
       "  <tbody>\n",
       "    <tr>\n",
       "      <th>0</th>\n",
       "      <td>1944-01-01</td>\n",
       "      <td>G</td>\n",
       "      <td>3.20</td>\n",
       "      <td>1944</td>\n",
       "      <td>1</td>\n",
       "      <td>1</td>\n",
       "      <td>0</td>\n",
       "      <td>0</td>\n",
       "    </tr>\n",
       "    <tr>\n",
       "      <th>1</th>\n",
       "      <td>1944-01-02</td>\n",
       "      <td>G</td>\n",
       "      <td>3.60</td>\n",
       "      <td>1944</td>\n",
       "      <td>1</td>\n",
       "      <td>2</td>\n",
       "      <td>0</td>\n",
       "      <td>0</td>\n",
       "    </tr>\n",
       "    <tr>\n",
       "      <th>2</th>\n",
       "      <td>1944-01-03</td>\n",
       "      <td>G</td>\n",
       "      <td>2.80</td>\n",
       "      <td>1944</td>\n",
       "      <td>1</td>\n",
       "      <td>3</td>\n",
       "      <td>0</td>\n",
       "      <td>0</td>\n",
       "    </tr>\n",
       "    <tr>\n",
       "      <th>3</th>\n",
       "      <td>1944-01-04</td>\n",
       "      <td>G</td>\n",
       "      <td>-4.47</td>\n",
       "      <td>1944</td>\n",
       "      <td>1</td>\n",
       "      <td>4</td>\n",
       "      <td>0</td>\n",
       "      <td>0</td>\n",
       "    </tr>\n",
       "    <tr>\n",
       "      <th>4</th>\n",
       "      <td>1944-01-05</td>\n",
       "      <td>G</td>\n",
       "      <td>-1.40</td>\n",
       "      <td>1944</td>\n",
       "      <td>1</td>\n",
       "      <td>5</td>\n",
       "      <td>0</td>\n",
       "      <td>0</td>\n",
       "    </tr>\n",
       "    <tr>\n",
       "      <th>...</th>\n",
       "      <td>...</td>\n",
       "      <td>...</td>\n",
       "      <td>...</td>\n",
       "      <td>...</td>\n",
       "      <td>...</td>\n",
       "      <td>...</td>\n",
       "      <td>...</td>\n",
       "      <td>...</td>\n",
       "    </tr>\n",
       "    <tr>\n",
       "      <th>29002</th>\n",
       "      <td>2023-06-27</td>\n",
       "      <td>G</td>\n",
       "      <td>17.02</td>\n",
       "      <td>2023</td>\n",
       "      <td>6</td>\n",
       "      <td>178</td>\n",
       "      <td>0</td>\n",
       "      <td>0</td>\n",
       "    </tr>\n",
       "    <tr>\n",
       "      <th>29003</th>\n",
       "      <td>2023-06-28</td>\n",
       "      <td>G</td>\n",
       "      <td>18.56</td>\n",
       "      <td>2023</td>\n",
       "      <td>6</td>\n",
       "      <td>179</td>\n",
       "      <td>0</td>\n",
       "      <td>0</td>\n",
       "    </tr>\n",
       "    <tr>\n",
       "      <th>29004</th>\n",
       "      <td>2023-06-29</td>\n",
       "      <td>G</td>\n",
       "      <td>18.06</td>\n",
       "      <td>2023</td>\n",
       "      <td>6</td>\n",
       "      <td>180</td>\n",
       "      <td>0</td>\n",
       "      <td>0</td>\n",
       "    </tr>\n",
       "    <tr>\n",
       "      <th>29005</th>\n",
       "      <td>2023-06-30</td>\n",
       "      <td>G</td>\n",
       "      <td>16.24</td>\n",
       "      <td>2023</td>\n",
       "      <td>6</td>\n",
       "      <td>181</td>\n",
       "      <td>0</td>\n",
       "      <td>0</td>\n",
       "    </tr>\n",
       "    <tr>\n",
       "      <th>29006</th>\n",
       "      <td>2023-07-01</td>\n",
       "      <td>G</td>\n",
       "      <td>14.92</td>\n",
       "      <td>2023</td>\n",
       "      <td>7</td>\n",
       "      <td>182</td>\n",
       "      <td>1</td>\n",
       "      <td>0</td>\n",
       "    </tr>\n",
       "  </tbody>\n",
       "</table>\n",
       "<p>29007 rows × 8 columns</p>\n",
       "</div>"
      ],
      "text/plain": [
       "           Datum Kvalitet  Snittemperatur  Year  Month  day_of_year  \\\n",
       "0     1944-01-01        G            3.20  1944      1            1   \n",
       "1     1944-01-02        G            3.60  1944      1            2   \n",
       "2     1944-01-03        G            2.80  1944      1            3   \n",
       "3     1944-01-04        G           -4.47  1944      1            4   \n",
       "4     1944-01-05        G           -1.40  1944      1            5   \n",
       "...          ...      ...             ...   ...    ...          ...   \n",
       "29002 2023-06-27        G           17.02  2023      6          178   \n",
       "29003 2023-06-28        G           18.56  2023      6          179   \n",
       "29004 2023-06-29        G           18.06  2023      6          180   \n",
       "29005 2023-06-30        G           16.24  2023      6          181   \n",
       "29006 2023-07-01        G           14.92  2023      7          182   \n",
       "\n",
       "       Over_10_5_days_in_a_row  0_or_under_5_days_in_a_row  \n",
       "0                            0                           0  \n",
       "1                            0                           0  \n",
       "2                            0                           0  \n",
       "3                            0                           0  \n",
       "4                            0                           0  \n",
       "...                        ...                         ...  \n",
       "29002                        0                           0  \n",
       "29003                        0                           0  \n",
       "29004                        0                           0  \n",
       "29005                        0                           0  \n",
       "29006                        1                           0  \n",
       "\n",
       "[29007 rows x 8 columns]"
      ]
     },
     "execution_count": 5,
     "metadata": {},
     "output_type": "execute_result"
    }
   ],
   "source": [
    "df"
   ]
  },
  {
   "cell_type": "code",
   "execution_count": 35,
   "metadata": {},
   "outputs": [],
   "source": [
    "def tempslope(data):\n",
    "     slope, intercept, r_value, p_value, std_err = stats.linregress(data['Year'], data['Snittemperatur'])\n",
    "     angle_degrees = np.arctan(slope) * 180 /np.pi\n",
    "     increase = slope * 79\n",
    "     return angle_degrees, intercept.max(), increase"
   ]
  },
  {
   "cell_type": "code",
   "execution_count": 36,
   "metadata": {},
   "outputs": [],
   "source": [
    "jan = df[df['Month'] == 1]\n",
    "feb = df[df['Month'] == 2]\n",
    "mar = df[df['Month'] == 3]\n",
    "apr = df[df['Month'] == 4]\n",
    "maj = df[df['Month'] == 5]\n",
    "jun = df[df['Month'] == 6]\n",
    "jul = df[df['Month'] == 7]\n",
    "aug = df[df['Month'] == 8]\n",
    "sept = df[df['Month'] == 9]\n",
    "okt = df[df['Month'] == 10]\n",
    "nov = df[df['Month'] == 11]\n",
    "dece = df[df['Month'] == 12]"
   ]
  },
  {
   "cell_type": "code",
   "execution_count": 41,
   "metadata": {},
   "outputs": [
    {
     "name": "stdout",
     "output_type": "stream",
     "text": [
      "Angle of the trendline in Januari is: 1.92, intercept -67.23995402507448, increase 2.648\n",
      "\n",
      "Angle of the trendline in Februari is: 2.426, intercept -85.09319557949709, increase 3.347\n",
      "\n",
      "Angle of the trendline in Mars is: 1.314, intercept -43.92589114982683, increase 1.812\n",
      "\n",
      "Angle of the trendline in April is: 0.826, intercept -22.573951465072675, increase 1.139\n",
      "\n",
      "Angle of the trendline in Maj is: -0.208, intercept 18.493410768567674, increase -0.287\n",
      "\n",
      "Angle of the trendline in Juni is: -0.025, intercept 15.844566897171424, increase -0.034\n",
      "\n",
      "Angle of the trendline in Juli is: 0.051, intercept 15.163214091646461, increase 0.071\n",
      "\n",
      "Angle of the trendline in Augusti is: 0.104, intercept 12.735415310801923, increase 0.143\n",
      "\n",
      "Angle of the trendline in September is: 0.151, intercept 7.509160702693932, increase 0.209\n",
      "\n",
      "Angle of the trendline in Oktober is: 0.307, intercept -2.1817100936017795, increase 0.424\n",
      "\n",
      "Angle of the trendline in November is: 1.14, intercept -35.392193029860444, increase 1.573\n",
      "\n",
      "Angle of the trendline in December is: 0.603, intercept -19.958024852128347, increase 0.832\n",
      "\n"
     ]
    }
   ],
   "source": [
    "anglelist = []\n",
    "increases = []\n",
    "templist = [jan, feb, mar, apr, maj, jun, jul, aug, sept, okt, nov, dece]\n",
    "manadlista = ['Januari', 'Februari', 'Mars', 'April', 'Maj', 'Juni', 'Juli', 'Augusti', 'September', 'Oktober', 'November', 'December']\n",
    "for i, x in enumerate(templist):\n",
    "    angle, intercept, increase = tempslope(x)\n",
    "    print(f\"Angle of the trendline in {manadlista[i]} is: {angle.round(3)}, intercept {intercept}, increase {increase.round(3)}\")\n",
    "    print()\n",
    "    anglelist.append(angle.round(3))\n",
    "    increases.append(increase.round(3))"
   ]
  },
  {
   "cell_type": "code",
   "execution_count": 42,
   "metadata": {},
   "outputs": [
    {
     "data": {
      "text/plain": [
       "[2.648,\n",
       " 3.347,\n",
       " 1.812,\n",
       " 1.139,\n",
       " -0.287,\n",
       " -0.034,\n",
       " 0.071,\n",
       " 0.143,\n",
       " 0.209,\n",
       " 0.424,\n",
       " 1.573,\n",
       " 0.832]"
      ]
     },
     "execution_count": 42,
     "metadata": {},
     "output_type": "execute_result"
    }
   ],
   "source": [
    "increases"
   ]
  },
  {
   "cell_type": "code",
   "execution_count": 46,
   "metadata": {},
   "outputs": [],
   "source": [
    "df_increases = pd.DataFrame({'Month': manadlista, 'Increase': increases})"
   ]
  },
  {
   "cell_type": "code",
   "execution_count": 88,
   "metadata": {},
   "outputs": [
    {
     "data": {
      "image/png": "[encoded data removed]",
      "text/plain": [
       "<Figure size 640x480 with 1 Axes>"
      ]
     },
     "metadata": {},
     "output_type": "display_data"
    }
   ],
   "source": [
    "sns.barplot(df_increases, x='Month', y='Increase', orient='v', color='grey')\n",
    "for i, x in enumerate(df_increases['Increase']):\n",
    "    if x >= 0:\n",
    "        plt.text(i, x + 0.03, str(x), ha='center', va='bottom', c='r')\n",
    "    else:\n",
    "        plt.text(i, x*x + 0.03, str(x), ha='center', va='bottom', c='b')\n",
    "plt.xticks(rotation=45)\n",
    "plt.ylabel('Förändring i snitt')\n",
    "plt.xlabel('Månad')\n",
    "plt.title('Temperaturförändringar per månad, 1944-2023')\n",
    "plt.show()"
   ]
  }
 ],
 "metadata": {
  "kernelspec": {
   "display_name": "agilt_projektarbete",
   "language": "python",
   "name": "python3"
  },
  "language_info": {
   "codemirror_mode": {
    "name": "ipython",
    "version": 3
   },
   "file_extension": ".py",
   "mimetype": "text/x-python",
   "name": "python",
   "nbconvert_exporter": "python",
   "pygments_lexer": "ipython3",
   "version": "3.9.18"
  }
 },
 "nbformat": 4,
 "nbformat_minor": 2
}
