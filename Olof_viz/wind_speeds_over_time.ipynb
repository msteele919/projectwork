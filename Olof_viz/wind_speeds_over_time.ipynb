{
 "cells": [
  {
   "cell_type": "code",
   "execution_count": 176,
   "metadata": {},
   "outputs": [],
   "source": [
    "import pandas as pd\n",
    "import matplotlib.pyplot as plt\n",
    "import seaborn as sns\n",
    "import numpy as np"
   ]
  },
  {
   "cell_type": "code",
   "execution_count": 177,
   "metadata": {},
   "outputs": [],
   "source": [
    "df_gbg = pd.read_pickle('../Dataframes/df_wind_gbg.pkl')\n",
    "df_vinga = pd.read_pickle('../Dataframes/df_wind_vinga.pkl')\n",
    "df_save = pd.read_pickle('../Dataframes/df_wind_save.pkl')\n"
   ]
  },
  {
   "cell_type": "markdown",
   "metadata": {},
   "source": [
    "Start with GBG"
   ]
  },
  {
   "cell_type": "code",
   "execution_count": 178,
   "metadata": {},
   "outputs": [
    {
     "data": {
      "text/html": [
       "<div>\n",
       "<style scoped>\n",
       "    .dataframe tbody tr th:only-of-type {\n",
       "        vertical-align: middle;\n",
       "    }\n",
       "\n",
       "    .dataframe tbody tr th {\n",
       "        vertical-align: top;\n",
       "    }\n",
       "\n",
       "    .dataframe thead th {\n",
       "        text-align: right;\n",
       "    }\n",
       "</style>\n",
       "<table border=\"1\" class=\"dataframe\">\n",
       "  <thead>\n",
       "    <tr style=\"text-align: right;\">\n",
       "      <th></th>\n",
       "      <th>Datum</th>\n",
       "      <th>Tid_UTC</th>\n",
       "      <th>Vindriktning</th>\n",
       "      <th>Kvalitet</th>\n",
       "      <th>Vindhastighet</th>\n",
       "      <th>Kvalitet_1</th>\n",
       "      <th>Year</th>\n",
       "      <th>Month</th>\n",
       "      <th>Snitt_per_dag</th>\n",
       "      <th>Max_uppmätta_hastighet</th>\n",
       "    </tr>\n",
       "  </thead>\n",
       "  <tbody>\n",
       "    <tr>\n",
       "      <th>0</th>\n",
       "      <td>1961-01-01</td>\n",
       "      <td>06:00:00</td>\n",
       "      <td>180.0</td>\n",
       "      <td>G</td>\n",
       "      <td>0.0</td>\n",
       "      <td>G</td>\n",
       "      <td>1961</td>\n",
       "      <td>1</td>\n",
       "      <td>2.33</td>\n",
       "      <td>4.0</td>\n",
       "    </tr>\n",
       "    <tr>\n",
       "      <th>1</th>\n",
       "      <td>1961-01-01</td>\n",
       "      <td>12:00:00</td>\n",
       "      <td>180.0</td>\n",
       "      <td>G</td>\n",
       "      <td>4.0</td>\n",
       "      <td>G</td>\n",
       "      <td>1961</td>\n",
       "      <td>1</td>\n",
       "      <td>2.33</td>\n",
       "      <td>4.0</td>\n",
       "    </tr>\n",
       "    <tr>\n",
       "      <th>2</th>\n",
       "      <td>1961-01-01</td>\n",
       "      <td>18:00:00</td>\n",
       "      <td>140.0</td>\n",
       "      <td>G</td>\n",
       "      <td>3.0</td>\n",
       "      <td>G</td>\n",
       "      <td>1961</td>\n",
       "      <td>1</td>\n",
       "      <td>2.33</td>\n",
       "      <td>4.0</td>\n",
       "    </tr>\n",
       "    <tr>\n",
       "      <th>3</th>\n",
       "      <td>1961-01-02</td>\n",
       "      <td>06:00:00</td>\n",
       "      <td>180.0</td>\n",
       "      <td>G</td>\n",
       "      <td>4.0</td>\n",
       "      <td>G</td>\n",
       "      <td>1961</td>\n",
       "      <td>1</td>\n",
       "      <td>5.00</td>\n",
       "      <td>6.0</td>\n",
       "    </tr>\n",
       "    <tr>\n",
       "      <th>4</th>\n",
       "      <td>1961-01-02</td>\n",
       "      <td>12:00:00</td>\n",
       "      <td>180.0</td>\n",
       "      <td>G</td>\n",
       "      <td>5.0</td>\n",
       "      <td>G</td>\n",
       "      <td>1961</td>\n",
       "      <td>1</td>\n",
       "      <td>5.00</td>\n",
       "      <td>6.0</td>\n",
       "    </tr>\n",
       "    <tr>\n",
       "      <th>...</th>\n",
       "      <td>...</td>\n",
       "      <td>...</td>\n",
       "      <td>...</td>\n",
       "      <td>...</td>\n",
       "      <td>...</td>\n",
       "      <td>...</td>\n",
       "      <td>...</td>\n",
       "      <td>...</td>\n",
       "      <td>...</td>\n",
       "      <td>...</td>\n",
       "    </tr>\n",
       "    <tr>\n",
       "      <th>305146</th>\n",
       "      <td>2023-07-01</td>\n",
       "      <td>02:00:00</td>\n",
       "      <td>249.0</td>\n",
       "      <td>G</td>\n",
       "      <td>3.1</td>\n",
       "      <td>G</td>\n",
       "      <td>2023</td>\n",
       "      <td>7</td>\n",
       "      <td>2.47</td>\n",
       "      <td>3.5</td>\n",
       "    </tr>\n",
       "    <tr>\n",
       "      <th>305147</th>\n",
       "      <td>2023-07-01</td>\n",
       "      <td>03:00:00</td>\n",
       "      <td>226.0</td>\n",
       "      <td>G</td>\n",
       "      <td>2.2</td>\n",
       "      <td>G</td>\n",
       "      <td>2023</td>\n",
       "      <td>7</td>\n",
       "      <td>2.47</td>\n",
       "      <td>3.5</td>\n",
       "    </tr>\n",
       "    <tr>\n",
       "      <th>305148</th>\n",
       "      <td>2023-07-01</td>\n",
       "      <td>04:00:00</td>\n",
       "      <td>223.0</td>\n",
       "      <td>G</td>\n",
       "      <td>2.3</td>\n",
       "      <td>G</td>\n",
       "      <td>2023</td>\n",
       "      <td>7</td>\n",
       "      <td>2.47</td>\n",
       "      <td>3.5</td>\n",
       "    </tr>\n",
       "    <tr>\n",
       "      <th>305149</th>\n",
       "      <td>2023-07-01</td>\n",
       "      <td>05:00:00</td>\n",
       "      <td>217.0</td>\n",
       "      <td>G</td>\n",
       "      <td>1.9</td>\n",
       "      <td>G</td>\n",
       "      <td>2023</td>\n",
       "      <td>7</td>\n",
       "      <td>2.47</td>\n",
       "      <td>3.5</td>\n",
       "    </tr>\n",
       "    <tr>\n",
       "      <th>305150</th>\n",
       "      <td>2023-07-01</td>\n",
       "      <td>06:00:00</td>\n",
       "      <td>211.0</td>\n",
       "      <td>G</td>\n",
       "      <td>1.4</td>\n",
       "      <td>G</td>\n",
       "      <td>2023</td>\n",
       "      <td>7</td>\n",
       "      <td>2.47</td>\n",
       "      <td>3.5</td>\n",
       "    </tr>\n",
       "  </tbody>\n",
       "</table>\n",
       "<p>305151 rows × 10 columns</p>\n",
       "</div>"
      ],
      "text/plain": [
       "            Datum   Tid_UTC  Vindriktning Kvalitet  Vindhastighet Kvalitet_1  \\\n",
       "0      1961-01-01  06:00:00         180.0        G            0.0          G   \n",
       "1      1961-01-01  12:00:00         180.0        G            4.0          G   \n",
       "2      1961-01-01  18:00:00         140.0        G            3.0          G   \n",
       "3      1961-01-02  06:00:00         180.0        G            4.0          G   \n",
       "4      1961-01-02  12:00:00         180.0        G            5.0          G   \n",
       "...           ...       ...           ...      ...            ...        ...   \n",
       "305146 2023-07-01  02:00:00         249.0        G            3.1          G   \n",
       "305147 2023-07-01  03:00:00         226.0        G            2.2          G   \n",
       "305148 2023-07-01  04:00:00         223.0        G            2.3          G   \n",
       "305149 2023-07-01  05:00:00         217.0        G            1.9          G   \n",
       "305150 2023-07-01  06:00:00         211.0        G            1.4          G   \n",
       "\n",
       "        Year  Month  Snitt_per_dag  Max_uppmätta_hastighet  \n",
       "0       1961      1           2.33                     4.0  \n",
       "1       1961      1           2.33                     4.0  \n",
       "2       1961      1           2.33                     4.0  \n",
       "3       1961      1           5.00                     6.0  \n",
       "4       1961      1           5.00                     6.0  \n",
       "...      ...    ...            ...                     ...  \n",
       "305146  2023      7           2.47                     3.5  \n",
       "305147  2023      7           2.47                     3.5  \n",
       "305148  2023      7           2.47                     3.5  \n",
       "305149  2023      7           2.47                     3.5  \n",
       "305150  2023      7           2.47                     3.5  \n",
       "\n",
       "[305151 rows x 10 columns]"
      ]
     },
     "execution_count": 178,
     "metadata": {},
     "output_type": "execute_result"
    }
   ],
   "source": [
    "df_gbg"
   ]
  },
  {
   "cell_type": "markdown",
   "metadata": {},
   "source": [
    "Create a plot that shows how many days per year there have been meassurement sreaching >13.m/s"
   ]
  },
  {
   "cell_type": "code",
   "execution_count": 179,
   "metadata": {},
   "outputs": [],
   "source": [
    "df_gbg_limited = df_gbg[df_gbg['Max_uppmätta_hastighet'] >= 13.9]"
   ]
  },
  {
   "cell_type": "code",
   "execution_count": 180,
   "metadata": {},
   "outputs": [],
   "source": [
    "years = df_gbg_limited['Year'].value_counts(sort=False).keys()"
   ]
  },
  {
   "cell_type": "code",
   "execution_count": 181,
   "metadata": {},
   "outputs": [],
   "source": [
    "years_int = []\n",
    "for i in years:\n",
    "    years_int.append(i)"
   ]
  },
  {
   "cell_type": "code",
   "execution_count": 182,
   "metadata": {},
   "outputs": [
    {
     "data": {
      "text/plain": [
       "13"
      ]
     },
     "execution_count": 182,
     "metadata": {},
     "output_type": "execute_result"
    }
   ],
   "source": [
    "len(df_gbg_limited['Datum'][df_gbg_limited['Year'] == 1961].value_counts())\n"
   ]
  },
  {
   "cell_type": "code",
   "execution_count": 183,
   "metadata": {},
   "outputs": [],
   "source": [
    "days_per_year = []\n",
    "\n",
    "for i in years_int:\n",
    "    days = len(df_gbg_limited['Datum'][df_gbg_limited['Year'] == i].value_counts())\n",
    "    days_per_year.append(days)"
   ]
  },
  {
   "cell_type": "code",
   "execution_count": 184,
   "metadata": {},
   "outputs": [],
   "source": [
    "list1 = list(zip(years_int, days_per_year))"
   ]
  },
  {
   "cell_type": "code",
   "execution_count": 185,
   "metadata": {},
   "outputs": [
    {
     "data": {
      "text/plain": [
       "1961"
      ]
     },
     "execution_count": 185,
     "metadata": {},
     "output_type": "execute_result"
    }
   ],
   "source": [
    "list1[0][0]"
   ]
  },
  {
   "cell_type": "code",
   "execution_count": 186,
   "metadata": {},
   "outputs": [],
   "source": [
    "list1 = list(zip(years_int, days_per_year))\n",
    "plot_years = []\n",
    "plot_days = []\n",
    "for i in range(1961, 2024):\n",
    "    if i in years_int:\n",
    "        ind = years_int.index(i)\n",
    "        year = list1[ind][0]\n",
    "        days = list1[ind][1]\n",
    "        plot_years.append(year)\n",
    "        plot_days.append(days)\n",
    "    elif i not in years_int:\n",
    "        plot_years.append(i)\n",
    "        plot_days.append(0)\n"
   ]
  },
  {
   "cell_type": "code",
   "execution_count": 187,
   "metadata": {},
   "outputs": [],
   "source": [
    "df_days_per_year_gbg = pd.DataFrame({'Year': plot_years, 'Days': plot_days})"
   ]
  },
  {
   "cell_type": "code",
   "execution_count": 188,
   "metadata": {},
   "outputs": [
    {
     "data": {
      "text/html": [
       "<div>\n",
       "<style scoped>\n",
       "    .dataframe tbody tr th:only-of-type {\n",
       "        vertical-align: middle;\n",
       "    }\n",
       "\n",
       "    .dataframe tbody tr th {\n",
       "        vertical-align: top;\n",
       "    }\n",
       "\n",
       "    .dataframe thead th {\n",
       "        text-align: right;\n",
       "    }\n",
       "</style>\n",
       "<table border=\"1\" class=\"dataframe\">\n",
       "  <thead>\n",
       "    <tr style=\"text-align: right;\">\n",
       "      <th></th>\n",
       "      <th>Year</th>\n",
       "      <th>Days</th>\n",
       "    </tr>\n",
       "  </thead>\n",
       "  <tbody>\n",
       "    <tr>\n",
       "      <th>0</th>\n",
       "      <td>1961</td>\n",
       "      <td>13</td>\n",
       "    </tr>\n",
       "    <tr>\n",
       "      <th>1</th>\n",
       "      <td>1962</td>\n",
       "      <td>12</td>\n",
       "    </tr>\n",
       "    <tr>\n",
       "      <th>2</th>\n",
       "      <td>1963</td>\n",
       "      <td>6</td>\n",
       "    </tr>\n",
       "    <tr>\n",
       "      <th>3</th>\n",
       "      <td>1964</td>\n",
       "      <td>11</td>\n",
       "    </tr>\n",
       "    <tr>\n",
       "      <th>4</th>\n",
       "      <td>1965</td>\n",
       "      <td>5</td>\n",
       "    </tr>\n",
       "    <tr>\n",
       "      <th>...</th>\n",
       "      <td>...</td>\n",
       "      <td>...</td>\n",
       "    </tr>\n",
       "    <tr>\n",
       "      <th>58</th>\n",
       "      <td>2019</td>\n",
       "      <td>0</td>\n",
       "    </tr>\n",
       "    <tr>\n",
       "      <th>59</th>\n",
       "      <td>2020</td>\n",
       "      <td>0</td>\n",
       "    </tr>\n",
       "    <tr>\n",
       "      <th>60</th>\n",
       "      <td>2021</td>\n",
       "      <td>0</td>\n",
       "    </tr>\n",
       "    <tr>\n",
       "      <th>61</th>\n",
       "      <td>2022</td>\n",
       "      <td>0</td>\n",
       "    </tr>\n",
       "    <tr>\n",
       "      <th>62</th>\n",
       "      <td>2023</td>\n",
       "      <td>0</td>\n",
       "    </tr>\n",
       "  </tbody>\n",
       "</table>\n",
       "<p>63 rows × 2 columns</p>\n",
       "</div>"
      ],
      "text/plain": [
       "    Year  Days\n",
       "0   1961    13\n",
       "1   1962    12\n",
       "2   1963     6\n",
       "3   1964    11\n",
       "4   1965     5\n",
       "..   ...   ...\n",
       "58  2019     0\n",
       "59  2020     0\n",
       "60  2021     0\n",
       "61  2022     0\n",
       "62  2023     0\n",
       "\n",
       "[63 rows x 2 columns]"
      ]
     },
     "execution_count": 188,
     "metadata": {},
     "output_type": "execute_result"
    }
   ],
   "source": [
    "df_days_per_year_gbg"
   ]
  },
  {
   "cell_type": "code",
   "execution_count": 189,
   "metadata": {},
   "outputs": [
    {
     "data": {
      "text/plain": [
       "<Axes: xlabel='Year', ylabel='Days'>"
      ]
     },
     "execution_count": 189,
     "metadata": {},
     "output_type": "execute_result"
    },
    {
     "data": {
      "image/png": "[encoded data removed]",
      "text/plain": [
       "<Figure size 640x480 with 1 Axes>"
      ]
     },
     "metadata": {},
     "output_type": "display_data"
    }
   ],
   "source": [
    "sns.barplot(df_days_per_year_gbg, x='Year', y='Days')"
   ]
  },
  {
   "cell_type": "markdown",
   "metadata": {},
   "source": [
    "Continue with Säve"
   ]
  },
  {
   "cell_type": "code",
   "execution_count": 190,
   "metadata": {},
   "outputs": [],
   "source": [
    "df_save_limited = df_save[df_save['Max_uppmätta_hastighet'] >= 13.9]\n",
    "\n",
    "# Collect the years present\n",
    "years_save = df_save_limited['Year'].value_counts(sort=False).keys()\n",
    "\n",
    "# Transform to int\n",
    "years_save_int = []\n",
    "for i in years_save:\n",
    "    years_save_int.append(i)\n",
    "\n",
    "# Count the number of days for each year that exceeded 13.9m/s    \n",
    "days_per_year_save = []\n",
    "for i in years_save_int:\n",
    "    days = len(df_save_limited['Datum'][df_save_limited['Year'] == i].value_counts())\n",
    "    days_per_year_save.append(days)\n",
    "\n",
    "# Create two lists that contain all number of days per year\n",
    "# even fdor years that are not present\n",
    "list1_save = list(zip(years_save_int, days_per_year_save))\n",
    "plot_years_save = []\n",
    "plot_days_save = []\n",
    "for i in range(1961, 2024):\n",
    "    if i in years_save_int:\n",
    "        ind = years_save_int.index(i)\n",
    "        year = list1_save[ind][0]\n",
    "        days = list1_save[ind][1]\n",
    "        plot_years_save.append(year)\n",
    "        plot_days_save.append(days)\n",
    "    elif i not in years_save_int:\n",
    "        plot_years_save.append(i)\n",
    "        plot_days_save.append(0)\n",
    "\n",
    "df_days_per_year_save = pd.DataFrame({'Year': plot_years_save, 'Days': plot_days_save})\n"
   ]
  },
  {
   "cell_type": "code",
   "execution_count": 191,
   "metadata": {},
   "outputs": [
    {
     "data": {
      "text/plain": [
       "<Axes: xlabel='Year', ylabel='Days'>"
      ]
     },
     "execution_count": 191,
     "metadata": {},
     "output_type": "execute_result"
    },
    {
     "data": {
      "image/png": "[encoded data removed]",
      "text/plain": [
       "<Figure size 640x480 with 1 Axes>"
      ]
     },
     "metadata": {},
     "output_type": "display_data"
    }
   ],
   "source": [
    "sns.barplot(df_days_per_year_save, x='Year', y='Days')"
   ]
  },
  {
   "cell_type": "markdown",
   "metadata": {},
   "source": [
    "Compare with Vinga"
   ]
  },
  {
   "cell_type": "code",
   "execution_count": 192,
   "metadata": {},
   "outputs": [],
   "source": [
    "df_vinga_limited = df_vinga[df_vinga['Max_uppmätta_hastighet'] >= 13.9]\n",
    "\n",
    "# Collect the years present\n",
    "years_vinga = df_vinga_limited['Year'].value_counts(sort=False).keys()\n",
    "\n",
    "# Transform to int\n",
    "years_vinga_int = []\n",
    "for i in years_vinga:\n",
    "    years_vinga_int.append(i)\n",
    "\n",
    "# Count the number of days for each year that exceeded 13.9m/s    \n",
    "days_per_year_vinga = []\n",
    "for i in years_vinga_int:\n",
    "    days = len(df_vinga_limited['Datum'][df_vinga_limited['Year'] == i].value_counts())\n",
    "    days_per_year_vinga.append(days)\n",
    "\n",
    "# Create two lists that contain all number of days per year\n",
    "# even fdor years that are not present\n",
    "list1_vinga = list(zip(years_vinga_int, days_per_year_vinga))\n",
    "plot_years_vinga = []\n",
    "plot_days_vinga = []\n",
    "for i in range(1961, 2024):\n",
    "    if i in years_vinga_int:\n",
    "        ind = years_vinga_int.index(i)\n",
    "        year = list1_vinga[ind][0]\n",
    "        days = list1_vinga[ind][1]\n",
    "        plot_years_vinga.append(year)\n",
    "        plot_days_vinga.append(days)\n",
    "    elif i not in years_vinga_int:\n",
    "        plot_years_vinga.append(i)\n",
    "        plot_days_vinga.append(0)\n",
    "\n",
    "df_days_per_year_vinga = pd.DataFrame({'Year': plot_years_vinga, 'Days': plot_days_vinga})\n"
   ]
  },
  {
   "cell_type": "markdown",
   "metadata": {},
   "source": [
    "Kolla när sista mätåret är på varje station, så vi kan märka ut det"
   ]
  },
  {
   "cell_type": "code",
   "execution_count": 193,
   "metadata": {},
   "outputs": [],
   "source": [
    "last_year_gbg = df_gbg['Year'][-1:]\n",
    "last_year_gbg = last_year_gbg.values[0]\n",
    "last_year_save = df_save['Year'][-1:]\n",
    "last_year_save = last_year_save.values[0]\n"
   ]
  },
  {
   "cell_type": "code",
   "execution_count": 194,
   "metadata": {},
   "outputs": [
    {
     "data": {
      "text/plain": [
       "dtype('int64')"
      ]
     },
     "execution_count": 194,
     "metadata": {},
     "output_type": "execute_result"
    }
   ],
   "source": [
    "df_days_per_year_gbg['Year'].dtype"
   ]
  },
  {
   "cell_type": "code",
   "execution_count": 195,
   "metadata": {},
   "outputs": [
    {
     "data": {
      "text/plain": [
       "dtype('int64')"
      ]
     },
     "execution_count": 195,
     "metadata": {},
     "output_type": "execute_result"
    }
   ],
   "source": [
    "last_year_gbg = np.int64(last_year_gbg)\n",
    "last_year_gbg.dtype"
   ]
  },
  {
   "cell_type": "code",
   "execution_count": 196,
   "metadata": {},
   "outputs": [
    {
     "data": {
      "image/png": "[encoded data removed]",
      "text/plain": [
       "<Figure size 1500x1500 with 3 Axes>"
      ]
     },
     "metadata": {},
     "output_type": "display_data"
    }
   ],
   "source": [
    "plt.figure(figsize=(15, 15))\n",
    "plt.subplot(3, 1, 1)\n",
    "graph_gbg = sns.barplot(df_days_per_year_gbg, x='Year', y='Days')\n",
    "plt.title('Vinddagar över 13.9 m/s, Göteborg')\n",
    "plt.ylabel('Antal Dagar')\n",
    "plt.xlabel('År')\n",
    "plt.xticks(['1961', '1971', '1981', '1991', '2001', '2011', '2021'])\n",
    "# plt.vlines(x=last_year_gbg, ymin=0, ymax=30)\n",
    "plt.subplot(3, 1, 2)\n",
    "graph_save = sns.barplot(df_days_per_year_save, x='Year', y='Days')\n",
    "plt.title('Vinddagar över 13.9 m/s, Säve')\n",
    "plt.ylabel('Antal Dagar')\n",
    "plt.xlabel('År')\n",
    "plt.xticks(['1961', '1971', '1981', '1991', '2001', '2011', '2021'])\n",
    "graph_save.axvline(f'{last_year_save}', linestyle='--', c='g')\n",
    "plt.subplot(3, 1, 3)\n",
    "sns.barplot(df_days_per_year_vinga, x='Year', y='Days')\n",
    "plt.title('Vinddagar över 13.9 m/s, Vinga')\n",
    "plt.ylabel('Antal Dagar')\n",
    "plt.xlabel('År')\n",
    "plt.xticks(['1961', '1971', '1981', '1991', '2001', '2011', '2021'])\n",
    "plt.show()"
   ]
  }
 ],
 "metadata": {
  "kernelspec": {
   "display_name": "agilt_projektarbete",
   "language": "python",
   "name": "python3"
  },
  "language_info": {
   "codemirror_mode": {
    "name": "ipython",
    "version": 3
   },
   "file_extension": ".py",
   "mimetype": "text/x-python",
   "name": "python",
   "nbconvert_exporter": "python",
   "pygments_lexer": "ipython3",
   "version": "3.9.18"
  }
 },
 "nbformat": 4,
 "nbformat_minor": 2
}
