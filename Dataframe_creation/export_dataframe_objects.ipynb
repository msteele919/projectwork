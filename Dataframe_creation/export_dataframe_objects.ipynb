{
 "cells": [
  {
   "cell_type": "code",
   "execution_count": 2,
   "metadata": {},
   "outputs": [],
   "source": [
    "import pandas as pd\n"
   ]
  },
  {
   "cell_type": "code",
   "execution_count": 5,
   "metadata": {},
   "outputs": [],
   "source": [
    "df_daily_temp = pd.read_csv('../data/Olof_Save_GBG_avg_daily_temp_data.csv', parse_dates=['Datum', 'Year'])"
   ]
  },
  {
   "cell_type": "code",
   "execution_count": 9,
   "metadata": {},
   "outputs": [],
   "source": [
    "df_monthly_temp = pd.read_csv('../data/Olof_Save_GBG_avg_monthly_temp_data.csv')"
   ]
  },
  {
   "cell_type": "code",
   "execution_count": 14,
   "metadata": {},
   "outputs": [],
   "source": [
    "df_precipitation = pd.read_csv('../Data/Olof_percipitation.csv', parse_dates=['Representativt dygn'])"
   ]
  },
  {
   "cell_type": "code",
   "execution_count": 16,
   "metadata": {},
   "outputs": [],
   "source": [
    "df_daily_temp.to_pickle('../Dataframes/df_daily_temp.pkl')"
   ]
  },
  {
   "cell_type": "code",
   "execution_count": 20,
   "metadata": {},
   "outputs": [],
   "source": [
    "df_monthly_temp.to_pickle('../Dataframes/df_monthly_temp.pkl')"
   ]
  },
  {
   "cell_type": "code",
   "execution_count": 21,
   "metadata": {},
   "outputs": [],
   "source": [
    "df_precipitation.to_pickle('../Dataframes/df_precipitation.pkl')"
   ]
  }
 ],
 "metadata": {
  "kernelspec": {
   "display_name": "agilt_projektarbete",
   "language": "python",
   "name": "python3"
  },
  "language_info": {
   "codemirror_mode": {
    "name": "ipython",
    "version": 3
   },
   "file_extension": ".py",
   "mimetype": "text/x-python",
   "name": "python",
   "nbconvert_exporter": "python",
   "pygments_lexer": "ipython3",
   "version": "3.9.18"
  }
 },
 "nbformat": 4,
 "nbformat_minor": 2
}
