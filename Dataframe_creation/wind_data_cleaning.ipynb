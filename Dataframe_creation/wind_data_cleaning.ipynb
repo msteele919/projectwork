{
 "cells": [
  {
   "cell_type": "code",
   "execution_count": 1,
   "metadata": {},
   "outputs": [],
   "source": [
    "import pandas as pd"
   ]
  },
  {
   "cell_type": "markdown",
   "metadata": {},
   "source": [
    "Create pkl and csv for Säve"
   ]
  },
  {
   "cell_type": "code",
   "execution_count": 2,
   "metadata": {},
   "outputs": [
    {
     "data": {
      "text/html": [
       "<div>\n",
       "<style scoped>\n",
       "    .dataframe tbody tr th:only-of-type {\n",
       "        vertical-align: middle;\n",
       "    }\n",
       "\n",
       "    .dataframe tbody tr th {\n",
       "        vertical-align: top;\n",
       "    }\n",
       "\n",
       "    .dataframe thead th {\n",
       "        text-align: right;\n",
       "    }\n",
       "</style>\n",
       "<table border=\"1\" class=\"dataframe\">\n",
       "  <thead>\n",
       "    <tr style=\"text-align: right;\">\n",
       "      <th></th>\n",
       "      <th>Datum</th>\n",
       "      <th>Tid (UTC)</th>\n",
       "      <th>Vindriktning</th>\n",
       "      <th>Kvalitet</th>\n",
       "      <th>Vindhastighet</th>\n",
       "    </tr>\n",
       "  </thead>\n",
       "  <tbody>\n",
       "    <tr>\n",
       "      <th>0</th>\n",
       "      <td>1951-01-01</td>\n",
       "      <td>00:00:00</td>\n",
       "      <td>100.0</td>\n",
       "      <td>G</td>\n",
       "      <td>3.0</td>\n",
       "    </tr>\n",
       "    <tr>\n",
       "      <th>1</th>\n",
       "      <td>1951-01-01</td>\n",
       "      <td>03:00:00</td>\n",
       "      <td>110.0</td>\n",
       "      <td>G</td>\n",
       "      <td>2.0</td>\n",
       "    </tr>\n",
       "    <tr>\n",
       "      <th>2</th>\n",
       "      <td>1951-01-01</td>\n",
       "      <td>06:00:00</td>\n",
       "      <td>70.0</td>\n",
       "      <td>G</td>\n",
       "      <td>2.0</td>\n",
       "    </tr>\n",
       "    <tr>\n",
       "      <th>3</th>\n",
       "      <td>1951-01-01</td>\n",
       "      <td>12:00:00</td>\n",
       "      <td>90.0</td>\n",
       "      <td>G</td>\n",
       "      <td>3.0</td>\n",
       "    </tr>\n",
       "    <tr>\n",
       "      <th>4</th>\n",
       "      <td>1951-01-01</td>\n",
       "      <td>15:00:00</td>\n",
       "      <td>70.0</td>\n",
       "      <td>G</td>\n",
       "      <td>4.0</td>\n",
       "    </tr>\n",
       "    <tr>\n",
       "      <th>...</th>\n",
       "      <td>...</td>\n",
       "      <td>...</td>\n",
       "      <td>...</td>\n",
       "      <td>...</td>\n",
       "      <td>...</td>\n",
       "    </tr>\n",
       "    <tr>\n",
       "      <th>430417</th>\n",
       "      <td>2006-12-05</td>\n",
       "      <td>09:00:00</td>\n",
       "      <td>190.0</td>\n",
       "      <td>G</td>\n",
       "      <td>8.0</td>\n",
       "    </tr>\n",
       "    <tr>\n",
       "      <th>430418</th>\n",
       "      <td>2006-12-05</td>\n",
       "      <td>10:00:00</td>\n",
       "      <td>190.0</td>\n",
       "      <td>Y</td>\n",
       "      <td>8.0</td>\n",
       "    </tr>\n",
       "    <tr>\n",
       "      <th>430419</th>\n",
       "      <td>2006-12-05</td>\n",
       "      <td>11:00:00</td>\n",
       "      <td>200.0</td>\n",
       "      <td>Y</td>\n",
       "      <td>9.0</td>\n",
       "    </tr>\n",
       "    <tr>\n",
       "      <th>430420</th>\n",
       "      <td>2006-12-05</td>\n",
       "      <td>12:00:00</td>\n",
       "      <td>200.0</td>\n",
       "      <td>G</td>\n",
       "      <td>11.0</td>\n",
       "    </tr>\n",
       "    <tr>\n",
       "      <th>430421</th>\n",
       "      <td>2006-12-05</td>\n",
       "      <td>13:00:00</td>\n",
       "      <td>190.0</td>\n",
       "      <td>Y</td>\n",
       "      <td>10.0</td>\n",
       "    </tr>\n",
       "  </tbody>\n",
       "</table>\n",
       "<p>430422 rows × 5 columns</p>\n",
       "</div>"
      ],
      "text/plain": [
       "             Datum Tid (UTC)  Vindriktning Kvalitet  Vindhastighet\n",
       "0       1951-01-01  00:00:00         100.0        G            3.0\n",
       "1       1951-01-01  03:00:00         110.0        G            2.0\n",
       "2       1951-01-01  06:00:00          70.0        G            2.0\n",
       "3       1951-01-01  12:00:00          90.0        G            3.0\n",
       "4       1951-01-01  15:00:00          70.0        G            4.0\n",
       "...            ...       ...           ...      ...            ...\n",
       "430417  2006-12-05  09:00:00         190.0        G            8.0\n",
       "430418  2006-12-05  10:00:00         190.0        Y            8.0\n",
       "430419  2006-12-05  11:00:00         200.0        Y            9.0\n",
       "430420  2006-12-05  12:00:00         200.0        G           11.0\n",
       "430421  2006-12-05  13:00:00         190.0        Y           10.0\n",
       "\n",
       "[430422 rows x 5 columns]"
      ]
     },
     "execution_count": 2,
     "metadata": {},
     "output_type": "execute_result"
    }
   ],
   "source": [
    "df_wind_raw_save = pd.read_csv('../data/smhi_wind_data_Save.csv', sep=';', usecols=[0, 1, 2, 3, 4], header=7)\n",
    "df_wind_raw_save = df_wind_raw_save.rename(columns=({'Från Datum Tid (UTC)': 'Från_datum_tid_UTC', 'Till Datum Tid (UTC)': 'Till_datum_tid_UTC', 'Representativt dygn': 'Representativt_dygn'}))\n",
    "df_wind_raw_save"
   ]
  },
  {
   "cell_type": "code",
   "execution_count": 3,
   "metadata": {},
   "outputs": [],
   "source": [
    "df_wind_raw_save['Vindhastighet_snitt'] = df_wind_raw_save.groupby('Datum')['Vindhastighet'].transform('mean').round(2)\n",
    "df_wind_raw_save['Högsta_vindhastighet'] = df_wind_raw_save.groupby('Datum')['Vindhastighet'].transform('max').round(2)"
   ]
  },
  {
   "cell_type": "code",
   "execution_count": 4,
   "metadata": {},
   "outputs": [],
   "source": [
    "df_wind_raw_save['Datum'] = pd.to_datetime(df_wind_raw_save['Datum'])"
   ]
  },
  {
   "cell_type": "code",
   "execution_count": 5,
   "metadata": {},
   "outputs": [],
   "source": [
    "df_wind_raw_save = df_wind_raw_save.rename(columns=({'Tid (UTC)': 'Tid_UTC'}))"
   ]
  },
  {
   "cell_type": "code",
   "execution_count": 18,
   "metadata": {},
   "outputs": [],
   "source": [
    "# df_wind_raw_save = df_wind_raw_save.groupby('Datum').max('Tid_UTC').drop('Vindhastighet', axis=1).reset_index()"
   ]
  },
  {
   "cell_type": "code",
   "execution_count": 7,
   "metadata": {},
   "outputs": [],
   "source": [
    "df_wind_raw_save.to_pickle('../Dataframes/df_wind_save.pkl')"
   ]
  },
  {
   "cell_type": "code",
   "execution_count": 8,
   "metadata": {},
   "outputs": [],
   "source": [
    "df_wind_raw_save.to_csv('../data/wind_save_curated.csv', index=False, header=True, mode='w')"
   ]
  },
  {
   "cell_type": "markdown",
   "metadata": {},
   "source": [
    "Create pkl and csv for GBG"
   ]
  },
  {
   "cell_type": "code",
   "execution_count": 9,
   "metadata": {},
   "outputs": [
    {
     "data": {
      "text/html": [
       "<div>\n",
       "<style scoped>\n",
       "    .dataframe tbody tr th:only-of-type {\n",
       "        vertical-align: middle;\n",
       "    }\n",
       "\n",
       "    .dataframe tbody tr th {\n",
       "        vertical-align: top;\n",
       "    }\n",
       "\n",
       "    .dataframe thead th {\n",
       "        text-align: right;\n",
       "    }\n",
       "</style>\n",
       "<table border=\"1\" class=\"dataframe\">\n",
       "  <thead>\n",
       "    <tr style=\"text-align: right;\">\n",
       "      <th></th>\n",
       "      <th>Datum</th>\n",
       "      <th>Tid (UTC)</th>\n",
       "      <th>Vindriktning</th>\n",
       "      <th>Kvalitet</th>\n",
       "      <th>Vindhastighet</th>\n",
       "    </tr>\n",
       "  </thead>\n",
       "  <tbody>\n",
       "    <tr>\n",
       "      <th>0</th>\n",
       "      <td>1961-01-01</td>\n",
       "      <td>06:00:00</td>\n",
       "      <td>180.0</td>\n",
       "      <td>G</td>\n",
       "      <td>0.0</td>\n",
       "    </tr>\n",
       "    <tr>\n",
       "      <th>1</th>\n",
       "      <td>1961-01-01</td>\n",
       "      <td>12:00:00</td>\n",
       "      <td>180.0</td>\n",
       "      <td>G</td>\n",
       "      <td>4.0</td>\n",
       "    </tr>\n",
       "    <tr>\n",
       "      <th>2</th>\n",
       "      <td>1961-01-01</td>\n",
       "      <td>18:00:00</td>\n",
       "      <td>140.0</td>\n",
       "      <td>G</td>\n",
       "      <td>3.0</td>\n",
       "    </tr>\n",
       "    <tr>\n",
       "      <th>3</th>\n",
       "      <td>1961-01-02</td>\n",
       "      <td>06:00:00</td>\n",
       "      <td>180.0</td>\n",
       "      <td>G</td>\n",
       "      <td>4.0</td>\n",
       "    </tr>\n",
       "    <tr>\n",
       "      <th>4</th>\n",
       "      <td>1961-01-02</td>\n",
       "      <td>12:00:00</td>\n",
       "      <td>180.0</td>\n",
       "      <td>G</td>\n",
       "      <td>5.0</td>\n",
       "    </tr>\n",
       "    <tr>\n",
       "      <th>...</th>\n",
       "      <td>...</td>\n",
       "      <td>...</td>\n",
       "      <td>...</td>\n",
       "      <td>...</td>\n",
       "      <td>...</td>\n",
       "    </tr>\n",
       "    <tr>\n",
       "      <th>305146</th>\n",
       "      <td>2023-07-01</td>\n",
       "      <td>02:00:00</td>\n",
       "      <td>249.0</td>\n",
       "      <td>G</td>\n",
       "      <td>3.1</td>\n",
       "    </tr>\n",
       "    <tr>\n",
       "      <th>305147</th>\n",
       "      <td>2023-07-01</td>\n",
       "      <td>03:00:00</td>\n",
       "      <td>226.0</td>\n",
       "      <td>G</td>\n",
       "      <td>2.2</td>\n",
       "    </tr>\n",
       "    <tr>\n",
       "      <th>305148</th>\n",
       "      <td>2023-07-01</td>\n",
       "      <td>04:00:00</td>\n",
       "      <td>223.0</td>\n",
       "      <td>G</td>\n",
       "      <td>2.3</td>\n",
       "    </tr>\n",
       "    <tr>\n",
       "      <th>305149</th>\n",
       "      <td>2023-07-01</td>\n",
       "      <td>05:00:00</td>\n",
       "      <td>217.0</td>\n",
       "      <td>G</td>\n",
       "      <td>1.9</td>\n",
       "    </tr>\n",
       "    <tr>\n",
       "      <th>305150</th>\n",
       "      <td>2023-07-01</td>\n",
       "      <td>06:00:00</td>\n",
       "      <td>211.0</td>\n",
       "      <td>G</td>\n",
       "      <td>1.4</td>\n",
       "    </tr>\n",
       "  </tbody>\n",
       "</table>\n",
       "<p>305151 rows × 5 columns</p>\n",
       "</div>"
      ],
      "text/plain": [
       "             Datum Tid (UTC)  Vindriktning Kvalitet  Vindhastighet\n",
       "0       1961-01-01  06:00:00         180.0        G            0.0\n",
       "1       1961-01-01  12:00:00         180.0        G            4.0\n",
       "2       1961-01-01  18:00:00         140.0        G            3.0\n",
       "3       1961-01-02  06:00:00         180.0        G            4.0\n",
       "4       1961-01-02  12:00:00         180.0        G            5.0\n",
       "...            ...       ...           ...      ...            ...\n",
       "305146  2023-07-01  02:00:00         249.0        G            3.1\n",
       "305147  2023-07-01  03:00:00         226.0        G            2.2\n",
       "305148  2023-07-01  04:00:00         223.0        G            2.3\n",
       "305149  2023-07-01  05:00:00         217.0        G            1.9\n",
       "305150  2023-07-01  06:00:00         211.0        G            1.4\n",
       "\n",
       "[305151 rows x 5 columns]"
      ]
     },
     "execution_count": 9,
     "metadata": {},
     "output_type": "execute_result"
    }
   ],
   "source": [
    "df_wind_raw_gbg = pd.read_csv('../data/smhi_wind_data_gbg.csv', sep=';', usecols=[0, 1, 2, 3, 4], header=12)\n",
    "df_wind_raw_gbg = df_wind_raw_gbg.rename(columns=({'Från Datum Tid (UTC)': 'Från_datum_tid_UTC', 'Till Datum Tid (UTC)': 'Till_datum_tid_UTC', 'Representativt dygn': 'Representativt_dygn'}))\n",
    "df_wind_raw_gbg"
   ]
  },
  {
   "cell_type": "code",
   "execution_count": 10,
   "metadata": {},
   "outputs": [],
   "source": [
    "df_wind_raw_gbg['Vindhastighet_snitt'] = df_wind_raw_gbg.groupby('Datum')['Vindhastighet'].transform('mean').round(2)\n",
    "df_wind_raw_gbg['Högsta_vindhastighet'] = df_wind_raw_gbg.groupby('Datum')['Vindhastighet'].transform('max').round(2)"
   ]
  },
  {
   "cell_type": "code",
   "execution_count": 11,
   "metadata": {},
   "outputs": [],
   "source": [
    "df_wind_raw_gbg['Datum'] = pd.to_datetime(df_wind_raw_gbg['Datum'])"
   ]
  },
  {
   "cell_type": "code",
   "execution_count": 12,
   "metadata": {},
   "outputs": [],
   "source": [
    "df_wind_raw_gbg = df_wind_raw_gbg.rename(columns=({'Tid (UTC)': 'Tid_UTC'}))"
   ]
  },
  {
   "cell_type": "code",
   "execution_count": 8,
   "metadata": {},
   "outputs": [],
   "source": [
    "# df_wind_raw_gbg = df_wind_raw_gbg.groupby('Datum').max('Tid_UTC').drop('Vindhastighet', axis=1).reset_index()"
   ]
  },
  {
   "cell_type": "code",
   "execution_count": 14,
   "metadata": {},
   "outputs": [],
   "source": [
    "df_wind_raw_gbg.to_pickle('../Dataframes/df_wind_gbg.pkl')"
   ]
  },
  {
   "cell_type": "code",
   "execution_count": 15,
   "metadata": {},
   "outputs": [],
   "source": [
    "df_wind_raw_gbg.to_csv('../data/wind_gbg_curated.csv', index=False, header=True, mode='w')"
   ]
  },
  {
   "cell_type": "markdown",
   "metadata": {},
   "source": []
  }
 ],
 "metadata": {
  "kernelspec": {
   "display_name": "agilt_projektarbete",
   "language": "python",
   "name": "python3"
  },
  "language_info": {
   "codemirror_mode": {
    "name": "ipython",
    "version": 3
   },
   "file_extension": ".py",
   "mimetype": "text/x-python",
   "name": "python",
   "nbconvert_exporter": "python",
   "pygments_lexer": "ipython3",
   "version": "3.9.18"
  }
 },
 "nbformat": 4,
 "nbformat_minor": 2
}
