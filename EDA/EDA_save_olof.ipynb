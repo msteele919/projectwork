{
 "cells": [
  {
   "cell_type": "code",
   "execution_count": 3,
   "metadata": {},
   "outputs": [],
   "source": [
    "import pandas as pd\n",
    "from datetime import timedelta"
   ]
  },
  {
   "cell_type": "code",
   "execution_count": 4,
   "metadata": {},
   "outputs": [],
   "source": [
    "df = pd.read_csv('../data/smhi_temp_data_save.csv', usecols=[0, 1, 2, 3], header=6, sep=';')"
   ]
  },
  {
   "cell_type": "code",
   "execution_count": 5,
   "metadata": {},
   "outputs": [
    {
     "data": {
      "text/html": [
       "<div>\n",
       "<style scoped>\n",
       "    .dataframe tbody tr th:only-of-type {\n",
       "        vertical-align: middle;\n",
       "    }\n",
       "\n",
       "    .dataframe tbody tr th {\n",
       "        vertical-align: top;\n",
       "    }\n",
       "\n",
       "    .dataframe thead th {\n",
       "        text-align: right;\n",
       "    }\n",
       "</style>\n",
       "<table border=\"1\" class=\"dataframe\">\n",
       "  <thead>\n",
       "    <tr style=\"text-align: right;\">\n",
       "      <th></th>\n",
       "      <th>Datum</th>\n",
       "      <th>Tid (UTC)</th>\n",
       "      <th>Lufttemperatur</th>\n",
       "      <th>Kvalitet</th>\n",
       "    </tr>\n",
       "  </thead>\n",
       "  <tbody>\n",
       "    <tr>\n",
       "      <th>0</th>\n",
       "      <td>1944-01-01</td>\n",
       "      <td>07:00:00</td>\n",
       "      <td>1.6</td>\n",
       "      <td>G</td>\n",
       "    </tr>\n",
       "    <tr>\n",
       "      <th>1</th>\n",
       "      <td>1944-01-01</td>\n",
       "      <td>13:00:00</td>\n",
       "      <td>3.8</td>\n",
       "      <td>G</td>\n",
       "    </tr>\n",
       "    <tr>\n",
       "      <th>2</th>\n",
       "      <td>1944-01-01</td>\n",
       "      <td>18:00:00</td>\n",
       "      <td>4.2</td>\n",
       "      <td>G</td>\n",
       "    </tr>\n",
       "    <tr>\n",
       "      <th>3</th>\n",
       "      <td>1944-01-02</td>\n",
       "      <td>07:00:00</td>\n",
       "      <td>0.6</td>\n",
       "      <td>G</td>\n",
       "    </tr>\n",
       "    <tr>\n",
       "      <th>4</th>\n",
       "      <td>1944-01-02</td>\n",
       "      <td>13:00:00</td>\n",
       "      <td>3.8</td>\n",
       "      <td>G</td>\n",
       "    </tr>\n",
       "    <tr>\n",
       "      <th>...</th>\n",
       "      <td>...</td>\n",
       "      <td>...</td>\n",
       "      <td>...</td>\n",
       "      <td>...</td>\n",
       "    </tr>\n",
       "    <tr>\n",
       "      <th>435387</th>\n",
       "      <td>2006-12-05</td>\n",
       "      <td>09:00:00</td>\n",
       "      <td>9.4</td>\n",
       "      <td>G</td>\n",
       "    </tr>\n",
       "    <tr>\n",
       "      <th>435388</th>\n",
       "      <td>2006-12-05</td>\n",
       "      <td>10:00:00</td>\n",
       "      <td>10.1</td>\n",
       "      <td>Y</td>\n",
       "    </tr>\n",
       "    <tr>\n",
       "      <th>435389</th>\n",
       "      <td>2006-12-05</td>\n",
       "      <td>11:00:00</td>\n",
       "      <td>10.8</td>\n",
       "      <td>Y</td>\n",
       "    </tr>\n",
       "    <tr>\n",
       "      <th>435390</th>\n",
       "      <td>2006-12-05</td>\n",
       "      <td>12:00:00</td>\n",
       "      <td>10.9</td>\n",
       "      <td>G</td>\n",
       "    </tr>\n",
       "    <tr>\n",
       "      <th>435391</th>\n",
       "      <td>2006-12-05</td>\n",
       "      <td>13:00:00</td>\n",
       "      <td>10.8</td>\n",
       "      <td>Y</td>\n",
       "    </tr>\n",
       "  </tbody>\n",
       "</table>\n",
       "<p>435392 rows × 4 columns</p>\n",
       "</div>"
      ],
      "text/plain": [
       "             Datum Tid (UTC)  Lufttemperatur Kvalitet\n",
       "0       1944-01-01  07:00:00             1.6        G\n",
       "1       1944-01-01  13:00:00             3.8        G\n",
       "2       1944-01-01  18:00:00             4.2        G\n",
       "3       1944-01-02  07:00:00             0.6        G\n",
       "4       1944-01-02  13:00:00             3.8        G\n",
       "...            ...       ...             ...      ...\n",
       "435387  2006-12-05  09:00:00             9.4        G\n",
       "435388  2006-12-05  10:00:00            10.1        Y\n",
       "435389  2006-12-05  11:00:00            10.8        Y\n",
       "435390  2006-12-05  12:00:00            10.9        G\n",
       "435391  2006-12-05  13:00:00            10.8        Y\n",
       "\n",
       "[435392 rows x 4 columns]"
      ]
     },
     "execution_count": 5,
     "metadata": {},
     "output_type": "execute_result"
    }
   ],
   "source": [
    "df"
   ]
  },
  {
   "cell_type": "code",
   "execution_count": 6,
   "metadata": {},
   "outputs": [],
   "source": [
    "df['Snittemperatur'] = df.groupby('Datum')['Lufttemperatur'].transform('mean').round(2)"
   ]
  },
  {
   "cell_type": "code",
   "execution_count": 7,
   "metadata": {},
   "outputs": [],
   "source": [
    "df = df.groupby('Datum').max().drop('Lufttemperatur', axis=1).reset_index()"
   ]
  },
  {
   "cell_type": "code",
   "execution_count": 8,
   "metadata": {},
   "outputs": [
    {
     "data": {
      "text/html": [
       "<div>\n",
       "<style scoped>\n",
       "    .dataframe tbody tr th:only-of-type {\n",
       "        vertical-align: middle;\n",
       "    }\n",
       "\n",
       "    .dataframe tbody tr th {\n",
       "        vertical-align: top;\n",
       "    }\n",
       "\n",
       "    .dataframe thead th {\n",
       "        text-align: right;\n",
       "    }\n",
       "</style>\n",
       "<table border=\"1\" class=\"dataframe\">\n",
       "  <thead>\n",
       "    <tr style=\"text-align: right;\">\n",
       "      <th></th>\n",
       "      <th>Datum</th>\n",
       "      <th>Tid (UTC)</th>\n",
       "      <th>Kvalitet</th>\n",
       "      <th>Snittemperatur</th>\n",
       "    </tr>\n",
       "  </thead>\n",
       "  <tbody>\n",
       "    <tr>\n",
       "      <th>0</th>\n",
       "      <td>1944-01-01</td>\n",
       "      <td>18:00:00</td>\n",
       "      <td>G</td>\n",
       "      <td>3.20</td>\n",
       "    </tr>\n",
       "    <tr>\n",
       "      <th>1</th>\n",
       "      <td>1944-01-02</td>\n",
       "      <td>18:00:00</td>\n",
       "      <td>G</td>\n",
       "      <td>3.60</td>\n",
       "    </tr>\n",
       "    <tr>\n",
       "      <th>2</th>\n",
       "      <td>1944-01-03</td>\n",
       "      <td>18:00:00</td>\n",
       "      <td>G</td>\n",
       "      <td>2.80</td>\n",
       "    </tr>\n",
       "    <tr>\n",
       "      <th>3</th>\n",
       "      <td>1944-01-04</td>\n",
       "      <td>18:00:00</td>\n",
       "      <td>G</td>\n",
       "      <td>-4.47</td>\n",
       "    </tr>\n",
       "    <tr>\n",
       "      <th>4</th>\n",
       "      <td>1944-01-05</td>\n",
       "      <td>18:00:00</td>\n",
       "      <td>G</td>\n",
       "      <td>-1.40</td>\n",
       "    </tr>\n",
       "    <tr>\n",
       "      <th>...</th>\n",
       "      <td>...</td>\n",
       "      <td>...</td>\n",
       "      <td>...</td>\n",
       "      <td>...</td>\n",
       "    </tr>\n",
       "    <tr>\n",
       "      <th>22980</th>\n",
       "      <td>2006-12-01</td>\n",
       "      <td>23:00:00</td>\n",
       "      <td>Y</td>\n",
       "      <td>8.03</td>\n",
       "    </tr>\n",
       "    <tr>\n",
       "      <th>22981</th>\n",
       "      <td>2006-12-02</td>\n",
       "      <td>23:00:00</td>\n",
       "      <td>Y</td>\n",
       "      <td>8.81</td>\n",
       "    </tr>\n",
       "    <tr>\n",
       "      <th>22982</th>\n",
       "      <td>2006-12-03</td>\n",
       "      <td>23:00:00</td>\n",
       "      <td>Y</td>\n",
       "      <td>8.11</td>\n",
       "    </tr>\n",
       "    <tr>\n",
       "      <th>22983</th>\n",
       "      <td>2006-12-04</td>\n",
       "      <td>23:00:00</td>\n",
       "      <td>Y</td>\n",
       "      <td>8.57</td>\n",
       "    </tr>\n",
       "    <tr>\n",
       "      <th>22984</th>\n",
       "      <td>2006-12-05</td>\n",
       "      <td>13:00:00</td>\n",
       "      <td>Y</td>\n",
       "      <td>9.22</td>\n",
       "    </tr>\n",
       "  </tbody>\n",
       "</table>\n",
       "<p>22985 rows × 4 columns</p>\n",
       "</div>"
      ],
      "text/plain": [
       "            Datum Tid (UTC) Kvalitet  Snittemperatur\n",
       "0      1944-01-01  18:00:00        G            3.20\n",
       "1      1944-01-02  18:00:00        G            3.60\n",
       "2      1944-01-03  18:00:00        G            2.80\n",
       "3      1944-01-04  18:00:00        G           -4.47\n",
       "4      1944-01-05  18:00:00        G           -1.40\n",
       "...           ...       ...      ...             ...\n",
       "22980  2006-12-01  23:00:00        Y            8.03\n",
       "22981  2006-12-02  23:00:00        Y            8.81\n",
       "22982  2006-12-03  23:00:00        Y            8.11\n",
       "22983  2006-12-04  23:00:00        Y            8.57\n",
       "22984  2006-12-05  13:00:00        Y            9.22\n",
       "\n",
       "[22985 rows x 4 columns]"
      ]
     },
     "execution_count": 8,
     "metadata": {},
     "output_type": "execute_result"
    }
   ],
   "source": [
    "df"
   ]
  },
  {
   "cell_type": "code",
   "execution_count": 9,
   "metadata": {},
   "outputs": [
    {
     "name": "stderr",
     "output_type": "stream",
     "text": [
      "C:\\Users\\olofs\\AppData\\Local\\Temp\\ipykernel_20272\\83482794.py:1: FutureWarning: Series.__getitem__ treating keys as positions is deprecated. In a future version, integer keys will always be treated as labels (consistent with DataFrame behavior). To access a value by position, use `ser.iloc[pos]`\n",
      "  num_rows = df.count(axis=0)[0]\n"
     ]
    }
   ],
   "source": [
    "num_rows = df.count(axis=0)[0]"
   ]
  },
  {
   "cell_type": "code",
   "execution_count": 10,
   "metadata": {},
   "outputs": [
    {
     "data": {
      "text/plain": [
       "22985"
      ]
     },
     "execution_count": 10,
     "metadata": {},
     "output_type": "execute_result"
    }
   ],
   "source": [
    "num_rows"
   ]
  },
  {
   "cell_type": "code",
   "execution_count": 11,
   "metadata": {},
   "outputs": [
    {
     "data": {
      "text/plain": [
       "Datum              object\n",
       "Tid (UTC)          object\n",
       "Kvalitet           object\n",
       "Snittemperatur    float64\n",
       "dtype: object"
      ]
     },
     "execution_count": 11,
     "metadata": {},
     "output_type": "execute_result"
    }
   ],
   "source": [
    "df.dtypes"
   ]
  },
  {
   "cell_type": "code",
   "execution_count": 12,
   "metadata": {},
   "outputs": [],
   "source": [
    "df['Year'] = df['Datum'].str.split('-').str[0]"
   ]
  },
  {
   "cell_type": "code",
   "execution_count": 13,
   "metadata": {},
   "outputs": [
    {
     "data": {
      "text/html": [
       "<div>\n",
       "<style scoped>\n",
       "    .dataframe tbody tr th:only-of-type {\n",
       "        vertical-align: middle;\n",
       "    }\n",
       "\n",
       "    .dataframe tbody tr th {\n",
       "        vertical-align: top;\n",
       "    }\n",
       "\n",
       "    .dataframe thead th {\n",
       "        text-align: right;\n",
       "    }\n",
       "</style>\n",
       "<table border=\"1\" class=\"dataframe\">\n",
       "  <thead>\n",
       "    <tr style=\"text-align: right;\">\n",
       "      <th></th>\n",
       "      <th>Datum</th>\n",
       "      <th>Tid (UTC)</th>\n",
       "      <th>Kvalitet</th>\n",
       "      <th>Snittemperatur</th>\n",
       "      <th>Year</th>\n",
       "    </tr>\n",
       "  </thead>\n",
       "  <tbody>\n",
       "    <tr>\n",
       "      <th>0</th>\n",
       "      <td>1944-01-01</td>\n",
       "      <td>18:00:00</td>\n",
       "      <td>G</td>\n",
       "      <td>3.20</td>\n",
       "      <td>1944</td>\n",
       "    </tr>\n",
       "    <tr>\n",
       "      <th>1</th>\n",
       "      <td>1944-01-02</td>\n",
       "      <td>18:00:00</td>\n",
       "      <td>G</td>\n",
       "      <td>3.60</td>\n",
       "      <td>1944</td>\n",
       "    </tr>\n",
       "    <tr>\n",
       "      <th>2</th>\n",
       "      <td>1944-01-03</td>\n",
       "      <td>18:00:00</td>\n",
       "      <td>G</td>\n",
       "      <td>2.80</td>\n",
       "      <td>1944</td>\n",
       "    </tr>\n",
       "    <tr>\n",
       "      <th>3</th>\n",
       "      <td>1944-01-04</td>\n",
       "      <td>18:00:00</td>\n",
       "      <td>G</td>\n",
       "      <td>-4.47</td>\n",
       "      <td>1944</td>\n",
       "    </tr>\n",
       "    <tr>\n",
       "      <th>4</th>\n",
       "      <td>1944-01-05</td>\n",
       "      <td>18:00:00</td>\n",
       "      <td>G</td>\n",
       "      <td>-1.40</td>\n",
       "      <td>1944</td>\n",
       "    </tr>\n",
       "    <tr>\n",
       "      <th>...</th>\n",
       "      <td>...</td>\n",
       "      <td>...</td>\n",
       "      <td>...</td>\n",
       "      <td>...</td>\n",
       "      <td>...</td>\n",
       "    </tr>\n",
       "    <tr>\n",
       "      <th>22980</th>\n",
       "      <td>2006-12-01</td>\n",
       "      <td>23:00:00</td>\n",
       "      <td>Y</td>\n",
       "      <td>8.03</td>\n",
       "      <td>2006</td>\n",
       "    </tr>\n",
       "    <tr>\n",
       "      <th>22981</th>\n",
       "      <td>2006-12-02</td>\n",
       "      <td>23:00:00</td>\n",
       "      <td>Y</td>\n",
       "      <td>8.81</td>\n",
       "      <td>2006</td>\n",
       "    </tr>\n",
       "    <tr>\n",
       "      <th>22982</th>\n",
       "      <td>2006-12-03</td>\n",
       "      <td>23:00:00</td>\n",
       "      <td>Y</td>\n",
       "      <td>8.11</td>\n",
       "      <td>2006</td>\n",
       "    </tr>\n",
       "    <tr>\n",
       "      <th>22983</th>\n",
       "      <td>2006-12-04</td>\n",
       "      <td>23:00:00</td>\n",
       "      <td>Y</td>\n",
       "      <td>8.57</td>\n",
       "      <td>2006</td>\n",
       "    </tr>\n",
       "    <tr>\n",
       "      <th>22984</th>\n",
       "      <td>2006-12-05</td>\n",
       "      <td>13:00:00</td>\n",
       "      <td>Y</td>\n",
       "      <td>9.22</td>\n",
       "      <td>2006</td>\n",
       "    </tr>\n",
       "  </tbody>\n",
       "</table>\n",
       "<p>22985 rows × 5 columns</p>\n",
       "</div>"
      ],
      "text/plain": [
       "            Datum Tid (UTC) Kvalitet  Snittemperatur  Year\n",
       "0      1944-01-01  18:00:00        G            3.20  1944\n",
       "1      1944-01-02  18:00:00        G            3.60  1944\n",
       "2      1944-01-03  18:00:00        G            2.80  1944\n",
       "3      1944-01-04  18:00:00        G           -4.47  1944\n",
       "4      1944-01-05  18:00:00        G           -1.40  1944\n",
       "...           ...       ...      ...             ...   ...\n",
       "22980  2006-12-01  23:00:00        Y            8.03  2006\n",
       "22981  2006-12-02  23:00:00        Y            8.81  2006\n",
       "22982  2006-12-03  23:00:00        Y            8.11  2006\n",
       "22983  2006-12-04  23:00:00        Y            8.57  2006\n",
       "22984  2006-12-05  13:00:00        Y            9.22  2006\n",
       "\n",
       "[22985 rows x 5 columns]"
      ]
     },
     "execution_count": 13,
     "metadata": {},
     "output_type": "execute_result"
    }
   ],
   "source": [
    "df"
   ]
  },
  {
   "cell_type": "code",
   "execution_count": 14,
   "metadata": {},
   "outputs": [
    {
     "data": {
      "text/plain": [
       "Year\n",
       "1944    366\n",
       "1972    366\n",
       "2000    366\n",
       "1968    366\n",
       "2004    366\n",
       "       ... \n",
       "2005    365\n",
       "1981    365\n",
       "1975    365\n",
       "1979    365\n",
       "2006    339\n",
       "Name: count, Length: 63, dtype: int64"
      ]
     },
     "execution_count": 14,
     "metadata": {},
     "output_type": "execute_result"
    }
   ],
   "source": [
    "df['Year'].value_counts().sort_values(ascending=False)"
   ]
  },
  {
   "cell_type": "code",
   "execution_count": 15,
   "metadata": {},
   "outputs": [],
   "source": [
    "years = []\n",
    "for ind, row in df.iterrows():\n",
    "    year = row['Year']\n",
    "    if year not in years:\n",
    "        years.append(year)\n",
    "    else:\n",
    "        pass"
   ]
  },
  {
   "cell_type": "code",
   "execution_count": 16,
   "metadata": {},
   "outputs": [
    {
     "data": {
      "text/plain": [
       "['1944',\n",
       " '1945',\n",
       " '1946',\n",
       " '1947',\n",
       " '1948',\n",
       " '1949',\n",
       " '1950',\n",
       " '1951',\n",
       " '1952',\n",
       " '1953',\n",
       " '1954',\n",
       " '1955',\n",
       " '1956',\n",
       " '1957',\n",
       " '1958',\n",
       " '1959',\n",
       " '1960',\n",
       " '1961',\n",
       " '1962',\n",
       " '1963',\n",
       " '1964',\n",
       " '1965',\n",
       " '1966',\n",
       " '1967',\n",
       " '1968',\n",
       " '1969',\n",
       " '1970',\n",
       " '1971',\n",
       " '1972',\n",
       " '1973',\n",
       " '1974',\n",
       " '1975',\n",
       " '1976',\n",
       " '1977',\n",
       " '1978',\n",
       " '1979',\n",
       " '1980',\n",
       " '1981',\n",
       " '1982',\n",
       " '1983',\n",
       " '1984',\n",
       " '1985',\n",
       " '1986',\n",
       " '1987',\n",
       " '1988',\n",
       " '1989',\n",
       " '1990',\n",
       " '1991',\n",
       " '1992',\n",
       " '1993',\n",
       " '1994',\n",
       " '1995',\n",
       " '1996',\n",
       " '1997',\n",
       " '1998',\n",
       " '1999',\n",
       " '2000',\n",
       " '2001',\n",
       " '2002',\n",
       " '2003',\n",
       " '2004',\n",
       " '2005',\n",
       " '2006']"
      ]
     },
     "execution_count": 16,
     "metadata": {},
     "output_type": "execute_result"
    }
   ],
   "source": [
    "years"
   ]
  },
  {
   "cell_type": "code",
   "execution_count": 17,
   "metadata": {},
   "outputs": [],
   "source": [
    "df['Year'] = pd.to_datetime(df['Year'], yearfirst=True, format='%Y')"
   ]
  },
  {
   "cell_type": "code",
   "execution_count": 18,
   "metadata": {},
   "outputs": [
    {
     "data": {
      "text/plain": [
       "Datum                     object\n",
       "Tid (UTC)                 object\n",
       "Kvalitet                  object\n",
       "Snittemperatur           float64\n",
       "Year              datetime64[ns]\n",
       "dtype: object"
      ]
     },
     "execution_count": 18,
     "metadata": {},
     "output_type": "execute_result"
    }
   ],
   "source": [
    "df.dtypes"
   ]
  },
  {
   "cell_type": "code",
   "execution_count": 19,
   "metadata": {},
   "outputs": [
    {
     "data": {
      "text/html": [
       "<div>\n",
       "<style scoped>\n",
       "    .dataframe tbody tr th:only-of-type {\n",
       "        vertical-align: middle;\n",
       "    }\n",
       "\n",
       "    .dataframe tbody tr th {\n",
       "        vertical-align: top;\n",
       "    }\n",
       "\n",
       "    .dataframe thead th {\n",
       "        text-align: right;\n",
       "    }\n",
       "</style>\n",
       "<table border=\"1\" class=\"dataframe\">\n",
       "  <thead>\n",
       "    <tr style=\"text-align: right;\">\n",
       "      <th></th>\n",
       "      <th>Datum</th>\n",
       "      <th>Tid (UTC)</th>\n",
       "      <th>Kvalitet</th>\n",
       "      <th>Snittemperatur</th>\n",
       "      <th>Year</th>\n",
       "    </tr>\n",
       "  </thead>\n",
       "  <tbody>\n",
       "    <tr>\n",
       "      <th>0</th>\n",
       "      <td>1944-01-01</td>\n",
       "      <td>18:00:00</td>\n",
       "      <td>G</td>\n",
       "      <td>3.20</td>\n",
       "      <td>1944-01-01</td>\n",
       "    </tr>\n",
       "    <tr>\n",
       "      <th>1</th>\n",
       "      <td>1944-01-02</td>\n",
       "      <td>18:00:00</td>\n",
       "      <td>G</td>\n",
       "      <td>3.60</td>\n",
       "      <td>1944-01-01</td>\n",
       "    </tr>\n",
       "    <tr>\n",
       "      <th>2</th>\n",
       "      <td>1944-01-03</td>\n",
       "      <td>18:00:00</td>\n",
       "      <td>G</td>\n",
       "      <td>2.80</td>\n",
       "      <td>1944-01-01</td>\n",
       "    </tr>\n",
       "    <tr>\n",
       "      <th>3</th>\n",
       "      <td>1944-01-04</td>\n",
       "      <td>18:00:00</td>\n",
       "      <td>G</td>\n",
       "      <td>-4.47</td>\n",
       "      <td>1944-01-01</td>\n",
       "    </tr>\n",
       "    <tr>\n",
       "      <th>4</th>\n",
       "      <td>1944-01-05</td>\n",
       "      <td>18:00:00</td>\n",
       "      <td>G</td>\n",
       "      <td>-1.40</td>\n",
       "      <td>1944-01-01</td>\n",
       "    </tr>\n",
       "    <tr>\n",
       "      <th>...</th>\n",
       "      <td>...</td>\n",
       "      <td>...</td>\n",
       "      <td>...</td>\n",
       "      <td>...</td>\n",
       "      <td>...</td>\n",
       "    </tr>\n",
       "    <tr>\n",
       "      <th>22980</th>\n",
       "      <td>2006-12-01</td>\n",
       "      <td>23:00:00</td>\n",
       "      <td>Y</td>\n",
       "      <td>8.03</td>\n",
       "      <td>2006-01-01</td>\n",
       "    </tr>\n",
       "    <tr>\n",
       "      <th>22981</th>\n",
       "      <td>2006-12-02</td>\n",
       "      <td>23:00:00</td>\n",
       "      <td>Y</td>\n",
       "      <td>8.81</td>\n",
       "      <td>2006-01-01</td>\n",
       "    </tr>\n",
       "    <tr>\n",
       "      <th>22982</th>\n",
       "      <td>2006-12-03</td>\n",
       "      <td>23:00:00</td>\n",
       "      <td>Y</td>\n",
       "      <td>8.11</td>\n",
       "      <td>2006-01-01</td>\n",
       "    </tr>\n",
       "    <tr>\n",
       "      <th>22983</th>\n",
       "      <td>2006-12-04</td>\n",
       "      <td>23:00:00</td>\n",
       "      <td>Y</td>\n",
       "      <td>8.57</td>\n",
       "      <td>2006-01-01</td>\n",
       "    </tr>\n",
       "    <tr>\n",
       "      <th>22984</th>\n",
       "      <td>2006-12-05</td>\n",
       "      <td>13:00:00</td>\n",
       "      <td>Y</td>\n",
       "      <td>9.22</td>\n",
       "      <td>2006-01-01</td>\n",
       "    </tr>\n",
       "  </tbody>\n",
       "</table>\n",
       "<p>22985 rows × 5 columns</p>\n",
       "</div>"
      ],
      "text/plain": [
       "            Datum Tid (UTC) Kvalitet  Snittemperatur       Year\n",
       "0      1944-01-01  18:00:00        G            3.20 1944-01-01\n",
       "1      1944-01-02  18:00:00        G            3.60 1944-01-01\n",
       "2      1944-01-03  18:00:00        G            2.80 1944-01-01\n",
       "3      1944-01-04  18:00:00        G           -4.47 1944-01-01\n",
       "4      1944-01-05  18:00:00        G           -1.40 1944-01-01\n",
       "...           ...       ...      ...             ...        ...\n",
       "22980  2006-12-01  23:00:00        Y            8.03 2006-01-01\n",
       "22981  2006-12-02  23:00:00        Y            8.81 2006-01-01\n",
       "22982  2006-12-03  23:00:00        Y            8.11 2006-01-01\n",
       "22983  2006-12-04  23:00:00        Y            8.57 2006-01-01\n",
       "22984  2006-12-05  13:00:00        Y            9.22 2006-01-01\n",
       "\n",
       "[22985 rows x 5 columns]"
      ]
     },
     "execution_count": 19,
     "metadata": {},
     "output_type": "execute_result"
    }
   ],
   "source": [
    "df"
   ]
  },
  {
   "cell_type": "code",
   "execution_count": 20,
   "metadata": {},
   "outputs": [],
   "source": [
    "df['Datum'] = pd.to_datetime(df['Datum'], yearfirst=True, format='ISO8601')"
   ]
  },
  {
   "cell_type": "code",
   "execution_count": 21,
   "metadata": {},
   "outputs": [],
   "source": [
    "df.to_csv('../data/Olof_Save_avg_daily_temp_data.csv', index=False, mode='w')"
   ]
  },
  {
   "cell_type": "markdown",
   "metadata": {},
   "source": [
    "Time for percipitation\n"
   ]
  },
  {
   "cell_type": "code",
   "execution_count": 22,
   "metadata": {},
   "outputs": [],
   "source": [
    "df_percipitation = pd.read_csv('../data/smhi_perc_data_save.csv',  usecols=[0, 1, 2, 3], header=6, sep=';')"
   ]
  },
  {
   "cell_type": "code",
   "execution_count": 23,
   "metadata": {},
   "outputs": [
    {
     "data": {
      "text/html": [
       "<div>\n",
       "<style scoped>\n",
       "    .dataframe tbody tr th:only-of-type {\n",
       "        vertical-align: middle;\n",
       "    }\n",
       "\n",
       "    .dataframe tbody tr th {\n",
       "        vertical-align: top;\n",
       "    }\n",
       "\n",
       "    .dataframe thead th {\n",
       "        text-align: right;\n",
       "    }\n",
       "</style>\n",
       "<table border=\"1\" class=\"dataframe\">\n",
       "  <thead>\n",
       "    <tr style=\"text-align: right;\">\n",
       "      <th></th>\n",
       "      <th>Från Datum Tid (UTC)</th>\n",
       "      <th>Till Datum Tid (UTC)</th>\n",
       "      <th>Representativt dygn</th>\n",
       "      <th>Nederbördsmängd</th>\n",
       "    </tr>\n",
       "  </thead>\n",
       "  <tbody>\n",
       "    <tr>\n",
       "      <th>0</th>\n",
       "      <td>1944-01-01 07:00:01</td>\n",
       "      <td>1944-01-02 07:00:00</td>\n",
       "      <td>1944-01-01</td>\n",
       "      <td>0.2</td>\n",
       "    </tr>\n",
       "    <tr>\n",
       "      <th>1</th>\n",
       "      <td>1944-01-02 07:00:01</td>\n",
       "      <td>1944-01-03 07:00:00</td>\n",
       "      <td>1944-01-02</td>\n",
       "      <td>0.4</td>\n",
       "    </tr>\n",
       "    <tr>\n",
       "      <th>2</th>\n",
       "      <td>1944-01-03 07:00:01</td>\n",
       "      <td>1944-01-04 07:00:00</td>\n",
       "      <td>1944-01-03</td>\n",
       "      <td>0.0</td>\n",
       "    </tr>\n",
       "    <tr>\n",
       "      <th>3</th>\n",
       "      <td>1944-01-04 07:00:01</td>\n",
       "      <td>1944-01-05 07:00:00</td>\n",
       "      <td>1944-01-04</td>\n",
       "      <td>0.0</td>\n",
       "    </tr>\n",
       "    <tr>\n",
       "      <th>4</th>\n",
       "      <td>1944-01-05 07:00:01</td>\n",
       "      <td>1944-01-06 07:00:00</td>\n",
       "      <td>1944-01-05</td>\n",
       "      <td>2.1</td>\n",
       "    </tr>\n",
       "    <tr>\n",
       "      <th>...</th>\n",
       "      <td>...</td>\n",
       "      <td>...</td>\n",
       "      <td>...</td>\n",
       "      <td>...</td>\n",
       "    </tr>\n",
       "    <tr>\n",
       "      <th>21514</th>\n",
       "      <td>2002-11-26 06:00:01</td>\n",
       "      <td>2002-11-27 06:00:00</td>\n",
       "      <td>2002-11-26</td>\n",
       "      <td>4.1</td>\n",
       "    </tr>\n",
       "    <tr>\n",
       "      <th>21515</th>\n",
       "      <td>2002-11-27 06:00:01</td>\n",
       "      <td>2002-11-28 06:00:00</td>\n",
       "      <td>2002-11-27</td>\n",
       "      <td>0.0</td>\n",
       "    </tr>\n",
       "    <tr>\n",
       "      <th>21516</th>\n",
       "      <td>2002-11-28 06:00:01</td>\n",
       "      <td>2002-11-29 06:00:00</td>\n",
       "      <td>2002-11-28</td>\n",
       "      <td>3.9</td>\n",
       "    </tr>\n",
       "    <tr>\n",
       "      <th>21517</th>\n",
       "      <td>2002-11-29 06:00:01</td>\n",
       "      <td>2002-11-30 06:00:00</td>\n",
       "      <td>2002-11-29</td>\n",
       "      <td>7.1</td>\n",
       "    </tr>\n",
       "    <tr>\n",
       "      <th>21518</th>\n",
       "      <td>2002-11-30 06:00:01</td>\n",
       "      <td>2002-12-01 06:00:00</td>\n",
       "      <td>2002-11-30</td>\n",
       "      <td>5.0</td>\n",
       "    </tr>\n",
       "  </tbody>\n",
       "</table>\n",
       "<p>21519 rows × 4 columns</p>\n",
       "</div>"
      ],
      "text/plain": [
       "      Från Datum Tid (UTC) Till Datum Tid (UTC) Representativt dygn  \\\n",
       "0      1944-01-01 07:00:01  1944-01-02 07:00:00          1944-01-01   \n",
       "1      1944-01-02 07:00:01  1944-01-03 07:00:00          1944-01-02   \n",
       "2      1944-01-03 07:00:01  1944-01-04 07:00:00          1944-01-03   \n",
       "3      1944-01-04 07:00:01  1944-01-05 07:00:00          1944-01-04   \n",
       "4      1944-01-05 07:00:01  1944-01-06 07:00:00          1944-01-05   \n",
       "...                    ...                  ...                 ...   \n",
       "21514  2002-11-26 06:00:01  2002-11-27 06:00:00          2002-11-26   \n",
       "21515  2002-11-27 06:00:01  2002-11-28 06:00:00          2002-11-27   \n",
       "21516  2002-11-28 06:00:01  2002-11-29 06:00:00          2002-11-28   \n",
       "21517  2002-11-29 06:00:01  2002-11-30 06:00:00          2002-11-29   \n",
       "21518  2002-11-30 06:00:01  2002-12-01 06:00:00          2002-11-30   \n",
       "\n",
       "       Nederbördsmängd  \n",
       "0                  0.2  \n",
       "1                  0.4  \n",
       "2                  0.0  \n",
       "3                  0.0  \n",
       "4                  2.1  \n",
       "...                ...  \n",
       "21514              4.1  \n",
       "21515              0.0  \n",
       "21516              3.9  \n",
       "21517              7.1  \n",
       "21518              5.0  \n",
       "\n",
       "[21519 rows x 4 columns]"
      ]
     },
     "execution_count": 23,
     "metadata": {},
     "output_type": "execute_result"
    }
   ],
   "source": [
    "df_percipitation"
   ]
  },
  {
   "cell_type": "code",
   "execution_count": 24,
   "metadata": {},
   "outputs": [
    {
     "data": {
      "text/html": [
       "<div>\n",
       "<style scoped>\n",
       "    .dataframe tbody tr th:only-of-type {\n",
       "        vertical-align: middle;\n",
       "    }\n",
       "\n",
       "    .dataframe tbody tr th {\n",
       "        vertical-align: top;\n",
       "    }\n",
       "\n",
       "    .dataframe thead th {\n",
       "        text-align: right;\n",
       "    }\n",
       "</style>\n",
       "<table border=\"1\" class=\"dataframe\">\n",
       "  <thead>\n",
       "    <tr style=\"text-align: right;\">\n",
       "      <th></th>\n",
       "      <th>Från Datum Tid (UTC)</th>\n",
       "      <th>Till Datum Tid (UTC)</th>\n",
       "      <th>Representativt dygn</th>\n",
       "      <th>Nederbördsmängd</th>\n",
       "    </tr>\n",
       "  </thead>\n",
       "  <tbody>\n",
       "    <tr>\n",
       "      <th>0</th>\n",
       "      <td>1944-01-01 07:00:01</td>\n",
       "      <td>1944-01-02 07:00:00</td>\n",
       "      <td>1944-01-01</td>\n",
       "      <td>0.2</td>\n",
       "    </tr>\n",
       "    <tr>\n",
       "      <th>1</th>\n",
       "      <td>1944-01-02 07:00:01</td>\n",
       "      <td>1944-01-03 07:00:00</td>\n",
       "      <td>1944-01-02</td>\n",
       "      <td>0.4</td>\n",
       "    </tr>\n",
       "    <tr>\n",
       "      <th>2</th>\n",
       "      <td>1944-01-03 07:00:01</td>\n",
       "      <td>1944-01-04 07:00:00</td>\n",
       "      <td>1944-01-03</td>\n",
       "      <td>0.0</td>\n",
       "    </tr>\n",
       "    <tr>\n",
       "      <th>3</th>\n",
       "      <td>1944-01-04 07:00:01</td>\n",
       "      <td>1944-01-05 07:00:00</td>\n",
       "      <td>1944-01-04</td>\n",
       "      <td>0.0</td>\n",
       "    </tr>\n",
       "    <tr>\n",
       "      <th>4</th>\n",
       "      <td>1944-01-05 07:00:01</td>\n",
       "      <td>1944-01-06 07:00:00</td>\n",
       "      <td>1944-01-05</td>\n",
       "      <td>2.1</td>\n",
       "    </tr>\n",
       "    <tr>\n",
       "      <th>...</th>\n",
       "      <td>...</td>\n",
       "      <td>...</td>\n",
       "      <td>...</td>\n",
       "      <td>...</td>\n",
       "    </tr>\n",
       "    <tr>\n",
       "      <th>21514</th>\n",
       "      <td>2002-11-26 06:00:01</td>\n",
       "      <td>2002-11-27 06:00:00</td>\n",
       "      <td>2002-11-26</td>\n",
       "      <td>4.1</td>\n",
       "    </tr>\n",
       "    <tr>\n",
       "      <th>21515</th>\n",
       "      <td>2002-11-27 06:00:01</td>\n",
       "      <td>2002-11-28 06:00:00</td>\n",
       "      <td>2002-11-27</td>\n",
       "      <td>0.0</td>\n",
       "    </tr>\n",
       "    <tr>\n",
       "      <th>21516</th>\n",
       "      <td>2002-11-28 06:00:01</td>\n",
       "      <td>2002-11-29 06:00:00</td>\n",
       "      <td>2002-11-28</td>\n",
       "      <td>3.9</td>\n",
       "    </tr>\n",
       "    <tr>\n",
       "      <th>21517</th>\n",
       "      <td>2002-11-29 06:00:01</td>\n",
       "      <td>2002-11-30 06:00:00</td>\n",
       "      <td>2002-11-29</td>\n",
       "      <td>7.1</td>\n",
       "    </tr>\n",
       "    <tr>\n",
       "      <th>21518</th>\n",
       "      <td>2002-11-30 06:00:01</td>\n",
       "      <td>2002-12-01 06:00:00</td>\n",
       "      <td>2002-11-30</td>\n",
       "      <td>5.0</td>\n",
       "    </tr>\n",
       "  </tbody>\n",
       "</table>\n",
       "<p>21519 rows × 4 columns</p>\n",
       "</div>"
      ],
      "text/plain": [
       "      Från Datum Tid (UTC) Till Datum Tid (UTC) Representativt dygn  \\\n",
       "0      1944-01-01 07:00:01  1944-01-02 07:00:00          1944-01-01   \n",
       "1      1944-01-02 07:00:01  1944-01-03 07:00:00          1944-01-02   \n",
       "2      1944-01-03 07:00:01  1944-01-04 07:00:00          1944-01-03   \n",
       "3      1944-01-04 07:00:01  1944-01-05 07:00:00          1944-01-04   \n",
       "4      1944-01-05 07:00:01  1944-01-06 07:00:00          1944-01-05   \n",
       "...                    ...                  ...                 ...   \n",
       "21514  2002-11-26 06:00:01  2002-11-27 06:00:00          2002-11-26   \n",
       "21515  2002-11-27 06:00:01  2002-11-28 06:00:00          2002-11-27   \n",
       "21516  2002-11-28 06:00:01  2002-11-29 06:00:00          2002-11-28   \n",
       "21517  2002-11-29 06:00:01  2002-11-30 06:00:00          2002-11-29   \n",
       "21518  2002-11-30 06:00:01  2002-12-01 06:00:00          2002-11-30   \n",
       "\n",
       "       Nederbördsmängd  \n",
       "0                  0.2  \n",
       "1                  0.4  \n",
       "2                  0.0  \n",
       "3                  0.0  \n",
       "4                  2.1  \n",
       "...                ...  \n",
       "21514              4.1  \n",
       "21515              0.0  \n",
       "21516              3.9  \n",
       "21517              7.1  \n",
       "21518              5.0  \n",
       "\n",
       "[21519 rows x 4 columns]"
      ]
     },
     "execution_count": 24,
     "metadata": {},
     "output_type": "execute_result"
    }
   ],
   "source": [
    "df_percipitation.sort_values(by=['Representativt dygn'])"
   ]
  },
  {
   "cell_type": "code",
   "execution_count": 25,
   "metadata": {},
   "outputs": [],
   "source": [
    "df_percipitation = df_percipitation.drop(['Från Datum Tid (UTC)', 'Till Datum Tid (UTC)'], axis=1)"
   ]
  },
  {
   "cell_type": "code",
   "execution_count": 26,
   "metadata": {},
   "outputs": [
    {
     "data": {
      "text/html": [
       "<div>\n",
       "<style scoped>\n",
       "    .dataframe tbody tr th:only-of-type {\n",
       "        vertical-align: middle;\n",
       "    }\n",
       "\n",
       "    .dataframe tbody tr th {\n",
       "        vertical-align: top;\n",
       "    }\n",
       "\n",
       "    .dataframe thead th {\n",
       "        text-align: right;\n",
       "    }\n",
       "</style>\n",
       "<table border=\"1\" class=\"dataframe\">\n",
       "  <thead>\n",
       "    <tr style=\"text-align: right;\">\n",
       "      <th></th>\n",
       "      <th>Representativt dygn</th>\n",
       "      <th>Nederbördsmängd</th>\n",
       "    </tr>\n",
       "  </thead>\n",
       "  <tbody>\n",
       "    <tr>\n",
       "      <th>0</th>\n",
       "      <td>1944-01-01</td>\n",
       "      <td>0.2</td>\n",
       "    </tr>\n",
       "    <tr>\n",
       "      <th>1</th>\n",
       "      <td>1944-01-02</td>\n",
       "      <td>0.4</td>\n",
       "    </tr>\n",
       "    <tr>\n",
       "      <th>2</th>\n",
       "      <td>1944-01-03</td>\n",
       "      <td>0.0</td>\n",
       "    </tr>\n",
       "    <tr>\n",
       "      <th>3</th>\n",
       "      <td>1944-01-04</td>\n",
       "      <td>0.0</td>\n",
       "    </tr>\n",
       "    <tr>\n",
       "      <th>4</th>\n",
       "      <td>1944-01-05</td>\n",
       "      <td>2.1</td>\n",
       "    </tr>\n",
       "    <tr>\n",
       "      <th>...</th>\n",
       "      <td>...</td>\n",
       "      <td>...</td>\n",
       "    </tr>\n",
       "    <tr>\n",
       "      <th>21514</th>\n",
       "      <td>2002-11-26</td>\n",
       "      <td>4.1</td>\n",
       "    </tr>\n",
       "    <tr>\n",
       "      <th>21515</th>\n",
       "      <td>2002-11-27</td>\n",
       "      <td>0.0</td>\n",
       "    </tr>\n",
       "    <tr>\n",
       "      <th>21516</th>\n",
       "      <td>2002-11-28</td>\n",
       "      <td>3.9</td>\n",
       "    </tr>\n",
       "    <tr>\n",
       "      <th>21517</th>\n",
       "      <td>2002-11-29</td>\n",
       "      <td>7.1</td>\n",
       "    </tr>\n",
       "    <tr>\n",
       "      <th>21518</th>\n",
       "      <td>2002-11-30</td>\n",
       "      <td>5.0</td>\n",
       "    </tr>\n",
       "  </tbody>\n",
       "</table>\n",
       "<p>21519 rows × 2 columns</p>\n",
       "</div>"
      ],
      "text/plain": [
       "      Representativt dygn  Nederbördsmängd\n",
       "0              1944-01-01              0.2\n",
       "1              1944-01-02              0.4\n",
       "2              1944-01-03              0.0\n",
       "3              1944-01-04              0.0\n",
       "4              1944-01-05              2.1\n",
       "...                   ...              ...\n",
       "21514          2002-11-26              4.1\n",
       "21515          2002-11-27              0.0\n",
       "21516          2002-11-28              3.9\n",
       "21517          2002-11-29              7.1\n",
       "21518          2002-11-30              5.0\n",
       "\n",
       "[21519 rows x 2 columns]"
      ]
     },
     "execution_count": 26,
     "metadata": {},
     "output_type": "execute_result"
    }
   ],
   "source": [
    "df_percipitation"
   ]
  },
  {
   "cell_type": "code",
   "execution_count": 27,
   "metadata": {},
   "outputs": [
    {
     "name": "stderr",
     "output_type": "stream",
     "text": [
      "C:\\Users\\olofs\\AppData\\Local\\Temp\\ipykernel_20272\\3562049814.py:1: FutureWarning: Series.__getitem__ treating keys as positions is deprecated. In a future version, integer keys will always be treated as labels (consistent with DataFrame behavior). To access a value by position, use `ser.iloc[pos]`\n",
      "  num_rows_percipitaion = df_percipitation.count(axis=0)[0]\n"
     ]
    }
   ],
   "source": [
    "num_rows_percipitaion = df_percipitation.count(axis=0)[0]"
   ]
  },
  {
   "cell_type": "code",
   "execution_count": 28,
   "metadata": {},
   "outputs": [
    {
     "data": {
      "text/plain": [
       "21519"
      ]
     },
     "execution_count": 28,
     "metadata": {},
     "output_type": "execute_result"
    }
   ],
   "source": [
    "num_rows_percipitaion"
   ]
  },
  {
   "cell_type": "code",
   "execution_count": 29,
   "metadata": {},
   "outputs": [
    {
     "data": {
      "text/plain": [
       "Representativt dygn     object\n",
       "Nederbördsmängd        float64\n",
       "dtype: object"
      ]
     },
     "execution_count": 29,
     "metadata": {},
     "output_type": "execute_result"
    }
   ],
   "source": [
    "df_percipitation.dtypes"
   ]
  },
  {
   "cell_type": "code",
   "execution_count": 30,
   "metadata": {},
   "outputs": [],
   "source": [
    "df_percipitation['Year'] = df_percipitation['Representativt dygn'].str.split('-').str[0]"
   ]
  },
  {
   "cell_type": "code",
   "execution_count": 31,
   "metadata": {},
   "outputs": [
    {
     "data": {
      "text/html": [
       "<div>\n",
       "<style scoped>\n",
       "    .dataframe tbody tr th:only-of-type {\n",
       "        vertical-align: middle;\n",
       "    }\n",
       "\n",
       "    .dataframe tbody tr th {\n",
       "        vertical-align: top;\n",
       "    }\n",
       "\n",
       "    .dataframe thead th {\n",
       "        text-align: right;\n",
       "    }\n",
       "</style>\n",
       "<table border=\"1\" class=\"dataframe\">\n",
       "  <thead>\n",
       "    <tr style=\"text-align: right;\">\n",
       "      <th></th>\n",
       "      <th>Representativt dygn</th>\n",
       "      <th>Nederbördsmängd</th>\n",
       "      <th>Year</th>\n",
       "    </tr>\n",
       "  </thead>\n",
       "  <tbody>\n",
       "    <tr>\n",
       "      <th>0</th>\n",
       "      <td>1944-01-01</td>\n",
       "      <td>0.2</td>\n",
       "      <td>1944</td>\n",
       "    </tr>\n",
       "    <tr>\n",
       "      <th>1</th>\n",
       "      <td>1944-01-02</td>\n",
       "      <td>0.4</td>\n",
       "      <td>1944</td>\n",
       "    </tr>\n",
       "    <tr>\n",
       "      <th>2</th>\n",
       "      <td>1944-01-03</td>\n",
       "      <td>0.0</td>\n",
       "      <td>1944</td>\n",
       "    </tr>\n",
       "    <tr>\n",
       "      <th>3</th>\n",
       "      <td>1944-01-04</td>\n",
       "      <td>0.0</td>\n",
       "      <td>1944</td>\n",
       "    </tr>\n",
       "    <tr>\n",
       "      <th>4</th>\n",
       "      <td>1944-01-05</td>\n",
       "      <td>2.1</td>\n",
       "      <td>1944</td>\n",
       "    </tr>\n",
       "    <tr>\n",
       "      <th>...</th>\n",
       "      <td>...</td>\n",
       "      <td>...</td>\n",
       "      <td>...</td>\n",
       "    </tr>\n",
       "    <tr>\n",
       "      <th>21514</th>\n",
       "      <td>2002-11-26</td>\n",
       "      <td>4.1</td>\n",
       "      <td>2002</td>\n",
       "    </tr>\n",
       "    <tr>\n",
       "      <th>21515</th>\n",
       "      <td>2002-11-27</td>\n",
       "      <td>0.0</td>\n",
       "      <td>2002</td>\n",
       "    </tr>\n",
       "    <tr>\n",
       "      <th>21516</th>\n",
       "      <td>2002-11-28</td>\n",
       "      <td>3.9</td>\n",
       "      <td>2002</td>\n",
       "    </tr>\n",
       "    <tr>\n",
       "      <th>21517</th>\n",
       "      <td>2002-11-29</td>\n",
       "      <td>7.1</td>\n",
       "      <td>2002</td>\n",
       "    </tr>\n",
       "    <tr>\n",
       "      <th>21518</th>\n",
       "      <td>2002-11-30</td>\n",
       "      <td>5.0</td>\n",
       "      <td>2002</td>\n",
       "    </tr>\n",
       "  </tbody>\n",
       "</table>\n",
       "<p>21519 rows × 3 columns</p>\n",
       "</div>"
      ],
      "text/plain": [
       "      Representativt dygn  Nederbördsmängd  Year\n",
       "0              1944-01-01              0.2  1944\n",
       "1              1944-01-02              0.4  1944\n",
       "2              1944-01-03              0.0  1944\n",
       "3              1944-01-04              0.0  1944\n",
       "4              1944-01-05              2.1  1944\n",
       "...                   ...              ...   ...\n",
       "21514          2002-11-26              4.1  2002\n",
       "21515          2002-11-27              0.0  2002\n",
       "21516          2002-11-28              3.9  2002\n",
       "21517          2002-11-29              7.1  2002\n",
       "21518          2002-11-30              5.0  2002\n",
       "\n",
       "[21519 rows x 3 columns]"
      ]
     },
     "execution_count": 31,
     "metadata": {},
     "output_type": "execute_result"
    }
   ],
   "source": [
    "df_percipitation"
   ]
  },
  {
   "cell_type": "code",
   "execution_count": 32,
   "metadata": {},
   "outputs": [],
   "source": [
    "df_percipitation['Representativt dygn'] = pd.to_datetime(df_percipitation['Representativt dygn'])\n",
    "df_percipitation['Year'] = pd.to_datetime(df_percipitation['Year'], format='%Y')"
   ]
  },
  {
   "cell_type": "code",
   "execution_count": 33,
   "metadata": {},
   "outputs": [
    {
     "data": {
      "text/html": [
       "<div>\n",
       "<style scoped>\n",
       "    .dataframe tbody tr th:only-of-type {\n",
       "        vertical-align: middle;\n",
       "    }\n",
       "\n",
       "    .dataframe tbody tr th {\n",
       "        vertical-align: top;\n",
       "    }\n",
       "\n",
       "    .dataframe thead th {\n",
       "        text-align: right;\n",
       "    }\n",
       "</style>\n",
       "<table border=\"1\" class=\"dataframe\">\n",
       "  <thead>\n",
       "    <tr style=\"text-align: right;\">\n",
       "      <th></th>\n",
       "      <th>Representativt dygn</th>\n",
       "      <th>Nederbördsmängd</th>\n",
       "      <th>Year</th>\n",
       "    </tr>\n",
       "  </thead>\n",
       "  <tbody>\n",
       "    <tr>\n",
       "      <th>0</th>\n",
       "      <td>1944-01-01</td>\n",
       "      <td>0.2</td>\n",
       "      <td>1944-01-01</td>\n",
       "    </tr>\n",
       "    <tr>\n",
       "      <th>1</th>\n",
       "      <td>1944-01-02</td>\n",
       "      <td>0.4</td>\n",
       "      <td>1944-01-01</td>\n",
       "    </tr>\n",
       "    <tr>\n",
       "      <th>2</th>\n",
       "      <td>1944-01-03</td>\n",
       "      <td>0.0</td>\n",
       "      <td>1944-01-01</td>\n",
       "    </tr>\n",
       "    <tr>\n",
       "      <th>3</th>\n",
       "      <td>1944-01-04</td>\n",
       "      <td>0.0</td>\n",
       "      <td>1944-01-01</td>\n",
       "    </tr>\n",
       "    <tr>\n",
       "      <th>4</th>\n",
       "      <td>1944-01-05</td>\n",
       "      <td>2.1</td>\n",
       "      <td>1944-01-01</td>\n",
       "    </tr>\n",
       "    <tr>\n",
       "      <th>...</th>\n",
       "      <td>...</td>\n",
       "      <td>...</td>\n",
       "      <td>...</td>\n",
       "    </tr>\n",
       "    <tr>\n",
       "      <th>21514</th>\n",
       "      <td>2002-11-26</td>\n",
       "      <td>4.1</td>\n",
       "      <td>2002-01-01</td>\n",
       "    </tr>\n",
       "    <tr>\n",
       "      <th>21515</th>\n",
       "      <td>2002-11-27</td>\n",
       "      <td>0.0</td>\n",
       "      <td>2002-01-01</td>\n",
       "    </tr>\n",
       "    <tr>\n",
       "      <th>21516</th>\n",
       "      <td>2002-11-28</td>\n",
       "      <td>3.9</td>\n",
       "      <td>2002-01-01</td>\n",
       "    </tr>\n",
       "    <tr>\n",
       "      <th>21517</th>\n",
       "      <td>2002-11-29</td>\n",
       "      <td>7.1</td>\n",
       "      <td>2002-01-01</td>\n",
       "    </tr>\n",
       "    <tr>\n",
       "      <th>21518</th>\n",
       "      <td>2002-11-30</td>\n",
       "      <td>5.0</td>\n",
       "      <td>2002-01-01</td>\n",
       "    </tr>\n",
       "  </tbody>\n",
       "</table>\n",
       "<p>21519 rows × 3 columns</p>\n",
       "</div>"
      ],
      "text/plain": [
       "      Representativt dygn  Nederbördsmängd       Year\n",
       "0              1944-01-01              0.2 1944-01-01\n",
       "1              1944-01-02              0.4 1944-01-01\n",
       "2              1944-01-03              0.0 1944-01-01\n",
       "3              1944-01-04              0.0 1944-01-01\n",
       "4              1944-01-05              2.1 1944-01-01\n",
       "...                   ...              ...        ...\n",
       "21514          2002-11-26              4.1 2002-01-01\n",
       "21515          2002-11-27              0.0 2002-01-01\n",
       "21516          2002-11-28              3.9 2002-01-01\n",
       "21517          2002-11-29              7.1 2002-01-01\n",
       "21518          2002-11-30              5.0 2002-01-01\n",
       "\n",
       "[21519 rows x 3 columns]"
      ]
     },
     "execution_count": 33,
     "metadata": {},
     "output_type": "execute_result"
    }
   ],
   "source": [
    "df_percipitation"
   ]
  },
  {
   "cell_type": "code",
   "execution_count": 34,
   "metadata": {},
   "outputs": [],
   "source": [
    "years_in_df_percipitation = df_percipitation['Year'].nunique()"
   ]
  },
  {
   "cell_type": "code",
   "execution_count": 35,
   "metadata": {},
   "outputs": [
    {
     "data": {
      "text/plain": [
       "59"
      ]
     },
     "execution_count": 35,
     "metadata": {},
     "output_type": "execute_result"
    }
   ],
   "source": [
    "years_in_df_percipitation"
   ]
  },
  {
   "cell_type": "code",
   "execution_count": 36,
   "metadata": {},
   "outputs": [
    {
     "data": {
      "text/plain": [
       "58"
      ]
     },
     "execution_count": 36,
     "metadata": {},
     "output_type": "execute_result"
    }
   ],
   "source": [
    "2002-1944"
   ]
  },
  {
   "cell_type": "code",
   "execution_count": 37,
   "metadata": {},
   "outputs": [],
   "source": [
    "days_in_df_percipitation = df_percipitation['Representativt dygn'].nunique()"
   ]
  },
  {
   "cell_type": "code",
   "execution_count": 38,
   "metadata": {},
   "outputs": [
    {
     "data": {
      "text/plain": [
       "0"
      ]
     },
     "execution_count": 38,
     "metadata": {},
     "output_type": "execute_result"
    }
   ],
   "source": [
    "# same number ofr days as rows in the dataset. ie. no duplicate days\n",
    "days_in_df_percipitation - num_rows_percipitaion"
   ]
  },
  {
   "cell_type": "code",
   "execution_count": 39,
   "metadata": {},
   "outputs": [],
   "source": [
    "df_percipitation.to_csv('../data/olof_Save_daily_percipitation.csv', index=False, mode='w')"
   ]
  },
  {
   "cell_type": "markdown",
   "metadata": {},
   "source": [
    "Time for the wind"
   ]
  },
  {
   "cell_type": "code",
   "execution_count": 46,
   "metadata": {},
   "outputs": [],
   "source": [
    "df_wind = pd.read_csv('../data/smhi_wind_data_Save.csv', usecols=[0, 1, 2, 3, 4, 5], sep=';', header=7)"
   ]
  },
  {
   "cell_type": "code",
   "execution_count": 47,
   "metadata": {},
   "outputs": [
    {
     "data": {
      "text/plain": [
       "Datum             object\n",
       "Tid (UTC)         object\n",
       "Vindriktning     float64\n",
       "Kvalitet          object\n",
       "Vindhastighet    float64\n",
       "Kvalitet.1        object\n",
       "dtype: object"
      ]
     },
     "execution_count": 47,
     "metadata": {},
     "output_type": "execute_result"
    }
   ],
   "source": [
    "df_wind.dtypes"
   ]
  }
 ],
 "metadata": {
  "kernelspec": {
   "display_name": "agilt_projektarbete",
   "language": "python",
   "name": "python3"
  },
  "language_info": {
   "codemirror_mode": {
    "name": "ipython",
    "version": 3
   },
   "file_extension": ".py",
   "mimetype": "text/x-python",
   "name": "python",
   "nbconvert_exporter": "python",
   "pygments_lexer": "ipython3",
   "version": "3.9.18"
  }
 },
 "nbformat": 4,
 "nbformat_minor": 2
}
