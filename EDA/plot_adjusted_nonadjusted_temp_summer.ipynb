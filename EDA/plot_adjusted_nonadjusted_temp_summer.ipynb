{
 "cells": [
  {
   "cell_type": "code",
   "execution_count": 130,
   "metadata": {},
   "outputs": [],
   "source": [
    "import pandas as pd\n",
    "import matplotlib.pyplot as plt\n",
    "import seaborn as sns\n",
    "from datetime import datetime, timedelta\n",
    "import numpy as np"
   ]
  },
  {
   "cell_type": "code",
   "execution_count": 24,
   "metadata": {},
   "outputs": [],
   "source": [
    "df_adjusted = pd.read_pickle('../Dataframes/daily_temp_gbg_save_adjusted.pkl')"
   ]
  },
  {
   "cell_type": "code",
   "execution_count": 25,
   "metadata": {},
   "outputs": [],
   "source": [
    "df_original = pd.read_pickle('../Dataframes/df_daily_temp.pkl')"
   ]
  },
  {
   "cell_type": "markdown",
   "metadata": {},
   "source": [
    "Get first summer days"
   ]
  },
  {
   "cell_type": "code",
   "execution_count": 26,
   "metadata": {},
   "outputs": [],
   "source": [
    "df_original['Month'] = df_original['Datum'].dt.month\n",
    "df_original['Year'] = df_original['Datum'].dt.year\n",
    "df_original['Day_of_year'] = df_original['Datum'].dt.day_of_year"
   ]
  },
  {
   "cell_type": "code",
   "execution_count": 30,
   "metadata": {},
   "outputs": [],
   "source": [
    "df_original['Over_10_5_days_in_a_row'] = 0"
   ]
  },
  {
   "cell_type": "code",
   "execution_count": null,
   "metadata": {},
   "outputs": [],
   "source": [
    "for i in range(1, len(df_original)):\n",
    "    if df_original['Snittemperatur'].iloc[i] >= 10:\n",
    "        counter += 1\n",
    "    else:\n",
    "        counter = 0\n",
    "        pass\n",
    "    if counter == 5:\n",
    "        df_original['Over_10_5_days_in_a_row'].iloc[i] = 1\n",
    "        counter = 0\n",
    "    else:\n",
    "        pass"
   ]
  },
  {
   "cell_type": "code",
   "execution_count": null,
   "metadata": {},
   "outputs": [],
   "source": [
    "df_original[140:160]"
   ]
  },
  {
   "cell_type": "code",
   "execution_count": 28,
   "metadata": {},
   "outputs": [
    {
     "data": {
      "text/html": [
       "<div>\n",
       "<style scoped>\n",
       "    .dataframe tbody tr th:only-of-type {\n",
       "        vertical-align: middle;\n",
       "    }\n",
       "\n",
       "    .dataframe tbody tr th {\n",
       "        vertical-align: top;\n",
       "    }\n",
       "\n",
       "    .dataframe thead th {\n",
       "        text-align: right;\n",
       "    }\n",
       "</style>\n",
       "<table border=\"1\" class=\"dataframe\">\n",
       "  <thead>\n",
       "    <tr style=\"text-align: right;\">\n",
       "      <th></th>\n",
       "      <th>Datum</th>\n",
       "      <th>Kvalitet</th>\n",
       "      <th>Snittemperatur</th>\n",
       "      <th>Month</th>\n",
       "      <th>Year</th>\n",
       "      <th>Day_of_year</th>\n",
       "      <th>Over_10_5_days_in_a_row</th>\n",
       "    </tr>\n",
       "  </thead>\n",
       "  <tbody>\n",
       "    <tr>\n",
       "      <th>0</th>\n",
       "      <td>1944-01-01</td>\n",
       "      <td>G</td>\n",
       "      <td>3.20</td>\n",
       "      <td>1</td>\n",
       "      <td>1944</td>\n",
       "      <td>1</td>\n",
       "      <td>0</td>\n",
       "    </tr>\n",
       "    <tr>\n",
       "      <th>1</th>\n",
       "      <td>1944-01-02</td>\n",
       "      <td>G</td>\n",
       "      <td>3.60</td>\n",
       "      <td>1</td>\n",
       "      <td>1944</td>\n",
       "      <td>2</td>\n",
       "      <td>0</td>\n",
       "    </tr>\n",
       "    <tr>\n",
       "      <th>2</th>\n",
       "      <td>1944-01-03</td>\n",
       "      <td>G</td>\n",
       "      <td>2.80</td>\n",
       "      <td>1</td>\n",
       "      <td>1944</td>\n",
       "      <td>3</td>\n",
       "      <td>0</td>\n",
       "    </tr>\n",
       "    <tr>\n",
       "      <th>3</th>\n",
       "      <td>1944-01-04</td>\n",
       "      <td>G</td>\n",
       "      <td>-4.47</td>\n",
       "      <td>1</td>\n",
       "      <td>1944</td>\n",
       "      <td>4</td>\n",
       "      <td>0</td>\n",
       "    </tr>\n",
       "    <tr>\n",
       "      <th>4</th>\n",
       "      <td>1944-01-05</td>\n",
       "      <td>G</td>\n",
       "      <td>-1.40</td>\n",
       "      <td>1</td>\n",
       "      <td>1944</td>\n",
       "      <td>5</td>\n",
       "      <td>0</td>\n",
       "    </tr>\n",
       "    <tr>\n",
       "      <th>...</th>\n",
       "      <td>...</td>\n",
       "      <td>...</td>\n",
       "      <td>...</td>\n",
       "      <td>...</td>\n",
       "      <td>...</td>\n",
       "      <td>...</td>\n",
       "      <td>...</td>\n",
       "    </tr>\n",
       "    <tr>\n",
       "      <th>29109</th>\n",
       "      <td>2023-10-12</td>\n",
       "      <td>G</td>\n",
       "      <td>12.78</td>\n",
       "      <td>10</td>\n",
       "      <td>2023</td>\n",
       "      <td>285</td>\n",
       "      <td>0</td>\n",
       "    </tr>\n",
       "    <tr>\n",
       "      <th>29110</th>\n",
       "      <td>2023-10-13</td>\n",
       "      <td>G</td>\n",
       "      <td>12.59</td>\n",
       "      <td>10</td>\n",
       "      <td>2023</td>\n",
       "      <td>286</td>\n",
       "      <td>0</td>\n",
       "    </tr>\n",
       "    <tr>\n",
       "      <th>29111</th>\n",
       "      <td>2023-10-14</td>\n",
       "      <td>G</td>\n",
       "      <td>12.24</td>\n",
       "      <td>10</td>\n",
       "      <td>2023</td>\n",
       "      <td>287</td>\n",
       "      <td>1</td>\n",
       "    </tr>\n",
       "    <tr>\n",
       "      <th>29112</th>\n",
       "      <td>2023-10-15</td>\n",
       "      <td>G</td>\n",
       "      <td>10.79</td>\n",
       "      <td>10</td>\n",
       "      <td>2023</td>\n",
       "      <td>288</td>\n",
       "      <td>0</td>\n",
       "    </tr>\n",
       "    <tr>\n",
       "      <th>29113</th>\n",
       "      <td>2023-10-16</td>\n",
       "      <td>G</td>\n",
       "      <td>4.97</td>\n",
       "      <td>10</td>\n",
       "      <td>2023</td>\n",
       "      <td>289</td>\n",
       "      <td>0</td>\n",
       "    </tr>\n",
       "  </tbody>\n",
       "</table>\n",
       "<p>29114 rows × 7 columns</p>\n",
       "</div>"
      ],
      "text/plain": [
       "           Datum Kvalitet  Snittemperatur  Month  Year  Day_of_year  \\\n",
       "0     1944-01-01        G            3.20      1  1944            1   \n",
       "1     1944-01-02        G            3.60      1  1944            2   \n",
       "2     1944-01-03        G            2.80      1  1944            3   \n",
       "3     1944-01-04        G           -4.47      1  1944            4   \n",
       "4     1944-01-05        G           -1.40      1  1944            5   \n",
       "...          ...      ...             ...    ...   ...          ...   \n",
       "29109 2023-10-12        G           12.78     10  2023          285   \n",
       "29110 2023-10-13        G           12.59     10  2023          286   \n",
       "29111 2023-10-14        G           12.24     10  2023          287   \n",
       "29112 2023-10-15        G           10.79     10  2023          288   \n",
       "29113 2023-10-16        G            4.97     10  2023          289   \n",
       "\n",
       "       Over_10_5_days_in_a_row  \n",
       "0                            0  \n",
       "1                            0  \n",
       "2                            0  \n",
       "3                            0  \n",
       "4                            0  \n",
       "...                        ...  \n",
       "29109                        0  \n",
       "29110                        0  \n",
       "29111                        1  \n",
       "29112                        0  \n",
       "29113                        0  \n",
       "\n",
       "[29114 rows x 7 columns]"
      ]
     },
     "execution_count": 28,
     "metadata": {},
     "output_type": "execute_result"
    }
   ],
   "source": [
    "df_adjusted"
   ]
  },
  {
   "cell_type": "code",
   "execution_count": 40,
   "metadata": {},
   "outputs": [],
   "source": [
    "def first_summer_day_original(year):\n",
    "    for ind, val in df_original[df_original['Year'] == year].iterrows():\n",
    "        if df_original['Over_10_5_days_in_a_row'][ind] == 1:\n",
    "            first_summer_day = df_original['Datum'][ind-4]\n",
    "            return first_summer_day\n",
    "            break\n",
    "        else:\n",
    "            pass\n",
    "    return None"
   ]
  },
  {
   "cell_type": "code",
   "execution_count": 39,
   "metadata": {},
   "outputs": [],
   "source": [
    "def first_summer_day_adjusted(year):\n",
    "    for ind, val in df_adjusted[df_adjusted['Year'] == year].iterrows():\n",
    "        if df_adjusted['Over_10_5_days_in_a_row'][ind] == 1:\n",
    "            first_summer_day = df_adjusted['Datum'][ind-4]\n",
    "            return first_summer_day\n",
    "            break\n",
    "        else:\n",
    "            pass\n",
    "    return None"
   ]
  },
  {
   "cell_type": "code",
   "execution_count": 46,
   "metadata": {},
   "outputs": [],
   "source": [
    "summer_days_original = []\n",
    "for i in range(1944, 2023):\n",
    "    summer = pd.to_datetime(first_summer_day_original(i))\n",
    "    summer_days_original.append(summer)\n",
    "\n",
    "\n",
    "summer_days_adjusted= []\n",
    "for i in range(1944, 2023):\n",
    "    summer = pd.to_datetime(first_summer_day_adjusted(i))\n",
    "    summer_days_adjusted.append(summer)"
   ]
  },
  {
   "cell_type": "code",
   "execution_count": 47,
   "metadata": {},
   "outputs": [
    {
     "data": {
      "text/plain": [
       "79"
      ]
     },
     "execution_count": 47,
     "metadata": {},
     "output_type": "execute_result"
    }
   ],
   "source": [
    "len(summer_days_adjusted)"
   ]
  },
  {
   "cell_type": "code",
   "execution_count": 48,
   "metadata": {},
   "outputs": [
    {
     "data": {
      "text/plain": [
       "79"
      ]
     },
     "execution_count": 48,
     "metadata": {},
     "output_type": "execute_result"
    }
   ],
   "source": [
    "len(summer_days_original)"
   ]
  },
  {
   "cell_type": "code",
   "execution_count": 49,
   "metadata": {},
   "outputs": [],
   "source": [
    "years_original = []\n",
    "\n",
    "for x, i in enumerate(summer_days_original):\n",
    "    string = str(i.year)\n",
    "    years_original.append(string)\n",
    "\n",
    "months_original = []\n",
    "\n",
    "for x, i in enumerate(summer_days_original):\n",
    "    string = str(i.month)\n",
    "    months_original.append(string)\n",
    "\n",
    "days_original = []\n",
    "for x, i in enumerate(summer_days_original):\n",
    "    string = str(i.day)\n",
    "    if len(string) < 2:\n",
    "        string = f'0{string}'\n",
    "    days_original.append(string)"
   ]
  },
  {
   "cell_type": "code",
   "execution_count": 50,
   "metadata": {},
   "outputs": [],
   "source": [
    "years_adjusted = []\n",
    "\n",
    "for x, i in enumerate(summer_days_adjusted):\n",
    "    string = str(i.year)\n",
    "    years_adjusted.append(string)\n",
    "\n",
    "months_adjusted = []\n",
    "\n",
    "for x, i in enumerate(summer_days_adjusted):\n",
    "    string = str(i.month)\n",
    "    months_adjusted.append(string)\n",
    "\n",
    "days_adjusted = []\n",
    "for x, i in enumerate(summer_days_adjusted):\n",
    "    string = str(i.day)\n",
    "    if len(string) < 2:\n",
    "        string = f'0{string}'\n",
    "    days_adjusted.append(string)"
   ]
  },
  {
   "cell_type": "code",
   "execution_count": 68,
   "metadata": {},
   "outputs": [],
   "source": [
    "day_of_year_original = []\n",
    "for i in summer_days_original:\n",
    "    day_of_year_original.append(i.day_of_year)"
   ]
  },
  {
   "cell_type": "code",
   "execution_count": 69,
   "metadata": {},
   "outputs": [],
   "source": [
    "day_of_year_adjusted = []\n",
    "for i in summer_days_adjusted:\n",
    "    day_of_year_adjusted.append(i.day_of_year)"
   ]
  },
  {
   "cell_type": "code",
   "execution_count": 93,
   "metadata": {},
   "outputs": [
    {
     "ename": "TypeError",
     "evalue": "int() argument must be a string, a bytes-like object or a number, not 'list'",
     "output_type": "error",
     "traceback": [
      "\u001b[1;31m---------------------------------------------------------------------------\u001b[0m",
      "\u001b[1;31mTypeError\u001b[0m                                 Traceback (most recent call last)",
      "\u001b[1;32mc:\\Users\\olofs\\OneDrive\\Skrivbord\\DataScientist\\Agilt Projektarbete\\projectwork\\EDA\\plot_adjusted_nonadjusted_temp.ipynb Cell 19\u001b[0m line \u001b[0;36m1\n\u001b[1;32m----> <a href='vscode-notebook-cell:/c%3A/Users/olofs/OneDrive/Skrivbord/DataScientist/Agilt%20Projektarbete/projectwork/EDA/plot_adjusted_nonadjusted_temp.ipynb#X24sZmlsZQ%3D%3D?line=0'>1</a>\u001b[0m df_summer_days_original \u001b[39m=\u001b[39m pd\u001b[39m.\u001b[39mDataFrame({\u001b[39m'\u001b[39m\u001b[39mYear\u001b[39m\u001b[39m'\u001b[39m: \u001b[39mint\u001b[39;49m(years_original), \u001b[39m'\u001b[39m\u001b[39mMonth\u001b[39m\u001b[39m'\u001b[39m: \u001b[39mint\u001b[39m(months_original), \n\u001b[0;32m      <a href='vscode-notebook-cell:/c%3A/Users/olofs/OneDrive/Skrivbord/DataScientist/Agilt%20Projektarbete/projectwork/EDA/plot_adjusted_nonadjusted_temp.ipynb#X24sZmlsZQ%3D%3D?line=1'>2</a>\u001b[0m                                         \u001b[39m'\u001b[39m\u001b[39mDay\u001b[39m\u001b[39m'\u001b[39m: \u001b[39mint\u001b[39m(days_original), \u001b[39m'\u001b[39m\u001b[39mday_of_year\u001b[39m\u001b[39m'\u001b[39m: \u001b[39mint\u001b[39m(day_of_year_original)})\n",
      "\u001b[1;31mTypeError\u001b[0m: int() argument must be a string, a bytes-like object or a number, not 'list'"
     ]
    }
   ],
   "source": [
    "df_summer_days_original = pd.DataFrame({'Year': years_original, 'Month': months_original, \n",
    "                                        'Day': days_original, 'day_of_year': day_of_year_original})"
   ]
  },
  {
   "cell_type": "code",
   "execution_count": 71,
   "metadata": {},
   "outputs": [],
   "source": [
    "df_summer_days_adjusted = pd.DataFrame({'Year': years_adjusted, 'Month': months_adjusted, \n",
    "                                        'Day': days_adjusted, 'day_of_year': day_of_year_adjusted})"
   ]
  },
  {
   "cell_type": "code",
   "execution_count": 102,
   "metadata": {},
   "outputs": [],
   "source": [
    "df_summer_days_original['Year'] = pd.to_numeric(df_summer_days_original['Year'])\n",
    "df_summer_days_original['Month'] = pd.to_numeric(df_summer_days_original['Month'])\n",
    "df_summer_days_original['Day'] = pd.to_numeric(df_summer_days_original['Day'])"
   ]
  },
  {
   "cell_type": "code",
   "execution_count": 104,
   "metadata": {},
   "outputs": [],
   "source": [
    "df_summer_days_adjusted['Year'] = pd.to_numeric(df_summer_days_adjusted['Year'])\n",
    "df_summer_days_adjusted['Month'] = pd.to_numeric(df_summer_days_adjusted['Month'])\n",
    "df_summer_days_adjusted['Day'] = pd.to_numeric(df_summer_days_adjusted['Day'])"
   ]
  },
  {
   "cell_type": "code",
   "execution_count": 103,
   "metadata": {},
   "outputs": [
    {
     "data": {
      "text/plain": [
       "Year           int64\n",
       "Month          int64\n",
       "Day            int64\n",
       "day_of_year    int64\n",
       "dtype: object"
      ]
     },
     "execution_count": 103,
     "metadata": {},
     "output_type": "execute_result"
    }
   ],
   "source": [
    "df_summer_days_original.dtypes"
   ]
  },
  {
   "cell_type": "markdown",
   "metadata": {},
   "source": [
    "Prepare for the plot"
   ]
  },
  {
   "cell_type": "code",
   "execution_count": 83,
   "metadata": {},
   "outputs": [],
   "source": [
    "ticlist = [100, 110, 120, 130, 140, 150, 160]"
   ]
  },
  {
   "cell_type": "code",
   "execution_count": 81,
   "metadata": {},
   "outputs": [
    {
     "data": {
      "text/plain": [
       "datetime.datetime(1944, 4, 9, 0, 0)"
      ]
     },
     "execution_count": 81,
     "metadata": {},
     "output_type": "execute_result"
    }
   ],
   "source": [
    "first_day = datetime(1944, 1, 1)\n",
    "iss = first_day+timedelta(days=99)\n",
    "iss"
   ]
  },
  {
   "cell_type": "code",
   "execution_count": 84,
   "metadata": {},
   "outputs": [],
   "source": [
    "datelist = []\n",
    "for i in ticlist:\n",
    "    datenum = first_day+timedelta(days=i-1)\n",
    "    month = datenum.strftime('%m')\n",
    "    day = datenum.strftime('%d')\n",
    "    datelist.append(f'{month}-{day}')"
   ]
  },
  {
   "cell_type": "code",
   "execution_count": 86,
   "metadata": {},
   "outputs": [
    {
     "data": {
      "text/plain": [
       "['04-09', '04-19', '04-29', '05-09', '05-19', '05-29', '06-08']"
      ]
     },
     "execution_count": 86,
     "metadata": {},
     "output_type": "execute_result"
    }
   ],
   "source": [
    "datelist"
   ]
  },
  {
   "cell_type": "code",
   "execution_count": 111,
   "metadata": {},
   "outputs": [
    {
     "data": {
      "image/png": "[encoded data removed]",
      "text/plain": [
       "<Figure size 640x480 with 1 Axes>"
      ]
     },
     "metadata": {},
     "output_type": "display_data"
    }
   ],
   "source": [
    "plt.figure\n",
    "\n",
    "plt.scatter(x=df_summer_days_original['Year'], y=df_summer_days_original['day_of_year'], c='b')\n",
    "plt.scatter(x=df_summer_days_adjusted['Year'], y=df_summer_days_adjusted['day_of_year'], c='r')\n",
    "plt.axvline(x=2006, c='g', linestyle='--')\n",
    "plt.yticks(ticks=ticlist, labels=datelist)\n",
    "plt.xticks(ticks=[1940, 1950, 1960, 1970, 1980, 1990, 2000, 2010, 2020])\n",
    "plt.show()"
   ]
  },
  {
   "cell_type": "code",
   "execution_count": 122,
   "metadata": {},
   "outputs": [
    {
     "data": {
      "image/png": "[encoded data removed]",
      "text/plain": [
       "<Figure size 640x480 with 1 Axes>"
      ]
     },
     "metadata": {},
     "output_type": "display_data"
    }
   ],
   "source": [
    "plt.figure\n",
    "\n",
    "plt.scatter(x=df_summer_days_original[df_summer_days_original['Year'] > 2005]['Year'], \n",
    "            y=df_summer_days_original[df_summer_days_original['Year'] > 2005]['day_of_year'], c='b')\n",
    "plt.scatter(x=df_summer_days_adjusted[df_summer_days_adjusted['Year'] > 2005]['Year'], \n",
    "            y=df_summer_days_adjusted[df_summer_days_adjusted['Year'] > 2005]['day_of_year'], c='r')\n",
    "# plt.axvline(x=2006, c='g', linestyle='--')\n",
    "plt.yticks(ticks=ticlist, labels=datelist)\n",
    "plt.show()"
   ]
  },
  {
   "cell_type": "code",
   "execution_count": 127,
   "metadata": {},
   "outputs": [],
   "source": [
    "days_original = [i for i in df_summer_days_original[df_summer_days_original['Year'] > 2005]['day_of_year']]"
   ]
  },
  {
   "cell_type": "code",
   "execution_count": 129,
   "metadata": {},
   "outputs": [],
   "source": [
    "days_adjusted = [i for i in df_summer_days_adjusted[df_summer_days_adjusted['Year'] > 2005]['day_of_year']]"
   ]
  },
  {
   "cell_type": "code",
   "execution_count": 153,
   "metadata": {},
   "outputs": [],
   "source": [
    "years_comp = [i for i in df_summer_days_adjusted[df_summer_days_adjusted['Year'] > 2005]['Year']]"
   ]
  },
  {
   "cell_type": "code",
   "execution_count": 136,
   "metadata": {},
   "outputs": [
    {
     "data": {
      "text/plain": [
       "0.8987341772151899"
      ]
     },
     "execution_count": 136,
     "metadata": {},
     "output_type": "execute_result"
    }
   ],
   "source": [
    "x = np.array(day_of_year_original)\n",
    "y = np.array(day_of_year_adjusted)\n",
    "np.mean(np.abs(x - y))"
   ]
  },
  {
   "cell_type": "code",
   "execution_count": 158,
   "metadata": {},
   "outputs": [
    {
     "data": {
      "text/plain": [
       "17"
      ]
     },
     "execution_count": 158,
     "metadata": {},
     "output_type": "execute_result"
    }
   ],
   "source": [
    "len(years_comp)"
   ]
  },
  {
   "cell_type": "code",
   "execution_count": 159,
   "metadata": {},
   "outputs": [],
   "source": [
    "df_comp_org_and_adj_days = pd.DataFrame({'Year': years_comp, 'Original': days_original, 'Adjusted': days_adjusted})"
   ]
  },
  {
   "cell_type": "code",
   "execution_count": 160,
   "metadata": {},
   "outputs": [],
   "source": [
    "df_comp_org_and_adj_days['Diff'] = df_comp_org_and_adj_days['Original'] - df_comp_org_and_adj_days['Adjusted']"
   ]
  },
  {
   "cell_type": "code",
   "execution_count": 161,
   "metadata": {},
   "outputs": [
    {
     "data": {
      "text/plain": [
       "4.176470588235294"
      ]
     },
     "execution_count": 161,
     "metadata": {},
     "output_type": "execute_result"
    }
   ],
   "source": [
    "df_comp_org_and_adj_days['Diff'].mean()"
   ]
  },
  {
   "cell_type": "code",
   "execution_count": 167,
   "metadata": {},
   "outputs": [
    {
     "data": {
      "text/plain": [
       "0.0"
      ]
     },
     "execution_count": 167,
     "metadata": {},
     "output_type": "execute_result"
    }
   ],
   "source": [
    "df_comp_org_and_adj_days['Diff'].median()"
   ]
  },
  {
   "cell_type": "code",
   "execution_count": 166,
   "metadata": {},
   "outputs": [
    {
     "data": {
      "text/html": [
       "<div>\n",
       "<style scoped>\n",
       "    .dataframe tbody tr th:only-of-type {\n",
       "        vertical-align: middle;\n",
       "    }\n",
       "\n",
       "    .dataframe tbody tr th {\n",
       "        vertical-align: top;\n",
       "    }\n",
       "\n",
       "    .dataframe thead th {\n",
       "        text-align: right;\n",
       "    }\n",
       "</style>\n",
       "<table border=\"1\" class=\"dataframe\">\n",
       "  <thead>\n",
       "    <tr style=\"text-align: right;\">\n",
       "      <th></th>\n",
       "      <th>Year</th>\n",
       "      <th>Original</th>\n",
       "      <th>Adjusted</th>\n",
       "      <th>Diff</th>\n",
       "    </tr>\n",
       "  </thead>\n",
       "  <tbody>\n",
       "    <tr>\n",
       "      <th>0</th>\n",
       "      <td>2006</td>\n",
       "      <td>123</td>\n",
       "      <td>123</td>\n",
       "      <td>0</td>\n",
       "    </tr>\n",
       "    <tr>\n",
       "      <th>1</th>\n",
       "      <td>2007</td>\n",
       "      <td>114</td>\n",
       "      <td>101</td>\n",
       "      <td>13</td>\n",
       "    </tr>\n",
       "    <tr>\n",
       "      <th>2</th>\n",
       "      <td>2008</td>\n",
       "      <td>118</td>\n",
       "      <td>115</td>\n",
       "      <td>3</td>\n",
       "    </tr>\n",
       "    <tr>\n",
       "      <th>3</th>\n",
       "      <td>2009</td>\n",
       "      <td>113</td>\n",
       "      <td>100</td>\n",
       "      <td>13</td>\n",
       "    </tr>\n",
       "    <tr>\n",
       "      <th>4</th>\n",
       "      <td>2010</td>\n",
       "      <td>134</td>\n",
       "      <td>134</td>\n",
       "      <td>0</td>\n",
       "    </tr>\n",
       "    <tr>\n",
       "      <th>5</th>\n",
       "      <td>2011</td>\n",
       "      <td>108</td>\n",
       "      <td>107</td>\n",
       "      <td>1</td>\n",
       "    </tr>\n",
       "    <tr>\n",
       "      <th>6</th>\n",
       "      <td>2012</td>\n",
       "      <td>120</td>\n",
       "      <td>120</td>\n",
       "      <td>0</td>\n",
       "    </tr>\n",
       "    <tr>\n",
       "      <th>7</th>\n",
       "      <td>2013</td>\n",
       "      <td>124</td>\n",
       "      <td>124</td>\n",
       "      <td>0</td>\n",
       "    </tr>\n",
       "    <tr>\n",
       "      <th>8</th>\n",
       "      <td>2014</td>\n",
       "      <td>109</td>\n",
       "      <td>109</td>\n",
       "      <td>0</td>\n",
       "    </tr>\n",
       "    <tr>\n",
       "      <th>9</th>\n",
       "      <td>2015</td>\n",
       "      <td>131</td>\n",
       "      <td>109</td>\n",
       "      <td>22</td>\n",
       "    </tr>\n",
       "    <tr>\n",
       "      <th>10</th>\n",
       "      <td>2016</td>\n",
       "      <td>126</td>\n",
       "      <td>123</td>\n",
       "      <td>3</td>\n",
       "    </tr>\n",
       "    <tr>\n",
       "      <th>11</th>\n",
       "      <td>2017</td>\n",
       "      <td>121</td>\n",
       "      <td>121</td>\n",
       "      <td>0</td>\n",
       "    </tr>\n",
       "    <tr>\n",
       "      <th>12</th>\n",
       "      <td>2018</td>\n",
       "      <td>125</td>\n",
       "      <td>124</td>\n",
       "      <td>1</td>\n",
       "    </tr>\n",
       "    <tr>\n",
       "      <th>13</th>\n",
       "      <td>2019</td>\n",
       "      <td>108</td>\n",
       "      <td>93</td>\n",
       "      <td>15</td>\n",
       "    </tr>\n",
       "    <tr>\n",
       "      <th>14</th>\n",
       "      <td>2020</td>\n",
       "      <td>111</td>\n",
       "      <td>111</td>\n",
       "      <td>0</td>\n",
       "    </tr>\n",
       "    <tr>\n",
       "      <th>15</th>\n",
       "      <td>2021</td>\n",
       "      <td>129</td>\n",
       "      <td>129</td>\n",
       "      <td>0</td>\n",
       "    </tr>\n",
       "    <tr>\n",
       "      <th>16</th>\n",
       "      <td>2022</td>\n",
       "      <td>109</td>\n",
       "      <td>109</td>\n",
       "      <td>0</td>\n",
       "    </tr>\n",
       "  </tbody>\n",
       "</table>\n",
       "</div>"
      ],
      "text/plain": [
       "    Year  Original  Adjusted  Diff\n",
       "0   2006       123       123     0\n",
       "1   2007       114       101    13\n",
       "2   2008       118       115     3\n",
       "3   2009       113       100    13\n",
       "4   2010       134       134     0\n",
       "5   2011       108       107     1\n",
       "6   2012       120       120     0\n",
       "7   2013       124       124     0\n",
       "8   2014       109       109     0\n",
       "9   2015       131       109    22\n",
       "10  2016       126       123     3\n",
       "11  2017       121       121     0\n",
       "12  2018       125       124     1\n",
       "13  2019       108        93    15\n",
       "14  2020       111       111     0\n",
       "15  2021       129       129     0\n",
       "16  2022       109       109     0"
      ]
     },
     "execution_count": 166,
     "metadata": {},
     "output_type": "execute_result"
    }
   ],
   "source": [
    "df_comp_org_and_adj_days.sort_values(by='Year')"
   ]
  }
 ],
 "metadata": {
  "kernelspec": {
   "display_name": "agilt_projektarbete",
   "language": "python",
   "name": "python3"
  },
  "language_info": {
   "codemirror_mode": {
    "name": "ipython",
    "version": 3
   },
   "file_extension": ".py",
   "mimetype": "text/x-python",
   "name": "python",
   "nbconvert_exporter": "python",
   "pygments_lexer": "ipython3",
   "version": "3.9.18"
  }
 },
 "nbformat": 4,
 "nbformat_minor": 2
}
