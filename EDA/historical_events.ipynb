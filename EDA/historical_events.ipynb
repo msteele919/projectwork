{
 "cells": [
  {
   "cell_type": "code",
   "execution_count": 197,
   "metadata": {},
   "outputs": [],
   "source": [
    "import pandas as pd \n",
    "import matplotlib.pyplot as plt\n",
    "import seaborn as sns\n",
    "from datetime import datetime, timedelta\n",
    "import numpy as np\n",
    "from scipy import stats\n"
   ]
  },
  {
   "cell_type": "markdown",
   "metadata": {},
   "source": [
    "# Do disasters have an effect on temperature in Säve, Sweden? "
   ]
  },
  {
   "cell_type": "markdown",
   "metadata": {},
   "source": [
    "The events will we look at:\n",
    "- Mount Pinatubo Eurption (1991 (June 9- June 15)) - caused cooling of global temperatures? \n",
    "- Chernobl Disaster (April 26, 1986)\n",
    "- El nino la nina events?  "
   ]
  },
  {
   "cell_type": "markdown",
   "metadata": {},
   "source": [
    "Data "
   ]
  },
  {
   "cell_type": "code",
   "execution_count": 198,
   "metadata": {},
   "outputs": [],
   "source": [
    "df = pd.read_pickle('../Dataframes/daily_temp_gbg_save_adjusted.pkl')"
   ]
  },
  {
   "cell_type": "code",
   "execution_count": 199,
   "metadata": {},
   "outputs": [
    {
     "data": {
      "text/html": [
       "<div>\n",
       "<style scoped>\n",
       "    .dataframe tbody tr th:only-of-type {\n",
       "        vertical-align: middle;\n",
       "    }\n",
       "\n",
       "    .dataframe tbody tr th {\n",
       "        vertical-align: top;\n",
       "    }\n",
       "\n",
       "    .dataframe thead th {\n",
       "        text-align: right;\n",
       "    }\n",
       "</style>\n",
       "<table border=\"1\" class=\"dataframe\">\n",
       "  <thead>\n",
       "    <tr style=\"text-align: right;\">\n",
       "      <th></th>\n",
       "      <th>Datum</th>\n",
       "      <th>Kvalitet</th>\n",
       "      <th>Snittemperatur</th>\n",
       "      <th>Month</th>\n",
       "      <th>Year</th>\n",
       "      <th>Day_of_year</th>\n",
       "      <th>Over_10_5_days_in_a_row</th>\n",
       "    </tr>\n",
       "  </thead>\n",
       "  <tbody>\n",
       "    <tr>\n",
       "      <th>0</th>\n",
       "      <td>1944-01-01</td>\n",
       "      <td>G</td>\n",
       "      <td>3.20</td>\n",
       "      <td>1</td>\n",
       "      <td>1944</td>\n",
       "      <td>1</td>\n",
       "      <td>0</td>\n",
       "    </tr>\n",
       "    <tr>\n",
       "      <th>1</th>\n",
       "      <td>1944-01-02</td>\n",
       "      <td>G</td>\n",
       "      <td>3.60</td>\n",
       "      <td>1</td>\n",
       "      <td>1944</td>\n",
       "      <td>2</td>\n",
       "      <td>0</td>\n",
       "    </tr>\n",
       "    <tr>\n",
       "      <th>2</th>\n",
       "      <td>1944-01-03</td>\n",
       "      <td>G</td>\n",
       "      <td>2.80</td>\n",
       "      <td>1</td>\n",
       "      <td>1944</td>\n",
       "      <td>3</td>\n",
       "      <td>0</td>\n",
       "    </tr>\n",
       "    <tr>\n",
       "      <th>3</th>\n",
       "      <td>1944-01-04</td>\n",
       "      <td>G</td>\n",
       "      <td>-4.47</td>\n",
       "      <td>1</td>\n",
       "      <td>1944</td>\n",
       "      <td>4</td>\n",
       "      <td>0</td>\n",
       "    </tr>\n",
       "    <tr>\n",
       "      <th>4</th>\n",
       "      <td>1944-01-05</td>\n",
       "      <td>G</td>\n",
       "      <td>-1.40</td>\n",
       "      <td>1</td>\n",
       "      <td>1944</td>\n",
       "      <td>5</td>\n",
       "      <td>0</td>\n",
       "    </tr>\n",
       "    <tr>\n",
       "      <th>...</th>\n",
       "      <td>...</td>\n",
       "      <td>...</td>\n",
       "      <td>...</td>\n",
       "      <td>...</td>\n",
       "      <td>...</td>\n",
       "      <td>...</td>\n",
       "      <td>...</td>\n",
       "    </tr>\n",
       "    <tr>\n",
       "      <th>29109</th>\n",
       "      <td>2023-10-12</td>\n",
       "      <td>G</td>\n",
       "      <td>12.78</td>\n",
       "      <td>10</td>\n",
       "      <td>2023</td>\n",
       "      <td>285</td>\n",
       "      <td>0</td>\n",
       "    </tr>\n",
       "    <tr>\n",
       "      <th>29110</th>\n",
       "      <td>2023-10-13</td>\n",
       "      <td>G</td>\n",
       "      <td>12.59</td>\n",
       "      <td>10</td>\n",
       "      <td>2023</td>\n",
       "      <td>286</td>\n",
       "      <td>0</td>\n",
       "    </tr>\n",
       "    <tr>\n",
       "      <th>29111</th>\n",
       "      <td>2023-10-14</td>\n",
       "      <td>G</td>\n",
       "      <td>12.24</td>\n",
       "      <td>10</td>\n",
       "      <td>2023</td>\n",
       "      <td>287</td>\n",
       "      <td>1</td>\n",
       "    </tr>\n",
       "    <tr>\n",
       "      <th>29112</th>\n",
       "      <td>2023-10-15</td>\n",
       "      <td>G</td>\n",
       "      <td>10.79</td>\n",
       "      <td>10</td>\n",
       "      <td>2023</td>\n",
       "      <td>288</td>\n",
       "      <td>0</td>\n",
       "    </tr>\n",
       "    <tr>\n",
       "      <th>29113</th>\n",
       "      <td>2023-10-16</td>\n",
       "      <td>G</td>\n",
       "      <td>4.97</td>\n",
       "      <td>10</td>\n",
       "      <td>2023</td>\n",
       "      <td>289</td>\n",
       "      <td>0</td>\n",
       "    </tr>\n",
       "  </tbody>\n",
       "</table>\n",
       "<p>29114 rows × 7 columns</p>\n",
       "</div>"
      ],
      "text/plain": [
       "           Datum Kvalitet  Snittemperatur  Month  Year  Day_of_year  \\\n",
       "0     1944-01-01        G            3.20      1  1944            1   \n",
       "1     1944-01-02        G            3.60      1  1944            2   \n",
       "2     1944-01-03        G            2.80      1  1944            3   \n",
       "3     1944-01-04        G           -4.47      1  1944            4   \n",
       "4     1944-01-05        G           -1.40      1  1944            5   \n",
       "...          ...      ...             ...    ...   ...          ...   \n",
       "29109 2023-10-12        G           12.78     10  2023          285   \n",
       "29110 2023-10-13        G           12.59     10  2023          286   \n",
       "29111 2023-10-14        G           12.24     10  2023          287   \n",
       "29112 2023-10-15        G           10.79     10  2023          288   \n",
       "29113 2023-10-16        G            4.97     10  2023          289   \n",
       "\n",
       "       Over_10_5_days_in_a_row  \n",
       "0                            0  \n",
       "1                            0  \n",
       "2                            0  \n",
       "3                            0  \n",
       "4                            0  \n",
       "...                        ...  \n",
       "29109                        0  \n",
       "29110                        0  \n",
       "29111                        1  \n",
       "29112                        0  \n",
       "29113                        0  \n",
       "\n",
       "[29114 rows x 7 columns]"
      ]
     },
     "execution_count": 199,
     "metadata": {},
     "output_type": "execute_result"
    }
   ],
   "source": [
    "df"
   ]
  },
  {
   "cell_type": "markdown",
   "metadata": {},
   "source": [
    "## Mount Pinatubo Eruption ( June 9- June 15th, 1991)"
   ]
  },
  {
   "cell_type": "markdown",
   "metadata": {},
   "source": [
    "### Null Hypothesis: The temperatures in Säve, Sweden a week after the Mount Pinatubo Eruption were not statistically different than X. (or possibly, the variance for that week was not greater than Z)\n",
    "\n",
    "### Alternative Hypothesis: The temperatures in Säve, Sweden a week after the Mount Pinatubo Eruption were statistically different than X. (or possibly, the variance for that week was greater than Z)"
   ]
  },
  {
   "cell_type": "markdown",
   "metadata": {},
   "source": [
    "Data preprocessing "
   ]
  },
  {
   "cell_type": "code",
   "execution_count": 200,
   "metadata": {},
   "outputs": [],
   "source": [
    "# Data form ? Do we want weeks, months? or just days? \n"
   ]
  },
  {
   "cell_type": "code",
   "execution_count": 201,
   "metadata": {},
   "outputs": [
    {
     "name": "stdout",
     "output_type": "stream",
     "text": [
      "Index([2013, 2023], dtype='int32', name='Year')\n"
     ]
    }
   ],
   "source": [
    "# check for missing values\n",
    "yearly_day_counts = df.groupby('Year')['Day_of_year'].nunique()\n",
    "\n",
    "years_with_less_than_365 = yearly_day_counts[yearly_day_counts < 365]\n",
    "\n",
    "print( years_with_less_than_365.index)"
   ]
  },
  {
   "cell_type": "code",
   "execution_count": 202,
   "metadata": {},
   "outputs": [
    {
     "data": {
      "text/plain": [
       "335"
      ]
     },
     "execution_count": 202,
     "metadata": {},
     "output_type": "execute_result"
    }
   ],
   "source": [
    "# impute average temps for missing 2013 data \n",
    "count_2013 = yearly_day_counts.get(2013, \"Year not found\")\n",
    "count_2013"
   ]
  },
  {
   "cell_type": "code",
   "execution_count": 203,
   "metadata": {},
   "outputs": [],
   "source": [
    "# Filter the DataFrame for the year 2013\n",
    "data_2013 = df[df['Year'] == 2013]\n",
    "\n"
   ]
  },
  {
   "cell_type": "code",
   "execution_count": 204,
   "metadata": {},
   "outputs": [
    {
     "data": {
      "text/plain": [
       "Year  Month\n",
       "2013  2        28\n",
       "      12        1\n",
       "Name: Day_of_year, dtype: int64"
      ]
     },
     "execution_count": 204,
     "metadata": {},
     "output_type": "execute_result"
    }
   ],
   "source": [
    "monthly_day_counts_2013 = data_2013.groupby(['Year', 'Month'])['Day_of_year'].nunique()\n",
    "\n",
    "# Find and print the months with fewer than 30 unique days\n",
    "months_under_30 = monthly_day_counts_2013[monthly_day_counts_2013 < 30]\n",
    "months_under_30"
   ]
  },
  {
   "cell_type": "code",
   "execution_count": 205,
   "metadata": {},
   "outputs": [],
   "source": [
    "# Filter the DataFrame for the year 2013 and the specific date range\n",
    "data_2013 = df[(df['Year'] == 2013) & (df['Datum'] >= '2013-12-02') & (df['Datum'] <= '2013-12-31')]\n",
    "\n",
    "# Calculate the mean temperature for the entire dataset\n",
    "imputed_data = pd.DataFrame(columns=['Datum', 'Snittemperatur'])\n",
    "\n",
    "data_before_2013 = df[df['Year'] < 2013]\n",
    "\n",
    "# Loop through the missing dates in December 2013\n",
    "for date in pd.date_range(start='2013-12-02', end='2013-12-31'):\n",
    "    # Calculate the mean temperature for the respective day in history\n",
    "    mean_temperature = data_before_2013[data_before_2013['Datum'].dt.strftime('%m-%d') == date.strftime('%m-%d')]['Snittemperatur'].mean()\n",
    "    imputed_data = pd.concat([imputed_data, pd.DataFrame({'Datum': [date], 'Snittemperatur': [mean_temperature]})], ignore_index=True)\n",
    "\n",
    "\n",
    "\n"
   ]
  },
  {
   "cell_type": "code",
   "execution_count": null,
   "metadata": {},
   "outputs": [],
   "source": []
  },
  {
   "cell_type": "code",
   "execution_count": 206,
   "metadata": {},
   "outputs": [
    {
     "data": {
      "text/html": [
       "<div>\n",
       "<style scoped>\n",
       "    .dataframe tbody tr th:only-of-type {\n",
       "        vertical-align: middle;\n",
       "    }\n",
       "\n",
       "    .dataframe tbody tr th {\n",
       "        vertical-align: top;\n",
       "    }\n",
       "\n",
       "    .dataframe thead th {\n",
       "        text-align: right;\n",
       "    }\n",
       "</style>\n",
       "<table border=\"1\" class=\"dataframe\">\n",
       "  <thead>\n",
       "    <tr style=\"text-align: right;\">\n",
       "      <th></th>\n",
       "      <th>Kvalitet</th>\n",
       "      <th>Snittemperatur</th>\n",
       "      <th>Month</th>\n",
       "      <th>Year</th>\n",
       "      <th>Day_of_year</th>\n",
       "      <th>Over_10_5_days_in_a_row</th>\n",
       "    </tr>\n",
       "    <tr>\n",
       "      <th>Datum</th>\n",
       "      <th></th>\n",
       "      <th></th>\n",
       "      <th></th>\n",
       "      <th></th>\n",
       "      <th></th>\n",
       "      <th></th>\n",
       "    </tr>\n",
       "  </thead>\n",
       "  <tbody>\n",
       "    <tr>\n",
       "      <th>1944-01-01</th>\n",
       "      <td>G</td>\n",
       "      <td>3.20</td>\n",
       "      <td>1</td>\n",
       "      <td>1944</td>\n",
       "      <td>1</td>\n",
       "      <td>0</td>\n",
       "    </tr>\n",
       "    <tr>\n",
       "      <th>1944-01-02</th>\n",
       "      <td>G</td>\n",
       "      <td>3.60</td>\n",
       "      <td>1</td>\n",
       "      <td>1944</td>\n",
       "      <td>2</td>\n",
       "      <td>0</td>\n",
       "    </tr>\n",
       "    <tr>\n",
       "      <th>1944-01-03</th>\n",
       "      <td>G</td>\n",
       "      <td>2.80</td>\n",
       "      <td>1</td>\n",
       "      <td>1944</td>\n",
       "      <td>3</td>\n",
       "      <td>0</td>\n",
       "    </tr>\n",
       "    <tr>\n",
       "      <th>1944-01-04</th>\n",
       "      <td>G</td>\n",
       "      <td>-4.47</td>\n",
       "      <td>1</td>\n",
       "      <td>1944</td>\n",
       "      <td>4</td>\n",
       "      <td>0</td>\n",
       "    </tr>\n",
       "    <tr>\n",
       "      <th>1944-01-05</th>\n",
       "      <td>G</td>\n",
       "      <td>-1.40</td>\n",
       "      <td>1</td>\n",
       "      <td>1944</td>\n",
       "      <td>5</td>\n",
       "      <td>0</td>\n",
       "    </tr>\n",
       "    <tr>\n",
       "      <th>...</th>\n",
       "      <td>...</td>\n",
       "      <td>...</td>\n",
       "      <td>...</td>\n",
       "      <td>...</td>\n",
       "      <td>...</td>\n",
       "      <td>...</td>\n",
       "    </tr>\n",
       "    <tr>\n",
       "      <th>2023-10-12</th>\n",
       "      <td>G</td>\n",
       "      <td>12.78</td>\n",
       "      <td>10</td>\n",
       "      <td>2023</td>\n",
       "      <td>285</td>\n",
       "      <td>0</td>\n",
       "    </tr>\n",
       "    <tr>\n",
       "      <th>2023-10-13</th>\n",
       "      <td>G</td>\n",
       "      <td>12.59</td>\n",
       "      <td>10</td>\n",
       "      <td>2023</td>\n",
       "      <td>286</td>\n",
       "      <td>0</td>\n",
       "    </tr>\n",
       "    <tr>\n",
       "      <th>2023-10-14</th>\n",
       "      <td>G</td>\n",
       "      <td>12.24</td>\n",
       "      <td>10</td>\n",
       "      <td>2023</td>\n",
       "      <td>287</td>\n",
       "      <td>1</td>\n",
       "    </tr>\n",
       "    <tr>\n",
       "      <th>2023-10-15</th>\n",
       "      <td>G</td>\n",
       "      <td>10.79</td>\n",
       "      <td>10</td>\n",
       "      <td>2023</td>\n",
       "      <td>288</td>\n",
       "      <td>0</td>\n",
       "    </tr>\n",
       "    <tr>\n",
       "      <th>2023-10-16</th>\n",
       "      <td>G</td>\n",
       "      <td>4.97</td>\n",
       "      <td>10</td>\n",
       "      <td>2023</td>\n",
       "      <td>289</td>\n",
       "      <td>0</td>\n",
       "    </tr>\n",
       "  </tbody>\n",
       "</table>\n",
       "<p>29114 rows × 6 columns</p>\n",
       "</div>"
      ],
      "text/plain": [
       "           Kvalitet  Snittemperatur  Month  Year  Day_of_year  \\\n",
       "Datum                                                           \n",
       "1944-01-01        G            3.20      1  1944            1   \n",
       "1944-01-02        G            3.60      1  1944            2   \n",
       "1944-01-03        G            2.80      1  1944            3   \n",
       "1944-01-04        G           -4.47      1  1944            4   \n",
       "1944-01-05        G           -1.40      1  1944            5   \n",
       "...             ...             ...    ...   ...          ...   \n",
       "2023-10-12        G           12.78     10  2023          285   \n",
       "2023-10-13        G           12.59     10  2023          286   \n",
       "2023-10-14        G           12.24     10  2023          287   \n",
       "2023-10-15        G           10.79     10  2023          288   \n",
       "2023-10-16        G            4.97     10  2023          289   \n",
       "\n",
       "            Over_10_5_days_in_a_row  \n",
       "Datum                                \n",
       "1944-01-01                        0  \n",
       "1944-01-02                        0  \n",
       "1944-01-03                        0  \n",
       "1944-01-04                        0  \n",
       "1944-01-05                        0  \n",
       "...                             ...  \n",
       "2023-10-12                        0  \n",
       "2023-10-13                        0  \n",
       "2023-10-14                        1  \n",
       "2023-10-15                        0  \n",
       "2023-10-16                        0  \n",
       "\n",
       "[29114 rows x 6 columns]"
      ]
     },
     "execution_count": 206,
     "metadata": {},
     "output_type": "execute_result"
    }
   ],
   "source": [
    "df = df.set_index('Datum')\n",
    "imputed_data = imputed_data.set_index('Datum')\n",
    "\n",
    "imputed_data \n",
    "df\n"
   ]
  },
  {
   "cell_type": "code",
   "execution_count": 207,
   "metadata": {},
   "outputs": [],
   "source": [
    "df = pd.concat([df, imputed_data], axis=0)\n",
    "df = df.sort_values(by='Datum', ascending=True)\n"
   ]
  },
  {
   "cell_type": "code",
   "execution_count": 208,
   "metadata": {},
   "outputs": [
    {
     "data": {
      "text/html": [
       "<div>\n",
       "<style scoped>\n",
       "    .dataframe tbody tr th:only-of-type {\n",
       "        vertical-align: middle;\n",
       "    }\n",
       "\n",
       "    .dataframe tbody tr th {\n",
       "        vertical-align: top;\n",
       "    }\n",
       "\n",
       "    .dataframe thead th {\n",
       "        text-align: right;\n",
       "    }\n",
       "</style>\n",
       "<table border=\"1\" class=\"dataframe\">\n",
       "  <thead>\n",
       "    <tr style=\"text-align: right;\">\n",
       "      <th></th>\n",
       "      <th>Snittemperatur</th>\n",
       "      <th>Month</th>\n",
       "      <th>Year</th>\n",
       "      <th>Day_of_year</th>\n",
       "    </tr>\n",
       "    <tr>\n",
       "      <th>Datum</th>\n",
       "      <th></th>\n",
       "      <th></th>\n",
       "      <th></th>\n",
       "      <th></th>\n",
       "    </tr>\n",
       "  </thead>\n",
       "  <tbody>\n",
       "    <tr>\n",
       "      <th>1944-01-01</th>\n",
       "      <td>3.20</td>\n",
       "      <td>1.0</td>\n",
       "      <td>1944.0</td>\n",
       "      <td>1.0</td>\n",
       "    </tr>\n",
       "    <tr>\n",
       "      <th>1944-01-02</th>\n",
       "      <td>3.60</td>\n",
       "      <td>1.0</td>\n",
       "      <td>1944.0</td>\n",
       "      <td>2.0</td>\n",
       "    </tr>\n",
       "    <tr>\n",
       "      <th>1944-01-03</th>\n",
       "      <td>2.80</td>\n",
       "      <td>1.0</td>\n",
       "      <td>1944.0</td>\n",
       "      <td>3.0</td>\n",
       "    </tr>\n",
       "    <tr>\n",
       "      <th>1944-01-04</th>\n",
       "      <td>-4.47</td>\n",
       "      <td>1.0</td>\n",
       "      <td>1944.0</td>\n",
       "      <td>4.0</td>\n",
       "    </tr>\n",
       "    <tr>\n",
       "      <th>1944-01-05</th>\n",
       "      <td>-1.40</td>\n",
       "      <td>1.0</td>\n",
       "      <td>1944.0</td>\n",
       "      <td>5.0</td>\n",
       "    </tr>\n",
       "    <tr>\n",
       "      <th>...</th>\n",
       "      <td>...</td>\n",
       "      <td>...</td>\n",
       "      <td>...</td>\n",
       "      <td>...</td>\n",
       "    </tr>\n",
       "    <tr>\n",
       "      <th>2023-10-12</th>\n",
       "      <td>12.78</td>\n",
       "      <td>10.0</td>\n",
       "      <td>2023.0</td>\n",
       "      <td>285.0</td>\n",
       "    </tr>\n",
       "    <tr>\n",
       "      <th>2023-10-13</th>\n",
       "      <td>12.59</td>\n",
       "      <td>10.0</td>\n",
       "      <td>2023.0</td>\n",
       "      <td>286.0</td>\n",
       "    </tr>\n",
       "    <tr>\n",
       "      <th>2023-10-14</th>\n",
       "      <td>12.24</td>\n",
       "      <td>10.0</td>\n",
       "      <td>2023.0</td>\n",
       "      <td>287.0</td>\n",
       "    </tr>\n",
       "    <tr>\n",
       "      <th>2023-10-15</th>\n",
       "      <td>10.79</td>\n",
       "      <td>10.0</td>\n",
       "      <td>2023.0</td>\n",
       "      <td>288.0</td>\n",
       "    </tr>\n",
       "    <tr>\n",
       "      <th>2023-10-16</th>\n",
       "      <td>4.97</td>\n",
       "      <td>10.0</td>\n",
       "      <td>2023.0</td>\n",
       "      <td>289.0</td>\n",
       "    </tr>\n",
       "  </tbody>\n",
       "</table>\n",
       "<p>29144 rows × 4 columns</p>\n",
       "</div>"
      ],
      "text/plain": [
       "            Snittemperatur  Month    Year  Day_of_year\n",
       "Datum                                                 \n",
       "1944-01-01            3.20    1.0  1944.0          1.0\n",
       "1944-01-02            3.60    1.0  1944.0          2.0\n",
       "1944-01-03            2.80    1.0  1944.0          3.0\n",
       "1944-01-04           -4.47    1.0  1944.0          4.0\n",
       "1944-01-05           -1.40    1.0  1944.0          5.0\n",
       "...                    ...    ...     ...          ...\n",
       "2023-10-12           12.78   10.0  2023.0        285.0\n",
       "2023-10-13           12.59   10.0  2023.0        286.0\n",
       "2023-10-14           12.24   10.0  2023.0        287.0\n",
       "2023-10-15           10.79   10.0  2023.0        288.0\n",
       "2023-10-16            4.97   10.0  2023.0        289.0\n",
       "\n",
       "[29144 rows x 4 columns]"
      ]
     },
     "execution_count": 208,
     "metadata": {},
     "output_type": "execute_result"
    }
   ],
   "source": [
    "df.drop(columns=['Kvalitet', 'Over_10_5_days_in_a_row'])"
   ]
  },
  {
   "cell_type": "markdown",
   "metadata": {},
   "source": [
    "Summary Statistics:\n",
    "\n",
    "- in order to perform a t-test on the data. the data must meet some assumptions: \n",
    "  - Normal Distributed"
   ]
  },
  {
   "cell_type": "code",
   "execution_count": null,
   "metadata": {},
   "outputs": [],
   "source": [
    "# Summary statistics\n"
   ]
  },
  {
   "cell_type": "code",
   "execution_count": 211,
   "metadata": {},
   "outputs": [
    {
     "data": {
      "text/plain": [
       "Text(0, 0.5, 'Frequency')"
      ]
     },
     "execution_count": 211,
     "metadata": {},
     "output_type": "execute_result"
    },
    {
     "data": {
      "image/png": "[encoded data removed]",
      "text/plain": [
       "<Figure size 640x480 with 1 Axes>"
      ]
     },
     "metadata": {},
     "output_type": "display_data"
    }
   ],
   "source": [
    "## is the data normally distributed? \n",
    "plt.hist(df['Snittemperatur'], bins = 20,color='blue', edgecolor='black' )\n",
    "plt.title('Daglig Snittemperatur Distribution')\n",
    "plt.xlabel('Daglig Snittemperatur °C')\n",
    "plt.ylabel('Frequency')\n",
    "\n"
   ]
  },
  {
   "cell_type": "code",
   "execution_count": 213,
   "metadata": {},
   "outputs": [
    {
     "data": {
      "image/png": "[encoded data removed]",
      "text/plain": [
       "<Figure size 640x480 with 1 Axes>"
      ]
     },
     "metadata": {},
     "output_type": "display_data"
    }
   ],
   "source": [
    "## chart \n",
    "filtered_data = df['1991-04-01':'1991-09-30']\n",
    "\n",
    "\n",
    "plt.scatter(filtered_data.index, filtered_data['Snittemperatur'], s=10, color='blue', alpha=0.5)\n",
    "\n",
    "# plt.axvline(x='1991-06-09', color='red', linestyle='--', label='Eruption Date (1991-06-09)')\n",
    "eruption_data = df['1991-06-09':'1991-06-15']\n",
    "\n",
    "plt.scatter(eruption_data.index, eruption_data['Snittemperatur'], s=10, color='red', alpha=0.5, label='Eruption Dates')\n",
    "\n",
    "\n",
    "plt.title('Temperature Data around Mount Pinatubo Eruption (1991)')\n",
    "plt.xlabel('Date')\n",
    "plt.ylabel('Temperature')\n",
    "plt.grid(True)\n",
    "plt.legend()\n",
    "plt.show()"
   ]
  },
  {
   "cell_type": "markdown",
   "metadata": {},
   "source": [
    "Statistical test"
   ]
  },
  {
   "cell_type": "code",
   "execution_count": null,
   "metadata": {},
   "outputs": [],
   "source": [
    "# \n",
    "data_before = [...]\n",
    "data_after = [...]\n",
    "\n",
    "# Perform a two-sample t-test\n",
    "t_stat, p_value = stats.ttest_ind(data_before, data_after)\n",
    "\n",
    "if p_value < 0.05:  # You can adjust the significance level (alpha) as needed\n",
    "    print(\"The Mount Pinatubo eruption had a statistically significant effect on the weather.\")\n",
    "else:\n",
    "    print(\"There is no statistically significant effect of the eruption on the weather.\")"
   ]
  }
 ],
 "metadata": {
  "kernelspec": {
   "display_name": "sko",
   "language": "python",
   "name": "python3"
  },
  "language_info": {
   "codemirror_mode": {
    "name": "ipython",
    "version": 3
   },
   "file_extension": ".py",
   "mimetype": "text/x-python",
   "name": "python",
   "nbconvert_exporter": "python",
   "pygments_lexer": "ipython3",
   "version": "3.10.11"
  }
 },
 "nbformat": 4,
 "nbformat_minor": 2
}
