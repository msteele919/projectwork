{
 "cells": [
  {
   "cell_type": "code",
   "execution_count": 1,
   "metadata": {},
   "outputs": [],
   "source": [
    "import pandas as pd\n",
    "import matplotlib.pyplot as plt\n",
    "import seaborn as sns\n",
    "from datetime import datetime, timedelta\n",
    "import numpy as np"
   ]
  },
  {
   "cell_type": "code",
   "execution_count": 2,
   "metadata": {},
   "outputs": [],
   "source": [
    "df_adjusted = pd.read_pickle('../Dataframes/daily_temp_gbg_save_adjusted.pkl')\n",
    "df_original = pd.read_pickle('../Dataframes/df_daily_temp.pkl')"
   ]
  },
  {
   "cell_type": "code",
   "execution_count": 3,
   "metadata": {},
   "outputs": [],
   "source": [
    "df_original['Month'] = df_original['Datum'].dt.month\n",
    "df_original['Year'] = df_original['Datum'].dt.year\n",
    "df_original['Day_of_year'] = df_original['Datum'].dt.day_of_year"
   ]
  },
  {
   "cell_type": "code",
   "execution_count": 4,
   "metadata": {},
   "outputs": [],
   "source": [
    "df_adjusted['Month'] = df_adjusted['Datum'].dt.month\n",
    "df_adjusted['Year'] = df_adjusted['Datum'].dt.year\n",
    "df_adjusted['Day_of_year'] = df_adjusted['Datum'].dt.day_of_year"
   ]
  },
  {
   "cell_type": "code",
   "execution_count": 5,
   "metadata": {},
   "outputs": [],
   "source": [
    "df_original['Under_0_5_days_in_a_row'] = 0\n",
    "df_adjusted['Under_0_5_days_in_a_row'] = 0"
   ]
  },
  {
   "cell_type": "code",
   "execution_count": null,
   "metadata": {},
   "outputs": [],
   "source": [
    "# Set the 'Under_0_5_days_in_a_row' column to show if temp has met that condition\n",
    "\n",
    "for i in range(1, len(df_original)):\n",
    "    if df_original['Snittemperatur'].iloc[i] <= 0:\n",
    "        counter += 1\n",
    "    else:\n",
    "        counter = 0\n",
    "        pass\n",
    "    if counter == 5:\n",
    "        df_original['Under_0_5_days_in_a_row'].iloc[i] = 1\n",
    "        counter = 0\n",
    "    else:\n",
    "        pass\n",
    "\n",
    "for i in range(1, len(df_adjusted)):\n",
    "    if df_adjusted['Snittemperatur'].iloc[i] <= 0:\n",
    "        counter += 1\n",
    "    else:\n",
    "        counter = 0\n",
    "        pass\n",
    "    if counter == 5:\n",
    "        df_adjusted['Under_0_5_days_in_a_row'].iloc[i] = 1\n",
    "        counter = 0\n",
    "    else:\n",
    "        pass"
   ]
  },
  {
   "cell_type": "code",
   "execution_count": 7,
   "metadata": {},
   "outputs": [],
   "source": [
    "# Functions to extract the first winter day per year(season)\n",
    "# Set to only look at dates after June. Otherwise temps from previous year might show up\n",
    "# Years with no winter during the latter half will be marked as 15th sept.\n",
    "# No actuatl winter days occured this early, and it will help making the graph look better.\n",
    "\n",
    "def first_winter_day_original(year):\n",
    "    for ind, val in df_original[(df_original['Year'] == year) & (df_original['Datum'].dt.month > 6) ].iterrows():\n",
    "        if df_original['Under_0_5_days_in_a_row'][ind] == 1:\n",
    "            first_summer_day = df_original['Datum'][ind-4]\n",
    "            return first_summer_day\n",
    "            break\n",
    "        else:\n",
    "            pass\n",
    "    return None\n",
    "\n",
    "\n",
    "def first_winter_day_adjusted(year):\n",
    "    for ind, val in df_adjusted[(df_adjusted['Year'] == year) & (df_adjusted['Datum'].dt.month > 6) ].iterrows():\n",
    "        if df_adjusted['Under_0_5_days_in_a_row'][ind] == 1:\n",
    "            first_summer_day = df_adjusted['Datum'][ind-4]\n",
    "            return first_summer_day\n",
    "            break\n",
    "        else:\n",
    "            pass\n",
    "    return None\n"
   ]
  },
  {
   "cell_type": "code",
   "execution_count": 8,
   "metadata": {},
   "outputs": [],
   "source": [
    "# Create list of all results of the functions\n",
    "\n",
    "winter_days_list_original = []\n",
    "for i in range(1944, 2023):\n",
    "    winter = first_winter_day_original(i)\n",
    "    if winter == None:\n",
    "        year = i\n",
    "        month = 9\n",
    "        day = 15\n",
    "        date_str = f'{str(year)}-{str(month)}-{str(day)}'\n",
    "        winter = pd.to_datetime(date_str)\n",
    "    else:\n",
    "        pass\n",
    "    winter_days_list_original.append(winter)\n",
    "\n",
    "\n",
    "winter_days_list_adjusted = []\n",
    "for i in range(1944, 2023):\n",
    "    winter = first_winter_day_adjusted(i)\n",
    "    if winter == None:\n",
    "        year = i\n",
    "        month = 9\n",
    "        day = 15\n",
    "        date_str = f'{str(year)}-{str(month)}-{str(day)}'\n",
    "        winter = pd.to_datetime(date_str)\n",
    "    else:\n",
    "        pass\n",
    "    winter_days_list_adjusted.append(winter)"
   ]
  },
  {
   "cell_type": "code",
   "execution_count": 9,
   "metadata": {},
   "outputs": [],
   "source": [
    "# Prepare for dataframe\n",
    "\n",
    "years_original = []\n",
    "\n",
    "for x, i in enumerate(winter_days_list_original):\n",
    "    string = str(i.year)\n",
    "    years_original.append(string)\n",
    "\n",
    "months_original = []\n",
    "\n",
    "for x, i in enumerate(winter_days_list_original):\n",
    "    string = str(i.month)\n",
    "    months_original.append(string)\n",
    "\n",
    "days_original = []\n",
    "for x, i in enumerate(winter_days_list_original):\n",
    "    string = str(i.day)\n",
    "    if len(string) < 2:\n",
    "        string = f'0{string}'\n",
    "    days_original.append(string)\n",
    "\n",
    "\n",
    "\n",
    "years_adjusted = []\n",
    "\n",
    "for x, i in enumerate(winter_days_list_adjusted):\n",
    "    string = str(i.year)\n",
    "    years_adjusted.append(string)\n",
    "\n",
    "months_adjusted = []\n",
    "\n",
    "for x, i in enumerate(winter_days_list_adjusted):\n",
    "    string = str(i.month)\n",
    "    months_adjusted.append(string)\n",
    "\n",
    "days_adjusted = []\n",
    "for x, i in enumerate(winter_days_list_adjusted):\n",
    "    string = str(i.day)\n",
    "    if len(string) < 2:\n",
    "        string = f'0{string}'\n",
    "    days_adjusted.append(string)\n"
   ]
  },
  {
   "cell_type": "code",
   "execution_count": 10,
   "metadata": {},
   "outputs": [],
   "source": [
    "day_of_year_original = []\n",
    "for i in winter_days_list_original:\n",
    "    day_of_year_original.append(i.day_of_year)\n",
    "\n",
    "day_of_year_adjusted = []\n",
    "for i in winter_days_list_adjusted:\n",
    "    day_of_year_adjusted.append(i.day_of_year)"
   ]
  },
  {
   "cell_type": "code",
   "execution_count": 11,
   "metadata": {},
   "outputs": [],
   "source": [
    "df_first_winter_days_original = pd.DataFrame({'Year': years_original, 'Month': months_original, \n",
    "                                        'Day': days_original, 'day_of_year': day_of_year_original})"
   ]
  },
  {
   "cell_type": "code",
   "execution_count": 12,
   "metadata": {},
   "outputs": [],
   "source": [
    "df_first_winter_days_adjusted = pd.DataFrame({'Year': years_adjusted, 'Month': months_adjusted, \n",
    "                                        'Day': days_adjusted, 'day_of_year': day_of_year_adjusted})"
   ]
  },
  {
   "cell_type": "code",
   "execution_count": 15,
   "metadata": {},
   "outputs": [],
   "source": [
    "df_first_winter_days_original['Year'] = pd.to_numeric(df_first_winter_days_original['Year'])\n",
    "df_first_winter_days_original['Month'] = pd.to_numeric(df_first_winter_days_original['Month'])\n",
    "df_first_winter_days_original['Day'] = pd.to_numeric(df_first_winter_days_original['Day'])"
   ]
  },
  {
   "cell_type": "code",
   "execution_count": 16,
   "metadata": {},
   "outputs": [],
   "source": [
    "df_first_winter_days_adjusted['Year'] = pd.to_numeric(df_first_winter_days_adjusted['Year'])\n",
    "df_first_winter_days_adjusted['Month'] = pd.to_numeric(df_first_winter_days_adjusted['Month'])\n",
    "df_first_winter_days_adjusted['Day'] = pd.to_numeric(df_first_winter_days_adjusted['Day'])"
   ]
  },
  {
   "cell_type": "code",
   "execution_count": 21,
   "metadata": {},
   "outputs": [],
   "source": [
    "df_first_winter_days_original.to_pickle('../Dataframes/df_first_winter_days_original.pkl')"
   ]
  },
  {
   "cell_type": "code",
   "execution_count": 22,
   "metadata": {},
   "outputs": [],
   "source": [
    "df_first_winter_days_adjusted.to_pickle('../Dataframes/df_first_winter_days_adjusted.pkl')"
   ]
  },
  {
   "cell_type": "markdown",
   "metadata": {},
   "source": [
    "Prepare for the plot"
   ]
  },
  {
   "cell_type": "code",
   "execution_count": 29,
   "metadata": {},
   "outputs": [
    {
     "data": {
      "text/html": [
       "<div>\n",
       "<style scoped>\n",
       "    .dataframe tbody tr th:only-of-type {\n",
       "        vertical-align: middle;\n",
       "    }\n",
       "\n",
       "    .dataframe tbody tr th {\n",
       "        vertical-align: top;\n",
       "    }\n",
       "\n",
       "    .dataframe thead th {\n",
       "        text-align: right;\n",
       "    }\n",
       "</style>\n",
       "<table border=\"1\" class=\"dataframe\">\n",
       "  <thead>\n",
       "    <tr style=\"text-align: right;\">\n",
       "      <th></th>\n",
       "      <th>Year</th>\n",
       "      <th>Month</th>\n",
       "      <th>Day</th>\n",
       "      <th>day_of_year</th>\n",
       "    </tr>\n",
       "  </thead>\n",
       "  <tbody>\n",
       "    <tr>\n",
       "      <th>62</th>\n",
       "      <td>2006</td>\n",
       "      <td>9</td>\n",
       "      <td>15</td>\n",
       "      <td>258</td>\n",
       "    </tr>\n",
       "    <tr>\n",
       "      <th>63</th>\n",
       "      <td>2007</td>\n",
       "      <td>9</td>\n",
       "      <td>15</td>\n",
       "      <td>258</td>\n",
       "    </tr>\n",
       "    <tr>\n",
       "      <th>30</th>\n",
       "      <td>1974</td>\n",
       "      <td>9</td>\n",
       "      <td>15</td>\n",
       "      <td>258</td>\n",
       "    </tr>\n",
       "    <tr>\n",
       "      <th>31</th>\n",
       "      <td>1975</td>\n",
       "      <td>9</td>\n",
       "      <td>15</td>\n",
       "      <td>258</td>\n",
       "    </tr>\n",
       "    <tr>\n",
       "      <th>33</th>\n",
       "      <td>1977</td>\n",
       "      <td>9</td>\n",
       "      <td>15</td>\n",
       "      <td>258</td>\n",
       "    </tr>\n",
       "    <tr>\n",
       "      <th>...</th>\n",
       "      <td>...</td>\n",
       "      <td>...</td>\n",
       "      <td>...</td>\n",
       "      <td>...</td>\n",
       "    </tr>\n",
       "    <tr>\n",
       "      <th>56</th>\n",
       "      <td>2000</td>\n",
       "      <td>12</td>\n",
       "      <td>23</td>\n",
       "      <td>358</td>\n",
       "    </tr>\n",
       "    <tr>\n",
       "      <th>70</th>\n",
       "      <td>2014</td>\n",
       "      <td>12</td>\n",
       "      <td>25</td>\n",
       "      <td>359</td>\n",
       "    </tr>\n",
       "    <tr>\n",
       "      <th>4</th>\n",
       "      <td>1948</td>\n",
       "      <td>12</td>\n",
       "      <td>24</td>\n",
       "      <td>359</td>\n",
       "    </tr>\n",
       "    <tr>\n",
       "      <th>20</th>\n",
       "      <td>1964</td>\n",
       "      <td>12</td>\n",
       "      <td>25</td>\n",
       "      <td>360</td>\n",
       "    </tr>\n",
       "    <tr>\n",
       "      <th>40</th>\n",
       "      <td>1984</td>\n",
       "      <td>12</td>\n",
       "      <td>27</td>\n",
       "      <td>362</td>\n",
       "    </tr>\n",
       "  </tbody>\n",
       "</table>\n",
       "<p>79 rows × 4 columns</p>\n",
       "</div>"
      ],
      "text/plain": [
       "    Year  Month  Day  day_of_year\n",
       "62  2006      9   15          258\n",
       "63  2007      9   15          258\n",
       "30  1974      9   15          258\n",
       "31  1975      9   15          258\n",
       "33  1977      9   15          258\n",
       "..   ...    ...  ...          ...\n",
       "56  2000     12   23          358\n",
       "70  2014     12   25          359\n",
       "4   1948     12   24          359\n",
       "20  1964     12   25          360\n",
       "40  1984     12   27          362\n",
       "\n",
       "[79 rows x 4 columns]"
      ]
     },
     "execution_count": 29,
     "metadata": {},
     "output_type": "execute_result"
    }
   ],
   "source": [
    "df_first_winter_days_adjusted.sort_values(by='day_of_year')"
   ]
  },
  {
   "cell_type": "code",
   "execution_count": 30,
   "metadata": {},
   "outputs": [
    {
     "data": {
      "text/html": [
       "<div>\n",
       "<style scoped>\n",
       "    .dataframe tbody tr th:only-of-type {\n",
       "        vertical-align: middle;\n",
       "    }\n",
       "\n",
       "    .dataframe tbody tr th {\n",
       "        vertical-align: top;\n",
       "    }\n",
       "\n",
       "    .dataframe thead th {\n",
       "        text-align: right;\n",
       "    }\n",
       "</style>\n",
       "<table border=\"1\" class=\"dataframe\">\n",
       "  <thead>\n",
       "    <tr style=\"text-align: right;\">\n",
       "      <th></th>\n",
       "      <th>Year</th>\n",
       "      <th>Month</th>\n",
       "      <th>Day</th>\n",
       "      <th>day_of_year</th>\n",
       "    </tr>\n",
       "  </thead>\n",
       "  <tbody>\n",
       "    <tr>\n",
       "      <th>62</th>\n",
       "      <td>2006</td>\n",
       "      <td>9</td>\n",
       "      <td>15</td>\n",
       "      <td>258</td>\n",
       "    </tr>\n",
       "    <tr>\n",
       "      <th>30</th>\n",
       "      <td>1974</td>\n",
       "      <td>9</td>\n",
       "      <td>15</td>\n",
       "      <td>258</td>\n",
       "    </tr>\n",
       "    <tr>\n",
       "      <th>31</th>\n",
       "      <td>1975</td>\n",
       "      <td>9</td>\n",
       "      <td>15</td>\n",
       "      <td>258</td>\n",
       "    </tr>\n",
       "    <tr>\n",
       "      <th>33</th>\n",
       "      <td>1977</td>\n",
       "      <td>9</td>\n",
       "      <td>15</td>\n",
       "      <td>258</td>\n",
       "    </tr>\n",
       "    <tr>\n",
       "      <th>67</th>\n",
       "      <td>2011</td>\n",
       "      <td>9</td>\n",
       "      <td>15</td>\n",
       "      <td>258</td>\n",
       "    </tr>\n",
       "    <tr>\n",
       "      <th>...</th>\n",
       "      <td>...</td>\n",
       "      <td>...</td>\n",
       "      <td>...</td>\n",
       "      <td>...</td>\n",
       "    </tr>\n",
       "    <tr>\n",
       "      <th>56</th>\n",
       "      <td>2000</td>\n",
       "      <td>12</td>\n",
       "      <td>23</td>\n",
       "      <td>358</td>\n",
       "    </tr>\n",
       "    <tr>\n",
       "      <th>70</th>\n",
       "      <td>2014</td>\n",
       "      <td>12</td>\n",
       "      <td>25</td>\n",
       "      <td>359</td>\n",
       "    </tr>\n",
       "    <tr>\n",
       "      <th>4</th>\n",
       "      <td>1948</td>\n",
       "      <td>12</td>\n",
       "      <td>24</td>\n",
       "      <td>359</td>\n",
       "    </tr>\n",
       "    <tr>\n",
       "      <th>20</th>\n",
       "      <td>1964</td>\n",
       "      <td>12</td>\n",
       "      <td>25</td>\n",
       "      <td>360</td>\n",
       "    </tr>\n",
       "    <tr>\n",
       "      <th>40</th>\n",
       "      <td>1984</td>\n",
       "      <td>12</td>\n",
       "      <td>27</td>\n",
       "      <td>362</td>\n",
       "    </tr>\n",
       "  </tbody>\n",
       "</table>\n",
       "<p>79 rows × 4 columns</p>\n",
       "</div>"
      ],
      "text/plain": [
       "    Year  Month  Day  day_of_year\n",
       "62  2006      9   15          258\n",
       "30  1974      9   15          258\n",
       "31  1975      9   15          258\n",
       "33  1977      9   15          258\n",
       "67  2011      9   15          258\n",
       "..   ...    ...  ...          ...\n",
       "56  2000     12   23          358\n",
       "70  2014     12   25          359\n",
       "4   1948     12   24          359\n",
       "20  1964     12   25          360\n",
       "40  1984     12   27          362\n",
       "\n",
       "[79 rows x 4 columns]"
      ]
     },
     "execution_count": 30,
     "metadata": {},
     "output_type": "execute_result"
    }
   ],
   "source": [
    "df_first_winter_days_original.sort_values(by='day_of_year')"
   ]
  },
  {
   "cell_type": "code",
   "execution_count": 24,
   "metadata": {},
   "outputs": [
    {
     "data": {
      "text/plain": [
       "datetime.datetime(1944, 7, 19, 0, 0)"
      ]
     },
     "execution_count": 24,
     "metadata": {},
     "output_type": "execute_result"
    }
   ],
   "source": [
    "# Set first day\n",
    "# Get rough idea about what day to start the plot\n",
    "\n",
    "first_day = datetime(1944, 1, 1)\n",
    "iss = first_day+timedelta(days=200)\n",
    "iss"
   ]
  },
  {
   "cell_type": "code",
   "execution_count": 40,
   "metadata": {},
   "outputs": [],
   "source": [
    "ticlist = [259, 275, 289, 306, 320, 335, 350]"
   ]
  },
  {
   "cell_type": "code",
   "execution_count": 41,
   "metadata": {},
   "outputs": [],
   "source": [
    "datelist = []\n",
    "for i in ticlist:\n",
    "    datenum = first_day+timedelta(days=i-1)\n",
    "    month = datenum.strftime('%m')\n",
    "    day = datenum.strftime('%d')\n",
    "    datelist.append(f'{month}-{day}')"
   ]
  },
  {
   "cell_type": "code",
   "execution_count": 47,
   "metadata": {},
   "outputs": [],
   "source": [
    "dates_original = [int(i) for i in df_first_winter_days_original['day_of_year']]\n",
    "years_original = [int(i) for i in df_first_winter_days_original['Year']]\n",
    "dates_adjusted = [int(i) for i in df_first_winter_days_adjusted['day_of_year']]\n",
    "years_adjusted = [int(i) for i in df_first_winter_days_adjusted['Year']]"
   ]
  },
  {
   "cell_type": "code",
   "execution_count": 42,
   "metadata": {},
   "outputs": [
    {
     "data": {
      "text/plain": [
       "['09-15', '10-01', '10-15', '11-01', '11-15', '11-30', '12-15']"
      ]
     },
     "execution_count": 42,
     "metadata": {},
     "output_type": "execute_result"
    }
   ],
   "source": [
    "datelist"
   ]
  },
  {
   "cell_type": "code",
   "execution_count": 45,
   "metadata": {},
   "outputs": [],
   "source": [
    "colours = ['red' if value < 280 else 'blue' for value in dates_original]"
   ]
  },
  {
   "cell_type": "code",
   "execution_count": 55,
   "metadata": {},
   "outputs": [
    {
     "data": {
      "image/png": "[encoded data removed]",
      "text/plain": [
       "<Figure size 800x500 with 1 Axes>"
      ]
     },
     "metadata": {},
     "output_type": "display_data"
    }
   ],
   "source": [
    "plt.figure(figsize=[8, 5])\n",
    "plt.scatter(x=years_original, y=dates_original, c='r')\n",
    "plt.scatter(x=years_adjusted, y=dates_adjusted, c='b')\n",
    "plt.yticks(ticks=ticlist, labels=datelist)\n",
    "plt.axvline(x=2006)\n",
    "plt.xticks(ticks=[1940, 1950, 1960, 1970, 1980, 1990, 2000, 2010, 2020])\n",
    "plt.show()"
   ]
  },
  {
   "cell_type": "code",
   "execution_count": 58,
   "metadata": {},
   "outputs": [
    {
     "data": {
      "image/png": "[encoded data removed]",
      "text/plain": [
       "<Figure size 640x480 with 1 Axes>"
      ]
     },
     "metadata": {},
     "output_type": "display_data"
    }
   ],
   "source": [
    "plt.figure\n",
    "\n",
    "plt.scatter(x=df_first_winter_days_adjusted[df_first_winter_days_adjusted['Year'] > 2005]['Year'], \n",
    "            y=df_first_winter_days_adjusted[df_first_winter_days_adjusted['Year'] > 2005]['day_of_year'], c='r')\n",
    "plt.scatter(x=df_first_winter_days_original[df_first_winter_days_original['Year'] > 2005]['Year'], \n",
    "            y=df_first_winter_days_original[df_first_winter_days_original['Year'] > 2005]['day_of_year'], c='b')\n",
    "plt.axvline(x=2017)\n",
    "plt.yticks(ticks=ticlist, labels=datelist)\n",
    "plt.show()"
   ]
  }
 ],
 "metadata": {
  "kernelspec": {
   "display_name": "agilt_projektarbete",
   "language": "python",
   "name": "python3"
  },
  "language_info": {
   "codemirror_mode": {
    "name": "ipython",
    "version": 3
   },
   "file_extension": ".py",
   "mimetype": "text/x-python",
   "name": "python",
   "nbconvert_exporter": "python",
   "pygments_lexer": "ipython3",
   "version": "3.9.18"
  }
 },
 "nbformat": 4,
 "nbformat_minor": 2
}
