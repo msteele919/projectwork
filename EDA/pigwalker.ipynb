{
 "cells": [
  {
   "cell_type": "code",
   "execution_count": 4,
   "metadata": {},
   "outputs": [],
   "source": [
    "import pandas as pd\n",
    "import pygwalker as pyg\n"
   ]
  },
  {
   "cell_type": "code",
   "execution_count": 5,
   "metadata": {},
   "outputs": [],
   "source": [
    "df = pd.read_pickle('../Dataframes/df_monthly_temp.pkl')"
   ]
  },
  {
   "cell_type": "code",
   "execution_count": 6,
   "metadata": {},
   "outputs": [
    {
     "data": {
      "application/vnd.jupyter.widget-view+json": {
       "model_id": "7e47f333b65846a98702e1bace2a7bd0",
       "version_major": 2,
       "version_minor": 0
      },
      "text/plain": [
       "Box(children=(HTML(value='<div id=\"ifr-pyg-1\" style=\"height: auto\">\\n    <head>\\n        <meta http-equiv=\"Con…"
      ]
     },
     "metadata": {},
     "output_type": "display_data"
    },
    {
     "data": {
      "text/html": [
       "<html>\n",
       "<style>\n",
       ".tabs{\n",
       "    position:relative;\n",
       "    height:660px;\n",
       "}\n",
       ".tab-pane{\n",
       "    display:inline-block;\n",
       "}\n",
       ".tabs input[type='radio']{\n",
       "    position:absolute;\n",
       "    clip:rect(0,0,0,0)\n",
       "}\n",
       ".tab-item{\n",
       "    display:block;\n",
       "    height:34px;\n",
       "    line-height:34px;\n",
       "    cursor:pointer;\n",
       "    padding:0 10px\n",
       "}\n",
       "\n",
       ".tabs input[type='radio']:checked+.tab-item{\n",
       "    background:#2563eb;\n",
       "    color:#fff\n",
       "}\n",
       "\n",
       ".tab-content{\n",
       "    display: none;\n",
       "    position:absolute;\n",
       "    left:0;\n",
       "    top:56px;\n",
       "    bottom:0;\n",
       "    right:0;\n",
       "}\n",
       "\n",
       ".tabs input[type='radio']:checked+.tab-item+.tab-content{\n",
       "    display: block;\n",
       "}\n",
       "</style>\n",
       "\n",
       "<body>\n",
       "    <div id=\"pygwalker-preview-1\">\n",
       "        <div class=\"tabs\">\n",
       "            \n",
       "        </div>\n",
       "    </div>\n",
       "</body>\n",
       "</html>"
      ],
      "text/plain": [
       "<IPython.core.display.HTML object>"
      ]
     },
     "metadata": {},
     "output_type": "display_data"
    }
   ],
   "source": [
    "walker = pyg.walk(df)"
   ]
  }
 ],
 "metadata": {
  "kernelspec": {
   "display_name": "agilt_projektarbete",
   "language": "python",
   "name": "python3"
  },
  "language_info": {
   "codemirror_mode": {
    "name": "ipython",
    "version": 3
   },
   "file_extension": ".py",
   "mimetype": "text/x-python",
   "name": "python",
   "nbconvert_exporter": "python",
   "pygments_lexer": "ipython3",
   "version": "3.9.18"
  }
 },
 "nbformat": 4,
 "nbformat_minor": 2
}
