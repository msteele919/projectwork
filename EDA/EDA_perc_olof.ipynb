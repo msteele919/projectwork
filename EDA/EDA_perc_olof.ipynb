{
 "cells": [
  {
   "cell_type": "code",
   "execution_count": 25,
   "metadata": {},
   "outputs": [],
   "source": [
    "import pandas as pd\n",
    "from datetime import datetime\n"
   ]
  },
  {
   "cell_type": "code",
   "execution_count": 26,
   "metadata": {},
   "outputs": [],
   "source": [
    "df = pd.read_csv('../data/percipitation_data_curated.csv')"
   ]
  },
  {
   "cell_type": "code",
   "execution_count": 27,
   "metadata": {},
   "outputs": [
    {
     "data": {
      "text/html": [
       "<div>\n",
       "<style scoped>\n",
       "    .dataframe tbody tr th:only-of-type {\n",
       "        vertical-align: middle;\n",
       "    }\n",
       "\n",
       "    .dataframe tbody tr th {\n",
       "        vertical-align: top;\n",
       "    }\n",
       "\n",
       "    .dataframe thead th {\n",
       "        text-align: right;\n",
       "    }\n",
       "</style>\n",
       "<table border=\"1\" class=\"dataframe\">\n",
       "  <thead>\n",
       "    <tr style=\"text-align: right;\">\n",
       "      <th></th>\n",
       "      <th>Från Datum Tid (UTC)</th>\n",
       "      <th>Till Datum Tid (UTC)</th>\n",
       "      <th>Representativt dygn</th>\n",
       "      <th>Nederbördsmängd</th>\n",
       "      <th>Kvalitet</th>\n",
       "    </tr>\n",
       "  </thead>\n",
       "  <tbody>\n",
       "    <tr>\n",
       "      <th>0</th>\n",
       "      <td>1961-01-01 06:00:01</td>\n",
       "      <td>1961-01-02 06:00:00</td>\n",
       "      <td>1961-01-01</td>\n",
       "      <td>0.3</td>\n",
       "      <td>Y</td>\n",
       "    </tr>\n",
       "    <tr>\n",
       "      <th>1</th>\n",
       "      <td>1961-01-02 06:00:01</td>\n",
       "      <td>1961-01-03 06:00:00</td>\n",
       "      <td>1961-01-02</td>\n",
       "      <td>0.5</td>\n",
       "      <td>Y</td>\n",
       "    </tr>\n",
       "    <tr>\n",
       "      <th>2</th>\n",
       "      <td>1961-01-03 06:00:01</td>\n",
       "      <td>1961-01-04 06:00:00</td>\n",
       "      <td>1961-01-03</td>\n",
       "      <td>8.4</td>\n",
       "      <td>Y</td>\n",
       "    </tr>\n",
       "    <tr>\n",
       "      <th>3</th>\n",
       "      <td>1961-01-04 06:00:01</td>\n",
       "      <td>1961-01-05 06:00:00</td>\n",
       "      <td>1961-01-04</td>\n",
       "      <td>0.0</td>\n",
       "      <td>Y</td>\n",
       "    </tr>\n",
       "    <tr>\n",
       "      <th>4</th>\n",
       "      <td>1961-01-05 06:00:01</td>\n",
       "      <td>1961-01-06 06:00:00</td>\n",
       "      <td>1961-01-05</td>\n",
       "      <td>2.0</td>\n",
       "      <td>Y</td>\n",
       "    </tr>\n",
       "    <tr>\n",
       "      <th>...</th>\n",
       "      <td>...</td>\n",
       "      <td>...</td>\n",
       "      <td>...</td>\n",
       "      <td>...</td>\n",
       "      <td>...</td>\n",
       "    </tr>\n",
       "    <tr>\n",
       "      <th>15487</th>\n",
       "      <td>2023-06-26 06:00:01</td>\n",
       "      <td>2023-06-27 06:00:00</td>\n",
       "      <td>2023-06-26</td>\n",
       "      <td>18.5</td>\n",
       "      <td>G</td>\n",
       "    </tr>\n",
       "    <tr>\n",
       "      <th>15488</th>\n",
       "      <td>2023-06-27 06:00:01</td>\n",
       "      <td>2023-06-28 06:00:00</td>\n",
       "      <td>2023-06-27</td>\n",
       "      <td>10.6</td>\n",
       "      <td>G</td>\n",
       "    </tr>\n",
       "    <tr>\n",
       "      <th>15489</th>\n",
       "      <td>2023-06-28 06:00:01</td>\n",
       "      <td>2023-06-29 06:00:00</td>\n",
       "      <td>2023-06-28</td>\n",
       "      <td>0.0</td>\n",
       "      <td>G</td>\n",
       "    </tr>\n",
       "    <tr>\n",
       "      <th>15490</th>\n",
       "      <td>2023-06-29 06:00:01</td>\n",
       "      <td>2023-06-30 06:00:00</td>\n",
       "      <td>2023-06-29</td>\n",
       "      <td>5.0</td>\n",
       "      <td>G</td>\n",
       "    </tr>\n",
       "    <tr>\n",
       "      <th>15491</th>\n",
       "      <td>2023-06-30 06:00:01</td>\n",
       "      <td>2023-07-01 06:00:00</td>\n",
       "      <td>2023-06-30</td>\n",
       "      <td>0.2</td>\n",
       "      <td>G</td>\n",
       "    </tr>\n",
       "  </tbody>\n",
       "</table>\n",
       "<p>15492 rows × 5 columns</p>\n",
       "</div>"
      ],
      "text/plain": [
       "      Från Datum Tid (UTC) Till Datum Tid (UTC) Representativt dygn  \\\n",
       "0      1961-01-01 06:00:01  1961-01-02 06:00:00          1961-01-01   \n",
       "1      1961-01-02 06:00:01  1961-01-03 06:00:00          1961-01-02   \n",
       "2      1961-01-03 06:00:01  1961-01-04 06:00:00          1961-01-03   \n",
       "3      1961-01-04 06:00:01  1961-01-05 06:00:00          1961-01-04   \n",
       "4      1961-01-05 06:00:01  1961-01-06 06:00:00          1961-01-05   \n",
       "...                    ...                  ...                 ...   \n",
       "15487  2023-06-26 06:00:01  2023-06-27 06:00:00          2023-06-26   \n",
       "15488  2023-06-27 06:00:01  2023-06-28 06:00:00          2023-06-27   \n",
       "15489  2023-06-28 06:00:01  2023-06-29 06:00:00          2023-06-28   \n",
       "15490  2023-06-29 06:00:01  2023-06-30 06:00:00          2023-06-29   \n",
       "15491  2023-06-30 06:00:01  2023-07-01 06:00:00          2023-06-30   \n",
       "\n",
       "       Nederbördsmängd Kvalitet  \n",
       "0                  0.3        Y  \n",
       "1                  0.5        Y  \n",
       "2                  8.4        Y  \n",
       "3                  0.0        Y  \n",
       "4                  2.0        Y  \n",
       "...                ...      ...  \n",
       "15487             18.5        G  \n",
       "15488             10.6        G  \n",
       "15489              0.0        G  \n",
       "15490              5.0        G  \n",
       "15491              0.2        G  \n",
       "\n",
       "[15492 rows x 5 columns]"
      ]
     },
     "execution_count": 27,
     "metadata": {},
     "output_type": "execute_result"
    }
   ],
   "source": [
    "df"
   ]
  },
  {
   "cell_type": "code",
   "execution_count": 28,
   "metadata": {},
   "outputs": [
    {
     "name": "stderr",
     "output_type": "stream",
     "text": [
      "C:\\Users\\olofs\\AppData\\Local\\Temp\\ipykernel_1232\\83482794.py:1: FutureWarning: Series.__getitem__ treating keys as positions is deprecated. In a future version, integer keys will always be treated as labels (consistent with DataFrame behavior). To access a value by position, use `ser.iloc[pos]`\n",
      "  num_rows = df.count(axis=0)[0]\n"
     ]
    }
   ],
   "source": [
    "num_rows = df.count(axis=0)[0]"
   ]
  },
  {
   "cell_type": "code",
   "execution_count": 29,
   "metadata": {},
   "outputs": [
    {
     "data": {
      "text/plain": [
       "15492"
      ]
     },
     "execution_count": 29,
     "metadata": {},
     "output_type": "execute_result"
    }
   ],
   "source": [
    "num_rows"
   ]
  },
  {
   "cell_type": "code",
   "execution_count": 30,
   "metadata": {},
   "outputs": [
    {
     "data": {
      "text/plain": [
       "'0    1961-01-01\\nName: Representativt dygn, dtype: object'"
      ]
     },
     "execution_count": 30,
     "metadata": {},
     "output_type": "execute_result"
    }
   ],
   "source": [
    "first_date = str(df[0:1]['Representativt dygn'])\n",
    "first_date"
   ]
  },
  {
   "cell_type": "code",
   "execution_count": 31,
   "metadata": {},
   "outputs": [
    {
     "data": {
      "text/plain": [
       "'15491    2023-06-30\\nName: Representativt dygn, dtype: object'"
      ]
     },
     "execution_count": 31,
     "metadata": {},
     "output_type": "execute_result"
    }
   ],
   "source": [
    "last_date = str(df[num_rows-1:]['Representativt dygn'])\n",
    "last_date"
   ]
  },
  {
   "cell_type": "code",
   "execution_count": 32,
   "metadata": {},
   "outputs": [],
   "source": [
    "first_year = int(first_date[5:9])\n",
    "first_month = int(first_date[10:12])\n",
    "first_day = int(first_date[13:15])\n",
    "first_meassure_day = datetime(first_year, first_month, first_day)"
   ]
  },
  {
   "cell_type": "code",
   "execution_count": 33,
   "metadata": {},
   "outputs": [
    {
     "name": "stdout",
     "output_type": "stream",
     "text": [
      "1961-01-01 00:00:00\n"
     ]
    }
   ],
   "source": [
    "print(first_meassure_day)"
   ]
  },
  {
   "cell_type": "code",
   "execution_count": 34,
   "metadata": {},
   "outputs": [],
   "source": [
    "last_year = int(last_date[9:13])\n",
    "last_month = int(last_date[14:16])\n",
    "last_day = int(last_date[17:19])\n",
    "last_meassure_day = datetime(last_year, last_month, last_day)"
   ]
  },
  {
   "cell_type": "code",
   "execution_count": 35,
   "metadata": {},
   "outputs": [
    {
     "name": "stdout",
     "output_type": "stream",
     "text": [
      "2023-06-30 00:00:00\n"
     ]
    }
   ],
   "source": [
    "print(last_meassure_day)"
   ]
  },
  {
   "cell_type": "code",
   "execution_count": 36,
   "metadata": {},
   "outputs": [],
   "source": [
    "diff = last_meassure_day-first_meassure_day"
   ]
  },
  {
   "cell_type": "code",
   "execution_count": 37,
   "metadata": {},
   "outputs": [
    {
     "data": {
      "text/plain": [
       "datetime.timedelta(days=22825)"
      ]
     },
     "execution_count": 37,
     "metadata": {},
     "output_type": "execute_result"
    }
   ],
   "source": [
    "diff"
   ]
  },
  {
   "cell_type": "code",
   "execution_count": 39,
   "metadata": {},
   "outputs": [],
   "source": [
    "df['Year'] = df['Representativt dygn'].str.split('-').str[0]"
   ]
  },
  {
   "cell_type": "code",
   "execution_count": 40,
   "metadata": {},
   "outputs": [
    {
     "data": {
      "text/html": [
       "<div>\n",
       "<style scoped>\n",
       "    .dataframe tbody tr th:only-of-type {\n",
       "        vertical-align: middle;\n",
       "    }\n",
       "\n",
       "    .dataframe tbody tr th {\n",
       "        vertical-align: top;\n",
       "    }\n",
       "\n",
       "    .dataframe thead th {\n",
       "        text-align: right;\n",
       "    }\n",
       "</style>\n",
       "<table border=\"1\" class=\"dataframe\">\n",
       "  <thead>\n",
       "    <tr style=\"text-align: right;\">\n",
       "      <th></th>\n",
       "      <th>Från Datum Tid (UTC)</th>\n",
       "      <th>Till Datum Tid (UTC)</th>\n",
       "      <th>Representativt dygn</th>\n",
       "      <th>Nederbördsmängd</th>\n",
       "      <th>Kvalitet</th>\n",
       "      <th>Year</th>\n",
       "    </tr>\n",
       "  </thead>\n",
       "  <tbody>\n",
       "    <tr>\n",
       "      <th>0</th>\n",
       "      <td>1961-01-01 06:00:01</td>\n",
       "      <td>1961-01-02 06:00:00</td>\n",
       "      <td>1961-01-01</td>\n",
       "      <td>0.3</td>\n",
       "      <td>Y</td>\n",
       "      <td>1961</td>\n",
       "    </tr>\n",
       "    <tr>\n",
       "      <th>1</th>\n",
       "      <td>1961-01-02 06:00:01</td>\n",
       "      <td>1961-01-03 06:00:00</td>\n",
       "      <td>1961-01-02</td>\n",
       "      <td>0.5</td>\n",
       "      <td>Y</td>\n",
       "      <td>1961</td>\n",
       "    </tr>\n",
       "    <tr>\n",
       "      <th>2</th>\n",
       "      <td>1961-01-03 06:00:01</td>\n",
       "      <td>1961-01-04 06:00:00</td>\n",
       "      <td>1961-01-03</td>\n",
       "      <td>8.4</td>\n",
       "      <td>Y</td>\n",
       "      <td>1961</td>\n",
       "    </tr>\n",
       "    <tr>\n",
       "      <th>3</th>\n",
       "      <td>1961-01-04 06:00:01</td>\n",
       "      <td>1961-01-05 06:00:00</td>\n",
       "      <td>1961-01-04</td>\n",
       "      <td>0.0</td>\n",
       "      <td>Y</td>\n",
       "      <td>1961</td>\n",
       "    </tr>\n",
       "    <tr>\n",
       "      <th>4</th>\n",
       "      <td>1961-01-05 06:00:01</td>\n",
       "      <td>1961-01-06 06:00:00</td>\n",
       "      <td>1961-01-05</td>\n",
       "      <td>2.0</td>\n",
       "      <td>Y</td>\n",
       "      <td>1961</td>\n",
       "    </tr>\n",
       "    <tr>\n",
       "      <th>...</th>\n",
       "      <td>...</td>\n",
       "      <td>...</td>\n",
       "      <td>...</td>\n",
       "      <td>...</td>\n",
       "      <td>...</td>\n",
       "      <td>...</td>\n",
       "    </tr>\n",
       "    <tr>\n",
       "      <th>15487</th>\n",
       "      <td>2023-06-26 06:00:01</td>\n",
       "      <td>2023-06-27 06:00:00</td>\n",
       "      <td>2023-06-26</td>\n",
       "      <td>18.5</td>\n",
       "      <td>G</td>\n",
       "      <td>2023</td>\n",
       "    </tr>\n",
       "    <tr>\n",
       "      <th>15488</th>\n",
       "      <td>2023-06-27 06:00:01</td>\n",
       "      <td>2023-06-28 06:00:00</td>\n",
       "      <td>2023-06-27</td>\n",
       "      <td>10.6</td>\n",
       "      <td>G</td>\n",
       "      <td>2023</td>\n",
       "    </tr>\n",
       "    <tr>\n",
       "      <th>15489</th>\n",
       "      <td>2023-06-28 06:00:01</td>\n",
       "      <td>2023-06-29 06:00:00</td>\n",
       "      <td>2023-06-28</td>\n",
       "      <td>0.0</td>\n",
       "      <td>G</td>\n",
       "      <td>2023</td>\n",
       "    </tr>\n",
       "    <tr>\n",
       "      <th>15490</th>\n",
       "      <td>2023-06-29 06:00:01</td>\n",
       "      <td>2023-06-30 06:00:00</td>\n",
       "      <td>2023-06-29</td>\n",
       "      <td>5.0</td>\n",
       "      <td>G</td>\n",
       "      <td>2023</td>\n",
       "    </tr>\n",
       "    <tr>\n",
       "      <th>15491</th>\n",
       "      <td>2023-06-30 06:00:01</td>\n",
       "      <td>2023-07-01 06:00:00</td>\n",
       "      <td>2023-06-30</td>\n",
       "      <td>0.2</td>\n",
       "      <td>G</td>\n",
       "      <td>2023</td>\n",
       "    </tr>\n",
       "  </tbody>\n",
       "</table>\n",
       "<p>15492 rows × 6 columns</p>\n",
       "</div>"
      ],
      "text/plain": [
       "      Från Datum Tid (UTC) Till Datum Tid (UTC) Representativt dygn  \\\n",
       "0      1961-01-01 06:00:01  1961-01-02 06:00:00          1961-01-01   \n",
       "1      1961-01-02 06:00:01  1961-01-03 06:00:00          1961-01-02   \n",
       "2      1961-01-03 06:00:01  1961-01-04 06:00:00          1961-01-03   \n",
       "3      1961-01-04 06:00:01  1961-01-05 06:00:00          1961-01-04   \n",
       "4      1961-01-05 06:00:01  1961-01-06 06:00:00          1961-01-05   \n",
       "...                    ...                  ...                 ...   \n",
       "15487  2023-06-26 06:00:01  2023-06-27 06:00:00          2023-06-26   \n",
       "15488  2023-06-27 06:00:01  2023-06-28 06:00:00          2023-06-27   \n",
       "15489  2023-06-28 06:00:01  2023-06-29 06:00:00          2023-06-28   \n",
       "15490  2023-06-29 06:00:01  2023-06-30 06:00:00          2023-06-29   \n",
       "15491  2023-06-30 06:00:01  2023-07-01 06:00:00          2023-06-30   \n",
       "\n",
       "       Nederbördsmängd Kvalitet  Year  \n",
       "0                  0.3        Y  1961  \n",
       "1                  0.5        Y  1961  \n",
       "2                  8.4        Y  1961  \n",
       "3                  0.0        Y  1961  \n",
       "4                  2.0        Y  1961  \n",
       "...                ...      ...   ...  \n",
       "15487             18.5        G  2023  \n",
       "15488             10.6        G  2023  \n",
       "15489              0.0        G  2023  \n",
       "15490              5.0        G  2023  \n",
       "15491              0.2        G  2023  \n",
       "\n",
       "[15492 rows x 6 columns]"
      ]
     },
     "execution_count": 40,
     "metadata": {},
     "output_type": "execute_result"
    }
   ],
   "source": [
    "df"
   ]
  },
  {
   "cell_type": "code",
   "execution_count": 42,
   "metadata": {},
   "outputs": [
    {
     "data": {
      "text/plain": [
       "Year\n",
       "1964    366\n",
       "2000    366\n",
       "2020    366\n",
       "1968    366\n",
       "2008    366\n",
       "2016    366\n",
       "1996    366\n",
       "2004    366\n",
       "2012    366\n",
       "1961    365\n",
       "2011    365\n",
       "2006    365\n",
       "2007    365\n",
       "2009    365\n",
       "2010    365\n",
       "2014    365\n",
       "2013    365\n",
       "2015    365\n",
       "2017    365\n",
       "2018    365\n",
       "2019    365\n",
       "2021    365\n",
       "2022    365\n",
       "2005    365\n",
       "2001    365\n",
       "2003    365\n",
       "1974    365\n",
       "1963    365\n",
       "1965    365\n",
       "1966    365\n",
       "1967    365\n",
       "1970    365\n",
       "1971    365\n",
       "2002    365\n",
       "1973    365\n",
       "1975    365\n",
       "1997    365\n",
       "1962    365\n",
       "1999    306\n",
       "1969    304\n",
       "1972    275\n",
       "1976    274\n",
       "2023    181\n",
       "1998    151\n",
       "1995    122\n",
       "Name: count, dtype: int64"
      ]
     },
     "execution_count": 42,
     "metadata": {},
     "output_type": "execute_result"
    }
   ],
   "source": [
    "df['Year'].value_counts()"
   ]
  },
  {
   "cell_type": "code",
   "execution_count": 43,
   "metadata": {},
   "outputs": [],
   "source": [
    "years = []\n",
    "for ind, row in df.iterrows():\n",
    "    year = row['Year']\n",
    "    if year not in years:\n",
    "        years.append(year)\n",
    "    else:\n",
    "        pass\n"
   ]
  },
  {
   "cell_type": "code",
   "execution_count": 44,
   "metadata": {},
   "outputs": [
    {
     "data": {
      "text/plain": [
       "['1961',\n",
       " '1962',\n",
       " '1963',\n",
       " '1964',\n",
       " '1965',\n",
       " '1966',\n",
       " '1967',\n",
       " '1968',\n",
       " '1969',\n",
       " '1970',\n",
       " '1971',\n",
       " '1972',\n",
       " '1973',\n",
       " '1974',\n",
       " '1975',\n",
       " '1976',\n",
       " '1995',\n",
       " '1996',\n",
       " '1997',\n",
       " '1998',\n",
       " '1999',\n",
       " '2000',\n",
       " '2001',\n",
       " '2002',\n",
       " '2003',\n",
       " '2004',\n",
       " '2005',\n",
       " '2006',\n",
       " '2007',\n",
       " '2008',\n",
       " '2009',\n",
       " '2010',\n",
       " '2011',\n",
       " '2012',\n",
       " '2013',\n",
       " '2014',\n",
       " '2015',\n",
       " '2016',\n",
       " '2017',\n",
       " '2018',\n",
       " '2019',\n",
       " '2020',\n",
       " '2021',\n",
       " '2022',\n",
       " '2023']"
      ]
     },
     "execution_count": 44,
     "metadata": {},
     "output_type": "execute_result"
    }
   ],
   "source": [
    "years"
   ]
  }
 ],
 "metadata": {
  "kernelspec": {
   "display_name": "agilt_projektarbete",
   "language": "python",
   "name": "python3"
  },
  "language_info": {
   "codemirror_mode": {
    "name": "ipython",
    "version": 3
   },
   "file_extension": ".py",
   "mimetype": "text/x-python",
   "name": "python",
   "nbconvert_exporter": "python",
   "pygments_lexer": "ipython3",
   "version": "3.9.18"
  }
 },
 "nbformat": 4,
 "nbformat_minor": 2
}
