{
 "cells": [
  {
   "cell_type": "code",
   "execution_count": 1,
   "metadata": {},
   "outputs": [],
   "source": [
    "import sqlite3\n",
    "import pandas as pd"
   ]
  },
  {
   "cell_type": "markdown",
   "metadata": {},
   "source": [
    "Create database"
   ]
  },
  {
   "cell_type": "code",
   "execution_count": 2,
   "metadata": {},
   "outputs": [],
   "source": [
    "class WeatherDatabase:\n",
    "    url: str\n",
    "\n",
    "    def __init__(self, url: str, *args):\n",
    "        self.url = url\n",
    "        con = sqlite3.connect(url)\n",
    "        cur = con.cursor()\n",
    "        for table in args:\n",
    "            con.execute(\n",
    "                f\"\"\"\n",
    "                CREATE DATABASE IF NOT EXISTS Expences\n",
    "                \"\"\")\n",
    "        cur.close()\n",
    "        con.commit()\n",
    "        con.close()\n",
    "\n",
    "    def call_db(self, query, *args):\n",
    "        con = sqlite3.connect(self.url)\n",
    "        cur = con.cursor()\n",
    "        res = cur.execute(query, args)\n",
    "        data = res.fetchall()\n",
    "        cur.close()\n",
    "        con.commit()\n",
    "        con.close()\n",
    "        return data\n",
    "    "
   ]
  },
  {
   "cell_type": "code",
   "execution_count": 3,
   "metadata": {},
   "outputs": [],
   "source": [
    "db = WeatherDatabase('./WeatherGBG.db')"
   ]
  },
  {
   "cell_type": "markdown",
   "metadata": {},
   "source": [
    "Create table for average daily temperatures, full dataset"
   ]
  },
  {
   "cell_type": "code",
   "execution_count": 4,
   "metadata": {},
   "outputs": [
    {
     "data": {
      "text/plain": [
       "[]"
      ]
     },
     "execution_count": 4,
     "metadata": {},
     "output_type": "execute_result"
    }
   ],
   "source": [
    "db.call_db(\"\"\"\n",
    "    CREATE TABLE IF NOT EXISTS avg_daily_temp_data\n",
    "(   id INTEGER PRIMARY KEY AUTOINCREMENT,\n",
    "    Date DATE,\n",
    "    Quality TEXT,\n",
    "    Avg temp FLOAT,\n",
    "    Year DATE\n",
    ")\n",
    "\"\"\")"
   ]
  },
  {
   "cell_type": "code",
   "execution_count": 5,
   "metadata": {},
   "outputs": [],
   "source": [
    "insert_into_avg_daily_temp_table = \"\"\"\n",
    "INSERT INTO avg_daily_temp_data\n",
    "    (\n",
    "    Date, \n",
    "    Quality,\n",
    "    Avg,\n",
    "    Year\n",
    "    )\n",
    "VALUES\n",
    "    (\n",
    "    ?, ?, ?, ?\n",
    "    )\n",
    "\n",
    "\"\"\""
   ]
  },
  {
   "cell_type": "code",
   "execution_count": 6,
   "metadata": {},
   "outputs": [],
   "source": [
    "df = pd.read_csv('../data/Olof_Save_GBG_avg_daily_temp_data.csv')\n",
    "for i in df.itertuples(index=False):\n",
    "        db.call_db(insert_into_avg_daily_temp_table, str(i.Datum), str(i.Kvalitet), float(i.Snittemperatur), str(i.Year))"
   ]
  },
  {
   "cell_type": "markdown",
   "metadata": {},
   "source": [
    "Create table for average montly temperatures, full dataset"
   ]
  },
  {
   "cell_type": "code",
   "execution_count": 17,
   "metadata": {},
   "outputs": [
    {
     "data": {
      "text/plain": [
       "[]"
      ]
     },
     "execution_count": 17,
     "metadata": {},
     "output_type": "execute_result"
    }
   ],
   "source": [
    "db.call_db(\"\"\"\n",
    "    CREATE TABLE IF NOT EXISTS avg_monthly_temp_data\n",
    "(   id INTEGER PRIMARY KEY AUTOINCREMENT,\n",
    "    Year INT,\n",
    "    Month INT, \n",
    "    Monthly_avg FLOAT\n",
    ")\n",
    "\"\"\")"
   ]
  },
  {
   "cell_type": "code",
   "execution_count": 3,
   "metadata": {},
   "outputs": [],
   "source": [
    "# db.call_db(\"\"\"DROP TABLE avg_monthly_temp_data\"\"\" )"
   ]
  },
  {
   "cell_type": "code",
   "execution_count": 18,
   "metadata": {},
   "outputs": [],
   "source": [
    "insert_into_avg_monthly_temp_data = \"\"\"\n",
    "INSERT INTO avg_monthly_temp_data\n",
    "    (\n",
    "    Year, \n",
    "    Month, \n",
    "    Monthly_avg\n",
    "    )\n",
    "VALUES\n",
    "    (\n",
    "    ?, ?, ?\n",
    "    )\n",
    "\n",
    "\"\"\""
   ]
  },
  {
   "cell_type": "code",
   "execution_count": 19,
   "metadata": {},
   "outputs": [],
   "source": [
    "df = pd.read_csv('../data/Olof_Save_GBG_avg_monthly_temp_data.csv')\n",
    "for i in df.itertuples(index=False):\n",
    "        db.call_db(insert_into_avg_monthly_temp_data, int(i.Year), int(i.Month), float(i.Monthly_avg_temp))"
   ]
  },
  {
   "cell_type": "markdown",
   "metadata": {},
   "source": [
    "Create table with raw temperature data, GBG"
   ]
  },
  {
   "cell_type": "code",
   "execution_count": 25,
   "metadata": {},
   "outputs": [
    {
     "data": {
      "text/html": [
       "<div>\n",
       "<style scoped>\n",
       "    .dataframe tbody tr th:only-of-type {\n",
       "        vertical-align: middle;\n",
       "    }\n",
       "\n",
       "    .dataframe tbody tr th {\n",
       "        vertical-align: top;\n",
       "    }\n",
       "\n",
       "    .dataframe thead th {\n",
       "        text-align: right;\n",
       "    }\n",
       "</style>\n",
       "<table border=\"1\" class=\"dataframe\">\n",
       "  <thead>\n",
       "    <tr style=\"text-align: right;\">\n",
       "      <th></th>\n",
       "      <th>Datum</th>\n",
       "      <th>Tid_UTC</th>\n",
       "      <th>Lufttemperatur</th>\n",
       "      <th>Kvalitet</th>\n",
       "    </tr>\n",
       "  </thead>\n",
       "  <tbody>\n",
       "    <tr>\n",
       "      <th>0</th>\n",
       "      <td>1961-01-01</td>\n",
       "      <td>06:00:00</td>\n",
       "      <td>0.8</td>\n",
       "      <td>G</td>\n",
       "    </tr>\n",
       "    <tr>\n",
       "      <th>1</th>\n",
       "      <td>1961-01-01</td>\n",
       "      <td>12:00:00</td>\n",
       "      <td>1.0</td>\n",
       "      <td>G</td>\n",
       "    </tr>\n",
       "    <tr>\n",
       "      <th>2</th>\n",
       "      <td>1961-01-01</td>\n",
       "      <td>18:00:00</td>\n",
       "      <td>1.4</td>\n",
       "      <td>G</td>\n",
       "    </tr>\n",
       "    <tr>\n",
       "      <th>3</th>\n",
       "      <td>1961-01-02</td>\n",
       "      <td>06:00:00</td>\n",
       "      <td>1.8</td>\n",
       "      <td>G</td>\n",
       "    </tr>\n",
       "    <tr>\n",
       "      <th>4</th>\n",
       "      <td>1961-01-02</td>\n",
       "      <td>12:00:00</td>\n",
       "      <td>2.2</td>\n",
       "      <td>G</td>\n",
       "    </tr>\n",
       "    <tr>\n",
       "      <th>...</th>\n",
       "      <td>...</td>\n",
       "      <td>...</td>\n",
       "      <td>...</td>\n",
       "      <td>...</td>\n",
       "    </tr>\n",
       "    <tr>\n",
       "      <th>308145</th>\n",
       "      <td>2023-07-01</td>\n",
       "      <td>02:00:00</td>\n",
       "      <td>16.1</td>\n",
       "      <td>G</td>\n",
       "    </tr>\n",
       "    <tr>\n",
       "      <th>308146</th>\n",
       "      <td>2023-07-01</td>\n",
       "      <td>03:00:00</td>\n",
       "      <td>16.1</td>\n",
       "      <td>G</td>\n",
       "    </tr>\n",
       "    <tr>\n",
       "      <th>308147</th>\n",
       "      <td>2023-07-01</td>\n",
       "      <td>04:00:00</td>\n",
       "      <td>16.2</td>\n",
       "      <td>G</td>\n",
       "    </tr>\n",
       "    <tr>\n",
       "      <th>308148</th>\n",
       "      <td>2023-07-01</td>\n",
       "      <td>05:00:00</td>\n",
       "      <td>16.3</td>\n",
       "      <td>G</td>\n",
       "    </tr>\n",
       "    <tr>\n",
       "      <th>308149</th>\n",
       "      <td>2023-07-01</td>\n",
       "      <td>06:00:00</td>\n",
       "      <td>15.6</td>\n",
       "      <td>G</td>\n",
       "    </tr>\n",
       "  </tbody>\n",
       "</table>\n",
       "<p>308150 rows × 4 columns</p>\n",
       "</div>"
      ],
      "text/plain": [
       "             Datum   Tid_UTC  Lufttemperatur Kvalitet\n",
       "0       1961-01-01  06:00:00             0.8        G\n",
       "1       1961-01-01  12:00:00             1.0        G\n",
       "2       1961-01-01  18:00:00             1.4        G\n",
       "3       1961-01-02  06:00:00             1.8        G\n",
       "4       1961-01-02  12:00:00             2.2        G\n",
       "...            ...       ...             ...      ...\n",
       "308145  2023-07-01  02:00:00            16.1        G\n",
       "308146  2023-07-01  03:00:00            16.1        G\n",
       "308147  2023-07-01  04:00:00            16.2        G\n",
       "308148  2023-07-01  05:00:00            16.3        G\n",
       "308149  2023-07-01  06:00:00            15.6        G\n",
       "\n",
       "[308150 rows x 4 columns]"
      ]
     },
     "execution_count": 25,
     "metadata": {},
     "output_type": "execute_result"
    }
   ],
   "source": [
    "df_raw_gbg = pd.read_csv('../data/smhi_temp_data_gbg.csv', sep=';', usecols=[0, 1, 2, 3], header=11)\n",
    "df_raw_gbg = df_raw_gbg.rename(columns=({'Tid (UTC)': 'Tid_UTC'}))\n",
    "df_raw_gbg\n",
    "# header countr only populated rows"
   ]
  },
  {
   "cell_type": "code",
   "execution_count": 15,
   "metadata": {},
   "outputs": [
    {
     "data": {
      "text/plain": [
       "[]"
      ]
     },
     "execution_count": 15,
     "metadata": {},
     "output_type": "execute_result"
    }
   ],
   "source": [
    "db.call_db(\"\"\"\n",
    "    CREATE TABLE IF NOT EXISTS temp_GBG_raw\n",
    "(   id INTEGER PRIMARY KEY AUTOINCREMENT,\n",
    "    Datum STR,\n",
    "    Tid_UTC STR, \n",
    "    Lufttemperatur FLOAT,\n",
    "    Kvalitet STR\n",
    ")\n",
    "\"\"\")"
   ]
  },
  {
   "cell_type": "code",
   "execution_count": 27,
   "metadata": {},
   "outputs": [],
   "source": [
    "insert_into_temp_GBG_raw = \"\"\"\n",
    "INSERT INTO temp_GBG_raw\n",
    "    (\n",
    "    Datum, \n",
    "    Tid_UTC, \n",
    "    Lufttemperatur,\n",
    "    Kvalitet\n",
    "    )\n",
    "VALUES\n",
    "    (\n",
    "    ?, ?, ?, ?\n",
    "    )\n",
    "\n",
    "\"\"\""
   ]
  },
  {
   "cell_type": "code",
   "execution_count": 28,
   "metadata": {},
   "outputs": [],
   "source": [
    "for i in df_raw_gbg.itertuples(index=False):\n",
    "    db.call_db(insert_into_temp_GBG_raw, str(i.Datum), str(i.Tid_UTC), float(i.Lufttemperatur), str(i.Kvalitet))"
   ]
  },
  {
   "cell_type": "code",
   "execution_count": null,
   "metadata": {},
   "outputs": [],
   "source": [
    "add_colum = \"\"\"ALTER TABLE Temp_GBG_raw\n",
    "                ADD COLUMN Datum_date DATE\"\"\"\n",
    "db.call_db(add_colum)"
   ]
  },
  {
   "cell_type": "code",
   "execution_count": null,
   "metadata": {},
   "outputs": [],
   "source": [
    "add_dates_to_column = \"\"\"UPDATE Temp_GBG_raw\n",
    "                            SET Datum_date = DATE(Datum)\"\"\"\n",
    "db.call_db(add_dates_to_column)"
   ]
  },
  {
   "cell_type": "markdown",
   "metadata": {},
   "source": [
    "Create table with raw temperature data, Säve"
   ]
  },
  {
   "cell_type": "code",
   "execution_count": 12,
   "metadata": {},
   "outputs": [
    {
     "data": {
      "text/html": [
       "<div>\n",
       "<style scoped>\n",
       "    .dataframe tbody tr th:only-of-type {\n",
       "        vertical-align: middle;\n",
       "    }\n",
       "\n",
       "    .dataframe tbody tr th {\n",
       "        vertical-align: top;\n",
       "    }\n",
       "\n",
       "    .dataframe thead th {\n",
       "        text-align: right;\n",
       "    }\n",
       "</style>\n",
       "<table border=\"1\" class=\"dataframe\">\n",
       "  <thead>\n",
       "    <tr style=\"text-align: right;\">\n",
       "      <th></th>\n",
       "      <th>Datum</th>\n",
       "      <th>Tid_UTC</th>\n",
       "      <th>Lufttemperatur</th>\n",
       "      <th>Kvalitet</th>\n",
       "    </tr>\n",
       "  </thead>\n",
       "  <tbody>\n",
       "    <tr>\n",
       "      <th>0</th>\n",
       "      <td>1944-01-01</td>\n",
       "      <td>07:00:00</td>\n",
       "      <td>1.6</td>\n",
       "      <td>G</td>\n",
       "    </tr>\n",
       "    <tr>\n",
       "      <th>1</th>\n",
       "      <td>1944-01-01</td>\n",
       "      <td>13:00:00</td>\n",
       "      <td>3.8</td>\n",
       "      <td>G</td>\n",
       "    </tr>\n",
       "    <tr>\n",
       "      <th>2</th>\n",
       "      <td>1944-01-01</td>\n",
       "      <td>18:00:00</td>\n",
       "      <td>4.2</td>\n",
       "      <td>G</td>\n",
       "    </tr>\n",
       "    <tr>\n",
       "      <th>3</th>\n",
       "      <td>1944-01-02</td>\n",
       "      <td>07:00:00</td>\n",
       "      <td>0.6</td>\n",
       "      <td>G</td>\n",
       "    </tr>\n",
       "    <tr>\n",
       "      <th>4</th>\n",
       "      <td>1944-01-02</td>\n",
       "      <td>13:00:00</td>\n",
       "      <td>3.8</td>\n",
       "      <td>G</td>\n",
       "    </tr>\n",
       "    <tr>\n",
       "      <th>...</th>\n",
       "      <td>...</td>\n",
       "      <td>...</td>\n",
       "      <td>...</td>\n",
       "      <td>...</td>\n",
       "    </tr>\n",
       "    <tr>\n",
       "      <th>435387</th>\n",
       "      <td>2006-12-05</td>\n",
       "      <td>09:00:00</td>\n",
       "      <td>9.4</td>\n",
       "      <td>G</td>\n",
       "    </tr>\n",
       "    <tr>\n",
       "      <th>435388</th>\n",
       "      <td>2006-12-05</td>\n",
       "      <td>10:00:00</td>\n",
       "      <td>10.1</td>\n",
       "      <td>Y</td>\n",
       "    </tr>\n",
       "    <tr>\n",
       "      <th>435389</th>\n",
       "      <td>2006-12-05</td>\n",
       "      <td>11:00:00</td>\n",
       "      <td>10.8</td>\n",
       "      <td>Y</td>\n",
       "    </tr>\n",
       "    <tr>\n",
       "      <th>435390</th>\n",
       "      <td>2006-12-05</td>\n",
       "      <td>12:00:00</td>\n",
       "      <td>10.9</td>\n",
       "      <td>G</td>\n",
       "    </tr>\n",
       "    <tr>\n",
       "      <th>435391</th>\n",
       "      <td>2006-12-05</td>\n",
       "      <td>13:00:00</td>\n",
       "      <td>10.8</td>\n",
       "      <td>Y</td>\n",
       "    </tr>\n",
       "  </tbody>\n",
       "</table>\n",
       "<p>435392 rows × 4 columns</p>\n",
       "</div>"
      ],
      "text/plain": [
       "             Datum   Tid_UTC  Lufttemperatur Kvalitet\n",
       "0       1944-01-01  07:00:00             1.6        G\n",
       "1       1944-01-01  13:00:00             3.8        G\n",
       "2       1944-01-01  18:00:00             4.2        G\n",
       "3       1944-01-02  07:00:00             0.6        G\n",
       "4       1944-01-02  13:00:00             3.8        G\n",
       "...            ...       ...             ...      ...\n",
       "435387  2006-12-05  09:00:00             9.4        G\n",
       "435388  2006-12-05  10:00:00            10.1        Y\n",
       "435389  2006-12-05  11:00:00            10.8        Y\n",
       "435390  2006-12-05  12:00:00            10.9        G\n",
       "435391  2006-12-05  13:00:00            10.8        Y\n",
       "\n",
       "[435392 rows x 4 columns]"
      ]
     },
     "execution_count": 12,
     "metadata": {},
     "output_type": "execute_result"
    }
   ],
   "source": [
    "df_raw_temp_data_save = pd.read_csv('../data/smhi_temp_data_save.csv', usecols=[0, 1, 2, 3], sep=';', header=6)\n",
    "df_raw_temp_data_save = df_raw_temp_data_save.rename(columns=({'Tid (UTC)': 'Tid_UTC'}))\n",
    "df_raw_temp_data_save"
   ]
  },
  {
   "cell_type": "code",
   "execution_count": null,
   "metadata": {},
   "outputs": [],
   "source": [
    "db.call_db(\"\"\"\n",
    "    CREATE TABLE IF NOT EXISTS temp_Save_raw\n",
    "(   id INTEGER PRIMARY KEY AUTOINCREMENT,\n",
    "    Datum STR,\n",
    "    Tid_UTC STR, \n",
    "    Lufttemperatur FLOAT,\n",
    "    Kvalitet STR\n",
    ")\n",
    "\"\"\")"
   ]
  },
  {
   "cell_type": "code",
   "execution_count": null,
   "metadata": {},
   "outputs": [],
   "source": [
    "insert_into_temp_Save_raw = \"\"\"\n",
    "INSERT INTO temp_Save_raw\n",
    "    (\n",
    "    Datum, \n",
    "    Tid_UTC, \n",
    "    Lufttemperatur,\n",
    "    Kvalitet\n",
    "    )\n",
    "VALUES\n",
    "    (\n",
    "    ?, ?, ?, ?\n",
    "    )\n",
    "\n",
    "\"\"\""
   ]
  },
  {
   "cell_type": "code",
   "execution_count": null,
   "metadata": {},
   "outputs": [],
   "source": [
    "for i in df_raw_temp_data_save.itertuples(index=False):\n",
    "    db.call_db(insert_into_temp_Save_raw, str(i.Datum), str(i.Tid_UTC), float(i.Lufttemperatur), str(i.Kvalitet))"
   ]
  },
  {
   "cell_type": "code",
   "execution_count": null,
   "metadata": {},
   "outputs": [],
   "source": [
    "add_colum = \"\"\"ALTER TABLE Temp_Save_raw\n",
    "                ADD COLUMN Datum_date DATE\"\"\"\n",
    "db.call_db(add_colum)\n",
    "add_dates_to_column = \"\"\"UPDATE Temp_Save_raw\n",
    "                            SET Datum_date = DATE(Datum)\"\"\"\n",
    "db.call_db(add_dates_to_column)"
   ]
  },
  {
   "cell_type": "markdown",
   "metadata": {},
   "source": [
    "Create table for raw precipitation data, GBG"
   ]
  },
  {
   "cell_type": "code",
   "execution_count": 14,
   "metadata": {},
   "outputs": [
    {
     "data": {
      "text/html": [
       "<div>\n",
       "<style scoped>\n",
       "    .dataframe tbody tr th:only-of-type {\n",
       "        vertical-align: middle;\n",
       "    }\n",
       "\n",
       "    .dataframe tbody tr th {\n",
       "        vertical-align: top;\n",
       "    }\n",
       "\n",
       "    .dataframe thead th {\n",
       "        text-align: right;\n",
       "    }\n",
       "</style>\n",
       "<table border=\"1\" class=\"dataframe\">\n",
       "  <thead>\n",
       "    <tr style=\"text-align: right;\">\n",
       "      <th></th>\n",
       "      <th>Från_datum_tid_UTC</th>\n",
       "      <th>Till_datum_tid_UTC</th>\n",
       "      <th>Representativt_dygn</th>\n",
       "      <th>Nederbördsmängd</th>\n",
       "      <th>Kvalitet</th>\n",
       "    </tr>\n",
       "  </thead>\n",
       "  <tbody>\n",
       "    <tr>\n",
       "      <th>0</th>\n",
       "      <td>1961-01-01 06:00:01</td>\n",
       "      <td>1961-01-02 06:00:00</td>\n",
       "      <td>1961-01-01</td>\n",
       "      <td>0.3</td>\n",
       "      <td>Y</td>\n",
       "    </tr>\n",
       "    <tr>\n",
       "      <th>1</th>\n",
       "      <td>1961-01-02 06:00:01</td>\n",
       "      <td>1961-01-03 06:00:00</td>\n",
       "      <td>1961-01-02</td>\n",
       "      <td>0.5</td>\n",
       "      <td>Y</td>\n",
       "    </tr>\n",
       "    <tr>\n",
       "      <th>2</th>\n",
       "      <td>1961-01-03 06:00:01</td>\n",
       "      <td>1961-01-04 06:00:00</td>\n",
       "      <td>1961-01-03</td>\n",
       "      <td>8.4</td>\n",
       "      <td>Y</td>\n",
       "    </tr>\n",
       "    <tr>\n",
       "      <th>3</th>\n",
       "      <td>1961-01-04 06:00:01</td>\n",
       "      <td>1961-01-05 06:00:00</td>\n",
       "      <td>1961-01-04</td>\n",
       "      <td>0.0</td>\n",
       "      <td>Y</td>\n",
       "    </tr>\n",
       "    <tr>\n",
       "      <th>4</th>\n",
       "      <td>1961-01-05 06:00:01</td>\n",
       "      <td>1961-01-06 06:00:00</td>\n",
       "      <td>1961-01-05</td>\n",
       "      <td>2.0</td>\n",
       "      <td>Y</td>\n",
       "    </tr>\n",
       "    <tr>\n",
       "      <th>...</th>\n",
       "      <td>...</td>\n",
       "      <td>...</td>\n",
       "      <td>...</td>\n",
       "      <td>...</td>\n",
       "      <td>...</td>\n",
       "    </tr>\n",
       "    <tr>\n",
       "      <th>15487</th>\n",
       "      <td>2023-06-26 06:00:01</td>\n",
       "      <td>2023-06-27 06:00:00</td>\n",
       "      <td>2023-06-26</td>\n",
       "      <td>18.5</td>\n",
       "      <td>G</td>\n",
       "    </tr>\n",
       "    <tr>\n",
       "      <th>15488</th>\n",
       "      <td>2023-06-27 06:00:01</td>\n",
       "      <td>2023-06-28 06:00:00</td>\n",
       "      <td>2023-06-27</td>\n",
       "      <td>10.6</td>\n",
       "      <td>G</td>\n",
       "    </tr>\n",
       "    <tr>\n",
       "      <th>15489</th>\n",
       "      <td>2023-06-28 06:00:01</td>\n",
       "      <td>2023-06-29 06:00:00</td>\n",
       "      <td>2023-06-28</td>\n",
       "      <td>0.0</td>\n",
       "      <td>G</td>\n",
       "    </tr>\n",
       "    <tr>\n",
       "      <th>15490</th>\n",
       "      <td>2023-06-29 06:00:01</td>\n",
       "      <td>2023-06-30 06:00:00</td>\n",
       "      <td>2023-06-29</td>\n",
       "      <td>5.0</td>\n",
       "      <td>G</td>\n",
       "    </tr>\n",
       "    <tr>\n",
       "      <th>15491</th>\n",
       "      <td>2023-06-30 06:00:01</td>\n",
       "      <td>2023-07-01 06:00:00</td>\n",
       "      <td>2023-06-30</td>\n",
       "      <td>0.2</td>\n",
       "      <td>G</td>\n",
       "    </tr>\n",
       "  </tbody>\n",
       "</table>\n",
       "<p>15492 rows × 5 columns</p>\n",
       "</div>"
      ],
      "text/plain": [
       "        Från_datum_tid_UTC   Till_datum_tid_UTC Representativt_dygn  \\\n",
       "0      1961-01-01 06:00:01  1961-01-02 06:00:00          1961-01-01   \n",
       "1      1961-01-02 06:00:01  1961-01-03 06:00:00          1961-01-02   \n",
       "2      1961-01-03 06:00:01  1961-01-04 06:00:00          1961-01-03   \n",
       "3      1961-01-04 06:00:01  1961-01-05 06:00:00          1961-01-04   \n",
       "4      1961-01-05 06:00:01  1961-01-06 06:00:00          1961-01-05   \n",
       "...                    ...                  ...                 ...   \n",
       "15487  2023-06-26 06:00:01  2023-06-27 06:00:00          2023-06-26   \n",
       "15488  2023-06-27 06:00:01  2023-06-28 06:00:00          2023-06-27   \n",
       "15489  2023-06-28 06:00:01  2023-06-29 06:00:00          2023-06-28   \n",
       "15490  2023-06-29 06:00:01  2023-06-30 06:00:00          2023-06-29   \n",
       "15491  2023-06-30 06:00:01  2023-07-01 06:00:00          2023-06-30   \n",
       "\n",
       "       Nederbördsmängd Kvalitet  \n",
       "0                  0.3        Y  \n",
       "1                  0.5        Y  \n",
       "2                  8.4        Y  \n",
       "3                  0.0        Y  \n",
       "4                  2.0        Y  \n",
       "...                ...      ...  \n",
       "15487             18.5        G  \n",
       "15488             10.6        G  \n",
       "15489              0.0        G  \n",
       "15490              5.0        G  \n",
       "15491              0.2        G  \n",
       "\n",
       "[15492 rows x 5 columns]"
      ]
     },
     "execution_count": 14,
     "metadata": {},
     "output_type": "execute_result"
    }
   ],
   "source": [
    "df_precipitation_raw_gbg = pd.read_csv('../data/smhi_percipitation_data.csv', sep=';', usecols=[0, 1, 2, 3, 4], header=11)\n",
    "df_precipitation_raw_gbg = df_precipitation_raw_gbg.rename(columns=({'Från Datum Tid (UTC)': 'Från_datum_tid_UTC', 'Till Datum Tid (UTC)': 'Till_datum_tid_UTC', 'Representativt dygn': 'Representativt_dygn'}))\n",
    "df_precipitation_raw_gbg"
   ]
  },
  {
   "cell_type": "code",
   "execution_count": 20,
   "metadata": {},
   "outputs": [
    {
     "data": {
      "text/plain": [
       "[]"
      ]
     },
     "execution_count": 20,
     "metadata": {},
     "output_type": "execute_result"
    }
   ],
   "source": [
    "db.call_db(\"\"\"\n",
    "    CREATE TABLE IF NOT EXISTS precipitation_data_GBG_raw\n",
    "(   id INTEGER PRIMARY KEY AUTOINCREMENT,\n",
    "    Tid_from_UTC STR,\n",
    "    Tid_tom_UTC STR, \n",
    "    Representativt_dygn STR,\n",
    "    Nederbördsmängd FLOAT,\n",
    "    Kvalitet STR\n",
    ")\n",
    "\"\"\")"
   ]
  },
  {
   "cell_type": "code",
   "execution_count": 21,
   "metadata": {},
   "outputs": [],
   "source": [
    "insert_into_precipitation_GBG_raw = \"\"\"\n",
    "INSERT INTO precipitation_data_GBG_raw\n",
    "    (\n",
    "    Tid_from_UTC,\n",
    "    Tid_tom_UTC, \n",
    "    Representativt_dygn,\n",
    "    Nederbördsmängd,\n",
    "    Kvalitet\n",
    "    )\n",
    "VALUES\n",
    "    (\n",
    "    ?, ?, ?, ?, ?\n",
    "    )\n",
    "\n",
    "\"\"\""
   ]
  },
  {
   "cell_type": "code",
   "execution_count": 22,
   "metadata": {},
   "outputs": [],
   "source": [
    "for i in df_precipitation_raw_gbg.itertuples(index=False):\n",
    "    db.call_db(insert_into_precipitation_GBG_raw, str(i.Från_datum_tid_UTC), str(i.Till_datum_tid_UTC), str(i.Representativt_dygn), float(i.Nederbördsmängd), str(i.Kvalitet))"
   ]
  },
  {
   "cell_type": "code",
   "execution_count": null,
   "metadata": {},
   "outputs": [],
   "source": [
    "add_colum_gbg = \"\"\"ALTER TABLE precipitation_data_GBG_raw\n",
    "                ADD COLUMN Datum_date DATE\"\"\"\n",
    "db.call_db(add_colum_gbg)\n",
    "add_dates_to_column_gbg = \"\"\"UPDATE precipitation_data_GBG_raw\n",
    "                            SET Datum_date = DATE(Representativt_dygn)\"\"\"\n",
    "db.call_db(add_dates_to_column_gbg)"
   ]
  },
  {
   "cell_type": "markdown",
   "metadata": {},
   "source": [
    "Create table for raw precipitation data, Säve\n"
   ]
  },
  {
   "cell_type": "code",
   "execution_count": 24,
   "metadata": {},
   "outputs": [
    {
     "data": {
      "text/html": [
       "<div>\n",
       "<style scoped>\n",
       "    .dataframe tbody tr th:only-of-type {\n",
       "        vertical-align: middle;\n",
       "    }\n",
       "\n",
       "    .dataframe tbody tr th {\n",
       "        vertical-align: top;\n",
       "    }\n",
       "\n",
       "    .dataframe thead th {\n",
       "        text-align: right;\n",
       "    }\n",
       "</style>\n",
       "<table border=\"1\" class=\"dataframe\">\n",
       "  <thead>\n",
       "    <tr style=\"text-align: right;\">\n",
       "      <th></th>\n",
       "      <th>Från_datum_tid_UTC</th>\n",
       "      <th>Till_datum_tid_UTC</th>\n",
       "      <th>Representativt_dygn</th>\n",
       "      <th>Nederbördsmängd</th>\n",
       "      <th>Kvalitet</th>\n",
       "    </tr>\n",
       "  </thead>\n",
       "  <tbody>\n",
       "    <tr>\n",
       "      <th>0</th>\n",
       "      <td>1944-01-01 07:00:01</td>\n",
       "      <td>1944-01-02 07:00:00</td>\n",
       "      <td>1944-01-01</td>\n",
       "      <td>0.2</td>\n",
       "      <td>G</td>\n",
       "    </tr>\n",
       "    <tr>\n",
       "      <th>1</th>\n",
       "      <td>1944-01-02 07:00:01</td>\n",
       "      <td>1944-01-03 07:00:00</td>\n",
       "      <td>1944-01-02</td>\n",
       "      <td>0.4</td>\n",
       "      <td>G</td>\n",
       "    </tr>\n",
       "    <tr>\n",
       "      <th>2</th>\n",
       "      <td>1944-01-03 07:00:01</td>\n",
       "      <td>1944-01-04 07:00:00</td>\n",
       "      <td>1944-01-03</td>\n",
       "      <td>0.0</td>\n",
       "      <td>G</td>\n",
       "    </tr>\n",
       "    <tr>\n",
       "      <th>3</th>\n",
       "      <td>1944-01-04 07:00:01</td>\n",
       "      <td>1944-01-05 07:00:00</td>\n",
       "      <td>1944-01-04</td>\n",
       "      <td>0.0</td>\n",
       "      <td>G</td>\n",
       "    </tr>\n",
       "    <tr>\n",
       "      <th>4</th>\n",
       "      <td>1944-01-05 07:00:01</td>\n",
       "      <td>1944-01-06 07:00:00</td>\n",
       "      <td>1944-01-05</td>\n",
       "      <td>2.1</td>\n",
       "      <td>G</td>\n",
       "    </tr>\n",
       "    <tr>\n",
       "      <th>...</th>\n",
       "      <td>...</td>\n",
       "      <td>...</td>\n",
       "      <td>...</td>\n",
       "      <td>...</td>\n",
       "      <td>...</td>\n",
       "    </tr>\n",
       "    <tr>\n",
       "      <th>21514</th>\n",
       "      <td>2002-11-26 06:00:01</td>\n",
       "      <td>2002-11-27 06:00:00</td>\n",
       "      <td>2002-11-26</td>\n",
       "      <td>4.1</td>\n",
       "      <td>G</td>\n",
       "    </tr>\n",
       "    <tr>\n",
       "      <th>21515</th>\n",
       "      <td>2002-11-27 06:00:01</td>\n",
       "      <td>2002-11-28 06:00:00</td>\n",
       "      <td>2002-11-27</td>\n",
       "      <td>0.0</td>\n",
       "      <td>G</td>\n",
       "    </tr>\n",
       "    <tr>\n",
       "      <th>21516</th>\n",
       "      <td>2002-11-28 06:00:01</td>\n",
       "      <td>2002-11-29 06:00:00</td>\n",
       "      <td>2002-11-28</td>\n",
       "      <td>3.9</td>\n",
       "      <td>G</td>\n",
       "    </tr>\n",
       "    <tr>\n",
       "      <th>21517</th>\n",
       "      <td>2002-11-29 06:00:01</td>\n",
       "      <td>2002-11-30 06:00:00</td>\n",
       "      <td>2002-11-29</td>\n",
       "      <td>7.1</td>\n",
       "      <td>G</td>\n",
       "    </tr>\n",
       "    <tr>\n",
       "      <th>21518</th>\n",
       "      <td>2002-11-30 06:00:01</td>\n",
       "      <td>2002-12-01 06:00:00</td>\n",
       "      <td>2002-11-30</td>\n",
       "      <td>5.0</td>\n",
       "      <td>G</td>\n",
       "    </tr>\n",
       "  </tbody>\n",
       "</table>\n",
       "<p>21519 rows × 5 columns</p>\n",
       "</div>"
      ],
      "text/plain": [
       "        Från_datum_tid_UTC   Till_datum_tid_UTC Representativt_dygn  \\\n",
       "0      1944-01-01 07:00:01  1944-01-02 07:00:00          1944-01-01   \n",
       "1      1944-01-02 07:00:01  1944-01-03 07:00:00          1944-01-02   \n",
       "2      1944-01-03 07:00:01  1944-01-04 07:00:00          1944-01-03   \n",
       "3      1944-01-04 07:00:01  1944-01-05 07:00:00          1944-01-04   \n",
       "4      1944-01-05 07:00:01  1944-01-06 07:00:00          1944-01-05   \n",
       "...                    ...                  ...                 ...   \n",
       "21514  2002-11-26 06:00:01  2002-11-27 06:00:00          2002-11-26   \n",
       "21515  2002-11-27 06:00:01  2002-11-28 06:00:00          2002-11-27   \n",
       "21516  2002-11-28 06:00:01  2002-11-29 06:00:00          2002-11-28   \n",
       "21517  2002-11-29 06:00:01  2002-11-30 06:00:00          2002-11-29   \n",
       "21518  2002-11-30 06:00:01  2002-12-01 06:00:00          2002-11-30   \n",
       "\n",
       "       Nederbördsmängd Kvalitet  \n",
       "0                  0.2        G  \n",
       "1                  0.4        G  \n",
       "2                  0.0        G  \n",
       "3                  0.0        G  \n",
       "4                  2.1        G  \n",
       "...                ...      ...  \n",
       "21514              4.1        G  \n",
       "21515              0.0        G  \n",
       "21516              3.9        G  \n",
       "21517              7.1        G  \n",
       "21518              5.0        G  \n",
       "\n",
       "[21519 rows x 5 columns]"
      ]
     },
     "execution_count": 24,
     "metadata": {},
     "output_type": "execute_result"
    }
   ],
   "source": [
    "df_precipitation_raw_save = pd.read_csv('../data/smhi_precipitation_save.csv', sep=';', usecols=[0, 1, 2, 3, 4], header=6)\n",
    "df_precipitation_raw_save = df_precipitation_raw_save.rename(columns=({'Från Datum Tid (UTC)': 'Från_datum_tid_UTC', 'Till Datum Tid (UTC)': 'Till_datum_tid_UTC', 'Representativt dygn': 'Representativt_dygn'}))\n",
    "df_precipitation_raw_save"
   ]
  },
  {
   "cell_type": "code",
   "execution_count": 25,
   "metadata": {},
   "outputs": [
    {
     "data": {
      "text/plain": [
       "[]"
      ]
     },
     "execution_count": 25,
     "metadata": {},
     "output_type": "execute_result"
    }
   ],
   "source": [
    "db.call_db(\"\"\"\n",
    "    CREATE TABLE IF NOT EXISTS precipitation_data_Save_raw\n",
    "(   id INTEGER PRIMARY KEY AUTOINCREMENT,\n",
    "    Tid_from_UTC STR,\n",
    "    Tid_tom_UTC STR, \n",
    "    Representativt_dygn STR,\n",
    "    Nederbördsmängd FLOAT,\n",
    "    Kvalitet STR\n",
    ")\n",
    "\"\"\")"
   ]
  },
  {
   "cell_type": "code",
   "execution_count": 27,
   "metadata": {},
   "outputs": [],
   "source": [
    "insert_into_precipitation_Save_raw = (\"\"\"\n",
    "INSERT INTO precipitation_data_Save_raw\n",
    "    (\n",
    "    Tid_from_UTC,\n",
    "    Tid_tom_UTC, \n",
    "    Representativt_dygn,\n",
    "    Nederbördsmängd,\n",
    "    Kvalitet\n",
    "    )\n",
    "VALUES\n",
    "    (\n",
    "    ?, ?, ?, ?, ?\n",
    "    )\n",
    "\n",
    "\"\"\")"
   ]
  },
  {
   "cell_type": "code",
   "execution_count": 28,
   "metadata": {},
   "outputs": [],
   "source": [
    "for i in df_precipitation_raw_save.itertuples(index=False):\n",
    "    db.call_db(insert_into_precipitation_Save_raw, str(i.Från_datum_tid_UTC), str(i.Till_datum_tid_UTC), str(i.Representativt_dygn), float(i.Nederbördsmängd), str(i.Kvalitet))"
   ]
  },
  {
   "cell_type": "code",
   "execution_count": null,
   "metadata": {},
   "outputs": [],
   "source": [
    "add_colum_save = \"\"\"ALTER TABLE precipitation_data_save_raw\n",
    "                ADD COLUMN Datum_date DATE\"\"\"\n",
    "db.call_db(add_colum_save)\n",
    "add_dates_to_column_save = \"\"\"UPDATE precipitation_data_save_raw\n",
    "                            SET Datum_date = DATE(Representativt_dygn)\"\"\"\n",
    "db.call_db(add_dates_to_column_save)"
   ]
  }
 ],
 "metadata": {
  "kernelspec": {
   "display_name": "agilt_projektarbete",
   "language": "python",
   "name": "python3"
  },
  "language_info": {
   "codemirror_mode": {
    "name": "ipython",
    "version": 3
   },
   "file_extension": ".py",
   "mimetype": "text/x-python",
   "name": "python",
   "nbconvert_exporter": "python",
   "pygments_lexer": "ipython3",
   "version": "3.9.18"
  }
 },
 "nbformat": 4,
 "nbformat_minor": 2
}
