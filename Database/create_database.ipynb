{
 "cells": [
  {
   "cell_type": "code",
   "execution_count": 1,
   "metadata": {},
   "outputs": [],
   "source": [
    "import sqlite3\n",
    "import pandas as pd"
   ]
  },
  {
   "cell_type": "code",
   "execution_count": 2,
   "metadata": {},
   "outputs": [],
   "source": [
    "class WeatherDatabase:\n",
    "    url: str\n",
    "\n",
    "    def __init__(self, url: str, *args):\n",
    "        self.url = url\n",
    "        con = sqlite3.connect(url)\n",
    "        cur = con.cursor()\n",
    "        for table in args:\n",
    "            con.execute(\n",
    "                f\"\"\"\n",
    "                CREATE DATABASE IF NOT EXISTS Expences\n",
    "                \"\"\")\n",
    "        cur.close()\n",
    "        con.commit()\n",
    "        con.close()\n",
    "\n",
    "    def call_db(self, query, *args):\n",
    "        con = sqlite3.connect(self.url)\n",
    "        cur = con.cursor()\n",
    "        res = cur.execute(query, args)\n",
    "        data = res.fetchall()\n",
    "        cur.close()\n",
    "        con.commit()\n",
    "        con.close()\n",
    "        return data\n",
    "    "
   ]
  },
  {
   "cell_type": "code",
   "execution_count": 3,
   "metadata": {},
   "outputs": [],
   "source": [
    "db = WeatherDatabase('./WeatherBGB.db')"
   ]
  },
  {
   "cell_type": "code",
   "execution_count": 4,
   "metadata": {},
   "outputs": [
    {
     "data": {
      "text/plain": [
       "[]"
      ]
     },
     "execution_count": 4,
     "metadata": {},
     "output_type": "execute_result"
    }
   ],
   "source": [
    "db.call_db(\"\"\"\n",
    "    CREATE TABLE IF NOT EXISTS avg_daily_temp_data\n",
    "(   id INTEGER PRIMARY KEY AUTOINCREMENT,\n",
    "    Date DATE,\n",
    "    Quality TEXT,\n",
    "    Avg temp FLOAT,\n",
    "    Year DATE\n",
    ")\n",
    "\"\"\")"
   ]
  },
  {
   "cell_type": "code",
   "execution_count": 5,
   "metadata": {},
   "outputs": [],
   "source": [
    "insert_into_avg_daily_temp_table = \"\"\"\n",
    "INSERT INTO avg_daily_temp_data\n",
    "    (\n",
    "    Date, \n",
    "    Quality,\n",
    "    Avg,\n",
    "    Year\n",
    "    )\n",
    "VALUES\n",
    "    (\n",
    "    ?, ?, ?, ?\n",
    "    )\n",
    "\n",
    "\"\"\""
   ]
  },
  {
   "cell_type": "code",
   "execution_count": 6,
   "metadata": {},
   "outputs": [],
   "source": [
    "df = pd.read_csv('../data/Olof_Save_GBG_avg_daily_temp_data.csv')\n",
    "for i in df.itertuples(index=False):\n",
    "        db.call_db(insert_into_avg_daily_temp_table, str(i.Datum), str(i.Kvalitet), float(i.Snittemperatur), str(i.Year))"
   ]
  },
  {
   "cell_type": "code",
   "execution_count": 17,
   "metadata": {},
   "outputs": [
    {
     "data": {
      "text/plain": [
       "[]"
      ]
     },
     "execution_count": 17,
     "metadata": {},
     "output_type": "execute_result"
    }
   ],
   "source": [
    "db.call_db(\"\"\"\n",
    "    CREATE TABLE IF NOT EXISTS avg_monthly_temp_data\n",
    "(   id INTEGER PRIMARY KEY AUTOINCREMENT,\n",
    "    Year INT,\n",
    "    Month INT, \n",
    "    Monthly_avg FLOAT\n",
    ")\n",
    "\"\"\")"
   ]
  },
  {
   "cell_type": "code",
   "execution_count": 16,
   "metadata": {},
   "outputs": [
    {
     "data": {
      "text/plain": [
       "[]"
      ]
     },
     "execution_count": 16,
     "metadata": {},
     "output_type": "execute_result"
    }
   ],
   "source": [
    "# db.call_db(\"\"\"DROP TABLE avg_monthly_temp_data\"\"\" )"
   ]
  },
  {
   "cell_type": "code",
   "execution_count": 18,
   "metadata": {},
   "outputs": [],
   "source": [
    "insert_into_avg_monthly_temp_data = \"\"\"\n",
    "INSERT INTO avg_monthly_temp_data\n",
    "    (\n",
    "    Year, \n",
    "    Month, \n",
    "    Monthly_avg\n",
    "    )\n",
    "VALUES\n",
    "    (\n",
    "    ?, ?, ?\n",
    "    )\n",
    "\n",
    "\"\"\""
   ]
  },
  {
   "cell_type": "code",
   "execution_count": 19,
   "metadata": {},
   "outputs": [],
   "source": [
    "df = pd.read_csv('../data/Olof_Save_GBG_avg_monthly_temp_data.csv')\n",
    "for i in df.itertuples(index=False):\n",
    "        db.call_db(insert_into_avg_monthly_temp_data, int(i.Year), int(i.Month), float(i.Monthly_avg_temp))"
   ]
  }
 ],
 "metadata": {
  "kernelspec": {
   "display_name": "agilt_projektarbete",
   "language": "python",
   "name": "python3"
  },
  "language_info": {
   "codemirror_mode": {
    "name": "ipython",
    "version": 3
   },
   "file_extension": ".py",
   "mimetype": "text/x-python",
   "name": "python",
   "nbconvert_exporter": "python",
   "pygments_lexer": "ipython3",
   "version": "3.9.18"
  }
 },
 "nbformat": 4,
 "nbformat_minor": 2
}
