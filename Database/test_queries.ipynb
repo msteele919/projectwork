{
 "cells": [
  {
   "cell_type": "code",
   "execution_count": 1,
   "metadata": {},
   "outputs": [],
   "source": [
    "import pandas as pd\n",
    "import sqlite3"
   ]
  },
  {
   "cell_type": "code",
   "execution_count": 2,
   "metadata": {},
   "outputs": [],
   "source": [
    "class WeatherDatabase:\n",
    "    url: str\n",
    "\n",
    "    def __init__(self, url: str, *args):\n",
    "        self.url = url\n",
    "        con = sqlite3.connect(url)\n",
    "        cur = con.cursor()\n",
    "        for table in args:\n",
    "            con.execute(\n",
    "                f\"\"\"\n",
    "                CREATE DATABASE IF NOT EXISTS Expences\n",
    "                \"\"\")\n",
    "        cur.close()\n",
    "        con.commit()\n",
    "        con.close()\n",
    "\n",
    "    def call_db(self, query, *args):\n",
    "        con = sqlite3.connect(self.url)\n",
    "        cur = con.cursor()\n",
    "        res = cur.execute(query, args)\n",
    "        data = res.fetchall()\n",
    "        cur.close()\n",
    "        con.commit()\n",
    "        con.close()\n",
    "        return data"
   ]
  },
  {
   "cell_type": "code",
   "execution_count": 48,
   "metadata": {},
   "outputs": [],
   "source": [
    "db = WeatherDatabase('./WeatherGBG.db')"
   ]
  },
  {
   "cell_type": "code",
   "execution_count": 66,
   "metadata": {},
   "outputs": [],
   "source": [
    "query = \"\"\"SELECT *, ROUND(AVG(Lufttemperatur), 2) AS Avg_temp\n",
    "            FROM Temp_Save_raw\n",
    "            GROUP BY Datum\"\"\"\n"
   ]
  },
  {
   "cell_type": "code",
   "execution_count": 67,
   "metadata": {},
   "outputs": [],
   "source": [
    "conn = sqlite3.connect('./WeatherGBG.db')"
   ]
  },
  {
   "cell_type": "code",
   "execution_count": 68,
   "metadata": {},
   "outputs": [],
   "source": [
    "df_avg_temp_daily = pd.read_sql_query(query, conn)"
   ]
  },
  {
   "cell_type": "code",
   "execution_count": 69,
   "metadata": {},
   "outputs": [],
   "source": [
    "df_avg_temp_daily = df_avg_temp_daily.drop('id', axis=1)"
   ]
  },
  {
   "cell_type": "code",
   "execution_count": 70,
   "metadata": {},
   "outputs": [],
   "source": [
    "df_avg_temp_daily = df_avg_temp_daily.drop(['Lufttemperatur', 'Tid_UTC'], axis=1)"
   ]
  },
  {
   "cell_type": "code",
   "execution_count": 71,
   "metadata": {},
   "outputs": [
    {
     "data": {
      "text/html": [
       "<div>\n",
       "<style scoped>\n",
       "    .dataframe tbody tr th:only-of-type {\n",
       "        vertical-align: middle;\n",
       "    }\n",
       "\n",
       "    .dataframe tbody tr th {\n",
       "        vertical-align: top;\n",
       "    }\n",
       "\n",
       "    .dataframe thead th {\n",
       "        text-align: right;\n",
       "    }\n",
       "</style>\n",
       "<table border=\"1\" class=\"dataframe\">\n",
       "  <thead>\n",
       "    <tr style=\"text-align: right;\">\n",
       "      <th></th>\n",
       "      <th>Datum</th>\n",
       "      <th>Kvalitet</th>\n",
       "      <th>Avg_temp</th>\n",
       "    </tr>\n",
       "  </thead>\n",
       "  <tbody>\n",
       "    <tr>\n",
       "      <th>0</th>\n",
       "      <td>1944-01-01</td>\n",
       "      <td>G</td>\n",
       "      <td>3.20</td>\n",
       "    </tr>\n",
       "    <tr>\n",
       "      <th>1</th>\n",
       "      <td>1944-01-02</td>\n",
       "      <td>G</td>\n",
       "      <td>3.60</td>\n",
       "    </tr>\n",
       "    <tr>\n",
       "      <th>2</th>\n",
       "      <td>1944-01-03</td>\n",
       "      <td>G</td>\n",
       "      <td>2.80</td>\n",
       "    </tr>\n",
       "    <tr>\n",
       "      <th>3</th>\n",
       "      <td>1944-01-04</td>\n",
       "      <td>G</td>\n",
       "      <td>-4.47</td>\n",
       "    </tr>\n",
       "    <tr>\n",
       "      <th>4</th>\n",
       "      <td>1944-01-05</td>\n",
       "      <td>G</td>\n",
       "      <td>-1.40</td>\n",
       "    </tr>\n",
       "    <tr>\n",
       "      <th>...</th>\n",
       "      <td>...</td>\n",
       "      <td>...</td>\n",
       "      <td>...</td>\n",
       "    </tr>\n",
       "    <tr>\n",
       "      <th>22980</th>\n",
       "      <td>2006-12-01</td>\n",
       "      <td>G</td>\n",
       "      <td>8.03</td>\n",
       "    </tr>\n",
       "    <tr>\n",
       "      <th>22981</th>\n",
       "      <td>2006-12-02</td>\n",
       "      <td>G</td>\n",
       "      <td>8.81</td>\n",
       "    </tr>\n",
       "    <tr>\n",
       "      <th>22982</th>\n",
       "      <td>2006-12-03</td>\n",
       "      <td>G</td>\n",
       "      <td>8.11</td>\n",
       "    </tr>\n",
       "    <tr>\n",
       "      <th>22983</th>\n",
       "      <td>2006-12-04</td>\n",
       "      <td>G</td>\n",
       "      <td>8.57</td>\n",
       "    </tr>\n",
       "    <tr>\n",
       "      <th>22984</th>\n",
       "      <td>2006-12-05</td>\n",
       "      <td>G</td>\n",
       "      <td>9.22</td>\n",
       "    </tr>\n",
       "  </tbody>\n",
       "</table>\n",
       "<p>22985 rows × 3 columns</p>\n",
       "</div>"
      ],
      "text/plain": [
       "            Datum Kvalitet  Avg_temp\n",
       "0      1944-01-01        G      3.20\n",
       "1      1944-01-02        G      3.60\n",
       "2      1944-01-03        G      2.80\n",
       "3      1944-01-04        G     -4.47\n",
       "4      1944-01-05        G     -1.40\n",
       "...           ...      ...       ...\n",
       "22980  2006-12-01        G      8.03\n",
       "22981  2006-12-02        G      8.81\n",
       "22982  2006-12-03        G      8.11\n",
       "22983  2006-12-04        G      8.57\n",
       "22984  2006-12-05        G      9.22\n",
       "\n",
       "[22985 rows x 3 columns]"
      ]
     },
     "execution_count": 71,
     "metadata": {},
     "output_type": "execute_result"
    }
   ],
   "source": [
    "df_avg_temp_daily"
   ]
  },
  {
   "cell_type": "code",
   "execution_count": 72,
   "metadata": {},
   "outputs": [
    {
     "data": {
      "text/html": [
       "<div>\n",
       "<style scoped>\n",
       "    .dataframe tbody tr th:only-of-type {\n",
       "        vertical-align: middle;\n",
       "    }\n",
       "\n",
       "    .dataframe tbody tr th {\n",
       "        vertical-align: top;\n",
       "    }\n",
       "\n",
       "    .dataframe thead th {\n",
       "        text-align: right;\n",
       "    }\n",
       "</style>\n",
       "<table border=\"1\" class=\"dataframe\">\n",
       "  <thead>\n",
       "    <tr style=\"text-align: right;\">\n",
       "      <th></th>\n",
       "      <th>Datum</th>\n",
       "      <th>Kvalitet</th>\n",
       "      <th>Snittemperatur</th>\n",
       "      <th>Year</th>\n",
       "    </tr>\n",
       "  </thead>\n",
       "  <tbody>\n",
       "    <tr>\n",
       "      <th>0</th>\n",
       "      <td>1944-01-01</td>\n",
       "      <td>G</td>\n",
       "      <td>3.20</td>\n",
       "      <td>1944-01-01</td>\n",
       "    </tr>\n",
       "    <tr>\n",
       "      <th>1</th>\n",
       "      <td>1944-01-02</td>\n",
       "      <td>G</td>\n",
       "      <td>3.60</td>\n",
       "      <td>1944-01-01</td>\n",
       "    </tr>\n",
       "    <tr>\n",
       "      <th>2</th>\n",
       "      <td>1944-01-03</td>\n",
       "      <td>G</td>\n",
       "      <td>2.80</td>\n",
       "      <td>1944-01-01</td>\n",
       "    </tr>\n",
       "    <tr>\n",
       "      <th>3</th>\n",
       "      <td>1944-01-04</td>\n",
       "      <td>G</td>\n",
       "      <td>-4.47</td>\n",
       "      <td>1944-01-01</td>\n",
       "    </tr>\n",
       "    <tr>\n",
       "      <th>4</th>\n",
       "      <td>1944-01-05</td>\n",
       "      <td>G</td>\n",
       "      <td>-1.40</td>\n",
       "      <td>1944-01-01</td>\n",
       "    </tr>\n",
       "    <tr>\n",
       "      <th>...</th>\n",
       "      <td>...</td>\n",
       "      <td>...</td>\n",
       "      <td>...</td>\n",
       "      <td>...</td>\n",
       "    </tr>\n",
       "    <tr>\n",
       "      <th>29109</th>\n",
       "      <td>2023-10-12</td>\n",
       "      <td>G</td>\n",
       "      <td>12.08</td>\n",
       "      <td>2023-01-01</td>\n",
       "    </tr>\n",
       "    <tr>\n",
       "      <th>29110</th>\n",
       "      <td>2023-10-13</td>\n",
       "      <td>G</td>\n",
       "      <td>11.89</td>\n",
       "      <td>2023-01-01</td>\n",
       "    </tr>\n",
       "    <tr>\n",
       "      <th>29111</th>\n",
       "      <td>2023-10-14</td>\n",
       "      <td>G</td>\n",
       "      <td>11.54</td>\n",
       "      <td>2023-01-01</td>\n",
       "    </tr>\n",
       "    <tr>\n",
       "      <th>29112</th>\n",
       "      <td>2023-10-15</td>\n",
       "      <td>G</td>\n",
       "      <td>10.09</td>\n",
       "      <td>2023-01-01</td>\n",
       "    </tr>\n",
       "    <tr>\n",
       "      <th>29113</th>\n",
       "      <td>2023-10-16</td>\n",
       "      <td>G</td>\n",
       "      <td>4.27</td>\n",
       "      <td>2023-01-01</td>\n",
       "    </tr>\n",
       "  </tbody>\n",
       "</table>\n",
       "<p>29114 rows × 4 columns</p>\n",
       "</div>"
      ],
      "text/plain": [
       "           Datum Kvalitet  Snittemperatur       Year\n",
       "0     1944-01-01        G            3.20 1944-01-01\n",
       "1     1944-01-02        G            3.60 1944-01-01\n",
       "2     1944-01-03        G            2.80 1944-01-01\n",
       "3     1944-01-04        G           -4.47 1944-01-01\n",
       "4     1944-01-05        G           -1.40 1944-01-01\n",
       "...          ...      ...             ...        ...\n",
       "29109 2023-10-12        G           12.08 2023-01-01\n",
       "29110 2023-10-13        G           11.89 2023-01-01\n",
       "29111 2023-10-14        G           11.54 2023-01-01\n",
       "29112 2023-10-15        G           10.09 2023-01-01\n",
       "29113 2023-10-16        G            4.27 2023-01-01\n",
       "\n",
       "[29114 rows x 4 columns]"
      ]
     },
     "execution_count": 72,
     "metadata": {},
     "output_type": "execute_result"
    }
   ],
   "source": [
    "# Compare to previous dataframe\n",
    "pd.read_pickle('../Dataframes/df_daily_temp.pkl')"
   ]
  },
  {
   "cell_type": "code",
   "execution_count": 105,
   "metadata": {},
   "outputs": [],
   "source": [
    "month_year_query = \"\"\"SELECT *,\n",
    "                        ROUND(AVG(Lufttemperatur), 2) AS Avg_temp,\n",
    "                        SUBSTR(Datum, 1, 4) AS Year,\n",
    "                        SUBSTR(Datum, 6, 2) AS Month\n",
    "            FROM Temp_Save_raw\n",
    "            GROUP BY Datum\"\"\"\n"
   ]
  },
  {
   "cell_type": "code",
   "execution_count": 106,
   "metadata": {},
   "outputs": [
    {
     "data": {
      "text/html": [
       "<div>\n",
       "<style scoped>\n",
       "    .dataframe tbody tr th:only-of-type {\n",
       "        vertical-align: middle;\n",
       "    }\n",
       "\n",
       "    .dataframe tbody tr th {\n",
       "        vertical-align: top;\n",
       "    }\n",
       "\n",
       "    .dataframe thead th {\n",
       "        text-align: right;\n",
       "    }\n",
       "</style>\n",
       "<table border=\"1\" class=\"dataframe\">\n",
       "  <thead>\n",
       "    <tr style=\"text-align: right;\">\n",
       "      <th></th>\n",
       "      <th>Datum</th>\n",
       "      <th>Tid_UTC</th>\n",
       "      <th>Lufttemperatur</th>\n",
       "      <th>Kvalitet</th>\n",
       "      <th>Avg_temp</th>\n",
       "      <th>Year</th>\n",
       "      <th>Month</th>\n",
       "    </tr>\n",
       "  </thead>\n",
       "  <tbody>\n",
       "    <tr>\n",
       "      <th>0</th>\n",
       "      <td>1944-01-01</td>\n",
       "      <td>07:00:00</td>\n",
       "      <td>1.6</td>\n",
       "      <td>G</td>\n",
       "      <td>3.20</td>\n",
       "      <td>1944</td>\n",
       "      <td>01</td>\n",
       "    </tr>\n",
       "    <tr>\n",
       "      <th>1</th>\n",
       "      <td>1944-01-02</td>\n",
       "      <td>07:00:00</td>\n",
       "      <td>0.6</td>\n",
       "      <td>G</td>\n",
       "      <td>3.60</td>\n",
       "      <td>1944</td>\n",
       "      <td>01</td>\n",
       "    </tr>\n",
       "    <tr>\n",
       "      <th>2</th>\n",
       "      <td>1944-01-03</td>\n",
       "      <td>07:00:00</td>\n",
       "      <td>3.8</td>\n",
       "      <td>G</td>\n",
       "      <td>2.80</td>\n",
       "      <td>1944</td>\n",
       "      <td>01</td>\n",
       "    </tr>\n",
       "    <tr>\n",
       "      <th>3</th>\n",
       "      <td>1944-01-04</td>\n",
       "      <td>07:00:00</td>\n",
       "      <td>-3.4</td>\n",
       "      <td>G</td>\n",
       "      <td>-4.47</td>\n",
       "      <td>1944</td>\n",
       "      <td>01</td>\n",
       "    </tr>\n",
       "    <tr>\n",
       "      <th>4</th>\n",
       "      <td>1944-01-05</td>\n",
       "      <td>07:00:00</td>\n",
       "      <td>-6.8</td>\n",
       "      <td>G</td>\n",
       "      <td>-1.40</td>\n",
       "      <td>1944</td>\n",
       "      <td>01</td>\n",
       "    </tr>\n",
       "    <tr>\n",
       "      <th>...</th>\n",
       "      <td>...</td>\n",
       "      <td>...</td>\n",
       "      <td>...</td>\n",
       "      <td>...</td>\n",
       "      <td>...</td>\n",
       "      <td>...</td>\n",
       "      <td>...</td>\n",
       "    </tr>\n",
       "    <tr>\n",
       "      <th>22980</th>\n",
       "      <td>2006-12-01</td>\n",
       "      <td>00:00:00</td>\n",
       "      <td>8.3</td>\n",
       "      <td>G</td>\n",
       "      <td>8.03</td>\n",
       "      <td>2006</td>\n",
       "      <td>12</td>\n",
       "    </tr>\n",
       "    <tr>\n",
       "      <th>22981</th>\n",
       "      <td>2006-12-02</td>\n",
       "      <td>00:00:00</td>\n",
       "      <td>9.2</td>\n",
       "      <td>G</td>\n",
       "      <td>8.81</td>\n",
       "      <td>2006</td>\n",
       "      <td>12</td>\n",
       "    </tr>\n",
       "    <tr>\n",
       "      <th>22982</th>\n",
       "      <td>2006-12-03</td>\n",
       "      <td>00:00:00</td>\n",
       "      <td>8.5</td>\n",
       "      <td>G</td>\n",
       "      <td>8.11</td>\n",
       "      <td>2006</td>\n",
       "      <td>12</td>\n",
       "    </tr>\n",
       "    <tr>\n",
       "      <th>22983</th>\n",
       "      <td>2006-12-04</td>\n",
       "      <td>00:00:00</td>\n",
       "      <td>9.3</td>\n",
       "      <td>G</td>\n",
       "      <td>8.57</td>\n",
       "      <td>2006</td>\n",
       "      <td>12</td>\n",
       "    </tr>\n",
       "    <tr>\n",
       "      <th>22984</th>\n",
       "      <td>2006-12-05</td>\n",
       "      <td>00:00:00</td>\n",
       "      <td>8.2</td>\n",
       "      <td>G</td>\n",
       "      <td>9.22</td>\n",
       "      <td>2006</td>\n",
       "      <td>12</td>\n",
       "    </tr>\n",
       "  </tbody>\n",
       "</table>\n",
       "<p>22985 rows × 7 columns</p>\n",
       "</div>"
      ],
      "text/plain": [
       "            Datum   Tid_UTC  Lufttemperatur Kvalitet  Avg_temp  Year Month\n",
       "0      1944-01-01  07:00:00             1.6        G      3.20  1944    01\n",
       "1      1944-01-02  07:00:00             0.6        G      3.60  1944    01\n",
       "2      1944-01-03  07:00:00             3.8        G      2.80  1944    01\n",
       "3      1944-01-04  07:00:00            -3.4        G     -4.47  1944    01\n",
       "4      1944-01-05  07:00:00            -6.8        G     -1.40  1944    01\n",
       "...           ...       ...             ...      ...       ...   ...   ...\n",
       "22980  2006-12-01  00:00:00             8.3        G      8.03  2006    12\n",
       "22981  2006-12-02  00:00:00             9.2        G      8.81  2006    12\n",
       "22982  2006-12-03  00:00:00             8.5        G      8.11  2006    12\n",
       "22983  2006-12-04  00:00:00             9.3        G      8.57  2006    12\n",
       "22984  2006-12-05  00:00:00             8.2        G      9.22  2006    12\n",
       "\n",
       "[22985 rows x 7 columns]"
      ]
     },
     "execution_count": 106,
     "metadata": {},
     "output_type": "execute_result"
    }
   ],
   "source": [
    "df = pd.read_sql_query(month_year_query, conn)\n",
    "df.drop('id', axis=1)"
   ]
  },
  {
   "cell_type": "code",
   "execution_count": 125,
   "metadata": {},
   "outputs": [],
   "source": [
    "last_date = df[-1:]['Datum'].values[0]"
   ]
  },
  {
   "cell_type": "code",
   "execution_count": 126,
   "metadata": {},
   "outputs": [
    {
     "data": {
      "text/plain": [
       "'2006-12-05'"
      ]
     },
     "execution_count": 126,
     "metadata": {},
     "output_type": "execute_result"
    }
   ],
   "source": [
    "last_date"
   ]
  },
  {
   "cell_type": "code",
   "execution_count": 130,
   "metadata": {},
   "outputs": [],
   "source": [
    "month_year_query_gbg = \"\"\"SELECT *,\n",
    "                        ROUND(AVG(Lufttemperatur), 2) AS Avg_temp,\n",
    "                        SUBSTR(Datum, 1, 4) AS Year,\n",
    "                        SUBSTR(Datum, 6, 2) AS Month\n",
    "            FROM Temp_GBG_raw\n",
    "            WHERE Datum > 2006-12-05\n",
    "            GROUP BY Datum\"\"\""
   ]
  },
  {
   "cell_type": "code",
   "execution_count": 131,
   "metadata": {},
   "outputs": [
    {
     "data": {
      "text/html": [
       "<div>\n",
       "<style scoped>\n",
       "    .dataframe tbody tr th:only-of-type {\n",
       "        vertical-align: middle;\n",
       "    }\n",
       "\n",
       "    .dataframe tbody tr th {\n",
       "        vertical-align: top;\n",
       "    }\n",
       "\n",
       "    .dataframe thead th {\n",
       "        text-align: right;\n",
       "    }\n",
       "</style>\n",
       "<table border=\"1\" class=\"dataframe\">\n",
       "  <thead>\n",
       "    <tr style=\"text-align: right;\">\n",
       "      <th></th>\n",
       "      <th>Datum</th>\n",
       "      <th>Tid_UTC</th>\n",
       "      <th>Lufttemperatur</th>\n",
       "      <th>Kvalitet</th>\n",
       "      <th>Avg_temp</th>\n",
       "      <th>Year</th>\n",
       "      <th>Month</th>\n",
       "    </tr>\n",
       "  </thead>\n",
       "  <tbody>\n",
       "    <tr>\n",
       "      <th>0</th>\n",
       "      <td>1961-01-01</td>\n",
       "      <td>06:00:00</td>\n",
       "      <td>0.8</td>\n",
       "      <td>G</td>\n",
       "      <td>1.07</td>\n",
       "      <td>1961</td>\n",
       "      <td>01</td>\n",
       "    </tr>\n",
       "    <tr>\n",
       "      <th>1</th>\n",
       "      <td>1961-01-02</td>\n",
       "      <td>06:00:00</td>\n",
       "      <td>1.8</td>\n",
       "      <td>G</td>\n",
       "      <td>2.27</td>\n",
       "      <td>1961</td>\n",
       "      <td>01</td>\n",
       "    </tr>\n",
       "    <tr>\n",
       "      <th>2</th>\n",
       "      <td>1961-01-03</td>\n",
       "      <td>06:00:00</td>\n",
       "      <td>2.6</td>\n",
       "      <td>G</td>\n",
       "      <td>2.27</td>\n",
       "      <td>1961</td>\n",
       "      <td>01</td>\n",
       "    </tr>\n",
       "    <tr>\n",
       "      <th>3</th>\n",
       "      <td>1961-01-04</td>\n",
       "      <td>06:00:00</td>\n",
       "      <td>2.8</td>\n",
       "      <td>G</td>\n",
       "      <td>2.53</td>\n",
       "      <td>1961</td>\n",
       "      <td>01</td>\n",
       "    </tr>\n",
       "    <tr>\n",
       "      <th>4</th>\n",
       "      <td>1961-01-05</td>\n",
       "      <td>06:00:00</td>\n",
       "      <td>1.8</td>\n",
       "      <td>G</td>\n",
       "      <td>2.13</td>\n",
       "      <td>1961</td>\n",
       "      <td>01</td>\n",
       "    </tr>\n",
       "    <tr>\n",
       "      <th>...</th>\n",
       "      <td>...</td>\n",
       "      <td>...</td>\n",
       "      <td>...</td>\n",
       "      <td>...</td>\n",
       "      <td>...</td>\n",
       "      <td>...</td>\n",
       "      <td>...</td>\n",
       "    </tr>\n",
       "    <tr>\n",
       "      <th>19909</th>\n",
       "      <td>2023-06-27</td>\n",
       "      <td>00:00:00</td>\n",
       "      <td>16.3</td>\n",
       "      <td>G</td>\n",
       "      <td>18.18</td>\n",
       "      <td>2023</td>\n",
       "      <td>06</td>\n",
       "    </tr>\n",
       "    <tr>\n",
       "      <th>19910</th>\n",
       "      <td>2023-06-28</td>\n",
       "      <td>00:00:00</td>\n",
       "      <td>16.2</td>\n",
       "      <td>G</td>\n",
       "      <td>19.73</td>\n",
       "      <td>2023</td>\n",
       "      <td>06</td>\n",
       "    </tr>\n",
       "    <tr>\n",
       "      <th>19911</th>\n",
       "      <td>2023-06-29</td>\n",
       "      <td>00:00:00</td>\n",
       "      <td>16.8</td>\n",
       "      <td>G</td>\n",
       "      <td>19.23</td>\n",
       "      <td>2023</td>\n",
       "      <td>06</td>\n",
       "    </tr>\n",
       "    <tr>\n",
       "      <th>19912</th>\n",
       "      <td>2023-06-30</td>\n",
       "      <td>00:00:00</td>\n",
       "      <td>19.2</td>\n",
       "      <td>G</td>\n",
       "      <td>17.40</td>\n",
       "      <td>2023</td>\n",
       "      <td>06</td>\n",
       "    </tr>\n",
       "    <tr>\n",
       "      <th>19913</th>\n",
       "      <td>2023-07-01</td>\n",
       "      <td>00:00:00</td>\n",
       "      <td>16.0</td>\n",
       "      <td>G</td>\n",
       "      <td>16.06</td>\n",
       "      <td>2023</td>\n",
       "      <td>07</td>\n",
       "    </tr>\n",
       "  </tbody>\n",
       "</table>\n",
       "<p>19914 rows × 7 columns</p>\n",
       "</div>"
      ],
      "text/plain": [
       "            Datum   Tid_UTC  Lufttemperatur Kvalitet  Avg_temp  Year Month\n",
       "0      1961-01-01  06:00:00             0.8        G      1.07  1961    01\n",
       "1      1961-01-02  06:00:00             1.8        G      2.27  1961    01\n",
       "2      1961-01-03  06:00:00             2.6        G      2.27  1961    01\n",
       "3      1961-01-04  06:00:00             2.8        G      2.53  1961    01\n",
       "4      1961-01-05  06:00:00             1.8        G      2.13  1961    01\n",
       "...           ...       ...             ...      ...       ...   ...   ...\n",
       "19909  2023-06-27  00:00:00            16.3        G     18.18  2023    06\n",
       "19910  2023-06-28  00:00:00            16.2        G     19.73  2023    06\n",
       "19911  2023-06-29  00:00:00            16.8        G     19.23  2023    06\n",
       "19912  2023-06-30  00:00:00            19.2        G     17.40  2023    06\n",
       "19913  2023-07-01  00:00:00            16.0        G     16.06  2023    07\n",
       "\n",
       "[19914 rows x 7 columns]"
      ]
     },
     "execution_count": 131,
     "metadata": {},
     "output_type": "execute_result"
    }
   ],
   "source": [
    "df = pd.read_sql_query(month_year_query_gbg, conn)\n",
    "df.drop('id', axis=1)"
   ]
  },
  {
   "cell_type": "markdown",
   "metadata": {},
   "source": [
    "In order sort by dates, the dates must be in date-format\n",
    "To do this, create a new column that has the dates in a date-format, see below"
   ]
  },
  {
   "cell_type": "code",
   "execution_count": 132,
   "metadata": {},
   "outputs": [],
   "source": [
    "add_colum = \"\"\"ALTER TABLE Temp_GBG_raw\n",
    "                ADD COLUMN Datum_date DATE\"\"\""
   ]
  },
  {
   "cell_type": "code",
   "execution_count": 133,
   "metadata": {},
   "outputs": [
    {
     "data": {
      "text/plain": [
       "[]"
      ]
     },
     "execution_count": 133,
     "metadata": {},
     "output_type": "execute_result"
    }
   ],
   "source": [
    "db.call_db(add_colum)"
   ]
  },
  {
   "cell_type": "code",
   "execution_count": 134,
   "metadata": {},
   "outputs": [],
   "source": [
    "add_dates_to_column = \"\"\"UPDATE Temp_GBG_raw\n",
    "                            SET Datum_date = DATE(Datum)\"\"\""
   ]
  },
  {
   "cell_type": "code",
   "execution_count": 135,
   "metadata": {},
   "outputs": [
    {
     "data": {
      "text/plain": [
       "[]"
      ]
     },
     "execution_count": 135,
     "metadata": {},
     "output_type": "execute_result"
    }
   ],
   "source": [
    "db.call_db(add_dates_to_column)"
   ]
  },
  {
   "cell_type": "code",
   "execution_count": 136,
   "metadata": {},
   "outputs": [
    {
     "data": {
      "text/plain": [
       "[]"
      ]
     },
     "execution_count": 136,
     "metadata": {},
     "output_type": "execute_result"
    }
   ],
   "source": [
    "add_colum = \"\"\"ALTER TABLE Temp_Save_raw\n",
    "                ADD COLUMN Datum_date DATE\"\"\"\n",
    "db.call_db(add_colum)\n",
    "add_dates_to_column = \"\"\"UPDATE Temp_Save_raw\n",
    "                            SET Datum_date = DATE(Datum)\"\"\"\n",
    "db.call_db(add_dates_to_column)"
   ]
  },
  {
   "cell_type": "code",
   "execution_count": 139,
   "metadata": {},
   "outputs": [
    {
     "data": {
      "text/plain": [
       "[]"
      ]
     },
     "execution_count": 139,
     "metadata": {},
     "output_type": "execute_result"
    }
   ],
   "source": [
    "# Precipitation for GBG\n",
    "\n",
    "add_colum_gbg = \"\"\"ALTER TABLE precipitation_data_GBG_raw\n",
    "                ADD COLUMN Datum_date DATE\"\"\"\n",
    "db.call_db(add_colum_gbg)\n",
    "add_dates_to_column_gbg = \"\"\"UPDATE precipitation_data_GBG_raw\n",
    "                            SET Datum_date = DATE(Representativt_dygn)\"\"\"\n",
    "db.call_db(add_dates_to_column_gbg)"
   ]
  },
  {
   "cell_type": "code",
   "execution_count": 140,
   "metadata": {},
   "outputs": [
    {
     "data": {
      "text/plain": [
       "[]"
      ]
     },
     "execution_count": 140,
     "metadata": {},
     "output_type": "execute_result"
    }
   ],
   "source": [
    "# Precipitation for Säve\n",
    "\n",
    "add_colum_save = \"\"\"ALTER TABLE precipitation_data_save_raw\n",
    "                ADD COLUMN Datum_date DATE\"\"\"\n",
    "db.call_db(add_colum_save)\n",
    "add_dates_to_column_save = \"\"\"UPDATE precipitation_data_save_raw\n",
    "                            SET Datum_date = DATE(Representativt_dygn)\"\"\"\n",
    "db.call_db(add_dates_to_column_save)"
   ]
  },
  {
   "cell_type": "markdown",
   "metadata": {},
   "source": [
    "Add date column for precipitation"
   ]
  },
  {
   "cell_type": "code",
   "execution_count": 73,
   "metadata": {},
   "outputs": [],
   "source": [
    "# for ind, val in df.iterrows():\n",
    "#     print(ind)\n",
    "#     print(val)\n",
    "#     break"
   ]
  }
 ],
 "metadata": {
  "kernelspec": {
   "display_name": "agilt_projektarbete",
   "language": "python",
   "name": "python3"
  },
  "language_info": {
   "codemirror_mode": {
    "name": "ipython",
    "version": 3
   },
   "file_extension": ".py",
   "mimetype": "text/x-python",
   "name": "python",
   "nbconvert_exporter": "python",
   "pygments_lexer": "ipython3",
   "version": "3.9.18"
  }
 },
 "nbformat": 4,
 "nbformat_minor": 2
}
