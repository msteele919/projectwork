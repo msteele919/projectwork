{
 "cells": [
  {
   "cell_type": "code",
   "execution_count": 1,
   "metadata": {},
   "outputs": [],
   "source": [
    "import pandas as pd\n"
   ]
  },
  {
   "cell_type": "code",
   "execution_count": 2,
   "metadata": {},
   "outputs": [],
   "source": [
    "df_wind_vinga = pd.read_csv('../data/smhi_wind_data_vinga.csv', sep=';', usecols=[0, 1, 2, 3, 4, 5], header=8)"
   ]
  },
  {
   "cell_type": "code",
   "execution_count": 3,
   "metadata": {},
   "outputs": [],
   "source": [
    "df_wind_vinga = df_wind_vinga.rename(columns=({'Tid (UTC)': 'Tid_UTC', 'Kvalitet.1': 'Kvalitet_1'}))"
   ]
  },
  {
   "cell_type": "code",
   "execution_count": 4,
   "metadata": {},
   "outputs": [],
   "source": [
    "df_wind_vinga['Datum'] = pd.to_datetime(df_wind_vinga['Datum'])"
   ]
  },
  {
   "cell_type": "code",
   "execution_count": 16,
   "metadata": {},
   "outputs": [],
   "source": [
    "df_wind_vinga['Vindhastighet_snitt'] = df_wind_vinga.groupby('Datum')['Vindhastighet'].transform('mean').round(2)\n",
    "df_wind_vinga['Högsta_vindhastighet'] = df_wind_vinga.groupby('Datum')['Vindhastighet'].transform('max').round(2)\n",
    "df_wind_vinga['Year'] = df_wind_vinga['Datum'].dt.year\n",
    "df_wind_vinga['Month'] = df_wind_vinga['Datum'].dt.month\n"
   ]
  },
  {
   "cell_type": "code",
   "execution_count": 17,
   "metadata": {},
   "outputs": [
    {
     "data": {
      "text/html": [
       "<div>\n",
       "<style scoped>\n",
       "    .dataframe tbody tr th:only-of-type {\n",
       "        vertical-align: middle;\n",
       "    }\n",
       "\n",
       "    .dataframe tbody tr th {\n",
       "        vertical-align: top;\n",
       "    }\n",
       "\n",
       "    .dataframe thead th {\n",
       "        text-align: right;\n",
       "    }\n",
       "</style>\n",
       "<table border=\"1\" class=\"dataframe\">\n",
       "  <thead>\n",
       "    <tr style=\"text-align: right;\">\n",
       "      <th></th>\n",
       "      <th>Datum</th>\n",
       "      <th>Tid_UTC</th>\n",
       "      <th>Vindriktning</th>\n",
       "      <th>Kvalitet</th>\n",
       "      <th>Vindhastighet</th>\n",
       "      <th>Kvalitet_1</th>\n",
       "      <th>Vindhastighet_snitt</th>\n",
       "      <th>Högsta_vindhastighet</th>\n",
       "      <th>Year</th>\n",
       "      <th>Month</th>\n",
       "    </tr>\n",
       "  </thead>\n",
       "  <tbody>\n",
       "    <tr>\n",
       "      <th>0</th>\n",
       "      <td>1926-01-01</td>\n",
       "      <td>01:00:00</td>\n",
       "      <td>290.0</td>\n",
       "      <td>G</td>\n",
       "      <td>8.0</td>\n",
       "      <td>G</td>\n",
       "      <td>4.40</td>\n",
       "      <td>8.0</td>\n",
       "      <td>1926</td>\n",
       "      <td>1</td>\n",
       "    </tr>\n",
       "    <tr>\n",
       "      <th>1</th>\n",
       "      <td>1926-01-01</td>\n",
       "      <td>07:00:00</td>\n",
       "      <td>20.0</td>\n",
       "      <td>G</td>\n",
       "      <td>8.0</td>\n",
       "      <td>G</td>\n",
       "      <td>4.40</td>\n",
       "      <td>8.0</td>\n",
       "      <td>1926</td>\n",
       "      <td>1</td>\n",
       "    </tr>\n",
       "    <tr>\n",
       "      <th>2</th>\n",
       "      <td>1926-01-01</td>\n",
       "      <td>13:00:00</td>\n",
       "      <td>360.0</td>\n",
       "      <td>G</td>\n",
       "      <td>4.0</td>\n",
       "      <td>G</td>\n",
       "      <td>4.40</td>\n",
       "      <td>8.0</td>\n",
       "      <td>1926</td>\n",
       "      <td>1</td>\n",
       "    </tr>\n",
       "    <tr>\n",
       "      <th>3</th>\n",
       "      <td>1926-01-01</td>\n",
       "      <td>18:00:00</td>\n",
       "      <td>320.0</td>\n",
       "      <td>G</td>\n",
       "      <td>2.0</td>\n",
       "      <td>G</td>\n",
       "      <td>4.40</td>\n",
       "      <td>8.0</td>\n",
       "      <td>1926</td>\n",
       "      <td>1</td>\n",
       "    </tr>\n",
       "    <tr>\n",
       "      <th>4</th>\n",
       "      <td>1926-01-01</td>\n",
       "      <td>20:00:00</td>\n",
       "      <td>0.0</td>\n",
       "      <td>G</td>\n",
       "      <td>0.0</td>\n",
       "      <td>G</td>\n",
       "      <td>4.40</td>\n",
       "      <td>8.0</td>\n",
       "      <td>1926</td>\n",
       "      <td>1</td>\n",
       "    </tr>\n",
       "    <tr>\n",
       "      <th>...</th>\n",
       "      <td>...</td>\n",
       "      <td>...</td>\n",
       "      <td>...</td>\n",
       "      <td>...</td>\n",
       "      <td>...</td>\n",
       "      <td>...</td>\n",
       "      <td>...</td>\n",
       "      <td>...</td>\n",
       "      <td>...</td>\n",
       "      <td>...</td>\n",
       "    </tr>\n",
       "    <tr>\n",
       "      <th>275798</th>\n",
       "      <td>2023-07-01</td>\n",
       "      <td>02:00:00</td>\n",
       "      <td>248.0</td>\n",
       "      <td>G</td>\n",
       "      <td>6.1</td>\n",
       "      <td>G</td>\n",
       "      <td>6.96</td>\n",
       "      <td>8.1</td>\n",
       "      <td>2023</td>\n",
       "      <td>7</td>\n",
       "    </tr>\n",
       "    <tr>\n",
       "      <th>275799</th>\n",
       "      <td>2023-07-01</td>\n",
       "      <td>03:00:00</td>\n",
       "      <td>230.0</td>\n",
       "      <td>G</td>\n",
       "      <td>7.7</td>\n",
       "      <td>G</td>\n",
       "      <td>6.96</td>\n",
       "      <td>8.1</td>\n",
       "      <td>2023</td>\n",
       "      <td>7</td>\n",
       "    </tr>\n",
       "    <tr>\n",
       "      <th>275800</th>\n",
       "      <td>2023-07-01</td>\n",
       "      <td>04:00:00</td>\n",
       "      <td>224.0</td>\n",
       "      <td>G</td>\n",
       "      <td>7.0</td>\n",
       "      <td>G</td>\n",
       "      <td>6.96</td>\n",
       "      <td>8.1</td>\n",
       "      <td>2023</td>\n",
       "      <td>7</td>\n",
       "    </tr>\n",
       "    <tr>\n",
       "      <th>275801</th>\n",
       "      <td>2023-07-01</td>\n",
       "      <td>05:00:00</td>\n",
       "      <td>209.0</td>\n",
       "      <td>G</td>\n",
       "      <td>7.0</td>\n",
       "      <td>G</td>\n",
       "      <td>6.96</td>\n",
       "      <td>8.1</td>\n",
       "      <td>2023</td>\n",
       "      <td>7</td>\n",
       "    </tr>\n",
       "    <tr>\n",
       "      <th>275802</th>\n",
       "      <td>2023-07-01</td>\n",
       "      <td>06:00:00</td>\n",
       "      <td>191.0</td>\n",
       "      <td>G</td>\n",
       "      <td>5.9</td>\n",
       "      <td>G</td>\n",
       "      <td>6.96</td>\n",
       "      <td>8.1</td>\n",
       "      <td>2023</td>\n",
       "      <td>7</td>\n",
       "    </tr>\n",
       "  </tbody>\n",
       "</table>\n",
       "<p>275803 rows × 10 columns</p>\n",
       "</div>"
      ],
      "text/plain": [
       "            Datum   Tid_UTC  Vindriktning Kvalitet  Vindhastighet Kvalitet_1  \\\n",
       "0      1926-01-01  01:00:00         290.0        G            8.0          G   \n",
       "1      1926-01-01  07:00:00          20.0        G            8.0          G   \n",
       "2      1926-01-01  13:00:00         360.0        G            4.0          G   \n",
       "3      1926-01-01  18:00:00         320.0        G            2.0          G   \n",
       "4      1926-01-01  20:00:00           0.0        G            0.0          G   \n",
       "...           ...       ...           ...      ...            ...        ...   \n",
       "275798 2023-07-01  02:00:00         248.0        G            6.1          G   \n",
       "275799 2023-07-01  03:00:00         230.0        G            7.7          G   \n",
       "275800 2023-07-01  04:00:00         224.0        G            7.0          G   \n",
       "275801 2023-07-01  05:00:00         209.0        G            7.0          G   \n",
       "275802 2023-07-01  06:00:00         191.0        G            5.9          G   \n",
       "\n",
       "        Vindhastighet_snitt  Högsta_vindhastighet  Year  Month  \n",
       "0                      4.40                   8.0  1926      1  \n",
       "1                      4.40                   8.0  1926      1  \n",
       "2                      4.40                   8.0  1926      1  \n",
       "3                      4.40                   8.0  1926      1  \n",
       "4                      4.40                   8.0  1926      1  \n",
       "...                     ...                   ...   ...    ...  \n",
       "275798                 6.96                   8.1  2023      7  \n",
       "275799                 6.96                   8.1  2023      7  \n",
       "275800                 6.96                   8.1  2023      7  \n",
       "275801                 6.96                   8.1  2023      7  \n",
       "275802                 6.96                   8.1  2023      7  \n",
       "\n",
       "[275803 rows x 10 columns]"
      ]
     },
     "execution_count": 17,
     "metadata": {},
     "output_type": "execute_result"
    }
   ],
   "source": [
    "df_wind_vinga"
   ]
  },
  {
   "cell_type": "code",
   "execution_count": 7,
   "metadata": {},
   "outputs": [],
   "source": [
    "# df_wind_vinga.to_csv('../data/wind_vinga.csv', index=False, mode='w')\n"
   ]
  },
  {
   "cell_type": "code",
   "execution_count": 8,
   "metadata": {},
   "outputs": [],
   "source": [
    "# df_wind_vinga.to_pickle('../Dataframes/df_wind_vinga.pkl')"
   ]
  },
  {
   "cell_type": "code",
   "execution_count": 9,
   "metadata": {},
   "outputs": [],
   "source": [
    "# start = pd.to_datetime('2005-01-01')\n",
    "# end = pd.to_datetime('2005-01-15')"
   ]
  },
  {
   "cell_type": "code",
   "execution_count": 28,
   "metadata": {},
   "outputs": [
    {
     "data": {
      "text/plain": [
       "83"
      ]
     },
     "execution_count": 28,
     "metadata": {},
     "output_type": "execute_result"
    }
   ],
   "source": [
    "df_wind_vinga['Year'].nunique()"
   ]
  },
  {
   "cell_type": "code",
   "execution_count": 29,
   "metadata": {},
   "outputs": [
    {
     "data": {
      "text/plain": [
       "97"
      ]
     },
     "execution_count": 29,
     "metadata": {},
     "output_type": "execute_result"
    }
   ],
   "source": [
    "2023-1926"
   ]
  },
  {
   "cell_type": "code",
   "execution_count": 35,
   "metadata": {},
   "outputs": [],
   "source": [
    "years_present = []\n",
    "for ind, val in enumerate(df_wind_vinga['Year'].groupby(df_wind_vinga['Year'])):\n",
    "    years_present.append(val[0])"
   ]
  },
  {
   "cell_type": "code",
   "execution_count": 36,
   "metadata": {},
   "outputs": [
    {
     "name": "stdout",
     "output_type": "stream",
     "text": [
      "1943\n",
      "1944\n",
      "1945\n",
      "1946\n",
      "1947\n",
      "1948\n",
      "1998\n",
      "1999\n",
      "2000\n",
      "2001\n",
      "2002\n",
      "2003\n",
      "2004\n",
      "2005\n",
      "2006\n"
     ]
    }
   ],
   "source": [
    "for i in range(1926, 2024):\n",
    "    if i in years_present:\n",
    "        pass\n",
    "    else:\n",
    "        print(i)"
   ]
  }
 ],
 "metadata": {
  "kernelspec": {
   "display_name": "agilt_projektarbete",
   "language": "python",
   "name": "python3"
  },
  "language_info": {
   "codemirror_mode": {
    "name": "ipython",
    "version": 3
   },
   "file_extension": ".py",
   "mimetype": "text/x-python",
   "name": "python",
   "nbconvert_exporter": "python",
   "pygments_lexer": "ipython3",
   "version": "3.10.13"
  }
 },
 "nbformat": 4,
 "nbformat_minor": 2
}
