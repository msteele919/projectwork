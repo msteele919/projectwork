{
 "cells": [
  {
   "cell_type": "code",
   "execution_count": 1,
   "metadata": {},
   "outputs": [],
   "source": [
    "import pandas as pd\n"
   ]
  },
  {
   "cell_type": "markdown",
   "metadata": {},
   "source": [
    "Import and clean GBG data"
   ]
  },
  {
   "cell_type": "code",
   "execution_count": 2,
   "metadata": {},
   "outputs": [],
   "source": [
    "df_gbg = pd.read_csv('../Data/smhi_temp_data_gbg.csv', usecols=[0, 1, 2, 3], header=11, sep=';')"
   ]
  },
  {
   "cell_type": "code",
   "execution_count": 3,
   "metadata": {},
   "outputs": [],
   "source": [
    "df_gbg['Snittemperatur'] = df_gbg.groupby('Datum')['Lufttemperatur'].transform('mean').round(2)\n",
    "df_gbg = df_gbg.groupby('Datum').max().drop('Lufttemperatur', axis=1).reset_index()"
   ]
  },
  {
   "cell_type": "code",
   "execution_count": 4,
   "metadata": {},
   "outputs": [],
   "source": [
    "df_gbg['Datum'] = pd.to_datetime(df_gbg['Datum'])\n",
    "df_gbg['Year'] = df_gbg['Datum'].dt.year\n",
    "df_gbg['Month'] = df_gbg['Datum'].dt.month\n",
    "df_gbg = df_gbg.drop(columns=['Tid (UTC)'])"
   ]
  },
  {
   "cell_type": "markdown",
   "metadata": {},
   "source": [
    "Import and clean Säve data"
   ]
  },
  {
   "cell_type": "code",
   "execution_count": 5,
   "metadata": {},
   "outputs": [],
   "source": [
    "df_save = pd.read_csv('../Data/smhi_temp_data_save.csv', usecols=[0, 1, 2, 3], header=6, sep=';')"
   ]
  },
  {
   "cell_type": "code",
   "execution_count": 6,
   "metadata": {},
   "outputs": [],
   "source": [
    "df_save['Snittemperatur'] = df_save.groupby('Datum')['Lufttemperatur'].transform('mean').round(2)\n",
    "df_save = df_save.groupby('Datum').max().drop('Lufttemperatur', axis=1).reset_index()"
   ]
  },
  {
   "cell_type": "code",
   "execution_count": 7,
   "metadata": {},
   "outputs": [],
   "source": [
    "df_save['Datum'] = pd.to_datetime(df_save['Datum'])\n",
    "df_save['Year'] = df_save['Datum'].dt.year\n",
    "df_save['Month'] = df_save['Datum'].dt.month\n",
    "df_save = df_save.drop(columns=['Tid (UTC)'])"
   ]
  },
  {
   "cell_type": "code",
   "execution_count": 8,
   "metadata": {},
   "outputs": [
    {
     "data": {
      "text/html": [
       "<div>\n",
       "<style scoped>\n",
       "    .dataframe tbody tr th:only-of-type {\n",
       "        vertical-align: middle;\n",
       "    }\n",
       "\n",
       "    .dataframe tbody tr th {\n",
       "        vertical-align: top;\n",
       "    }\n",
       "\n",
       "    .dataframe thead th {\n",
       "        text-align: right;\n",
       "    }\n",
       "</style>\n",
       "<table border=\"1\" class=\"dataframe\">\n",
       "  <thead>\n",
       "    <tr style=\"text-align: right;\">\n",
       "      <th></th>\n",
       "      <th>Datum</th>\n",
       "      <th>Kvalitet</th>\n",
       "      <th>Snittemperatur</th>\n",
       "      <th>Year</th>\n",
       "      <th>Month</th>\n",
       "    </tr>\n",
       "  </thead>\n",
       "  <tbody>\n",
       "    <tr>\n",
       "      <th>0</th>\n",
       "      <td>1944-01-01</td>\n",
       "      <td>G</td>\n",
       "      <td>3.20</td>\n",
       "      <td>1944</td>\n",
       "      <td>1</td>\n",
       "    </tr>\n",
       "    <tr>\n",
       "      <th>1</th>\n",
       "      <td>1944-01-02</td>\n",
       "      <td>G</td>\n",
       "      <td>3.60</td>\n",
       "      <td>1944</td>\n",
       "      <td>1</td>\n",
       "    </tr>\n",
       "    <tr>\n",
       "      <th>2</th>\n",
       "      <td>1944-01-03</td>\n",
       "      <td>G</td>\n",
       "      <td>2.80</td>\n",
       "      <td>1944</td>\n",
       "      <td>1</td>\n",
       "    </tr>\n",
       "    <tr>\n",
       "      <th>3</th>\n",
       "      <td>1944-01-04</td>\n",
       "      <td>G</td>\n",
       "      <td>-4.47</td>\n",
       "      <td>1944</td>\n",
       "      <td>1</td>\n",
       "    </tr>\n",
       "    <tr>\n",
       "      <th>4</th>\n",
       "      <td>1944-01-05</td>\n",
       "      <td>G</td>\n",
       "      <td>-1.40</td>\n",
       "      <td>1944</td>\n",
       "      <td>1</td>\n",
       "    </tr>\n",
       "    <tr>\n",
       "      <th>...</th>\n",
       "      <td>...</td>\n",
       "      <td>...</td>\n",
       "      <td>...</td>\n",
       "      <td>...</td>\n",
       "      <td>...</td>\n",
       "    </tr>\n",
       "    <tr>\n",
       "      <th>22980</th>\n",
       "      <td>2006-12-01</td>\n",
       "      <td>Y</td>\n",
       "      <td>8.03</td>\n",
       "      <td>2006</td>\n",
       "      <td>12</td>\n",
       "    </tr>\n",
       "    <tr>\n",
       "      <th>22981</th>\n",
       "      <td>2006-12-02</td>\n",
       "      <td>Y</td>\n",
       "      <td>8.81</td>\n",
       "      <td>2006</td>\n",
       "      <td>12</td>\n",
       "    </tr>\n",
       "    <tr>\n",
       "      <th>22982</th>\n",
       "      <td>2006-12-03</td>\n",
       "      <td>Y</td>\n",
       "      <td>8.11</td>\n",
       "      <td>2006</td>\n",
       "      <td>12</td>\n",
       "    </tr>\n",
       "    <tr>\n",
       "      <th>22983</th>\n",
       "      <td>2006-12-04</td>\n",
       "      <td>Y</td>\n",
       "      <td>8.57</td>\n",
       "      <td>2006</td>\n",
       "      <td>12</td>\n",
       "    </tr>\n",
       "    <tr>\n",
       "      <th>22984</th>\n",
       "      <td>2006-12-05</td>\n",
       "      <td>Y</td>\n",
       "      <td>9.22</td>\n",
       "      <td>2006</td>\n",
       "      <td>12</td>\n",
       "    </tr>\n",
       "  </tbody>\n",
       "</table>\n",
       "<p>22985 rows × 5 columns</p>\n",
       "</div>"
      ],
      "text/plain": [
       "           Datum Kvalitet  Snittemperatur  Year  Month\n",
       "0     1944-01-01        G            3.20  1944      1\n",
       "1     1944-01-02        G            3.60  1944      1\n",
       "2     1944-01-03        G            2.80  1944      1\n",
       "3     1944-01-04        G           -4.47  1944      1\n",
       "4     1944-01-05        G           -1.40  1944      1\n",
       "...          ...      ...             ...   ...    ...\n",
       "22980 2006-12-01        Y            8.03  2006     12\n",
       "22981 2006-12-02        Y            8.81  2006     12\n",
       "22982 2006-12-03        Y            8.11  2006     12\n",
       "22983 2006-12-04        Y            8.57  2006     12\n",
       "22984 2006-12-05        Y            9.22  2006     12\n",
       "\n",
       "[22985 rows x 5 columns]"
      ]
     },
     "execution_count": 8,
     "metadata": {},
     "output_type": "execute_result"
    }
   ],
   "source": [
    "df_save"
   ]
  },
  {
   "cell_type": "code",
   "execution_count": 9,
   "metadata": {},
   "outputs": [
    {
     "data": {
      "text/html": [
       "<div>\n",
       "<style scoped>\n",
       "    .dataframe tbody tr th:only-of-type {\n",
       "        vertical-align: middle;\n",
       "    }\n",
       "\n",
       "    .dataframe tbody tr th {\n",
       "        vertical-align: top;\n",
       "    }\n",
       "\n",
       "    .dataframe thead th {\n",
       "        text-align: right;\n",
       "    }\n",
       "</style>\n",
       "<table border=\"1\" class=\"dataframe\">\n",
       "  <thead>\n",
       "    <tr style=\"text-align: right;\">\n",
       "      <th></th>\n",
       "      <th>Datum</th>\n",
       "      <th>Kvalitet</th>\n",
       "      <th>Snittemperatur</th>\n",
       "      <th>Year</th>\n",
       "      <th>Month</th>\n",
       "    </tr>\n",
       "  </thead>\n",
       "  <tbody>\n",
       "    <tr>\n",
       "      <th>0</th>\n",
       "      <td>1961-01-01</td>\n",
       "      <td>G</td>\n",
       "      <td>1.07</td>\n",
       "      <td>1961</td>\n",
       "      <td>1</td>\n",
       "    </tr>\n",
       "    <tr>\n",
       "      <th>1</th>\n",
       "      <td>1961-01-02</td>\n",
       "      <td>G</td>\n",
       "      <td>2.27</td>\n",
       "      <td>1961</td>\n",
       "      <td>1</td>\n",
       "    </tr>\n",
       "    <tr>\n",
       "      <th>2</th>\n",
       "      <td>1961-01-03</td>\n",
       "      <td>G</td>\n",
       "      <td>2.27</td>\n",
       "      <td>1961</td>\n",
       "      <td>1</td>\n",
       "    </tr>\n",
       "    <tr>\n",
       "      <th>3</th>\n",
       "      <td>1961-01-04</td>\n",
       "      <td>G</td>\n",
       "      <td>2.53</td>\n",
       "      <td>1961</td>\n",
       "      <td>1</td>\n",
       "    </tr>\n",
       "    <tr>\n",
       "      <th>4</th>\n",
       "      <td>1961-01-05</td>\n",
       "      <td>G</td>\n",
       "      <td>2.13</td>\n",
       "      <td>1961</td>\n",
       "      <td>1</td>\n",
       "    </tr>\n",
       "    <tr>\n",
       "      <th>...</th>\n",
       "      <td>...</td>\n",
       "      <td>...</td>\n",
       "      <td>...</td>\n",
       "      <td>...</td>\n",
       "      <td>...</td>\n",
       "    </tr>\n",
       "    <tr>\n",
       "      <th>19909</th>\n",
       "      <td>2023-06-27</td>\n",
       "      <td>G</td>\n",
       "      <td>18.18</td>\n",
       "      <td>2023</td>\n",
       "      <td>6</td>\n",
       "    </tr>\n",
       "    <tr>\n",
       "      <th>19910</th>\n",
       "      <td>2023-06-28</td>\n",
       "      <td>G</td>\n",
       "      <td>19.72</td>\n",
       "      <td>2023</td>\n",
       "      <td>6</td>\n",
       "    </tr>\n",
       "    <tr>\n",
       "      <th>19911</th>\n",
       "      <td>2023-06-29</td>\n",
       "      <td>G</td>\n",
       "      <td>19.22</td>\n",
       "      <td>2023</td>\n",
       "      <td>6</td>\n",
       "    </tr>\n",
       "    <tr>\n",
       "      <th>19912</th>\n",
       "      <td>2023-06-30</td>\n",
       "      <td>G</td>\n",
       "      <td>17.40</td>\n",
       "      <td>2023</td>\n",
       "      <td>6</td>\n",
       "    </tr>\n",
       "    <tr>\n",
       "      <th>19913</th>\n",
       "      <td>2023-07-01</td>\n",
       "      <td>G</td>\n",
       "      <td>16.06</td>\n",
       "      <td>2023</td>\n",
       "      <td>7</td>\n",
       "    </tr>\n",
       "  </tbody>\n",
       "</table>\n",
       "<p>19914 rows × 5 columns</p>\n",
       "</div>"
      ],
      "text/plain": [
       "           Datum Kvalitet  Snittemperatur  Year  Month\n",
       "0     1961-01-01        G            1.07  1961      1\n",
       "1     1961-01-02        G            2.27  1961      1\n",
       "2     1961-01-03        G            2.27  1961      1\n",
       "3     1961-01-04        G            2.53  1961      1\n",
       "4     1961-01-05        G            2.13  1961      1\n",
       "...          ...      ...             ...   ...    ...\n",
       "19909 2023-06-27        G           18.18  2023      6\n",
       "19910 2023-06-28        G           19.72  2023      6\n",
       "19911 2023-06-29        G           19.22  2023      6\n",
       "19912 2023-06-30        G           17.40  2023      6\n",
       "19913 2023-07-01        G           16.06  2023      7\n",
       "\n",
       "[19914 rows x 5 columns]"
      ]
     },
     "execution_count": 9,
     "metadata": {},
     "output_type": "execute_result"
    }
   ],
   "source": [
    "df_gbg"
   ]
  },
  {
   "cell_type": "markdown",
   "metadata": {},
   "source": [
    "Save both datasets as csv and pkl"
   ]
  },
  {
   "cell_type": "code",
   "execution_count": 10,
   "metadata": {},
   "outputs": [],
   "source": [
    "# df_gbg.to_csv('../data/prepared_data/daily_temp_gbg.csv', index=False, mode='w')\n",
    "# df_save.to_csv('../data/prepared_data/daily_temp_save.csv', index=False, mode='w')"
   ]
  },
  {
   "cell_type": "code",
   "execution_count": 11,
   "metadata": {},
   "outputs": [],
   "source": [
    "# df_gbg.to_pickle('../Dataframes/df_daily_temp_gbg.pkl')\n",
    "# df_save.to_pickle('../Dataframes/df_daily_temp_save.pkl')"
   ]
  },
  {
   "cell_type": "markdown",
   "metadata": {},
   "source": [
    "Combine borh GBG and Säve\n",
    "Let Säve data run all the way until last day, let GBG take over"
   ]
  },
  {
   "cell_type": "code",
   "execution_count": 12,
   "metadata": {},
   "outputs": [],
   "source": [
    "# Last fay of Säve data was not a complete day, remove it.\n",
    "df_save.drop(df_save.tail(1).index, inplace=True)\n"
   ]
  },
  {
   "cell_type": "code",
   "execution_count": 13,
   "metadata": {},
   "outputs": [
    {
     "data": {
      "text/html": [
       "<div>\n",
       "<style scoped>\n",
       "    .dataframe tbody tr th:only-of-type {\n",
       "        vertical-align: middle;\n",
       "    }\n",
       "\n",
       "    .dataframe tbody tr th {\n",
       "        vertical-align: top;\n",
       "    }\n",
       "\n",
       "    .dataframe thead th {\n",
       "        text-align: right;\n",
       "    }\n",
       "</style>\n",
       "<table border=\"1\" class=\"dataframe\">\n",
       "  <thead>\n",
       "    <tr style=\"text-align: right;\">\n",
       "      <th></th>\n",
       "      <th>Datum</th>\n",
       "      <th>Kvalitet</th>\n",
       "      <th>Snittemperatur</th>\n",
       "      <th>Year</th>\n",
       "      <th>Month</th>\n",
       "    </tr>\n",
       "  </thead>\n",
       "  <tbody>\n",
       "    <tr>\n",
       "      <th>0</th>\n",
       "      <td>1944-01-01</td>\n",
       "      <td>G</td>\n",
       "      <td>3.20</td>\n",
       "      <td>1944</td>\n",
       "      <td>1</td>\n",
       "    </tr>\n",
       "    <tr>\n",
       "      <th>1</th>\n",
       "      <td>1944-01-02</td>\n",
       "      <td>G</td>\n",
       "      <td>3.60</td>\n",
       "      <td>1944</td>\n",
       "      <td>1</td>\n",
       "    </tr>\n",
       "    <tr>\n",
       "      <th>2</th>\n",
       "      <td>1944-01-03</td>\n",
       "      <td>G</td>\n",
       "      <td>2.80</td>\n",
       "      <td>1944</td>\n",
       "      <td>1</td>\n",
       "    </tr>\n",
       "    <tr>\n",
       "      <th>3</th>\n",
       "      <td>1944-01-04</td>\n",
       "      <td>G</td>\n",
       "      <td>-4.47</td>\n",
       "      <td>1944</td>\n",
       "      <td>1</td>\n",
       "    </tr>\n",
       "    <tr>\n",
       "      <th>4</th>\n",
       "      <td>1944-01-05</td>\n",
       "      <td>G</td>\n",
       "      <td>-1.40</td>\n",
       "      <td>1944</td>\n",
       "      <td>1</td>\n",
       "    </tr>\n",
       "    <tr>\n",
       "      <th>...</th>\n",
       "      <td>...</td>\n",
       "      <td>...</td>\n",
       "      <td>...</td>\n",
       "      <td>...</td>\n",
       "      <td>...</td>\n",
       "    </tr>\n",
       "    <tr>\n",
       "      <th>22979</th>\n",
       "      <td>2006-11-30</td>\n",
       "      <td>Y</td>\n",
       "      <td>9.98</td>\n",
       "      <td>2006</td>\n",
       "      <td>11</td>\n",
       "    </tr>\n",
       "    <tr>\n",
       "      <th>22980</th>\n",
       "      <td>2006-12-01</td>\n",
       "      <td>Y</td>\n",
       "      <td>8.03</td>\n",
       "      <td>2006</td>\n",
       "      <td>12</td>\n",
       "    </tr>\n",
       "    <tr>\n",
       "      <th>22981</th>\n",
       "      <td>2006-12-02</td>\n",
       "      <td>Y</td>\n",
       "      <td>8.81</td>\n",
       "      <td>2006</td>\n",
       "      <td>12</td>\n",
       "    </tr>\n",
       "    <tr>\n",
       "      <th>22982</th>\n",
       "      <td>2006-12-03</td>\n",
       "      <td>Y</td>\n",
       "      <td>8.11</td>\n",
       "      <td>2006</td>\n",
       "      <td>12</td>\n",
       "    </tr>\n",
       "    <tr>\n",
       "      <th>22983</th>\n",
       "      <td>2006-12-04</td>\n",
       "      <td>Y</td>\n",
       "      <td>8.57</td>\n",
       "      <td>2006</td>\n",
       "      <td>12</td>\n",
       "    </tr>\n",
       "  </tbody>\n",
       "</table>\n",
       "<p>22984 rows × 5 columns</p>\n",
       "</div>"
      ],
      "text/plain": [
       "           Datum Kvalitet  Snittemperatur  Year  Month\n",
       "0     1944-01-01        G            3.20  1944      1\n",
       "1     1944-01-02        G            3.60  1944      1\n",
       "2     1944-01-03        G            2.80  1944      1\n",
       "3     1944-01-04        G           -4.47  1944      1\n",
       "4     1944-01-05        G           -1.40  1944      1\n",
       "...          ...      ...             ...   ...    ...\n",
       "22979 2006-11-30        Y            9.98  2006     11\n",
       "22980 2006-12-01        Y            8.03  2006     12\n",
       "22981 2006-12-02        Y            8.81  2006     12\n",
       "22982 2006-12-03        Y            8.11  2006     12\n",
       "22983 2006-12-04        Y            8.57  2006     12\n",
       "\n",
       "[22984 rows x 5 columns]"
      ]
     },
     "execution_count": 13,
     "metadata": {},
     "output_type": "execute_result"
    }
   ],
   "source": [
    "df_save"
   ]
  },
  {
   "cell_type": "code",
   "execution_count": 14,
   "metadata": {},
   "outputs": [],
   "source": [
    "last_day_save = df_save['Datum'][-1:]"
   ]
  },
  {
   "cell_type": "code",
   "execution_count": 15,
   "metadata": {},
   "outputs": [],
   "source": [
    "last_day_save = str(last_day_save.values[0])[0:10]"
   ]
  },
  {
   "cell_type": "code",
   "execution_count": 16,
   "metadata": {},
   "outputs": [
    {
     "data": {
      "text/plain": [
       "'2006-12-04'"
      ]
     },
     "execution_count": 16,
     "metadata": {},
     "output_type": "execute_result"
    }
   ],
   "source": [
    "last_day_save"
   ]
  },
  {
   "cell_type": "code",
   "execution_count": 17,
   "metadata": {},
   "outputs": [],
   "source": [
    "df_gbg_compile = df_gbg[df_gbg['Datum'] > last_day_save]"
   ]
  },
  {
   "cell_type": "code",
   "execution_count": 18,
   "metadata": {},
   "outputs": [],
   "source": [
    "df_compiled = pd.concat([df_save, df_gbg_compile])"
   ]
  },
  {
   "cell_type": "code",
   "execution_count": 19,
   "metadata": {},
   "outputs": [
    {
     "data": {
      "text/html": [
       "<div>\n",
       "<style scoped>\n",
       "    .dataframe tbody tr th:only-of-type {\n",
       "        vertical-align: middle;\n",
       "    }\n",
       "\n",
       "    .dataframe tbody tr th {\n",
       "        vertical-align: top;\n",
       "    }\n",
       "\n",
       "    .dataframe thead th {\n",
       "        text-align: right;\n",
       "    }\n",
       "</style>\n",
       "<table border=\"1\" class=\"dataframe\">\n",
       "  <thead>\n",
       "    <tr style=\"text-align: right;\">\n",
       "      <th></th>\n",
       "      <th>Datum</th>\n",
       "      <th>Kvalitet</th>\n",
       "      <th>Snittemperatur</th>\n",
       "      <th>Year</th>\n",
       "      <th>Month</th>\n",
       "    </tr>\n",
       "  </thead>\n",
       "  <tbody>\n",
       "    <tr>\n",
       "      <th>0</th>\n",
       "      <td>1944-01-01</td>\n",
       "      <td>G</td>\n",
       "      <td>3.20</td>\n",
       "      <td>1944</td>\n",
       "      <td>1</td>\n",
       "    </tr>\n",
       "    <tr>\n",
       "      <th>1</th>\n",
       "      <td>1944-01-02</td>\n",
       "      <td>G</td>\n",
       "      <td>3.60</td>\n",
       "      <td>1944</td>\n",
       "      <td>1</td>\n",
       "    </tr>\n",
       "    <tr>\n",
       "      <th>2</th>\n",
       "      <td>1944-01-03</td>\n",
       "      <td>G</td>\n",
       "      <td>2.80</td>\n",
       "      <td>1944</td>\n",
       "      <td>1</td>\n",
       "    </tr>\n",
       "    <tr>\n",
       "      <th>3</th>\n",
       "      <td>1944-01-04</td>\n",
       "      <td>G</td>\n",
       "      <td>-4.47</td>\n",
       "      <td>1944</td>\n",
       "      <td>1</td>\n",
       "    </tr>\n",
       "    <tr>\n",
       "      <th>4</th>\n",
       "      <td>1944-01-05</td>\n",
       "      <td>G</td>\n",
       "      <td>-1.40</td>\n",
       "      <td>1944</td>\n",
       "      <td>1</td>\n",
       "    </tr>\n",
       "    <tr>\n",
       "      <th>...</th>\n",
       "      <td>...</td>\n",
       "      <td>...</td>\n",
       "      <td>...</td>\n",
       "      <td>...</td>\n",
       "      <td>...</td>\n",
       "    </tr>\n",
       "    <tr>\n",
       "      <th>19909</th>\n",
       "      <td>2023-06-27</td>\n",
       "      <td>G</td>\n",
       "      <td>18.18</td>\n",
       "      <td>2023</td>\n",
       "      <td>6</td>\n",
       "    </tr>\n",
       "    <tr>\n",
       "      <th>19910</th>\n",
       "      <td>2023-06-28</td>\n",
       "      <td>G</td>\n",
       "      <td>19.72</td>\n",
       "      <td>2023</td>\n",
       "      <td>6</td>\n",
       "    </tr>\n",
       "    <tr>\n",
       "      <th>19911</th>\n",
       "      <td>2023-06-29</td>\n",
       "      <td>G</td>\n",
       "      <td>19.22</td>\n",
       "      <td>2023</td>\n",
       "      <td>6</td>\n",
       "    </tr>\n",
       "    <tr>\n",
       "      <th>19912</th>\n",
       "      <td>2023-06-30</td>\n",
       "      <td>G</td>\n",
       "      <td>17.40</td>\n",
       "      <td>2023</td>\n",
       "      <td>6</td>\n",
       "    </tr>\n",
       "    <tr>\n",
       "      <th>19913</th>\n",
       "      <td>2023-07-01</td>\n",
       "      <td>G</td>\n",
       "      <td>16.06</td>\n",
       "      <td>2023</td>\n",
       "      <td>7</td>\n",
       "    </tr>\n",
       "  </tbody>\n",
       "</table>\n",
       "<p>29007 rows × 5 columns</p>\n",
       "</div>"
      ],
      "text/plain": [
       "           Datum Kvalitet  Snittemperatur  Year  Month\n",
       "0     1944-01-01        G            3.20  1944      1\n",
       "1     1944-01-02        G            3.60  1944      1\n",
       "2     1944-01-03        G            2.80  1944      1\n",
       "3     1944-01-04        G           -4.47  1944      1\n",
       "4     1944-01-05        G           -1.40  1944      1\n",
       "...          ...      ...             ...   ...    ...\n",
       "19909 2023-06-27        G           18.18  2023      6\n",
       "19910 2023-06-28        G           19.72  2023      6\n",
       "19911 2023-06-29        G           19.22  2023      6\n",
       "19912 2023-06-30        G           17.40  2023      6\n",
       "19913 2023-07-01        G           16.06  2023      7\n",
       "\n",
       "[29007 rows x 5 columns]"
      ]
     },
     "execution_count": 19,
     "metadata": {},
     "output_type": "execute_result"
    }
   ],
   "source": [
    "df_compiled"
   ]
  },
  {
   "cell_type": "code",
   "execution_count": 20,
   "metadata": {},
   "outputs": [],
   "source": [
    "# df_compiled.to_csv('../data/prepared_data/compiled_daily_temp_gbg_save.csv', index=False)"
   ]
  },
  {
   "cell_type": "code",
   "execution_count": 21,
   "metadata": {},
   "outputs": [],
   "source": [
    "# df_compiled.to_pickle('../Dataframes/df_compiled_daily_temp_gbg_save.pkl')"
   ]
  },
  {
   "cell_type": "markdown",
   "metadata": {},
   "source": [
    "Make monthly temp data"
   ]
  },
  {
   "cell_type": "code",
   "execution_count": 22,
   "metadata": {},
   "outputs": [],
   "source": [
    "df_gbg_monthly_temp = df_gbg.groupby(['Year', 'Month'])['Snittemperatur'].mean().round(2).reset_index()"
   ]
  },
  {
   "cell_type": "code",
   "execution_count": 23,
   "metadata": {},
   "outputs": [],
   "source": [
    "df_save_monthly_temp = df_save.groupby(['Year', 'Month'])['Snittemperatur'].mean().round(2).reset_index()"
   ]
  },
  {
   "cell_type": "code",
   "execution_count": 24,
   "metadata": {},
   "outputs": [],
   "source": [
    "# df_gbg_monthly_temp.to_csv('../data/prepared_data/monthly_temp_gbg.csv', index=False)\n",
    "# df_save_monthly_temp.to_csv('../data/prepared_data/monthly_temp_save.csv', index=False)"
   ]
  },
  {
   "cell_type": "code",
   "execution_count": 25,
   "metadata": {},
   "outputs": [],
   "source": [
    "# df_gbg_monthly_temp.to_pickle('../Dataframes/df_monthly_temp_gbg.pkl')\n",
    "# df_save_monthly_temp.to_pickle('../Dataframes/df_monthly_temp_save.pkl')"
   ]
  },
  {
   "cell_type": "markdown",
   "metadata": {},
   "source": [
    "Combine the two"
   ]
  },
  {
   "cell_type": "code",
   "execution_count": 26,
   "metadata": {},
   "outputs": [],
   "source": [
    "df_compiled_monthly_temp = pd.concat([df_save_monthly_temp, df_gbg_monthly_temp])"
   ]
  },
  {
   "cell_type": "code",
   "execution_count": 28,
   "metadata": {},
   "outputs": [],
   "source": [
    "# df_compiled_monthly_temp.to_csv('../data/prepared_data/compiled_monthly_temp_gbg_save.csv', index=False, mode='w')\n",
    "# df_compiled_monthly_temp.to_pickle('../Dataframes/df_compiled_monthly_temp_gbg_save.pkl')"
   ]
  }
 ],
 "metadata": {
  "kernelspec": {
   "display_name": "agilt_projektarbete",
   "language": "python",
   "name": "python3"
  },
  "language_info": {
   "codemirror_mode": {
    "name": "ipython",
    "version": 3
   },
   "file_extension": ".py",
   "mimetype": "text/x-python",
   "name": "python",
   "nbconvert_exporter": "python",
   "pygments_lexer": "ipython3",
   "version": "3.9.18"
  }
 },
 "nbformat": 4,
 "nbformat_minor": 2
}
