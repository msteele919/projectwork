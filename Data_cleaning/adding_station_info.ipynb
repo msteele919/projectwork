{
 "cells": [
  {
   "cell_type": "code",
   "execution_count": 1,
   "metadata": {},
   "outputs": [],
   "source": [
    "import pandas as pd\n"
   ]
  },
  {
   "cell_type": "code",
   "execution_count": 2,
   "metadata": {},
   "outputs": [],
   "source": [
    "df = pd.DataFrame(pd.read_csv('../data/station_info.csv'))"
   ]
  },
  {
   "cell_type": "code",
   "execution_count": 3,
   "metadata": {},
   "outputs": [
    {
     "data": {
      "text/html": [
       "<div>\n",
       "<style scoped>\n",
       "    .dataframe tbody tr th:only-of-type {\n",
       "        vertical-align: middle;\n",
       "    }\n",
       "\n",
       "    .dataframe tbody tr th {\n",
       "        vertical-align: top;\n",
       "    }\n",
       "\n",
       "    .dataframe thead th {\n",
       "        text-align: right;\n",
       "    }\n",
       "</style>\n",
       "<table border=\"1\" class=\"dataframe\">\n",
       "  <thead>\n",
       "    <tr style=\"text-align: right;\">\n",
       "      <th></th>\n",
       "      <th>Tidsperiod (fr.o.m)</th>\n",
       "      <th>Tidsperiod (t.o.m)</th>\n",
       "      <th>Höjd (meter över havet)</th>\n",
       "      <th>Latitud (decimalgrader)</th>\n",
       "      <th>Longitud (decimalgrader)</th>\n",
       "    </tr>\n",
       "  </thead>\n",
       "  <tbody>\n",
       "    <tr>\n",
       "      <th>0</th>\n",
       "      <td>1961-01-01 00:00:00</td>\n",
       "      <td>1969-05-31 23:59:59</td>\n",
       "      <td>30.000</td>\n",
       "      <td>57.7000</td>\n",
       "      <td>11.9700</td>\n",
       "    </tr>\n",
       "    <tr>\n",
       "      <th>1</th>\n",
       "      <td>1969-07-01 00:00:00</td>\n",
       "      <td>1972-04-30 23:59:59</td>\n",
       "      <td>40.000</td>\n",
       "      <td>57.7200</td>\n",
       "      <td>12.0200</td>\n",
       "    </tr>\n",
       "    <tr>\n",
       "      <th>2</th>\n",
       "      <td>1972-07-01 00:00:00</td>\n",
       "      <td>1976-10-01 23:59:59</td>\n",
       "      <td>4.000</td>\n",
       "      <td>57.7000</td>\n",
       "      <td>11.9800</td>\n",
       "    </tr>\n",
       "    <tr>\n",
       "      <th>3</th>\n",
       "      <td>1995-09-01 00:00:00</td>\n",
       "      <td>1995-09-30 23:59:59</td>\n",
       "      <td>23.000</td>\n",
       "      <td>57.7084</td>\n",
       "      <td>11.9939</td>\n",
       "    </tr>\n",
       "    <tr>\n",
       "      <th>4</th>\n",
       "      <td>1995-10-01 00:00:00</td>\n",
       "      <td>1998-06-01 23:59:59</td>\n",
       "      <td>5.000</td>\n",
       "      <td>57.7080</td>\n",
       "      <td>11.9938</td>\n",
       "    </tr>\n",
       "    <tr>\n",
       "      <th>5</th>\n",
       "      <td>1999-03-01 00:00:00</td>\n",
       "      <td>2023-10-01 12:20:20</td>\n",
       "      <td>3.038</td>\n",
       "      <td>57.7156</td>\n",
       "      <td>11.9924</td>\n",
       "    </tr>\n",
       "  </tbody>\n",
       "</table>\n",
       "</div>"
      ],
      "text/plain": [
       "   Tidsperiod (fr.o.m)   Tidsperiod (t.o.m)  Höjd (meter över havet)  \\\n",
       "0  1961-01-01 00:00:00  1969-05-31 23:59:59                   30.000   \n",
       "1  1969-07-01 00:00:00  1972-04-30 23:59:59                   40.000   \n",
       "2  1972-07-01 00:00:00  1976-10-01 23:59:59                    4.000   \n",
       "3  1995-09-01 00:00:00  1995-09-30 23:59:59                   23.000   \n",
       "4  1995-10-01 00:00:00  1998-06-01 23:59:59                    5.000   \n",
       "5  1999-03-01 00:00:00  2023-10-01 12:20:20                    3.038   \n",
       "\n",
       "   Latitud (decimalgrader)  Longitud (decimalgrader)  \n",
       "0                  57.7000                   11.9700  \n",
       "1                  57.7200                   12.0200  \n",
       "2                  57.7000                   11.9800  \n",
       "3                  57.7084                   11.9939  \n",
       "4                  57.7080                   11.9938  \n",
       "5                  57.7156                   11.9924  "
      ]
     },
     "execution_count": 3,
     "metadata": {},
     "output_type": "execute_result"
    }
   ],
   "source": [
    "df"
   ]
  },
  {
   "cell_type": "code",
   "execution_count": 30,
   "metadata": {},
   "outputs": [],
   "source": [
    "save_long = '11.8824'\n",
    "save_lat = '57.7786'\n",
    "vinga_long = '11.6061'\n",
    "vinga_lat = '57.6322'\n",
    "\n",
    "longs = [i for i in df['Longitud (decimalgrader)']]\n",
    "lats = [i for i in df['Latitud (decimalgrader)']]\n",
    "\n",
    "longs.append(float(save_long))\n",
    "longs.append(float(vinga_long))\n",
    "lats.append(float(save_lat))\n",
    "lats.append(float(vinga_lat))\n"
   ]
  },
  {
   "cell_type": "code",
   "execution_count": 32,
   "metadata": {},
   "outputs": [
    {
     "data": {
      "text/plain": [
       "[11.97, 12.02, 11.98, 11.9939, 11.9938, 11.9924, 11.8824, 11.6061]"
      ]
     },
     "execution_count": 32,
     "metadata": {},
     "output_type": "execute_result"
    }
   ],
   "source": [
    "longs"
   ]
  },
  {
   "cell_type": "code",
   "execution_count": 33,
   "metadata": {},
   "outputs": [],
   "source": [
    "df_stations = pd.DataFrame({'LON': longs, 'LAT': lats})"
   ]
  },
  {
   "cell_type": "code",
   "execution_count": 35,
   "metadata": {},
   "outputs": [],
   "source": [
    "# df_stations.to_pickle('../Dataframes/station_info.pkl')"
   ]
  }
 ],
 "metadata": {
  "kernelspec": {
   "display_name": "agilt_projektarbete",
   "language": "python",
   "name": "python3"
  },
  "language_info": {
   "codemirror_mode": {
    "name": "ipython",
    "version": 3
   },
   "file_extension": ".py",
   "mimetype": "text/x-python",
   "name": "python",
   "nbconvert_exporter": "python",
   "pygments_lexer": "ipython3",
   "version": "3.9.18"
  }
 },
 "nbformat": 4,
 "nbformat_minor": 2
}
