{
 "cells": [
  {
   "cell_type": "code",
   "execution_count": 164,
   "metadata": {},
   "outputs": [],
   "source": [
    "import pandas as pd\n",
    "from datetime import timedelta\n",
    "from matplotlib import pyplot as plt\n",
    "import numpy as np\n",
    "from fastapi import FastAPI\n",
    "import requests\n",
    "import os"
   ]
  },
  {
   "cell_type": "markdown",
   "metadata": {},
   "source": [
    "Start by making DF for average temperature per day"
   ]
  },
  {
   "cell_type": "code",
   "execution_count": 165,
   "metadata": {},
   "outputs": [],
   "source": [
    "df = pd.read_csv('../data/smhi_temp_data_save.csv', usecols=[0, 1, 2, 3], header=6, sep=';')"
   ]
  },
  {
   "cell_type": "code",
   "execution_count": 166,
   "metadata": {},
   "outputs": [
    {
     "data": {
      "text/html": [
       "<div>\n",
       "<style scoped>\n",
       "    .dataframe tbody tr th:only-of-type {\n",
       "        vertical-align: middle;\n",
       "    }\n",
       "\n",
       "    .dataframe tbody tr th {\n",
       "        vertical-align: top;\n",
       "    }\n",
       "\n",
       "    .dataframe thead th {\n",
       "        text-align: right;\n",
       "    }\n",
       "</style>\n",
       "<table border=\"1\" class=\"dataframe\">\n",
       "  <thead>\n",
       "    <tr style=\"text-align: right;\">\n",
       "      <th></th>\n",
       "      <th>Datum</th>\n",
       "      <th>Tid (UTC)</th>\n",
       "      <th>Lufttemperatur</th>\n",
       "      <th>Kvalitet</th>\n",
       "    </tr>\n",
       "  </thead>\n",
       "  <tbody>\n",
       "    <tr>\n",
       "      <th>0</th>\n",
       "      <td>1944-01-01</td>\n",
       "      <td>07:00:00</td>\n",
       "      <td>1.6</td>\n",
       "      <td>G</td>\n",
       "    </tr>\n",
       "    <tr>\n",
       "      <th>1</th>\n",
       "      <td>1944-01-01</td>\n",
       "      <td>13:00:00</td>\n",
       "      <td>3.8</td>\n",
       "      <td>G</td>\n",
       "    </tr>\n",
       "    <tr>\n",
       "      <th>2</th>\n",
       "      <td>1944-01-01</td>\n",
       "      <td>18:00:00</td>\n",
       "      <td>4.2</td>\n",
       "      <td>G</td>\n",
       "    </tr>\n",
       "    <tr>\n",
       "      <th>3</th>\n",
       "      <td>1944-01-02</td>\n",
       "      <td>07:00:00</td>\n",
       "      <td>0.6</td>\n",
       "      <td>G</td>\n",
       "    </tr>\n",
       "    <tr>\n",
       "      <th>4</th>\n",
       "      <td>1944-01-02</td>\n",
       "      <td>13:00:00</td>\n",
       "      <td>3.8</td>\n",
       "      <td>G</td>\n",
       "    </tr>\n",
       "    <tr>\n",
       "      <th>...</th>\n",
       "      <td>...</td>\n",
       "      <td>...</td>\n",
       "      <td>...</td>\n",
       "      <td>...</td>\n",
       "    </tr>\n",
       "    <tr>\n",
       "      <th>435387</th>\n",
       "      <td>2006-12-05</td>\n",
       "      <td>09:00:00</td>\n",
       "      <td>9.4</td>\n",
       "      <td>G</td>\n",
       "    </tr>\n",
       "    <tr>\n",
       "      <th>435388</th>\n",
       "      <td>2006-12-05</td>\n",
       "      <td>10:00:00</td>\n",
       "      <td>10.1</td>\n",
       "      <td>Y</td>\n",
       "    </tr>\n",
       "    <tr>\n",
       "      <th>435389</th>\n",
       "      <td>2006-12-05</td>\n",
       "      <td>11:00:00</td>\n",
       "      <td>10.8</td>\n",
       "      <td>Y</td>\n",
       "    </tr>\n",
       "    <tr>\n",
       "      <th>435390</th>\n",
       "      <td>2006-12-05</td>\n",
       "      <td>12:00:00</td>\n",
       "      <td>10.9</td>\n",
       "      <td>G</td>\n",
       "    </tr>\n",
       "    <tr>\n",
       "      <th>435391</th>\n",
       "      <td>2006-12-05</td>\n",
       "      <td>13:00:00</td>\n",
       "      <td>10.8</td>\n",
       "      <td>Y</td>\n",
       "    </tr>\n",
       "  </tbody>\n",
       "</table>\n",
       "<p>435392 rows × 4 columns</p>\n",
       "</div>"
      ],
      "text/plain": [
       "             Datum Tid (UTC)  Lufttemperatur Kvalitet\n",
       "0       1944-01-01  07:00:00             1.6        G\n",
       "1       1944-01-01  13:00:00             3.8        G\n",
       "2       1944-01-01  18:00:00             4.2        G\n",
       "3       1944-01-02  07:00:00             0.6        G\n",
       "4       1944-01-02  13:00:00             3.8        G\n",
       "...            ...       ...             ...      ...\n",
       "435387  2006-12-05  09:00:00             9.4        G\n",
       "435388  2006-12-05  10:00:00            10.1        Y\n",
       "435389  2006-12-05  11:00:00            10.8        Y\n",
       "435390  2006-12-05  12:00:00            10.9        G\n",
       "435391  2006-12-05  13:00:00            10.8        Y\n",
       "\n",
       "[435392 rows x 4 columns]"
      ]
     },
     "execution_count": 166,
     "metadata": {},
     "output_type": "execute_result"
    }
   ],
   "source": [
    "df"
   ]
  },
  {
   "cell_type": "code",
   "execution_count": 167,
   "metadata": {},
   "outputs": [],
   "source": [
    "df['Snittemperatur'] = df.groupby('Datum')['Lufttemperatur'].transform('mean').round(2)"
   ]
  },
  {
   "cell_type": "code",
   "execution_count": 168,
   "metadata": {},
   "outputs": [],
   "source": [
    "df = df.groupby('Datum').max().drop('Lufttemperatur', axis=1).reset_index()"
   ]
  },
  {
   "cell_type": "code",
   "execution_count": 169,
   "metadata": {},
   "outputs": [],
   "source": [
    "df['Year'] = df['Datum'].str.split('-').str[0]"
   ]
  },
  {
   "cell_type": "code",
   "execution_count": 170,
   "metadata": {},
   "outputs": [],
   "source": [
    "df['Year'] = pd.to_datetime(df['Year'], yearfirst=True, format='%Y')"
   ]
  },
  {
   "cell_type": "code",
   "execution_count": 171,
   "metadata": {},
   "outputs": [],
   "source": [
    "df['Datum'] = pd.to_datetime(df['Datum'], yearfirst=True, format='ISO8601')"
   ]
  },
  {
   "cell_type": "code",
   "execution_count": 172,
   "metadata": {},
   "outputs": [],
   "source": [
    "df = df.drop(columns='Tid (UTC)')"
   ]
  },
  {
   "cell_type": "code",
   "execution_count": 173,
   "metadata": {},
   "outputs": [
    {
     "data": {
      "text/plain": [
       "0       1944-01-01\n",
       "1       1944-01-01\n",
       "2       1944-01-01\n",
       "3       1944-01-01\n",
       "4       1944-01-01\n",
       "           ...    \n",
       "22980   2006-01-01\n",
       "22981   2006-01-01\n",
       "22982   2006-01-01\n",
       "22983   2006-01-01\n",
       "22984   2006-01-01\n",
       "Name: Year, Length: 22985, dtype: datetime64[ns]"
      ]
     },
     "execution_count": 173,
     "metadata": {},
     "output_type": "execute_result"
    }
   ],
   "source": [
    "df['Year']"
   ]
  },
  {
   "cell_type": "code",
   "execution_count": 174,
   "metadata": {},
   "outputs": [],
   "source": [
    "df.to_csv('../data/Olof_Save_GBG_avg_daily_temp_data.csv', index=False, mode='w')"
   ]
  },
  {
   "cell_type": "code",
   "execution_count": 175,
   "metadata": {},
   "outputs": [],
   "source": [
    "last_day_save = df['Datum'][-1:]"
   ]
  },
  {
   "cell_type": "code",
   "execution_count": 176,
   "metadata": {},
   "outputs": [],
   "source": [
    "last_day_save = str(last_day_save.values[0])[:10]\n"
   ]
  },
  {
   "cell_type": "code",
   "execution_count": 177,
   "metadata": {},
   "outputs": [],
   "source": [
    "df_gbg = pd.read_csv('../data/smhi_temp_data_gbg.csv', usecols=[0, 1, 2, 3], header=11, sep=';')"
   ]
  },
  {
   "cell_type": "code",
   "execution_count": 178,
   "metadata": {},
   "outputs": [
    {
     "data": {
      "text/html": [
       "<div>\n",
       "<style scoped>\n",
       "    .dataframe tbody tr th:only-of-type {\n",
       "        vertical-align: middle;\n",
       "    }\n",
       "\n",
       "    .dataframe tbody tr th {\n",
       "        vertical-align: top;\n",
       "    }\n",
       "\n",
       "    .dataframe thead th {\n",
       "        text-align: right;\n",
       "    }\n",
       "</style>\n",
       "<table border=\"1\" class=\"dataframe\">\n",
       "  <thead>\n",
       "    <tr style=\"text-align: right;\">\n",
       "      <th></th>\n",
       "      <th>Datum</th>\n",
       "      <th>Tid (UTC)</th>\n",
       "      <th>Lufttemperatur</th>\n",
       "      <th>Kvalitet</th>\n",
       "    </tr>\n",
       "  </thead>\n",
       "  <tbody>\n",
       "    <tr>\n",
       "      <th>0</th>\n",
       "      <td>1961-01-01</td>\n",
       "      <td>06:00:00</td>\n",
       "      <td>0.8</td>\n",
       "      <td>G</td>\n",
       "    </tr>\n",
       "    <tr>\n",
       "      <th>1</th>\n",
       "      <td>1961-01-01</td>\n",
       "      <td>12:00:00</td>\n",
       "      <td>1.0</td>\n",
       "      <td>G</td>\n",
       "    </tr>\n",
       "    <tr>\n",
       "      <th>2</th>\n",
       "      <td>1961-01-01</td>\n",
       "      <td>18:00:00</td>\n",
       "      <td>1.4</td>\n",
       "      <td>G</td>\n",
       "    </tr>\n",
       "    <tr>\n",
       "      <th>3</th>\n",
       "      <td>1961-01-02</td>\n",
       "      <td>06:00:00</td>\n",
       "      <td>1.8</td>\n",
       "      <td>G</td>\n",
       "    </tr>\n",
       "    <tr>\n",
       "      <th>4</th>\n",
       "      <td>1961-01-02</td>\n",
       "      <td>12:00:00</td>\n",
       "      <td>2.2</td>\n",
       "      <td>G</td>\n",
       "    </tr>\n",
       "    <tr>\n",
       "      <th>...</th>\n",
       "      <td>...</td>\n",
       "      <td>...</td>\n",
       "      <td>...</td>\n",
       "      <td>...</td>\n",
       "    </tr>\n",
       "    <tr>\n",
       "      <th>308145</th>\n",
       "      <td>2023-07-01</td>\n",
       "      <td>02:00:00</td>\n",
       "      <td>16.1</td>\n",
       "      <td>G</td>\n",
       "    </tr>\n",
       "    <tr>\n",
       "      <th>308146</th>\n",
       "      <td>2023-07-01</td>\n",
       "      <td>03:00:00</td>\n",
       "      <td>16.1</td>\n",
       "      <td>G</td>\n",
       "    </tr>\n",
       "    <tr>\n",
       "      <th>308147</th>\n",
       "      <td>2023-07-01</td>\n",
       "      <td>04:00:00</td>\n",
       "      <td>16.2</td>\n",
       "      <td>G</td>\n",
       "    </tr>\n",
       "    <tr>\n",
       "      <th>308148</th>\n",
       "      <td>2023-07-01</td>\n",
       "      <td>05:00:00</td>\n",
       "      <td>16.3</td>\n",
       "      <td>G</td>\n",
       "    </tr>\n",
       "    <tr>\n",
       "      <th>308149</th>\n",
       "      <td>2023-07-01</td>\n",
       "      <td>06:00:00</td>\n",
       "      <td>15.6</td>\n",
       "      <td>G</td>\n",
       "    </tr>\n",
       "  </tbody>\n",
       "</table>\n",
       "<p>308150 rows × 4 columns</p>\n",
       "</div>"
      ],
      "text/plain": [
       "             Datum Tid (UTC)  Lufttemperatur Kvalitet\n",
       "0       1961-01-01  06:00:00             0.8        G\n",
       "1       1961-01-01  12:00:00             1.0        G\n",
       "2       1961-01-01  18:00:00             1.4        G\n",
       "3       1961-01-02  06:00:00             1.8        G\n",
       "4       1961-01-02  12:00:00             2.2        G\n",
       "...            ...       ...             ...      ...\n",
       "308145  2023-07-01  02:00:00            16.1        G\n",
       "308146  2023-07-01  03:00:00            16.1        G\n",
       "308147  2023-07-01  04:00:00            16.2        G\n",
       "308148  2023-07-01  05:00:00            16.3        G\n",
       "308149  2023-07-01  06:00:00            15.6        G\n",
       "\n",
       "[308150 rows x 4 columns]"
      ]
     },
     "execution_count": 178,
     "metadata": {},
     "output_type": "execute_result"
    }
   ],
   "source": [
    "df_gbg"
   ]
  },
  {
   "cell_type": "code",
   "execution_count": 179,
   "metadata": {},
   "outputs": [],
   "source": [
    "df_gbg['Snittemperatur'] = df_gbg.groupby('Datum')['Lufttemperatur'].transform('mean').round(2)"
   ]
  },
  {
   "cell_type": "code",
   "execution_count": 180,
   "metadata": {},
   "outputs": [],
   "source": [
    "df_gbg = df_gbg.groupby('Datum').max().drop('Lufttemperatur', axis=1).reset_index()"
   ]
  },
  {
   "cell_type": "code",
   "execution_count": 181,
   "metadata": {},
   "outputs": [],
   "source": [
    "df_gbg['Year'] = df_gbg['Datum'].str.split('-').str[0]"
   ]
  },
  {
   "cell_type": "code",
   "execution_count": 182,
   "metadata": {},
   "outputs": [],
   "source": [
    "df_gbg['Year'] = pd.to_datetime(df_gbg['Year'], yearfirst=True, format='%Y')"
   ]
  },
  {
   "cell_type": "code",
   "execution_count": 183,
   "metadata": {},
   "outputs": [],
   "source": [
    "df_gbg['Datum'] = pd.to_datetime(df_gbg['Datum'], yearfirst=True, format='ISO8601')"
   ]
  },
  {
   "cell_type": "code",
   "execution_count": 184,
   "metadata": {},
   "outputs": [],
   "source": [
    "df_gbg = df_gbg.drop(columns='Tid (UTC)')"
   ]
  },
  {
   "cell_type": "code",
   "execution_count": 185,
   "metadata": {},
   "outputs": [],
   "source": [
    "df_gbg = df_gbg[df_gbg['Datum'] > last_day_save]"
   ]
  },
  {
   "cell_type": "code",
   "execution_count": 186,
   "metadata": {},
   "outputs": [
    {
     "data": {
      "text/html": [
       "<div>\n",
       "<style scoped>\n",
       "    .dataframe tbody tr th:only-of-type {\n",
       "        vertical-align: middle;\n",
       "    }\n",
       "\n",
       "    .dataframe tbody tr th {\n",
       "        vertical-align: top;\n",
       "    }\n",
       "\n",
       "    .dataframe thead th {\n",
       "        text-align: right;\n",
       "    }\n",
       "</style>\n",
       "<table border=\"1\" class=\"dataframe\">\n",
       "  <thead>\n",
       "    <tr style=\"text-align: right;\">\n",
       "      <th></th>\n",
       "      <th>Datum</th>\n",
       "      <th>Kvalitet</th>\n",
       "      <th>Snittemperatur</th>\n",
       "      <th>Year</th>\n",
       "    </tr>\n",
       "  </thead>\n",
       "  <tbody>\n",
       "    <tr>\n",
       "      <th>13892</th>\n",
       "      <td>2006-12-06</td>\n",
       "      <td>Y</td>\n",
       "      <td>9.29</td>\n",
       "      <td>2006-01-01</td>\n",
       "    </tr>\n",
       "    <tr>\n",
       "      <th>13893</th>\n",
       "      <td>2006-12-07</td>\n",
       "      <td>Y</td>\n",
       "      <td>7.70</td>\n",
       "      <td>2006-01-01</td>\n",
       "    </tr>\n",
       "    <tr>\n",
       "      <th>13894</th>\n",
       "      <td>2006-12-08</td>\n",
       "      <td>Y</td>\n",
       "      <td>8.86</td>\n",
       "      <td>2006-01-01</td>\n",
       "    </tr>\n",
       "    <tr>\n",
       "      <th>13895</th>\n",
       "      <td>2006-12-09</td>\n",
       "      <td>Y</td>\n",
       "      <td>8.58</td>\n",
       "      <td>2006-01-01</td>\n",
       "    </tr>\n",
       "    <tr>\n",
       "      <th>13896</th>\n",
       "      <td>2006-12-10</td>\n",
       "      <td>Y</td>\n",
       "      <td>7.52</td>\n",
       "      <td>2006-01-01</td>\n",
       "    </tr>\n",
       "    <tr>\n",
       "      <th>...</th>\n",
       "      <td>...</td>\n",
       "      <td>...</td>\n",
       "      <td>...</td>\n",
       "      <td>...</td>\n",
       "    </tr>\n",
       "    <tr>\n",
       "      <th>19909</th>\n",
       "      <td>2023-06-27</td>\n",
       "      <td>G</td>\n",
       "      <td>18.18</td>\n",
       "      <td>2023-01-01</td>\n",
       "    </tr>\n",
       "    <tr>\n",
       "      <th>19910</th>\n",
       "      <td>2023-06-28</td>\n",
       "      <td>G</td>\n",
       "      <td>19.72</td>\n",
       "      <td>2023-01-01</td>\n",
       "    </tr>\n",
       "    <tr>\n",
       "      <th>19911</th>\n",
       "      <td>2023-06-29</td>\n",
       "      <td>G</td>\n",
       "      <td>19.22</td>\n",
       "      <td>2023-01-01</td>\n",
       "    </tr>\n",
       "    <tr>\n",
       "      <th>19912</th>\n",
       "      <td>2023-06-30</td>\n",
       "      <td>G</td>\n",
       "      <td>17.40</td>\n",
       "      <td>2023-01-01</td>\n",
       "    </tr>\n",
       "    <tr>\n",
       "      <th>19913</th>\n",
       "      <td>2023-07-01</td>\n",
       "      <td>G</td>\n",
       "      <td>16.06</td>\n",
       "      <td>2023-01-01</td>\n",
       "    </tr>\n",
       "  </tbody>\n",
       "</table>\n",
       "<p>6022 rows × 4 columns</p>\n",
       "</div>"
      ],
      "text/plain": [
       "           Datum Kvalitet  Snittemperatur       Year\n",
       "13892 2006-12-06        Y            9.29 2006-01-01\n",
       "13893 2006-12-07        Y            7.70 2006-01-01\n",
       "13894 2006-12-08        Y            8.86 2006-01-01\n",
       "13895 2006-12-09        Y            8.58 2006-01-01\n",
       "13896 2006-12-10        Y            7.52 2006-01-01\n",
       "...          ...      ...             ...        ...\n",
       "19909 2023-06-27        G           18.18 2023-01-01\n",
       "19910 2023-06-28        G           19.72 2023-01-01\n",
       "19911 2023-06-29        G           19.22 2023-01-01\n",
       "19912 2023-06-30        G           17.40 2023-01-01\n",
       "19913 2023-07-01        G           16.06 2023-01-01\n",
       "\n",
       "[6022 rows x 4 columns]"
      ]
     },
     "execution_count": 186,
     "metadata": {},
     "output_type": "execute_result"
    }
   ],
   "source": [
    "df_gbg"
   ]
  },
  {
   "cell_type": "code",
   "execution_count": 187,
   "metadata": {},
   "outputs": [],
   "source": [
    "last_day_gbg= df_gbg['Datum'][-1:]\n"
   ]
  },
  {
   "cell_type": "code",
   "execution_count": 188,
   "metadata": {},
   "outputs": [],
   "source": [
    "last_day_gbg = str(last_day_gbg.values[0])[:10]"
   ]
  },
  {
   "cell_type": "code",
   "execution_count": 189,
   "metadata": {},
   "outputs": [],
   "source": [
    "df_gbg.to_csv('../data/Olof_Save_GBG_avg_daily_temp_data.csv', index=False, mode='a', header=False)"
   ]
  },
  {
   "cell_type": "markdown",
   "metadata": {},
   "source": [
    "Compile historical data with API data"
   ]
  },
  {
   "cell_type": "code",
   "execution_count": 190,
   "metadata": {},
   "outputs": [],
   "source": [
    "df_last_months = pd.read_csv('../data/smhi_gbg_last_few_months.csv', usecols=[0, 1, 2, 3], header=11, sep=';')"
   ]
  },
  {
   "cell_type": "code",
   "execution_count": 191,
   "metadata": {},
   "outputs": [
    {
     "data": {
      "text/html": [
       "<div>\n",
       "<style scoped>\n",
       "    .dataframe tbody tr th:only-of-type {\n",
       "        vertical-align: middle;\n",
       "    }\n",
       "\n",
       "    .dataframe tbody tr th {\n",
       "        vertical-align: top;\n",
       "    }\n",
       "\n",
       "    .dataframe thead th {\n",
       "        text-align: right;\n",
       "    }\n",
       "</style>\n",
       "<table border=\"1\" class=\"dataframe\">\n",
       "  <thead>\n",
       "    <tr style=\"text-align: right;\">\n",
       "      <th></th>\n",
       "      <th>Datum</th>\n",
       "      <th>Tid (UTC)</th>\n",
       "      <th>Lufttemperatur</th>\n",
       "      <th>Kvalitet</th>\n",
       "    </tr>\n",
       "  </thead>\n",
       "  <tbody>\n",
       "    <tr>\n",
       "      <th>0</th>\n",
       "      <td>2023-06-08</td>\n",
       "      <td>01:00:00</td>\n",
       "      <td>12.6</td>\n",
       "      <td>G</td>\n",
       "    </tr>\n",
       "    <tr>\n",
       "      <th>1</th>\n",
       "      <td>2023-06-08</td>\n",
       "      <td>02:00:00</td>\n",
       "      <td>12.2</td>\n",
       "      <td>G</td>\n",
       "    </tr>\n",
       "    <tr>\n",
       "      <th>2</th>\n",
       "      <td>2023-06-08</td>\n",
       "      <td>03:00:00</td>\n",
       "      <td>12.5</td>\n",
       "      <td>G</td>\n",
       "    </tr>\n",
       "    <tr>\n",
       "      <th>3</th>\n",
       "      <td>2023-06-08</td>\n",
       "      <td>04:00:00</td>\n",
       "      <td>12.4</td>\n",
       "      <td>G</td>\n",
       "    </tr>\n",
       "    <tr>\n",
       "      <th>4</th>\n",
       "      <td>2023-06-08</td>\n",
       "      <td>05:00:00</td>\n",
       "      <td>14.5</td>\n",
       "      <td>G</td>\n",
       "    </tr>\n",
       "    <tr>\n",
       "      <th>...</th>\n",
       "      <td>...</td>\n",
       "      <td>...</td>\n",
       "      <td>...</td>\n",
       "      <td>...</td>\n",
       "    </tr>\n",
       "    <tr>\n",
       "      <th>3125</th>\n",
       "      <td>2023-10-16</td>\n",
       "      <td>06:00:00</td>\n",
       "      <td>2.2</td>\n",
       "      <td>G</td>\n",
       "    </tr>\n",
       "    <tr>\n",
       "      <th>3126</th>\n",
       "      <td>2023-10-16</td>\n",
       "      <td>07:00:00</td>\n",
       "      <td>2.9</td>\n",
       "      <td>G</td>\n",
       "    </tr>\n",
       "    <tr>\n",
       "      <th>3127</th>\n",
       "      <td>2023-10-16</td>\n",
       "      <td>08:00:00</td>\n",
       "      <td>5.3</td>\n",
       "      <td>G</td>\n",
       "    </tr>\n",
       "    <tr>\n",
       "      <th>3128</th>\n",
       "      <td>2023-10-16</td>\n",
       "      <td>09:00:00</td>\n",
       "      <td>7.9</td>\n",
       "      <td>G</td>\n",
       "    </tr>\n",
       "    <tr>\n",
       "      <th>3129</th>\n",
       "      <td>2023-10-16</td>\n",
       "      <td>10:00:00</td>\n",
       "      <td>9.6</td>\n",
       "      <td>G</td>\n",
       "    </tr>\n",
       "  </tbody>\n",
       "</table>\n",
       "<p>3130 rows × 4 columns</p>\n",
       "</div>"
      ],
      "text/plain": [
       "           Datum Tid (UTC)  Lufttemperatur Kvalitet\n",
       "0     2023-06-08  01:00:00            12.6        G\n",
       "1     2023-06-08  02:00:00            12.2        G\n",
       "2     2023-06-08  03:00:00            12.5        G\n",
       "3     2023-06-08  04:00:00            12.4        G\n",
       "4     2023-06-08  05:00:00            14.5        G\n",
       "...          ...       ...             ...      ...\n",
       "3125  2023-10-16  06:00:00             2.2        G\n",
       "3126  2023-10-16  07:00:00             2.9        G\n",
       "3127  2023-10-16  08:00:00             5.3        G\n",
       "3128  2023-10-16  09:00:00             7.9        G\n",
       "3129  2023-10-16  10:00:00             9.6        G\n",
       "\n",
       "[3130 rows x 4 columns]"
      ]
     },
     "execution_count": 191,
     "metadata": {},
     "output_type": "execute_result"
    }
   ],
   "source": [
    "df_last_months"
   ]
  },
  {
   "cell_type": "code",
   "execution_count": 192,
   "metadata": {},
   "outputs": [],
   "source": [
    "df_last_months['Snittemperatur'] = df_last_months.groupby('Datum')['Lufttemperatur'].transform('mean').round(2)"
   ]
  },
  {
   "cell_type": "code",
   "execution_count": 193,
   "metadata": {},
   "outputs": [],
   "source": [
    "df_last_months = df_last_months.groupby('Datum').max().drop('Lufttemperatur', axis = 1).reset_index()"
   ]
  },
  {
   "cell_type": "code",
   "execution_count": 194,
   "metadata": {},
   "outputs": [],
   "source": [
    "df_last_months['Year'] = df_last_months['Datum'].str.split('-').str[0]"
   ]
  },
  {
   "cell_type": "code",
   "execution_count": 195,
   "metadata": {},
   "outputs": [],
   "source": [
    "df_last_months['Year'] = pd.to_datetime(df_last_months['Year'], yearfirst=True, format='%Y')"
   ]
  },
  {
   "cell_type": "code",
   "execution_count": 196,
   "metadata": {},
   "outputs": [],
   "source": [
    "df_last_months['Datum'] = pd.to_datetime(df_last_months['Datum'], yearfirst=True, format='ISO8601')"
   ]
  },
  {
   "cell_type": "code",
   "execution_count": 197,
   "metadata": {},
   "outputs": [],
   "source": [
    "df_last_months = df_last_months.drop(columns='Tid (UTC)')"
   ]
  },
  {
   "cell_type": "code",
   "execution_count": 198,
   "metadata": {},
   "outputs": [
    {
     "data": {
      "text/html": [
       "<div>\n",
       "<style scoped>\n",
       "    .dataframe tbody tr th:only-of-type {\n",
       "        vertical-align: middle;\n",
       "    }\n",
       "\n",
       "    .dataframe tbody tr th {\n",
       "        vertical-align: top;\n",
       "    }\n",
       "\n",
       "    .dataframe thead th {\n",
       "        text-align: right;\n",
       "    }\n",
       "</style>\n",
       "<table border=\"1\" class=\"dataframe\">\n",
       "  <thead>\n",
       "    <tr style=\"text-align: right;\">\n",
       "      <th></th>\n",
       "      <th>Datum</th>\n",
       "      <th>Kvalitet</th>\n",
       "      <th>Snittemperatur</th>\n",
       "      <th>Year</th>\n",
       "    </tr>\n",
       "  </thead>\n",
       "  <tbody>\n",
       "    <tr>\n",
       "      <th>0</th>\n",
       "      <td>2023-06-08</td>\n",
       "      <td>G</td>\n",
       "      <td>17.67</td>\n",
       "      <td>2023-01-01</td>\n",
       "    </tr>\n",
       "    <tr>\n",
       "      <th>1</th>\n",
       "      <td>2023-06-09</td>\n",
       "      <td>G</td>\n",
       "      <td>19.30</td>\n",
       "      <td>2023-01-01</td>\n",
       "    </tr>\n",
       "    <tr>\n",
       "      <th>2</th>\n",
       "      <td>2023-06-10</td>\n",
       "      <td>G</td>\n",
       "      <td>18.98</td>\n",
       "      <td>2023-01-01</td>\n",
       "    </tr>\n",
       "    <tr>\n",
       "      <th>3</th>\n",
       "      <td>2023-06-11</td>\n",
       "      <td>G</td>\n",
       "      <td>18.52</td>\n",
       "      <td>2023-01-01</td>\n",
       "    </tr>\n",
       "    <tr>\n",
       "      <th>4</th>\n",
       "      <td>2023-06-12</td>\n",
       "      <td>G</td>\n",
       "      <td>19.63</td>\n",
       "      <td>2023-01-01</td>\n",
       "    </tr>\n",
       "    <tr>\n",
       "      <th>...</th>\n",
       "      <td>...</td>\n",
       "      <td>...</td>\n",
       "      <td>...</td>\n",
       "      <td>...</td>\n",
       "    </tr>\n",
       "    <tr>\n",
       "      <th>126</th>\n",
       "      <td>2023-10-12</td>\n",
       "      <td>G</td>\n",
       "      <td>12.08</td>\n",
       "      <td>2023-01-01</td>\n",
       "    </tr>\n",
       "    <tr>\n",
       "      <th>127</th>\n",
       "      <td>2023-10-13</td>\n",
       "      <td>G</td>\n",
       "      <td>11.89</td>\n",
       "      <td>2023-01-01</td>\n",
       "    </tr>\n",
       "    <tr>\n",
       "      <th>128</th>\n",
       "      <td>2023-10-14</td>\n",
       "      <td>G</td>\n",
       "      <td>11.54</td>\n",
       "      <td>2023-01-01</td>\n",
       "    </tr>\n",
       "    <tr>\n",
       "      <th>129</th>\n",
       "      <td>2023-10-15</td>\n",
       "      <td>G</td>\n",
       "      <td>10.09</td>\n",
       "      <td>2023-01-01</td>\n",
       "    </tr>\n",
       "    <tr>\n",
       "      <th>130</th>\n",
       "      <td>2023-10-16</td>\n",
       "      <td>G</td>\n",
       "      <td>4.27</td>\n",
       "      <td>2023-01-01</td>\n",
       "    </tr>\n",
       "  </tbody>\n",
       "</table>\n",
       "<p>131 rows × 4 columns</p>\n",
       "</div>"
      ],
      "text/plain": [
       "         Datum Kvalitet  Snittemperatur       Year\n",
       "0   2023-06-08        G           17.67 2023-01-01\n",
       "1   2023-06-09        G           19.30 2023-01-01\n",
       "2   2023-06-10        G           18.98 2023-01-01\n",
       "3   2023-06-11        G           18.52 2023-01-01\n",
       "4   2023-06-12        G           19.63 2023-01-01\n",
       "..         ...      ...             ...        ...\n",
       "126 2023-10-12        G           12.08 2023-01-01\n",
       "127 2023-10-13        G           11.89 2023-01-01\n",
       "128 2023-10-14        G           11.54 2023-01-01\n",
       "129 2023-10-15        G           10.09 2023-01-01\n",
       "130 2023-10-16        G            4.27 2023-01-01\n",
       "\n",
       "[131 rows x 4 columns]"
      ]
     },
     "execution_count": 198,
     "metadata": {},
     "output_type": "execute_result"
    }
   ],
   "source": [
    "df_last_months"
   ]
  },
  {
   "cell_type": "code",
   "execution_count": 199,
   "metadata": {},
   "outputs": [
    {
     "data": {
      "text/plain": [
       "Datum             datetime64[ns]\n",
       "Kvalitet                  object\n",
       "Snittemperatur           float64\n",
       "Year              datetime64[ns]\n",
       "dtype: object"
      ]
     },
     "execution_count": 199,
     "metadata": {},
     "output_type": "execute_result"
    }
   ],
   "source": [
    "df_last_months.dtypes"
   ]
  },
  {
   "cell_type": "code",
   "execution_count": 200,
   "metadata": {},
   "outputs": [
    {
     "data": {
      "text/plain": [
       "'2023-07-01'"
      ]
     },
     "execution_count": 200,
     "metadata": {},
     "output_type": "execute_result"
    }
   ],
   "source": [
    "last_day_gbg"
   ]
  },
  {
   "cell_type": "code",
   "execution_count": 201,
   "metadata": {},
   "outputs": [],
   "source": [
    "df_last_months = df_last_months[df_last_months['Datum'] > last_day_gbg]"
   ]
  },
  {
   "cell_type": "code",
   "execution_count": 202,
   "metadata": {},
   "outputs": [
    {
     "data": {
      "text/html": [
       "<div>\n",
       "<style scoped>\n",
       "    .dataframe tbody tr th:only-of-type {\n",
       "        vertical-align: middle;\n",
       "    }\n",
       "\n",
       "    .dataframe tbody tr th {\n",
       "        vertical-align: top;\n",
       "    }\n",
       "\n",
       "    .dataframe thead th {\n",
       "        text-align: right;\n",
       "    }\n",
       "</style>\n",
       "<table border=\"1\" class=\"dataframe\">\n",
       "  <thead>\n",
       "    <tr style=\"text-align: right;\">\n",
       "      <th></th>\n",
       "      <th>Datum</th>\n",
       "      <th>Kvalitet</th>\n",
       "      <th>Snittemperatur</th>\n",
       "      <th>Year</th>\n",
       "    </tr>\n",
       "  </thead>\n",
       "  <tbody>\n",
       "    <tr>\n",
       "      <th>24</th>\n",
       "      <td>2023-07-02</td>\n",
       "      <td>G</td>\n",
       "      <td>15.98</td>\n",
       "      <td>2023-01-01</td>\n",
       "    </tr>\n",
       "    <tr>\n",
       "      <th>25</th>\n",
       "      <td>2023-07-03</td>\n",
       "      <td>G</td>\n",
       "      <td>14.69</td>\n",
       "      <td>2023-01-01</td>\n",
       "    </tr>\n",
       "    <tr>\n",
       "      <th>26</th>\n",
       "      <td>2023-07-04</td>\n",
       "      <td>G</td>\n",
       "      <td>14.72</td>\n",
       "      <td>2023-01-01</td>\n",
       "    </tr>\n",
       "    <tr>\n",
       "      <th>27</th>\n",
       "      <td>2023-07-05</td>\n",
       "      <td>G</td>\n",
       "      <td>15.52</td>\n",
       "      <td>2023-01-01</td>\n",
       "    </tr>\n",
       "    <tr>\n",
       "      <th>28</th>\n",
       "      <td>2023-07-06</td>\n",
       "      <td>G</td>\n",
       "      <td>15.01</td>\n",
       "      <td>2023-01-01</td>\n",
       "    </tr>\n",
       "    <tr>\n",
       "      <th>...</th>\n",
       "      <td>...</td>\n",
       "      <td>...</td>\n",
       "      <td>...</td>\n",
       "      <td>...</td>\n",
       "    </tr>\n",
       "    <tr>\n",
       "      <th>126</th>\n",
       "      <td>2023-10-12</td>\n",
       "      <td>G</td>\n",
       "      <td>12.08</td>\n",
       "      <td>2023-01-01</td>\n",
       "    </tr>\n",
       "    <tr>\n",
       "      <th>127</th>\n",
       "      <td>2023-10-13</td>\n",
       "      <td>G</td>\n",
       "      <td>11.89</td>\n",
       "      <td>2023-01-01</td>\n",
       "    </tr>\n",
       "    <tr>\n",
       "      <th>128</th>\n",
       "      <td>2023-10-14</td>\n",
       "      <td>G</td>\n",
       "      <td>11.54</td>\n",
       "      <td>2023-01-01</td>\n",
       "    </tr>\n",
       "    <tr>\n",
       "      <th>129</th>\n",
       "      <td>2023-10-15</td>\n",
       "      <td>G</td>\n",
       "      <td>10.09</td>\n",
       "      <td>2023-01-01</td>\n",
       "    </tr>\n",
       "    <tr>\n",
       "      <th>130</th>\n",
       "      <td>2023-10-16</td>\n",
       "      <td>G</td>\n",
       "      <td>4.27</td>\n",
       "      <td>2023-01-01</td>\n",
       "    </tr>\n",
       "  </tbody>\n",
       "</table>\n",
       "<p>107 rows × 4 columns</p>\n",
       "</div>"
      ],
      "text/plain": [
       "         Datum Kvalitet  Snittemperatur       Year\n",
       "24  2023-07-02        G           15.98 2023-01-01\n",
       "25  2023-07-03        G           14.69 2023-01-01\n",
       "26  2023-07-04        G           14.72 2023-01-01\n",
       "27  2023-07-05        G           15.52 2023-01-01\n",
       "28  2023-07-06        G           15.01 2023-01-01\n",
       "..         ...      ...             ...        ...\n",
       "126 2023-10-12        G           12.08 2023-01-01\n",
       "127 2023-10-13        G           11.89 2023-01-01\n",
       "128 2023-10-14        G           11.54 2023-01-01\n",
       "129 2023-10-15        G           10.09 2023-01-01\n",
       "130 2023-10-16        G            4.27 2023-01-01\n",
       "\n",
       "[107 rows x 4 columns]"
      ]
     },
     "execution_count": 202,
     "metadata": {},
     "output_type": "execute_result"
    }
   ],
   "source": [
    "df_last_months"
   ]
  },
  {
   "cell_type": "code",
   "execution_count": 203,
   "metadata": {},
   "outputs": [],
   "source": [
    "df_last_months.to_csv('../data/Olof_Save_GBG_avg_daily_temp_data.csv', index=False, mode='a', header=False)"
   ]
  }
 ],
 "metadata": {
  "kernelspec": {
   "display_name": "agilt_projektarbete",
   "language": "python",
   "name": "python3"
  },
  "language_info": {
   "codemirror_mode": {
    "name": "ipython",
    "version": 3
   },
   "file_extension": ".py",
   "mimetype": "text/x-python",
   "name": "python",
   "nbconvert_exporter": "python",
   "pygments_lexer": "ipython3",
   "version": "3.9.18"
  }
 },
 "nbformat": 4,
 "nbformat_minor": 2
}
