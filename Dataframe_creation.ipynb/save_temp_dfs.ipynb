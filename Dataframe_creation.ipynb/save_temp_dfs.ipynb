{
 "cells": [
  {
   "cell_type": "code",
   "execution_count": 46,
   "metadata": {},
   "outputs": [],
   "source": [
    "import pandas as pd\n",
    "from datetime import timedelta\n",
    "from matplotlib import pyplot as plt\n",
    "import numpy as np"
   ]
  },
  {
   "cell_type": "markdown",
   "metadata": {},
   "source": [
    "Start by making DF for average temperature per day"
   ]
  },
  {
   "cell_type": "code",
   "execution_count": 47,
   "metadata": {},
   "outputs": [],
   "source": [
    "df = pd.read_csv('../data/smhi_temp_data_save.csv', usecols=[0, 1, 2, 3], header=6, sep=';')"
   ]
  },
  {
   "cell_type": "code",
   "execution_count": 48,
   "metadata": {},
   "outputs": [
    {
     "data": {
      "text/html": [
       "<div>\n",
       "<style scoped>\n",
       "    .dataframe tbody tr th:only-of-type {\n",
       "        vertical-align: middle;\n",
       "    }\n",
       "\n",
       "    .dataframe tbody tr th {\n",
       "        vertical-align: top;\n",
       "    }\n",
       "\n",
       "    .dataframe thead th {\n",
       "        text-align: right;\n",
       "    }\n",
       "</style>\n",
       "<table border=\"1\" class=\"dataframe\">\n",
       "  <thead>\n",
       "    <tr style=\"text-align: right;\">\n",
       "      <th></th>\n",
       "      <th>Datum</th>\n",
       "      <th>Tid (UTC)</th>\n",
       "      <th>Lufttemperatur</th>\n",
       "      <th>Kvalitet</th>\n",
       "    </tr>\n",
       "  </thead>\n",
       "  <tbody>\n",
       "    <tr>\n",
       "      <th>0</th>\n",
       "      <td>1944-01-01</td>\n",
       "      <td>07:00:00</td>\n",
       "      <td>1.6</td>\n",
       "      <td>G</td>\n",
       "    </tr>\n",
       "    <tr>\n",
       "      <th>1</th>\n",
       "      <td>1944-01-01</td>\n",
       "      <td>13:00:00</td>\n",
       "      <td>3.8</td>\n",
       "      <td>G</td>\n",
       "    </tr>\n",
       "    <tr>\n",
       "      <th>2</th>\n",
       "      <td>1944-01-01</td>\n",
       "      <td>18:00:00</td>\n",
       "      <td>4.2</td>\n",
       "      <td>G</td>\n",
       "    </tr>\n",
       "    <tr>\n",
       "      <th>3</th>\n",
       "      <td>1944-01-02</td>\n",
       "      <td>07:00:00</td>\n",
       "      <td>0.6</td>\n",
       "      <td>G</td>\n",
       "    </tr>\n",
       "    <tr>\n",
       "      <th>4</th>\n",
       "      <td>1944-01-02</td>\n",
       "      <td>13:00:00</td>\n",
       "      <td>3.8</td>\n",
       "      <td>G</td>\n",
       "    </tr>\n",
       "    <tr>\n",
       "      <th>...</th>\n",
       "      <td>...</td>\n",
       "      <td>...</td>\n",
       "      <td>...</td>\n",
       "      <td>...</td>\n",
       "    </tr>\n",
       "    <tr>\n",
       "      <th>435387</th>\n",
       "      <td>2006-12-05</td>\n",
       "      <td>09:00:00</td>\n",
       "      <td>9.4</td>\n",
       "      <td>G</td>\n",
       "    </tr>\n",
       "    <tr>\n",
       "      <th>435388</th>\n",
       "      <td>2006-12-05</td>\n",
       "      <td>10:00:00</td>\n",
       "      <td>10.1</td>\n",
       "      <td>Y</td>\n",
       "    </tr>\n",
       "    <tr>\n",
       "      <th>435389</th>\n",
       "      <td>2006-12-05</td>\n",
       "      <td>11:00:00</td>\n",
       "      <td>10.8</td>\n",
       "      <td>Y</td>\n",
       "    </tr>\n",
       "    <tr>\n",
       "      <th>435390</th>\n",
       "      <td>2006-12-05</td>\n",
       "      <td>12:00:00</td>\n",
       "      <td>10.9</td>\n",
       "      <td>G</td>\n",
       "    </tr>\n",
       "    <tr>\n",
       "      <th>435391</th>\n",
       "      <td>2006-12-05</td>\n",
       "      <td>13:00:00</td>\n",
       "      <td>10.8</td>\n",
       "      <td>Y</td>\n",
       "    </tr>\n",
       "  </tbody>\n",
       "</table>\n",
       "<p>435392 rows × 4 columns</p>\n",
       "</div>"
      ],
      "text/plain": [
       "             Datum Tid (UTC)  Lufttemperatur Kvalitet\n",
       "0       1944-01-01  07:00:00             1.6        G\n",
       "1       1944-01-01  13:00:00             3.8        G\n",
       "2       1944-01-01  18:00:00             4.2        G\n",
       "3       1944-01-02  07:00:00             0.6        G\n",
       "4       1944-01-02  13:00:00             3.8        G\n",
       "...            ...       ...             ...      ...\n",
       "435387  2006-12-05  09:00:00             9.4        G\n",
       "435388  2006-12-05  10:00:00            10.1        Y\n",
       "435389  2006-12-05  11:00:00            10.8        Y\n",
       "435390  2006-12-05  12:00:00            10.9        G\n",
       "435391  2006-12-05  13:00:00            10.8        Y\n",
       "\n",
       "[435392 rows x 4 columns]"
      ]
     },
     "execution_count": 48,
     "metadata": {},
     "output_type": "execute_result"
    }
   ],
   "source": [
    "df"
   ]
  },
  {
   "cell_type": "code",
   "execution_count": 49,
   "metadata": {},
   "outputs": [],
   "source": [
    "df['Snittemperatur'] = df.groupby('Datum')['Lufttemperatur'].transform('mean').round(2)"
   ]
  },
  {
   "cell_type": "code",
   "execution_count": 50,
   "metadata": {},
   "outputs": [],
   "source": [
    "df = df.groupby('Datum').max().drop('Lufttemperatur', axis=1).reset_index()"
   ]
  },
  {
   "cell_type": "code",
   "execution_count": 51,
   "metadata": {},
   "outputs": [],
   "source": [
    "df['Year'] = df['Datum'].str.split('-').str[0]"
   ]
  },
  {
   "cell_type": "code",
   "execution_count": 52,
   "metadata": {},
   "outputs": [],
   "source": [
    "df['Year'] = pd.to_datetime(df['Year'], yearfirst=True, format='%Y')"
   ]
  },
  {
   "cell_type": "code",
   "execution_count": 53,
   "metadata": {},
   "outputs": [],
   "source": [
    "df['Datum'] = pd.to_datetime(df['Datum'], yearfirst=True, format='ISO8601')"
   ]
  },
  {
   "cell_type": "code",
   "execution_count": 54,
   "metadata": {},
   "outputs": [
    {
     "data": {
      "text/html": [
       "<div>\n",
       "<style scoped>\n",
       "    .dataframe tbody tr th:only-of-type {\n",
       "        vertical-align: middle;\n",
       "    }\n",
       "\n",
       "    .dataframe tbody tr th {\n",
       "        vertical-align: top;\n",
       "    }\n",
       "\n",
       "    .dataframe thead th {\n",
       "        text-align: right;\n",
       "    }\n",
       "</style>\n",
       "<table border=\"1\" class=\"dataframe\">\n",
       "  <thead>\n",
       "    <tr style=\"text-align: right;\">\n",
       "      <th></th>\n",
       "      <th>Datum</th>\n",
       "      <th>Tid (UTC)</th>\n",
       "      <th>Kvalitet</th>\n",
       "      <th>Snittemperatur</th>\n",
       "      <th>Year</th>\n",
       "    </tr>\n",
       "  </thead>\n",
       "  <tbody>\n",
       "    <tr>\n",
       "      <th>0</th>\n",
       "      <td>1944-01-01</td>\n",
       "      <td>18:00:00</td>\n",
       "      <td>G</td>\n",
       "      <td>3.20</td>\n",
       "      <td>1944-01-01</td>\n",
       "    </tr>\n",
       "    <tr>\n",
       "      <th>1</th>\n",
       "      <td>1944-01-02</td>\n",
       "      <td>18:00:00</td>\n",
       "      <td>G</td>\n",
       "      <td>3.60</td>\n",
       "      <td>1944-01-01</td>\n",
       "    </tr>\n",
       "    <tr>\n",
       "      <th>2</th>\n",
       "      <td>1944-01-03</td>\n",
       "      <td>18:00:00</td>\n",
       "      <td>G</td>\n",
       "      <td>2.80</td>\n",
       "      <td>1944-01-01</td>\n",
       "    </tr>\n",
       "    <tr>\n",
       "      <th>3</th>\n",
       "      <td>1944-01-04</td>\n",
       "      <td>18:00:00</td>\n",
       "      <td>G</td>\n",
       "      <td>-4.47</td>\n",
       "      <td>1944-01-01</td>\n",
       "    </tr>\n",
       "    <tr>\n",
       "      <th>4</th>\n",
       "      <td>1944-01-05</td>\n",
       "      <td>18:00:00</td>\n",
       "      <td>G</td>\n",
       "      <td>-1.40</td>\n",
       "      <td>1944-01-01</td>\n",
       "    </tr>\n",
       "    <tr>\n",
       "      <th>...</th>\n",
       "      <td>...</td>\n",
       "      <td>...</td>\n",
       "      <td>...</td>\n",
       "      <td>...</td>\n",
       "      <td>...</td>\n",
       "    </tr>\n",
       "    <tr>\n",
       "      <th>22980</th>\n",
       "      <td>2006-12-01</td>\n",
       "      <td>23:00:00</td>\n",
       "      <td>Y</td>\n",
       "      <td>8.03</td>\n",
       "      <td>2006-01-01</td>\n",
       "    </tr>\n",
       "    <tr>\n",
       "      <th>22981</th>\n",
       "      <td>2006-12-02</td>\n",
       "      <td>23:00:00</td>\n",
       "      <td>Y</td>\n",
       "      <td>8.81</td>\n",
       "      <td>2006-01-01</td>\n",
       "    </tr>\n",
       "    <tr>\n",
       "      <th>22982</th>\n",
       "      <td>2006-12-03</td>\n",
       "      <td>23:00:00</td>\n",
       "      <td>Y</td>\n",
       "      <td>8.11</td>\n",
       "      <td>2006-01-01</td>\n",
       "    </tr>\n",
       "    <tr>\n",
       "      <th>22983</th>\n",
       "      <td>2006-12-04</td>\n",
       "      <td>23:00:00</td>\n",
       "      <td>Y</td>\n",
       "      <td>8.57</td>\n",
       "      <td>2006-01-01</td>\n",
       "    </tr>\n",
       "    <tr>\n",
       "      <th>22984</th>\n",
       "      <td>2006-12-05</td>\n",
       "      <td>13:00:00</td>\n",
       "      <td>Y</td>\n",
       "      <td>9.22</td>\n",
       "      <td>2006-01-01</td>\n",
       "    </tr>\n",
       "  </tbody>\n",
       "</table>\n",
       "<p>22985 rows × 5 columns</p>\n",
       "</div>"
      ],
      "text/plain": [
       "           Datum Tid (UTC) Kvalitet  Snittemperatur       Year\n",
       "0     1944-01-01  18:00:00        G            3.20 1944-01-01\n",
       "1     1944-01-02  18:00:00        G            3.60 1944-01-01\n",
       "2     1944-01-03  18:00:00        G            2.80 1944-01-01\n",
       "3     1944-01-04  18:00:00        G           -4.47 1944-01-01\n",
       "4     1944-01-05  18:00:00        G           -1.40 1944-01-01\n",
       "...          ...       ...      ...             ...        ...\n",
       "22980 2006-12-01  23:00:00        Y            8.03 2006-01-01\n",
       "22981 2006-12-02  23:00:00        Y            8.81 2006-01-01\n",
       "22982 2006-12-03  23:00:00        Y            8.11 2006-01-01\n",
       "22983 2006-12-04  23:00:00        Y            8.57 2006-01-01\n",
       "22984 2006-12-05  13:00:00        Y            9.22 2006-01-01\n",
       "\n",
       "[22985 rows x 5 columns]"
      ]
     },
     "execution_count": 54,
     "metadata": {},
     "output_type": "execute_result"
    }
   ],
   "source": [
    "df"
   ]
  },
  {
   "cell_type": "code",
   "execution_count": 55,
   "metadata": {},
   "outputs": [
    {
     "data": {
      "text/plain": [
       "Datum             datetime64[ns]\n",
       "Tid (UTC)                 object\n",
       "Kvalitet                  object\n",
       "Snittemperatur           float64\n",
       "Year              datetime64[ns]\n",
       "dtype: object"
      ]
     },
     "execution_count": 55,
     "metadata": {},
     "output_type": "execute_result"
    }
   ],
   "source": [
    "df.dtypes"
   ]
  },
  {
   "cell_type": "code",
   "execution_count": 56,
   "metadata": {},
   "outputs": [],
   "source": [
    "df.to_csv('../data/Olof_Save_avg_daily_temp_data.csv', index=False, mode='w')"
   ]
  },
  {
   "cell_type": "markdown",
   "metadata": {},
   "source": [
    "Average temperature per month"
   ]
  },
  {
   "cell_type": "code",
   "execution_count": 61,
   "metadata": {},
   "outputs": [],
   "source": [
    "# dtype_map = {'Datum': 'datetime64[ns]', 'Tid': object, 'Kvalitet': object, 'Snittemperatur': float, 'Year': 'datetime64[ns]'}"
   ]
  },
  {
   "cell_type": "code",
   "execution_count": 63,
   "metadata": {},
   "outputs": [],
   "source": [
    "df_month = pd.read_csv('../data/Olof_Save_avg_daily_temp_data.csv', parse_dates=['Datum', 'Year'])"
   ]
  },
  {
   "cell_type": "code",
   "execution_count": 64,
   "metadata": {},
   "outputs": [
    {
     "data": {
      "text/plain": [
       "Datum             datetime64[ns]\n",
       "Tid (UTC)                 object\n",
       "Kvalitet                  object\n",
       "Snittemperatur           float64\n",
       "Year              datetime64[ns]\n",
       "dtype: object"
      ]
     },
     "execution_count": 64,
     "metadata": {},
     "output_type": "execute_result"
    }
   ],
   "source": [
    "df_month.dtypes"
   ]
  }
 ],
 "metadata": {
  "kernelspec": {
   "display_name": "agilt_projektarbete",
   "language": "python",
   "name": "python3"
  },
  "language_info": {
   "codemirror_mode": {
    "name": "ipython",
    "version": 3
   },
   "file_extension": ".py",
   "mimetype": "text/x-python",
   "name": "python",
   "nbconvert_exporter": "python",
   "pygments_lexer": "ipython3",
   "version": "3.9.18"
  }
 },
 "nbformat": 4,
 "nbformat_minor": 2
}
