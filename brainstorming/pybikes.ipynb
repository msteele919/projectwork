{
 "cells": [
  {
   "cell_type": "code",
   "execution_count": 8,
   "metadata": {},
   "outputs": [],
   "source": [
    "import pybikes\n",
    "\n",
    "\n"
   ]
  },
  {
   "cell_type": "code",
   "execution_count": 9,
   "metadata": {},
   "outputs": [
    {
     "name": "stdout",
     "output_type": "stream",
     "text": [
      "tag: capital-bikeshare\n",
      "meta: {'name': 'Capital BikeShare', 'city': 'Washington, DC', 'country': 'US', 'latitude': 38.8967584, 'longitude': -77.03701629999999, 'company': ['Motivate International, Inc.', 'PBSC Urban Solutions'], 'ebikes': True, 'gbfs_href': 'https://gbfs.capitalbikeshare.com/gbfs/gbfs.json'}\n"
     ]
    }
   ],
   "source": [
    "# Capital BikeShare instantiation data is in bixi.json file\n",
    "capital_bikeshare = pybikes.get('capital-bikeshare')\n",
    "print(capital_bikeshare)"
   ]
  },
  {
   "cell_type": "code",
   "execution_count": 10,
   "metadata": {},
   "outputs": [
    {
     "name": "stdout",
     "output_type": "stream",
     "text": [
      "tag: styr-staell-goeteborg\n",
      "meta: {'name': 'Styr & Ställ (Sweden, Göteborg)', 'city': 'Göteborg', 'country': 'SE', 'latitude': 57.6902, 'longitude': 11.9881, 'company': ['Nextbike GmbH'], 'system': 'Nextbike'}\n"
     ]
    }
   ],
   "source": [
    "styr_bikeshare = pybikes.get('styr-staell-goeteborg')\n",
    "print(styr_bikeshare)"
   ]
  },
  {
   "cell_type": "code",
   "execution_count": 14,
   "metadata": {},
   "outputs": [
    {
     "name": "stdout",
     "output_type": "stream",
     "text": [
      "{'name': 'Styr & Ställ (Sweden, Göteborg)', 'city': 'Göteborg', 'country': 'SE', 'latitude': 57.6902, 'longitude': 11.9881, 'company': ['Nextbike GmbH'], 'system': 'Nextbike'}\n"
     ]
    }
   ],
   "source": [
    "\n",
    "# The instance contains all possible metadata regarding this system\n",
    "print(styr_bikeshare.meta)\n",
    "# {\n",
    "#     'name': 'Capital BikeShare',\n",
    "#     'city': 'Washington, DC - Arlington, VA',\n",
    "#     'longitude': -77.0363658,\n",
    "#     'system': 'Bixi',\n",
    "#     'company': ['PBSC'],\n",
    "#     'country': 'USA',\n",
    "#     'latitude': 38.8951118\n",
    "# }"
   ]
  },
  {
   "cell_type": "code",
   "execution_count": 17,
   "metadata": {},
   "outputs": [
    {
     "name": "stdout",
     "output_type": "stream",
     "text": [
      "139\n",
      "139\n",
      "--- 'Dalgångsgatan' ---\n",
      "bikes: 3\n",
      "free: None\n",
      "latlng: 57.673431,11.97932\n",
      "extra: {'uid': '28031717', 'number': '41100', 'bike_uids': ['711986', '710885', '710225']}\n"
     ]
    }
   ],
   "source": [
    "\n",
    "# The update method retrieves the list of stations\n",
    "print(len(styr_bikeshare.stations))\n",
    "\n",
    "styr_bikeshare.update()\n",
    "print(len(styr_bikeshare.stations))\n",
    "\n",
    "print(styr_bikeshare.stations[0])"
   ]
  }
 ],
 "metadata": {
  "kernelspec": {
   "display_name": "sko",
   "language": "python",
   "name": "python3"
  },
  "language_info": {
   "codemirror_mode": {
    "name": "ipython",
    "version": 3
   },
   "file_extension": ".py",
   "mimetype": "text/x-python",
   "name": "python",
   "nbconvert_exporter": "python",
   "pygments_lexer": "ipython3",
   "version": "3.10.11"
  }
 },
 "nbformat": 4,
 "nbformat_minor": 2
}
