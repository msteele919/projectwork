{
 "cells": [
  {
   "cell_type": "code",
   "execution_count": 3,
   "metadata": {},
   "outputs": [],
   "source": [
    "\n",
    "import requests\n",
    "from secrets import api_key"
   ]
  },
  {
   "cell_type": "code",
   "execution_count": 5,
   "metadata": {},
   "outputs": [],
   "source": [
    "\n",
    "# Specify the URL and query parameters\n",
    "url = f\"http://data.goteborg.se/TrafficInformationService/v1.2/Situations/{api_key}\"\n",
    "params = {\n",
    "    \"latitude\": \"57.7089\",\n",
    "    \"longitude\": \"11.9746\",\n",
    "    \"radius\": \"15\",\n",
    "    \"format\": \"json\",\n",
    "    \"severityCodes\": \"your_severity_codes\"\n",
    "}\n",
    "\n",
    "# Send the GET request\n",
    "response = requests.get(url, params=params)\n"
   ]
  },
  {
   "cell_type": "code",
   "execution_count": 6,
   "metadata": {},
   "outputs": [
    {
     "name": "stdout",
     "output_type": "stream",
     "text": [
      "Request failed with status code: 400\n",
      "\n"
     ]
    }
   ],
   "source": [
    "\n",
    "# Check if the request was successful\n",
    "if response.status_code == 200:\n",
    "    # Parse the JSON response\n",
    "    data = response.json()\n",
    "\n",
    "    # Now you can work with the 'data' variable, which contains the API response in JSON format\n",
    "    print(data)\n",
    "else:\n",
    "    # Handle the error\n",
    "    print(f\"Request failed with status code: {response.status_code}\")\n",
    "    print(response.text)\n"
   ]
  }
 ],
 "metadata": {
  "kernelspec": {
   "display_name": "sko",
   "language": "python",
   "name": "python3"
  },
  "language_info": {
   "codemirror_mode": {
    "name": "ipython",
    "version": 3
   },
   "file_extension": ".py",
   "mimetype": "text/x-python",
   "name": "python",
   "nbconvert_exporter": "python",
   "pygments_lexer": "ipython3",
   "version": "3.10.11"
  }
 },
 "nbformat": 4,
 "nbformat_minor": 2
}
