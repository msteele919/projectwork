{
 "cells": [
  {
   "cell_type": "code",
   "execution_count": 2,
   "metadata": {},
   "outputs": [],
   "source": [
    "import pandas as pd\n",
    "import numpy as np\n",
    "from matplotlib import pyplot as plt\n",
    "import datetime as dt"
   ]
  },
  {
   "cell_type": "code",
   "execution_count": 3,
   "metadata": {},
   "outputs": [],
   "source": [
    "df = pd.read_csv('./smhi_percipitation_data.csv', sep=';', header=11, usecols=[0, 1, 2, 3, 4])"
   ]
  },
  {
   "cell_type": "code",
   "execution_count": 4,
   "metadata": {},
   "outputs": [
    {
     "data": {
      "text/html": [
       "<div>\n",
       "<style scoped>\n",
       "    .dataframe tbody tr th:only-of-type {\n",
       "        vertical-align: middle;\n",
       "    }\n",
       "\n",
       "    .dataframe tbody tr th {\n",
       "        vertical-align: top;\n",
       "    }\n",
       "\n",
       "    .dataframe thead th {\n",
       "        text-align: right;\n",
       "    }\n",
       "</style>\n",
       "<table border=\"1\" class=\"dataframe\">\n",
       "  <thead>\n",
       "    <tr style=\"text-align: right;\">\n",
       "      <th></th>\n",
       "      <th>Från Datum Tid (UTC)</th>\n",
       "      <th>Till Datum Tid (UTC)</th>\n",
       "      <th>Representativt dygn</th>\n",
       "      <th>Nederbördsmängd</th>\n",
       "      <th>Kvalitet</th>\n",
       "    </tr>\n",
       "  </thead>\n",
       "  <tbody>\n",
       "    <tr>\n",
       "      <th>0</th>\n",
       "      <td>1961-01-01 06:00:01</td>\n",
       "      <td>1961-01-02 06:00:00</td>\n",
       "      <td>1961-01-01</td>\n",
       "      <td>0.3</td>\n",
       "      <td>Y</td>\n",
       "    </tr>\n",
       "    <tr>\n",
       "      <th>1</th>\n",
       "      <td>1961-01-02 06:00:01</td>\n",
       "      <td>1961-01-03 06:00:00</td>\n",
       "      <td>1961-01-02</td>\n",
       "      <td>0.5</td>\n",
       "      <td>Y</td>\n",
       "    </tr>\n",
       "    <tr>\n",
       "      <th>2</th>\n",
       "      <td>1961-01-03 06:00:01</td>\n",
       "      <td>1961-01-04 06:00:00</td>\n",
       "      <td>1961-01-03</td>\n",
       "      <td>8.4</td>\n",
       "      <td>Y</td>\n",
       "    </tr>\n",
       "    <tr>\n",
       "      <th>3</th>\n",
       "      <td>1961-01-04 06:00:01</td>\n",
       "      <td>1961-01-05 06:00:00</td>\n",
       "      <td>1961-01-04</td>\n",
       "      <td>0.0</td>\n",
       "      <td>Y</td>\n",
       "    </tr>\n",
       "    <tr>\n",
       "      <th>4</th>\n",
       "      <td>1961-01-05 06:00:01</td>\n",
       "      <td>1961-01-06 06:00:00</td>\n",
       "      <td>1961-01-05</td>\n",
       "      <td>2.0</td>\n",
       "      <td>Y</td>\n",
       "    </tr>\n",
       "    <tr>\n",
       "      <th>...</th>\n",
       "      <td>...</td>\n",
       "      <td>...</td>\n",
       "      <td>...</td>\n",
       "      <td>...</td>\n",
       "      <td>...</td>\n",
       "    </tr>\n",
       "    <tr>\n",
       "      <th>15487</th>\n",
       "      <td>2023-06-26 06:00:01</td>\n",
       "      <td>2023-06-27 06:00:00</td>\n",
       "      <td>2023-06-26</td>\n",
       "      <td>18.5</td>\n",
       "      <td>G</td>\n",
       "    </tr>\n",
       "    <tr>\n",
       "      <th>15488</th>\n",
       "      <td>2023-06-27 06:00:01</td>\n",
       "      <td>2023-06-28 06:00:00</td>\n",
       "      <td>2023-06-27</td>\n",
       "      <td>10.6</td>\n",
       "      <td>G</td>\n",
       "    </tr>\n",
       "    <tr>\n",
       "      <th>15489</th>\n",
       "      <td>2023-06-28 06:00:01</td>\n",
       "      <td>2023-06-29 06:00:00</td>\n",
       "      <td>2023-06-28</td>\n",
       "      <td>0.0</td>\n",
       "      <td>G</td>\n",
       "    </tr>\n",
       "    <tr>\n",
       "      <th>15490</th>\n",
       "      <td>2023-06-29 06:00:01</td>\n",
       "      <td>2023-06-30 06:00:00</td>\n",
       "      <td>2023-06-29</td>\n",
       "      <td>5.0</td>\n",
       "      <td>G</td>\n",
       "    </tr>\n",
       "    <tr>\n",
       "      <th>15491</th>\n",
       "      <td>2023-06-30 06:00:01</td>\n",
       "      <td>2023-07-01 06:00:00</td>\n",
       "      <td>2023-06-30</td>\n",
       "      <td>0.2</td>\n",
       "      <td>G</td>\n",
       "    </tr>\n",
       "  </tbody>\n",
       "</table>\n",
       "<p>15492 rows × 5 columns</p>\n",
       "</div>"
      ],
      "text/plain": [
       "      Från Datum Tid (UTC) Till Datum Tid (UTC) Representativt dygn  \\\n",
       "0      1961-01-01 06:00:01  1961-01-02 06:00:00          1961-01-01   \n",
       "1      1961-01-02 06:00:01  1961-01-03 06:00:00          1961-01-02   \n",
       "2      1961-01-03 06:00:01  1961-01-04 06:00:00          1961-01-03   \n",
       "3      1961-01-04 06:00:01  1961-01-05 06:00:00          1961-01-04   \n",
       "4      1961-01-05 06:00:01  1961-01-06 06:00:00          1961-01-05   \n",
       "...                    ...                  ...                 ...   \n",
       "15487  2023-06-26 06:00:01  2023-06-27 06:00:00          2023-06-26   \n",
       "15488  2023-06-27 06:00:01  2023-06-28 06:00:00          2023-06-27   \n",
       "15489  2023-06-28 06:00:01  2023-06-29 06:00:00          2023-06-28   \n",
       "15490  2023-06-29 06:00:01  2023-06-30 06:00:00          2023-06-29   \n",
       "15491  2023-06-30 06:00:01  2023-07-01 06:00:00          2023-06-30   \n",
       "\n",
       "       Nederbördsmängd Kvalitet  \n",
       "0                  0.3        Y  \n",
       "1                  0.5        Y  \n",
       "2                  8.4        Y  \n",
       "3                  0.0        Y  \n",
       "4                  2.0        Y  \n",
       "...                ...      ...  \n",
       "15487             18.5        G  \n",
       "15488             10.6        G  \n",
       "15489              0.0        G  \n",
       "15490              5.0        G  \n",
       "15491              0.2        G  \n",
       "\n",
       "[15492 rows x 5 columns]"
      ]
     },
     "execution_count": 4,
     "metadata": {},
     "output_type": "execute_result"
    }
   ],
   "source": [
    "df"
   ]
  },
  {
   "cell_type": "code",
   "execution_count": 5,
   "metadata": {},
   "outputs": [
    {
     "name": "stdout",
     "output_type": "stream",
     "text": [
      "<class 'pandas.core.frame.DataFrame'>\n",
      "RangeIndex: 15492 entries, 0 to 15491\n",
      "Data columns (total 5 columns):\n",
      " #   Column                Non-Null Count  Dtype  \n",
      "---  ------                --------------  -----  \n",
      " 0   Från Datum Tid (UTC)  15492 non-null  object \n",
      " 1   Till Datum Tid (UTC)  15492 non-null  object \n",
      " 2   Representativt dygn   15492 non-null  object \n",
      " 3   Nederbördsmängd       15492 non-null  float64\n",
      " 4   Kvalitet              15492 non-null  object \n",
      "dtypes: float64(1), object(4)\n",
      "memory usage: 605.3+ KB\n"
     ]
    }
   ],
   "source": [
    "df.info()"
   ]
  },
  {
   "cell_type": "code",
   "execution_count": 6,
   "metadata": {},
   "outputs": [
    {
     "data": {
      "text/html": [
       "<div>\n",
       "<style scoped>\n",
       "    .dataframe tbody tr th:only-of-type {\n",
       "        vertical-align: middle;\n",
       "    }\n",
       "\n",
       "    .dataframe tbody tr th {\n",
       "        vertical-align: top;\n",
       "    }\n",
       "\n",
       "    .dataframe thead th {\n",
       "        text-align: right;\n",
       "    }\n",
       "</style>\n",
       "<table border=\"1\" class=\"dataframe\">\n",
       "  <thead>\n",
       "    <tr style=\"text-align: right;\">\n",
       "      <th></th>\n",
       "      <th>Nederbördsmängd</th>\n",
       "    </tr>\n",
       "  </thead>\n",
       "  <tbody>\n",
       "    <tr>\n",
       "      <th>count</th>\n",
       "      <td>15492.000000</td>\n",
       "    </tr>\n",
       "    <tr>\n",
       "      <th>mean</th>\n",
       "      <td>2.341112</td>\n",
       "    </tr>\n",
       "    <tr>\n",
       "      <th>std</th>\n",
       "      <td>4.856172</td>\n",
       "    </tr>\n",
       "    <tr>\n",
       "      <th>min</th>\n",
       "      <td>0.000000</td>\n",
       "    </tr>\n",
       "    <tr>\n",
       "      <th>25%</th>\n",
       "      <td>0.000000</td>\n",
       "    </tr>\n",
       "    <tr>\n",
       "      <th>50%</th>\n",
       "      <td>0.000000</td>\n",
       "    </tr>\n",
       "    <tr>\n",
       "      <th>75%</th>\n",
       "      <td>2.400000</td>\n",
       "    </tr>\n",
       "    <tr>\n",
       "      <th>max</th>\n",
       "      <td>85.700000</td>\n",
       "    </tr>\n",
       "  </tbody>\n",
       "</table>\n",
       "</div>"
      ],
      "text/plain": [
       "       Nederbördsmängd\n",
       "count     15492.000000\n",
       "mean          2.341112\n",
       "std           4.856172\n",
       "min           0.000000\n",
       "25%           0.000000\n",
       "50%           0.000000\n",
       "75%           2.400000\n",
       "max          85.700000"
      ]
     },
     "execution_count": 6,
     "metadata": {},
     "output_type": "execute_result"
    }
   ],
   "source": [
    "df.describe()"
   ]
  },
  {
   "cell_type": "code",
   "execution_count": 7,
   "metadata": {},
   "outputs": [
    {
     "data": {
      "text/plain": [
       "Kvalitet\n",
       "G    9926\n",
       "Y    5566\n",
       "Name: count, dtype: int64"
      ]
     },
     "execution_count": 7,
     "metadata": {},
     "output_type": "execute_result"
    }
   ],
   "source": [
    "df['Kvalitet'].value_counts()"
   ]
  },
  {
   "cell_type": "code",
   "execution_count": 8,
   "metadata": {},
   "outputs": [],
   "source": [
    "df = df.drop(['Från Datum Tid (UTC)', 'Till Datum Tid (UTC)'], axis=1)"
   ]
  },
  {
   "cell_type": "code",
   "execution_count": 9,
   "metadata": {},
   "outputs": [
    {
     "data": {
      "text/html": [
       "<div>\n",
       "<style scoped>\n",
       "    .dataframe tbody tr th:only-of-type {\n",
       "        vertical-align: middle;\n",
       "    }\n",
       "\n",
       "    .dataframe tbody tr th {\n",
       "        vertical-align: top;\n",
       "    }\n",
       "\n",
       "    .dataframe thead th {\n",
       "        text-align: right;\n",
       "    }\n",
       "</style>\n",
       "<table border=\"1\" class=\"dataframe\">\n",
       "  <thead>\n",
       "    <tr style=\"text-align: right;\">\n",
       "      <th></th>\n",
       "      <th>Representativt dygn</th>\n",
       "      <th>Nederbördsmängd</th>\n",
       "      <th>Kvalitet</th>\n",
       "    </tr>\n",
       "  </thead>\n",
       "  <tbody>\n",
       "    <tr>\n",
       "      <th>0</th>\n",
       "      <td>1961-01-01</td>\n",
       "      <td>0.3</td>\n",
       "      <td>Y</td>\n",
       "    </tr>\n",
       "    <tr>\n",
       "      <th>1</th>\n",
       "      <td>1961-01-02</td>\n",
       "      <td>0.5</td>\n",
       "      <td>Y</td>\n",
       "    </tr>\n",
       "    <tr>\n",
       "      <th>2</th>\n",
       "      <td>1961-01-03</td>\n",
       "      <td>8.4</td>\n",
       "      <td>Y</td>\n",
       "    </tr>\n",
       "    <tr>\n",
       "      <th>3</th>\n",
       "      <td>1961-01-04</td>\n",
       "      <td>0.0</td>\n",
       "      <td>Y</td>\n",
       "    </tr>\n",
       "    <tr>\n",
       "      <th>4</th>\n",
       "      <td>1961-01-05</td>\n",
       "      <td>2.0</td>\n",
       "      <td>Y</td>\n",
       "    </tr>\n",
       "    <tr>\n",
       "      <th>...</th>\n",
       "      <td>...</td>\n",
       "      <td>...</td>\n",
       "      <td>...</td>\n",
       "    </tr>\n",
       "    <tr>\n",
       "      <th>15487</th>\n",
       "      <td>2023-06-26</td>\n",
       "      <td>18.5</td>\n",
       "      <td>G</td>\n",
       "    </tr>\n",
       "    <tr>\n",
       "      <th>15488</th>\n",
       "      <td>2023-06-27</td>\n",
       "      <td>10.6</td>\n",
       "      <td>G</td>\n",
       "    </tr>\n",
       "    <tr>\n",
       "      <th>15489</th>\n",
       "      <td>2023-06-28</td>\n",
       "      <td>0.0</td>\n",
       "      <td>G</td>\n",
       "    </tr>\n",
       "    <tr>\n",
       "      <th>15490</th>\n",
       "      <td>2023-06-29</td>\n",
       "      <td>5.0</td>\n",
       "      <td>G</td>\n",
       "    </tr>\n",
       "    <tr>\n",
       "      <th>15491</th>\n",
       "      <td>2023-06-30</td>\n",
       "      <td>0.2</td>\n",
       "      <td>G</td>\n",
       "    </tr>\n",
       "  </tbody>\n",
       "</table>\n",
       "<p>15492 rows × 3 columns</p>\n",
       "</div>"
      ],
      "text/plain": [
       "      Representativt dygn  Nederbördsmängd Kvalitet\n",
       "0              1961-01-01              0.3        Y\n",
       "1              1961-01-02              0.5        Y\n",
       "2              1961-01-03              8.4        Y\n",
       "3              1961-01-04              0.0        Y\n",
       "4              1961-01-05              2.0        Y\n",
       "...                   ...              ...      ...\n",
       "15487          2023-06-26             18.5        G\n",
       "15488          2023-06-27             10.6        G\n",
       "15489          2023-06-28              0.0        G\n",
       "15490          2023-06-29              5.0        G\n",
       "15491          2023-06-30              0.2        G\n",
       "\n",
       "[15492 rows x 3 columns]"
      ]
     },
     "execution_count": 9,
     "metadata": {},
     "output_type": "execute_result"
    }
   ],
   "source": [
    "df"
   ]
  },
  {
   "cell_type": "code",
   "execution_count": 10,
   "metadata": {},
   "outputs": [],
   "source": [
    "df['Year'] = df['Representativt dygn'].str.strip('-').str[0:4]"
   ]
  },
  {
   "cell_type": "code",
   "execution_count": 11,
   "metadata": {},
   "outputs": [
    {
     "data": {
      "image/png": "[encoded data removed]",
      "text/plain": [
       "<Figure size 2000x700 with 1 Axes>"
      ]
     },
     "metadata": {},
     "output_type": "display_data"
    }
   ],
   "source": [
    "plt.figure(figsize=(20, 7), facecolor='grey')\n",
    "plt.scatter(df['Year'], df['Kvalitet'], c='r')\n",
    "plt.xticks(rotation=45)\n",
    "plt.show()"
   ]
  },
  {
   "cell_type": "code",
   "execution_count": 12,
   "metadata": {},
   "outputs": [],
   "source": [
    "df.to_csv('daily_percipitation_curated_df.csv', index=False, mode='w')"
   ]
  },
  {
   "cell_type": "code",
   "execution_count": 100,
   "metadata": {},
   "outputs": [
    {
     "name": "stdout",
     "output_type": "stream",
     "text": [
      "2023-06-30\n"
     ]
    }
   ],
   "source": [
    "first_day = df['Representativt dygn'][0]\n",
    "last_day_number = len(df)\n",
    "last_day = df['Representativt dygn'][last_day_number-1]\n"
   ]
  },
  {
   "cell_type": "code",
   "execution_count": 112,
   "metadata": {},
   "outputs": [],
   "source": [
    "first_day_date = dt.datetime(int(first_day[:4]), int(first_day[5:7]), int(first_day[8:10]))\n",
    "last_day_date = dt.datetime(int(last_day[:4]), int(last_day[5:7]), int(last_day[8:10]))"
   ]
  }
 ],
 "metadata": {
  "kernelspec": {
   "display_name": "agilt_projektarbete",
   "language": "python",
   "name": "python3"
  },
  "language_info": {
   "codemirror_mode": {
    "name": "ipython",
    "version": 3
   },
   "file_extension": ".py",
   "mimetype": "text/x-python",
   "name": "python",
   "nbconvert_exporter": "python",
   "pygments_lexer": "ipython3",
   "version": "3.9.18"
  }
 },
 "nbformat": 4,
 "nbformat_minor": 2
}
