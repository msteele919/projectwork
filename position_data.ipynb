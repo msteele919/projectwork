{
 "cells": [
  {
   "cell_type": "code",
   "execution_count": 9,
   "metadata": {},
   "outputs": [],
   "source": [
    "import pandas as pd\n"
   ]
  },
  {
   "cell_type": "code",
   "execution_count": 10,
   "metadata": {},
   "outputs": [],
   "source": [
    "station_info = pd.read_csv('./smhi_percipitation_data.csv', sep=';', header=4, usecols=[0, 1, 2, 3, 4], nrows=6)"
   ]
  },
  {
   "cell_type": "code",
   "execution_count": 11,
   "metadata": {},
   "outputs": [
    {
     "data": {
      "text/html": [
       "<div>\n",
       "<style scoped>\n",
       "    .dataframe tbody tr th:only-of-type {\n",
       "        vertical-align: middle;\n",
       "    }\n",
       "\n",
       "    .dataframe tbody tr th {\n",
       "        vertical-align: top;\n",
       "    }\n",
       "\n",
       "    .dataframe thead th {\n",
       "        text-align: right;\n",
       "    }\n",
       "</style>\n",
       "<table border=\"1\" class=\"dataframe\">\n",
       "  <thead>\n",
       "    <tr style=\"text-align: right;\">\n",
       "      <th></th>\n",
       "      <th>Tidsperiod (fr.o.m)</th>\n",
       "      <th>Tidsperiod (t.o.m)</th>\n",
       "      <th>Höjd (meter över havet)</th>\n",
       "      <th>Latitud (decimalgrader)</th>\n",
       "      <th>Longitud (decimalgrader)</th>\n",
       "    </tr>\n",
       "  </thead>\n",
       "  <tbody>\n",
       "    <tr>\n",
       "      <th>0</th>\n",
       "      <td>1961-01-01 00:00:00</td>\n",
       "      <td>1969-05-31 23:59:59</td>\n",
       "      <td>30.000</td>\n",
       "      <td>57.7000</td>\n",
       "      <td>11.9700</td>\n",
       "    </tr>\n",
       "    <tr>\n",
       "      <th>1</th>\n",
       "      <td>1969-07-01 00:00:00</td>\n",
       "      <td>1972-04-30 23:59:59</td>\n",
       "      <td>40.000</td>\n",
       "      <td>57.7200</td>\n",
       "      <td>12.0200</td>\n",
       "    </tr>\n",
       "    <tr>\n",
       "      <th>2</th>\n",
       "      <td>1972-07-01 00:00:00</td>\n",
       "      <td>1976-10-01 23:59:59</td>\n",
       "      <td>4.000</td>\n",
       "      <td>57.7000</td>\n",
       "      <td>11.9800</td>\n",
       "    </tr>\n",
       "    <tr>\n",
       "      <th>3</th>\n",
       "      <td>1995-09-01 00:00:00</td>\n",
       "      <td>1995-09-30 23:59:59</td>\n",
       "      <td>23.000</td>\n",
       "      <td>57.7084</td>\n",
       "      <td>11.9939</td>\n",
       "    </tr>\n",
       "    <tr>\n",
       "      <th>4</th>\n",
       "      <td>1995-10-01 00:00:00</td>\n",
       "      <td>1998-06-01 23:59:59</td>\n",
       "      <td>5.000</td>\n",
       "      <td>57.7080</td>\n",
       "      <td>11.9938</td>\n",
       "    </tr>\n",
       "    <tr>\n",
       "      <th>5</th>\n",
       "      <td>1999-03-01 00:00:00</td>\n",
       "      <td>2023-10-01 12:20:20</td>\n",
       "      <td>3.038</td>\n",
       "      <td>57.7156</td>\n",
       "      <td>11.9924</td>\n",
       "    </tr>\n",
       "  </tbody>\n",
       "</table>\n",
       "</div>"
      ],
      "text/plain": [
       "   Tidsperiod (fr.o.m)   Tidsperiod (t.o.m)  Höjd (meter över havet)  \\\n",
       "0  1961-01-01 00:00:00  1969-05-31 23:59:59                   30.000   \n",
       "1  1969-07-01 00:00:00  1972-04-30 23:59:59                   40.000   \n",
       "2  1972-07-01 00:00:00  1976-10-01 23:59:59                    4.000   \n",
       "3  1995-09-01 00:00:00  1995-09-30 23:59:59                   23.000   \n",
       "4  1995-10-01 00:00:00  1998-06-01 23:59:59                    5.000   \n",
       "5  1999-03-01 00:00:00  2023-10-01 12:20:20                    3.038   \n",
       "\n",
       "   Latitud (decimalgrader)  Longitud (decimalgrader)  \n",
       "0                  57.7000                   11.9700  \n",
       "1                  57.7200                   12.0200  \n",
       "2                  57.7000                   11.9800  \n",
       "3                  57.7084                   11.9939  \n",
       "4                  57.7080                   11.9938  \n",
       "5                  57.7156                   11.9924  "
      ]
     },
     "execution_count": 11,
     "metadata": {},
     "output_type": "execute_result"
    }
   ],
   "source": [
    "station_info"
   ]
  },
  {
   "cell_type": "code",
   "execution_count": 19,
   "metadata": {},
   "outputs": [],
   "source": [
    "station_info.to_csv('station_info.csv', index=False, mode='w')"
   ]
  }
 ],
 "metadata": {
  "kernelspec": {
   "display_name": "agilt_projektarbete",
   "language": "python",
   "name": "python3"
  },
  "language_info": {
   "codemirror_mode": {
    "name": "ipython",
    "version": 3
   },
   "file_extension": ".py",
   "mimetype": "text/x-python",
   "name": "python",
   "nbconvert_exporter": "python",
   "pygments_lexer": "ipython3",
   "version": "3.9.18"
  }
 },
 "nbformat": 4,
 "nbformat_minor": 2
}
